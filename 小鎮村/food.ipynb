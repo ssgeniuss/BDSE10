{
 "cells": [
  {
   "cell_type": "code",
   "execution_count": 2,
   "metadata": {},
   "outputs": [],
   "source": [
    "import requests\n",
    "from bs4 import BeautifulSoup\n",
    "\n",
    "res = requests.get('https://menubar.tw/menu/lI4VQtY92OYt')\n",
    "soup = BeautifulSoup(res.text, 'html.parser')"
   ]
  },
  {
   "cell_type": "code",
   "execution_count": 311,
   "metadata": {},
   "outputs": [],
   "source": [
    "restaurantTP = soup.select('td a')\n",
    "restaurantTP\n"
   ]
  },
  {
   "cell_type": "code",
   "execution_count": 3,
   "metadata": {},
   "outputs": [
    {
     "data": {
      "text/plain": [
       "[<td>\n",
       "                                   雞肉丼\n",
       "                                   \n",
       "                                 </td>, <td>\n",
       "                                   牛肉丼\n",
       "                                   \n",
       "                                 </td>, <td>\n",
       "                                   雞腿丼\n",
       "                                   \n",
       "                                 </td>, <td>\n",
       "                                   豬排丼\n",
       "                                   \n",
       "                                 </td>, <td>\n",
       "                                   魚排丼\n",
       "                                   \n",
       "                                 </td>, <td>\n",
       "                                   味噌魚丼\n",
       "                                   \n",
       "                                 </td>, <td>\n",
       "                                   照燒魚肚丼\n",
       "                                   \n",
       "                                 </td>, <td>\n",
       "                                   海鮮丼\n",
       "                                   \n",
       "                                 </td>, <td>\n",
       "                                   薑黃鮭魚炒飯\n",
       "                                   \n",
       "                                 </td>, <td>\n",
       "                                   炒烏龍麵\n",
       "                                   \n",
       "                                   <br/><span class=\"orange-text\">※無附味噌湯</span>\n",
       " </td>, <td>\n",
       "                                   薑黃炒烏龍麵\n",
       "                                   \n",
       "                                   <br/><span class=\"orange-text\">※無附味噌湯</span>\n",
       " </td>, <td>\n",
       "                                   鍋燒麵\n",
       "                                   \n",
       "                                   <br/><span class=\"orange-text\">※無附味噌湯</span>\n",
       " </td>, <td>\n",
       "                                   魚排定食\n",
       "                                   \n",
       "                                 </td>, <td>\n",
       "                                   豬排定食\n",
       "                                   \n",
       "                                 </td>, <td>\n",
       "                                   無骨牛定食\n",
       "                                   \n",
       "                                 </td>, <td>\n",
       "                                   鮭魚炒飯定食\n",
       "                                   \n",
       "                                 </td>, <td>\n",
       "                                   烏魚子炒飯定食\n",
       "                                   \n",
       "                                 </td>, <td>\n",
       "                                   鯖魚定食\n",
       "                                   \n",
       "                                 </td>, <td>\n",
       "                                   雞肉丼定食\n",
       "                                   \n",
       "                                 </td>, <td>\n",
       "                                   牛肉丼定食\n",
       "                                   \n",
       "                                 </td>, <td>\n",
       "                                   雞腿丼定食\n",
       "                                   \n",
       "                                 </td>, <td>\n",
       "                                   豬排丼定食\n",
       "                                   \n",
       "                                 </td>, <td>\n",
       "                                   魚排丼定食\n",
       "                                   \n",
       "                                 </td>, <td>\n",
       "                                   味噌魚丼定食\n",
       "                                   \n",
       "                                 </td>, <td>\n",
       "                                   照燒魚肚丼定食\n",
       "                                   \n",
       "                                 </td>, <td>\n",
       "                                   海鮮丼定食\n",
       "                                   \n",
       "                                 </td>, <td>\n",
       "                                   炒烏龍麵定食\n",
       "                                   \n",
       "                                 </td>, <td>\n",
       "                                   薑黃炒烏龍麵定食\n",
       "                                   \n",
       "                                 </td>, <td>\n",
       "                                   鍋燒麵定食\n",
       "                                   \n",
       "                                   <br/><span class=\"orange-text\">※無附味噌湯</span>\n",
       " </td>, <td>\n",
       "                                   鮭魚飯糰\n",
       "                                   \n",
       "                                   <br/><span class=\"orange-text\">2個</span>\n",
       " </td>, <td>\n",
       "                                   豆皮壽司\n",
       "                                   \n",
       "                                 </td>, <td>\n",
       "                                   海苔壽司\n",
       "                                   \n",
       "                                 </td>, <td>\n",
       "                                   花壽司\n",
       "                                   \n",
       "                                 </td>, <td>\n",
       "                                   酪梨壽司\n",
       "                                   \n",
       "                                 </td>, <td>\n",
       "                                   黑豆\n",
       "                                   \n",
       "                                 </td>, <td>\n",
       "                                   干貝唇\n",
       "                                   \n",
       "                                 </td>, <td>\n",
       "                                   醬大根\n",
       "                                   \n",
       "                                 </td>, <td>\n",
       "                                   Q梅\n",
       "                                   \n",
       "                                   <br/><span class=\"orange-text\">自家醃製</span>\n",
       " </td>, <td>\n",
       "                                   軟絲五味\n",
       "                                   \n",
       "                                 </td>, <td>\n",
       "                                   秋刀魚\n",
       "                                   \n",
       "                                 </td>, <td>\n",
       "                                   鯖魚\n",
       "                                   \n",
       "                                 </td>, <td>\n",
       "                                   香魚\n",
       "                                   \n",
       "                                 </td>, <td>\n",
       "                                   青甘下巴\n",
       "                                   \n",
       "                                 </td>, <td>\n",
       "                                   起士小卷\n",
       "                                   \n",
       "                                 </td>, <td>\n",
       "                                   炸雞塊\n",
       "                                   \n",
       "                                 </td>, <td>\n",
       "                                   味噌湯\n",
       "                                   \n",
       "                                 </td>, <td>\n",
       "                                   紫菜湯\n",
       "                                   \n",
       "                                 </td>, <td>\n",
       "                                   蛤湯\n",
       "                                   \n",
       "                                 </td>, <td>\n",
       "                                   蛋花湯\n",
       "                                   \n",
       "                                 </td>, <td>\n",
       "                                   土瓶蒸\n",
       "                                   \n",
       "                                 </td>, <td>\n",
       "                                   鮮魚清湯\n",
       "                                   \n",
       "                                 </td>, <td>\n",
       "                                   鮮魚味噌湯\n",
       "                                   \n",
       "                                 </td>, <td>\n",
       "                                   玉子蒸\n",
       "                                   \n",
       "                                 </td>, <td>\n",
       "                                   季節青菜\n",
       "                                   \n",
       "                                 </td>, <td>\n",
       "                                   可樂\n",
       "                                   \n",
       "                                 </td>, <td>\n",
       "                                   王老吉涼茶\n",
       "                                   \n",
       "                                 </td>]"
      ]
     },
     "execution_count": 3,
     "metadata": {},
     "output_type": "execute_result"
    }
   ],
   "source": [
    "menu = soup.select('td')\n",
    "menu = menu[7::2]\n",
    "menu"
   ]
  },
  {
   "cell_type": "code",
   "execution_count": 298,
   "metadata": {},
   "outputs": [],
   "source": [
    "storenames = soup.select('tr td')    \n",
    "type(storenames)\n",
    "address = storenames[1::2]"
   ]
  },
  {
   "cell_type": "code",
   "execution_count": 6,
   "metadata": {},
   "outputs": [
    {
     "ename": "NameError",
     "evalue": "name 'restaurantTP' is not defined",
     "output_type": "error",
     "traceback": [
      "\u001b[0;31m---------------------------------------------------------------------------\u001b[0m",
      "\u001b[0;31mNameError\u001b[0m                                 Traceback (most recent call last)",
      "\u001b[0;32m<ipython-input-6-db78c46b004a>\u001b[0m in \u001b[0;36m<module>\u001b[0;34m\u001b[0m\n\u001b[1;32m      2\u001b[0m \u001b[0;34m\u001b[0m\u001b[0m\n\u001b[1;32m      3\u001b[0m \u001b[0;34m\u001b[0m\u001b[0m\n\u001b[0;32m----> 4\u001b[0;31m \u001b[0;32mfor\u001b[0m \u001b[0mstore\u001b[0m \u001b[0;32min\u001b[0m \u001b[0mrestaurantTP\u001b[0m\u001b[0;34m:\u001b[0m\u001b[0;34m\u001b[0m\u001b[0;34m\u001b[0m\u001b[0m\n\u001b[0m\u001b[1;32m      5\u001b[0m     \u001b[0mstores\u001b[0m \u001b[0;34m=\u001b[0m \u001b[0mstores\u001b[0m\u001b[0;34m.\u001b[0m\u001b[0mappend\u001b[0m\u001b[0;34m(\u001b[0m\u001b[0mpd\u001b[0m\u001b[0;34m.\u001b[0m\u001b[0mSeries\u001b[0m\u001b[0;34m(\u001b[0m\u001b[0;34m[\u001b[0m\u001b[0mstore\u001b[0m\u001b[0;34m.\u001b[0m\u001b[0mtext\u001b[0m\u001b[0;34m]\u001b[0m\u001b[0;34m)\u001b[0m\u001b[0;34m)\u001b[0m\u001b[0;34m\u001b[0m\u001b[0;34m\u001b[0m\u001b[0m\n",
      "\u001b[0;31mNameError\u001b[0m: name 'restaurantTP' is not defined"
     ]
    }
   ],
   "source": [
    "import pandas as pd\n",
    "\n",
    "\n",
    "for store in restaurantTP:\n",
    "    stores = stores.append(pd.Series([store.text]))\n"
   ]
  },
  {
   "cell_type": "code",
   "execution_count": 7,
   "metadata": {},
   "outputs": [
    {
     "ename": "NameError",
     "evalue": "name 'address' is not defined",
     "output_type": "error",
     "traceback": [
      "\u001b[0;31m---------------------------------------------------------------------------\u001b[0m",
      "\u001b[0;31mNameError\u001b[0m                                 Traceback (most recent call last)",
      "\u001b[0;32m<ipython-input-7-162e8f7056c4>\u001b[0m in \u001b[0;36m<module>\u001b[0;34m\u001b[0m\n\u001b[1;32m      1\u001b[0m \u001b[0;34m\u001b[0m\u001b[0m\n\u001b[0;32m----> 2\u001b[0;31m \u001b[0;32mfor\u001b[0m \u001b[0mi\u001b[0m \u001b[0;32min\u001b[0m \u001b[0mrange\u001b[0m\u001b[0;34m(\u001b[0m\u001b[0mlen\u001b[0m\u001b[0;34m(\u001b[0m\u001b[0maddress\u001b[0m\u001b[0;34m)\u001b[0m\u001b[0;34m)\u001b[0m\u001b[0;34m:\u001b[0m\u001b[0;34m\u001b[0m\u001b[0;34m\u001b[0m\u001b[0m\n\u001b[0m\u001b[1;32m      3\u001b[0m     \u001b[0maddresses\u001b[0m \u001b[0;34m=\u001b[0m \u001b[0maddress\u001b[0m\u001b[0;34m[\u001b[0m\u001b[0mi\u001b[0m\u001b[0;34m]\u001b[0m\u001b[0;34m.\u001b[0m\u001b[0mtext\u001b[0m\u001b[0;34m\u001b[0m\u001b[0;34m\u001b[0m\u001b[0m\n\u001b[1;32m      4\u001b[0m     \u001b[0mi\u001b[0m\u001b[0;34m+=\u001b[0m\u001b[0;36m1\u001b[0m\u001b[0;34m\u001b[0m\u001b[0;34m\u001b[0m\u001b[0m\n\u001b[1;32m      5\u001b[0m     \u001b[0maddr\u001b[0m \u001b[0;34m=\u001b[0m \u001b[0maddr\u001b[0m\u001b[0;34m.\u001b[0m\u001b[0mappend\u001b[0m\u001b[0;34m(\u001b[0m\u001b[0mpd\u001b[0m\u001b[0;34m.\u001b[0m\u001b[0mSeries\u001b[0m\u001b[0;34m(\u001b[0m\u001b[0maddresses\u001b[0m\u001b[0;34m)\u001b[0m\u001b[0;34m)\u001b[0m\u001b[0;34m\u001b[0m\u001b[0;34m\u001b[0m\u001b[0m\n",
      "\u001b[0;31mNameError\u001b[0m: name 'address' is not defined"
     ]
    }
   ],
   "source": [
    "\n",
    "for i in range(len(address)):\n",
    "    addresses = address[i].text\n",
    "    i+=1\n",
    "    addr = addr.append(pd.Series(addresses))"
   ]
  },
  {
   "cell_type": "code",
   "execution_count": 1363,
   "metadata": {},
   "outputs": [
    {
     "ename": "ValueError",
     "evalue": "For argument \"inplace\" expected type bool, received type str.",
     "output_type": "error",
     "traceback": [
      "\u001b[0;31m---------------------------------------------------------------------------\u001b[0m",
      "\u001b[0;31mValueError\u001b[0m                                Traceback (most recent call last)",
      "\u001b[0;32m<ipython-input-1363-1d34223f43ad>\u001b[0m in \u001b[0;36m<module>\u001b[0;34m\u001b[0m\n\u001b[1;32m      1\u001b[0m \u001b[0mdf\u001b[0m \u001b[0;34m=\u001b[0m \u001b[0mpd\u001b[0m\u001b[0;34m.\u001b[0m\u001b[0mDataFrame\u001b[0m\u001b[0;34m(\u001b[0m\u001b[0;34m{\u001b[0m\u001b[0;34m'店名'\u001b[0m\u001b[0;34m:\u001b[0m\u001b[0mstores\u001b[0m\u001b[0;34m,\u001b[0m \u001b[0;34m'地址'\u001b[0m\u001b[0;34m:\u001b[0m\u001b[0maddr\u001b[0m\u001b[0;34m}\u001b[0m\u001b[0;34m)\u001b[0m\u001b[0;34m.\u001b[0m\u001b[0mreset_index\u001b[0m\u001b[0;34m(\u001b[0m\u001b[0mdrop\u001b[0m \u001b[0;34m=\u001b[0m \u001b[0;32mTrue\u001b[0m\u001b[0;34m)\u001b[0m\u001b[0;34m\u001b[0m\u001b[0;34m\u001b[0m\u001b[0m\n\u001b[0;32m----> 2\u001b[0;31m \u001b[0mdf\u001b[0m\u001b[0;34m.\u001b[0m\u001b[0mdrop\u001b[0m\u001b[0;34m(\u001b[0m\u001b[0;34m'店名'\u001b[0m\u001b[0;34m==\u001b[0m \u001b[0;34m'公克咖啡 gram coffee'\u001b[0m\u001b[0;34m,\u001b[0m\u001b[0;34m'Mina創意廚房.咖啡'\u001b[0m\u001b[0;34m,\u001b[0m\u001b[0;34m'吃飽 Just Eat'\u001b[0m\u001b[0;34m,\u001b[0m\u001b[0;34m'百勝堂蔘茸藥行'\u001b[0m\u001b[0;34m,\u001b[0m\u001b[0;34m'Pizza Rock 搖滾披薩'\u001b[0m\u001b[0;34m,\u001b[0m\u001b[0;34m'可愛嬌妻的秘密'\u001b[0m\u001b[0;34m)\u001b[0m\u001b[0;34m\u001b[0m\u001b[0;34m\u001b[0m\u001b[0m\n\u001b[0m\u001b[1;32m      3\u001b[0m \u001b[0;31m#df.to_csv('/Users/derek/Desktop/小鎮村/nameandaddr.csv', index = False)\u001b[0m\u001b[0;34m\u001b[0m\u001b[0;34m\u001b[0m\u001b[0;34m\u001b[0m\u001b[0m\n",
      "\u001b[0;32m/anaconda3/lib/python3.7/site-packages/pandas/core/frame.py\u001b[0m in \u001b[0;36mdrop\u001b[0;34m(self, labels, axis, index, columns, level, inplace, errors)\u001b[0m\n\u001b[1;32m   3695\u001b[0m                                            \u001b[0mindex\u001b[0m\u001b[0;34m=\u001b[0m\u001b[0mindex\u001b[0m\u001b[0;34m,\u001b[0m \u001b[0mcolumns\u001b[0m\u001b[0;34m=\u001b[0m\u001b[0mcolumns\u001b[0m\u001b[0;34m,\u001b[0m\u001b[0;34m\u001b[0m\u001b[0;34m\u001b[0m\u001b[0m\n\u001b[1;32m   3696\u001b[0m                                            \u001b[0mlevel\u001b[0m\u001b[0;34m=\u001b[0m\u001b[0mlevel\u001b[0m\u001b[0;34m,\u001b[0m \u001b[0minplace\u001b[0m\u001b[0;34m=\u001b[0m\u001b[0minplace\u001b[0m\u001b[0;34m,\u001b[0m\u001b[0;34m\u001b[0m\u001b[0;34m\u001b[0m\u001b[0m\n\u001b[0;32m-> 3697\u001b[0;31m                                            errors=errors)\n\u001b[0m\u001b[1;32m   3698\u001b[0m \u001b[0;34m\u001b[0m\u001b[0m\n\u001b[1;32m   3699\u001b[0m     @rewrite_axis_style_signature('mapper', [('copy', True),\n",
      "\u001b[0;32m/anaconda3/lib/python3.7/site-packages/pandas/core/generic.py\u001b[0m in \u001b[0;36mdrop\u001b[0;34m(self, labels, axis, index, columns, level, inplace, errors)\u001b[0m\n\u001b[1;32m   3091\u001b[0m              inplace=False, errors='raise'):\n\u001b[1;32m   3092\u001b[0m \u001b[0;34m\u001b[0m\u001b[0m\n\u001b[0;32m-> 3093\u001b[0;31m         \u001b[0minplace\u001b[0m \u001b[0;34m=\u001b[0m \u001b[0mvalidate_bool_kwarg\u001b[0m\u001b[0;34m(\u001b[0m\u001b[0minplace\u001b[0m\u001b[0;34m,\u001b[0m \u001b[0;34m'inplace'\u001b[0m\u001b[0;34m)\u001b[0m\u001b[0;34m\u001b[0m\u001b[0;34m\u001b[0m\u001b[0m\n\u001b[0m\u001b[1;32m   3094\u001b[0m \u001b[0;34m\u001b[0m\u001b[0m\n\u001b[1;32m   3095\u001b[0m         \u001b[0;32mif\u001b[0m \u001b[0mlabels\u001b[0m \u001b[0;32mis\u001b[0m \u001b[0;32mnot\u001b[0m \u001b[0;32mNone\u001b[0m\u001b[0;34m:\u001b[0m\u001b[0;34m\u001b[0m\u001b[0;34m\u001b[0m\u001b[0m\n",
      "\u001b[0;32m/anaconda3/lib/python3.7/site-packages/pandas/util/_validators.py\u001b[0m in \u001b[0;36mvalidate_bool_kwarg\u001b[0;34m(value, arg_name)\u001b[0m\n\u001b[1;32m    224\u001b[0m         raise ValueError('For argument \"{arg}\" expected type bool, received '\n\u001b[1;32m    225\u001b[0m                          'type {typ}.'.format(arg=arg_name,\n\u001b[0;32m--> 226\u001b[0;31m                                               typ=type(value).__name__))\n\u001b[0m\u001b[1;32m    227\u001b[0m     \u001b[0;32mreturn\u001b[0m \u001b[0mvalue\u001b[0m\u001b[0;34m\u001b[0m\u001b[0;34m\u001b[0m\u001b[0m\n\u001b[1;32m    228\u001b[0m \u001b[0;34m\u001b[0m\u001b[0m\n",
      "\u001b[0;31mValueError\u001b[0m: For argument \"inplace\" expected type bool, received type str."
     ]
    }
   ],
   "source": [
    "df = pd.DataFrame({'店名':stores, '地址':addr}).reset_index(drop = True)\n",
    "df.to_csv('/Users/derek/Desktop/小鎮村/nameandaddr.csv', index = False)"
   ]
  },
  {
   "cell_type": "code",
   "execution_count": 8,
   "metadata": {},
   "outputs": [],
   "source": [
    "menues = pd.Series()\n",
    "for i in range(len(menu)):\n",
    "    menus = menu[i].text\n",
    "    i+=1\n",
    "    menues = menues.append(pd.Series(menus))\n",
    "    \n",
    "\n"
   ]
  },
  {
   "cell_type": "code",
   "execution_count": 12,
   "metadata": {},
   "outputs": [],
   "source": [
    "menu_df = pd.DataFrame({'menu':menues})"
   ]
  },
  {
   "cell_type": "code",
   "execution_count": 11,
   "metadata": {},
   "outputs": [],
   "source": [
    "menu_df.to_csv('/Users/derek/Desktop/小鎮村/foodtest.csv', index = False, encoding='UTF-8')"
   ]
  },
  {
   "cell_type": "code",
   "execution_count": null,
   "metadata": {},
   "outputs": [],
   "source": []
  }
 ],
 "metadata": {
  "kernelspec": {
   "display_name": "Python 3",
   "language": "python",
   "name": "python3"
  },
  "language_info": {
   "codemirror_mode": {
    "name": "ipython",
    "version": 3
   },
   "file_extension": ".py",
   "mimetype": "text/x-python",
   "name": "python",
   "nbconvert_exporter": "python",
   "pygments_lexer": "ipython3",
   "version": "3.7.1"
  }
 },
 "nbformat": 4,
 "nbformat_minor": 2
}
