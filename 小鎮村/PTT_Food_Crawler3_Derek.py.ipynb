{
 "cells": [
  {
   "cell_type": "code",
   "execution_count": 25,
   "metadata": {},
   "outputs": [
    {
     "name": "stdout",
     "output_type": "stream",
     "text": [
      "PTT program starts...\n"
     ]
    }
   ],
   "source": [
    "import requests\n",
    "from bs4 import BeautifulSoup\n",
    "import re\n",
    "import time\n",
    "import json\n",
    "\n",
    "# The following method catched all the PTT Food pages' URL from year 2004 to today\n",
    "urls = ['https://www.ptt.cc/bbs/Food/index{}.html'.format(str(i)) for i in range(1,7001)]\n",
    "urls = urls[::-1] #這樣每天會有最新的\n",
    "url_list = urls[3850:4000] # <-- Change the range to assign the pages to crawl\n",
    "\n",
    "start = time.time()\n",
    "print('PTT program starts...')"
   ]
  },
  {
   "cell_type": "code",
   "execution_count": 26,
   "metadata": {},
   "outputs": [],
   "source": [
    "# Get all the articles' URL in the given page\n",
    "content_list = []\n",
    "comments_list = []\n",
    "except_list = []"
   ]
  },
  {
   "cell_type": "code",
   "execution_count": 27,
   "metadata": {
    "scrolled": true
   },
   "outputs": [
    {
     "name": "stdout",
     "output_type": "stream",
     "text": [
      "The 150 page https://www.ptt.cc/bbs/Food/index3150.html starts:\n"
     ]
    },
    {
     "name": "stderr",
     "output_type": "stream",
     "text": [
      "/anaconda3/lib/python3.7/site-packages/urllib3/connectionpool.py:847: InsecureRequestWarning: Unverified HTTPS request is being made. Adding certificate verification is strongly advised. See: https://urllib3.readthedocs.io/en/latest/advanced-usage.html#ssl-warnings\n",
      "  InsecureRequestWarning)\n"
     ]
    },
    {
     "name": "stdout",
     "output_type": "stream",
     "text": [
      "The page 150 20 https://www.ptt.cc/bbs/Food/M.1418112827.A.A1C.html\n",
      "The page 150 19 https://www.ptt.cc/bbs/Food/M.1418113185.A.96B.html\n",
      "The page 150 18 https://www.ptt.cc/bbs/Food/M.1418114792.A.222.html\n",
      "The page 150 17 https://www.ptt.cc/bbs/Food/M.1418114963.A.C0F.html\n",
      "The page 150 16 https://www.ptt.cc/bbs/Food/M.1418115028.A.513.html\n",
      "The page 150 15 https://www.ptt.cc/bbs/Food/M.1418115212.A.C0A.html\n",
      "The page 150 14 https://www.ptt.cc/bbs/Food/M.1418115579.A.CDF.html\n",
      "The page 150 13 https://www.ptt.cc/bbs/Food/M.1418115769.A.31F.html\n",
      "The page 150 12 https://www.ptt.cc/bbs/Food/M.1418119521.A.59C.html\n",
      "The page 150 11 https://www.ptt.cc/bbs/Food/M.1418120865.A.648.html\n",
      "The page 150 10 https://www.ptt.cc/bbs/Food/M.1418121771.A.716.html\n",
      "The page 150 9 https://www.ptt.cc/bbs/Food/M.1418121785.A.690.html\n",
      "The page 150 8 https://www.ptt.cc/bbs/Food/M.1418121858.A.87F.html\n",
      "The page 150 7 https://www.ptt.cc/bbs/Food/M.1418123909.A.83A.html\n",
      "The page 150 6 https://www.ptt.cc/bbs/Food/M.1418124948.A.C10.html\n",
      "The page 150 5 https://www.ptt.cc/bbs/Food/M.1418126070.A.1E0.html\n",
      "The page 150 4 https://www.ptt.cc/bbs/Food/M.1418126489.A.91E.html\n",
      "The page 150 3 https://www.ptt.cc/bbs/Food/M.1418126723.A.C3C.html\n",
      "The page 150 2 https://www.ptt.cc/bbs/Food/M.1418127317.A.45F.html\n",
      "The page 150 1 https://www.ptt.cc/bbs/Food/M.1418127462.A.1E9.html\n",
      "The 149 page https://www.ptt.cc/bbs/Food/index3149.html starts:\n"
     ]
    },
    {
     "name": "stderr",
     "output_type": "stream",
     "text": [
      "/anaconda3/lib/python3.7/site-packages/urllib3/connectionpool.py:847: InsecureRequestWarning: Unverified HTTPS request is being made. Adding certificate verification is strongly advised. See: https://urllib3.readthedocs.io/en/latest/advanced-usage.html#ssl-warnings\n",
      "  InsecureRequestWarning)\n"
     ]
    },
    {
     "name": "stdout",
     "output_type": "stream",
     "text": [
      "The page 149 20 https://www.ptt.cc/bbs/Food/M.1418085759.A.9E7.html\n",
      "The page 149 19 https://www.ptt.cc/bbs/Food/M.1418085942.A.4B5.html\n",
      "The page 149 18 https://www.ptt.cc/bbs/Food/M.1418086778.A.B4B.html\n",
      "The page 149 17 https://www.ptt.cc/bbs/Food/M.1418092318.A.DF5.html\n",
      "The page 149 16 https://www.ptt.cc/bbs/Food/M.1418093371.A.8D3.html\n",
      "The page 149 15 https://www.ptt.cc/bbs/Food/M.1418096003.A.E32.html\n",
      "The page 149 14 https://www.ptt.cc/bbs/Food/M.1418097108.A.355.html\n",
      "The page 149 13 https://www.ptt.cc/bbs/Food/M.1418097454.A.662.html\n",
      "The page 149 12 https://www.ptt.cc/bbs/Food/M.1418097794.A.949.html\n",
      "The page 149 11 https://www.ptt.cc/bbs/Food/M.1418098282.A.D3D.html\n",
      "The page 149 10 https://www.ptt.cc/bbs/Food/M.1418098978.A.2F2.html\n",
      "The page 149 9 https://www.ptt.cc/bbs/Food/M.1418099855.A.557.html\n",
      "The page 149 8 https://www.ptt.cc/bbs/Food/M.1418101748.A.2B3.html\n",
      "The page 149 7 https://www.ptt.cc/bbs/Food/M.1418102535.A.B5F.html\n",
      "The page 149 6 https://www.ptt.cc/bbs/Food/M.1418103795.A.1B2.html\n",
      "The page 149 5 https://www.ptt.cc/bbs/Food/M.1418104786.A.E22.html\n",
      "The page 149 4 https://www.ptt.cc/bbs/Food/M.1418105156.A.93D.html\n",
      "The page 149 3 https://www.ptt.cc/bbs/Food/M.1418105228.A.C2D.html\n",
      "The page 149 2 https://www.ptt.cc/bbs/Food/M.1418110315.A.AA1.html\n",
      "The page 149 1 https://www.ptt.cc/bbs/Food/M.1418111947.A.099.html\n",
      "The 148 page https://www.ptt.cc/bbs/Food/index3148.html starts:\n"
     ]
    },
    {
     "name": "stderr",
     "output_type": "stream",
     "text": [
      "/anaconda3/lib/python3.7/site-packages/urllib3/connectionpool.py:847: InsecureRequestWarning: Unverified HTTPS request is being made. Adding certificate verification is strongly advised. See: https://urllib3.readthedocs.io/en/latest/advanced-usage.html#ssl-warnings\n",
      "  InsecureRequestWarning)\n"
     ]
    },
    {
     "name": "stdout",
     "output_type": "stream",
     "text": [
      "The page 148 20 https://www.ptt.cc/bbs/Food/M.1418048518.A.077.html\n",
      "The page 148 19 https://www.ptt.cc/bbs/Food/M.1418048640.A.CF7.html\n",
      "The page 148 18 https://www.ptt.cc/bbs/Food/M.1418048969.A.00A.html\n",
      "The page 148 17 https://www.ptt.cc/bbs/Food/M.1418049011.A.E8C.html\n",
      "The page 148 16 https://www.ptt.cc/bbs/Food/M.1418049039.A.970.html\n",
      "The page 148 15 https://www.ptt.cc/bbs/Food/M.1418050113.A.9B0.html\n",
      "The page 148 14 https://www.ptt.cc/bbs/Food/M.1418050907.A.FEB.html\n",
      "The page 148 13 https://www.ptt.cc/bbs/Food/M.1418051056.A.BC8.html\n",
      "The page 148 12 https://www.ptt.cc/bbs/Food/M.1418051248.A.10B.html\n",
      "The page 148 11 https://www.ptt.cc/bbs/Food/M.1418052555.A.0B8.html\n",
      "The page 148 10 https://www.ptt.cc/bbs/Food/M.1418052642.A.78C.html\n",
      "The page 148 9 https://www.ptt.cc/bbs/Food/M.1418053021.A.DC9.html\n",
      "The page 148 8 https://www.ptt.cc/bbs/Food/M.1418053680.A.E8B.html\n",
      "The page 148 7 https://www.ptt.cc/bbs/Food/M.1418053861.A.AE6.html\n",
      "The page 148 6 https://www.ptt.cc/bbs/Food/M.1418055782.A.546.html\n",
      "The page 148 5 https://www.ptt.cc/bbs/Food/M.1418055955.A.11F.html\n",
      "The page 148 4 https://www.ptt.cc/bbs/Food/M.1418056068.A.C24.html\n",
      "The page 148 3 https://www.ptt.cc/bbs/Food/M.1418056410.A.D56.html\n",
      "The page 148 2 https://www.ptt.cc/bbs/Food/M.1418067405.A.A10.html\n",
      "The page 148 1 https://www.ptt.cc/bbs/Food/M.1418081888.A.475.html\n",
      "The 147 page https://www.ptt.cc/bbs/Food/index3147.html starts:\n"
     ]
    },
    {
     "name": "stderr",
     "output_type": "stream",
     "text": [
      "/anaconda3/lib/python3.7/site-packages/urllib3/connectionpool.py:847: InsecureRequestWarning: Unverified HTTPS request is being made. Adding certificate verification is strongly advised. See: https://urllib3.readthedocs.io/en/latest/advanced-usage.html#ssl-warnings\n",
      "  InsecureRequestWarning)\n"
     ]
    },
    {
     "name": "stdout",
     "output_type": "stream",
     "text": [
      "The page 147 20 https://www.ptt.cc/bbs/Food/M.1418028471.A.7D9.html\n",
      "The page 147 19 https://www.ptt.cc/bbs/Food/M.1418029647.A.0F8.html\n",
      "The page 147 18 https://www.ptt.cc/bbs/Food/M.1418031955.A.3AF.html\n",
      "The page 147 17 https://www.ptt.cc/bbs/Food/M.1418035523.A.06A.html\n",
      "The page 147 16 https://www.ptt.cc/bbs/Food/M.1418039000.A.F5B.html\n",
      "The page 147 15 https://www.ptt.cc/bbs/Food/M.1418039440.A.012.html\n",
      "The page 147 14 https://www.ptt.cc/bbs/Food/M.1418040893.A.14A.html\n",
      "The page 147 13 https://www.ptt.cc/bbs/Food/M.1418041714.A.030.html\n",
      "The page 147 12 https://www.ptt.cc/bbs/Food/M.1418043146.A.507.html\n",
      "The page 147 11 https://www.ptt.cc/bbs/Food/M.1418043286.A.183.html\n",
      "The page 147 10 https://www.ptt.cc/bbs/Food/M.1418046091.A.22C.html\n",
      "The page 147 9 https://www.ptt.cc/bbs/Food/M.1418046126.A.47C.html\n",
      "The page 147 8 https://www.ptt.cc/bbs/Food/M.1418046130.A.0D5.html\n",
      "The page 147 7 https://www.ptt.cc/bbs/Food/M.1418046149.A.9DE.html\n",
      "The page 147 6 https://www.ptt.cc/bbs/Food/M.1418047376.A.EE7.html\n",
      "The page 147 5 https://www.ptt.cc/bbs/Food/M.1418047839.A.49A.html\n",
      "The page 147 4 https://www.ptt.cc/bbs/Food/M.1418047886.A.896.html\n",
      "The page 147 3 https://www.ptt.cc/bbs/Food/M.1418047926.A.7AD.html\n",
      "The page 147 2 https://www.ptt.cc/bbs/Food/M.1418048089.A.A02.html\n",
      "The page 147 1 https://www.ptt.cc/bbs/Food/M.1418048438.A.C0B.html\n",
      "The 146 page https://www.ptt.cc/bbs/Food/index3146.html starts:\n"
     ]
    },
    {
     "name": "stderr",
     "output_type": "stream",
     "text": [
      "/anaconda3/lib/python3.7/site-packages/urllib3/connectionpool.py:847: InsecureRequestWarning: Unverified HTTPS request is being made. Adding certificate verification is strongly advised. See: https://urllib3.readthedocs.io/en/latest/advanced-usage.html#ssl-warnings\n",
      "  InsecureRequestWarning)\n"
     ]
    },
    {
     "name": "stdout",
     "output_type": "stream",
     "text": [
      "The page 146 20 https://www.ptt.cc/bbs/Food/M.1417980701.A.47E.html\n",
      "The page 146 19 https://www.ptt.cc/bbs/Food/M.1417981114.A.DD5.html\n",
      "The page 146 18 https://www.ptt.cc/bbs/Food/M.1417991776.A.41E.html\n",
      "The page 146 17 https://www.ptt.cc/bbs/Food/M.1417998083.A.496.html\n",
      "The page 146 16 https://www.ptt.cc/bbs/Food/M.1418004431.A.AFC.html\n",
      "The page 146 15 https://www.ptt.cc/bbs/Food/M.1418005278.A.FB6.html\n",
      "The page 146 14 https://www.ptt.cc/bbs/Food/M.1418006690.A.59A.html\n",
      "The page 146 13 https://www.ptt.cc/bbs/Food/M.1418008515.A.6C0.html\n",
      "The page 146 12 https://www.ptt.cc/bbs/Food/M.1418008733.A.C65.html\n",
      "The page 146 11 https://www.ptt.cc/bbs/Food/M.1418011352.A.391.html\n",
      "The page 146 10 https://www.ptt.cc/bbs/Food/M.1418011644.A.492.html\n",
      "The page 146 9 https://www.ptt.cc/bbs/Food/M.1418013114.A.89D.html\n",
      "The page 146 8 https://www.ptt.cc/bbs/Food/M.1418013897.A.46B.html\n",
      "The page 146 7 https://www.ptt.cc/bbs/Food/M.1418014393.A.66B.html\n",
      "The page 146 6 https://www.ptt.cc/bbs/Food/M.1418014901.A.A51.html\n",
      "The page 146 5 https://www.ptt.cc/bbs/Food/M.1418014998.A.2D3.html\n",
      "The page 146 4 https://www.ptt.cc/bbs/Food/M.1418015191.A.0F6.html\n",
      "The page 146 3 https://www.ptt.cc/bbs/Food/M.1418018610.A.F0C.html\n",
      "The page 146 2 https://www.ptt.cc/bbs/Food/M.1418018735.A.F46.html\n",
      "The page 146 1 https://www.ptt.cc/bbs/Food/M.1418026887.A.93D.html\n",
      "The 145 page https://www.ptt.cc/bbs/Food/index3145.html starts:\n"
     ]
    },
    {
     "name": "stderr",
     "output_type": "stream",
     "text": [
      "/anaconda3/lib/python3.7/site-packages/urllib3/connectionpool.py:847: InsecureRequestWarning: Unverified HTTPS request is being made. Adding certificate verification is strongly advised. See: https://urllib3.readthedocs.io/en/latest/advanced-usage.html#ssl-warnings\n",
      "  InsecureRequestWarning)\n"
     ]
    },
    {
     "name": "stdout",
     "output_type": "stream",
     "text": [
      "The page 145 20 https://www.ptt.cc/bbs/Food/M.1417952765.A.4CD.html\n",
      "The page 145 19 https://www.ptt.cc/bbs/Food/M.1417954856.A.10F.html\n",
      "The page 145 18 https://www.ptt.cc/bbs/Food/M.1417955361.A.83C.html\n",
      "The page 145 17 https://www.ptt.cc/bbs/Food/M.1417956954.A.170.html\n",
      "The page 145 16 https://www.ptt.cc/bbs/Food/M.1417959399.A.87E.html\n",
      "The page 145 15 https://www.ptt.cc/bbs/Food/M.1417960048.A.B99.html\n",
      "The page 145 14 https://www.ptt.cc/bbs/Food/M.1417961547.A.245.html\n",
      "The page 145 13 https://www.ptt.cc/bbs/Food/M.1417963251.A.B9B.html\n",
      "The page 145 12 https://www.ptt.cc/bbs/Food/M.1417963771.A.ABF.html\n",
      "The page 145 11 https://www.ptt.cc/bbs/Food/M.1417964254.A.0A7.html\n",
      "The page 145 10 https://www.ptt.cc/bbs/Food/M.1417964305.A.988.html\n",
      "The page 145 9 https://www.ptt.cc/bbs/Food/M.1417964642.A.F36.html\n",
      "The page 145 8 https://www.ptt.cc/bbs/Food/M.1417964742.A.E93.html\n",
      "The page 145 7 https://www.ptt.cc/bbs/Food/M.1417964848.A.8A1.html\n",
      "The page 145 6 https://www.ptt.cc/bbs/Food/M.1417965657.A.C99.html\n",
      "The page 145 5 https://www.ptt.cc/bbs/Food/M.1417966276.A.5A1.html\n",
      "The page 145 4 https://www.ptt.cc/bbs/Food/M.1417968908.A.079.html\n",
      "The page 145 3 https://www.ptt.cc/bbs/Food/M.1417970739.A.B14.html\n",
      "The page 145 2 https://www.ptt.cc/bbs/Food/M.1417972380.A.CF5.html\n",
      "The page 145 1 https://www.ptt.cc/bbs/Food/M.1417978122.A.41A.html\n",
      "The 144 page https://www.ptt.cc/bbs/Food/index3144.html starts:\n"
     ]
    },
    {
     "name": "stderr",
     "output_type": "stream",
     "text": [
      "/anaconda3/lib/python3.7/site-packages/urllib3/connectionpool.py:847: InsecureRequestWarning: Unverified HTTPS request is being made. Adding certificate verification is strongly advised. See: https://urllib3.readthedocs.io/en/latest/advanced-usage.html#ssl-warnings\n",
      "  InsecureRequestWarning)\n"
     ]
    },
    {
     "name": "stdout",
     "output_type": "stream",
     "text": [
      "The page 144 20 https://www.ptt.cc/bbs/Food/M.1417932776.A.41C.html\n",
      "The page 144 19 https://www.ptt.cc/bbs/Food/M.1417934093.A.0EE.html\n",
      "The page 144 18 https://www.ptt.cc/bbs/Food/M.1417935057.A.DFF.html\n",
      "The page 144 17 https://www.ptt.cc/bbs/Food/M.1417936079.A.549.html\n",
      "The page 144 16 https://www.ptt.cc/bbs/Food/M.1417938549.A.806.html\n",
      "The page 144 15 https://www.ptt.cc/bbs/Food/M.1417939898.A.563.html\n",
      "The page 144 14 https://www.ptt.cc/bbs/Food/M.1417940150.A.D4D.html\n",
      "The page 144 13 https://www.ptt.cc/bbs/Food/M.1417940370.A.BA5.html\n",
      "The page 144 12 https://www.ptt.cc/bbs/Food/M.1417940722.A.609.html\n",
      "The page 144 11 https://www.ptt.cc/bbs/Food/M.1417942066.A.CBF.html\n",
      "The page 144 10 https://www.ptt.cc/bbs/Food/M.1417942900.A.2BD.html\n",
      "The page 144 9 https://www.ptt.cc/bbs/Food/M.1417943881.A.478.html\n",
      "The page 144 8 https://www.ptt.cc/bbs/Food/M.1417946807.A.FAB.html\n",
      "The page 144 7 https://www.ptt.cc/bbs/Food/M.1417948487.A.9B8.html\n",
      "The page 144 6 https://www.ptt.cc/bbs/Food/M.1417949116.A.76F.html\n",
      "The page 144 5 https://www.ptt.cc/bbs/Food/M.1417949522.A.58C.html\n",
      "The page 144 4 https://www.ptt.cc/bbs/Food/M.1417950277.A.030.html\n",
      "The page 144 3 https://www.ptt.cc/bbs/Food/M.1417951740.A.FA0.html\n",
      "The page 144 2 https://www.ptt.cc/bbs/Food/M.1417951773.A.E4F.html\n",
      "The page 144 1 https://www.ptt.cc/bbs/Food/M.1417952181.A.562.html\n",
      "The 143 page https://www.ptt.cc/bbs/Food/index3143.html starts:\n"
     ]
    },
    {
     "name": "stderr",
     "output_type": "stream",
     "text": [
      "/anaconda3/lib/python3.7/site-packages/urllib3/connectionpool.py:847: InsecureRequestWarning: Unverified HTTPS request is being made. Adding certificate verification is strongly advised. See: https://urllib3.readthedocs.io/en/latest/advanced-usage.html#ssl-warnings\n",
      "  InsecureRequestWarning)\n"
     ]
    },
    {
     "name": "stdout",
     "output_type": "stream",
     "text": [
      "The page 143 20 https://www.ptt.cc/bbs/Food/M.1417881081.A.889.html\n",
      "The page 143 19 https://www.ptt.cc/bbs/Food/M.1417881382.A.240.html\n",
      "The page 143 18 https://www.ptt.cc/bbs/Food/M.1417881916.A.7FF.html\n",
      "The page 143 17 https://www.ptt.cc/bbs/Food/M.1417886308.A.A45.html\n",
      "The page 143 16 https://www.ptt.cc/bbs/Food/M.1417888202.A.439.html\n",
      "The page 143 15 https://www.ptt.cc/bbs/Food/M.1417888967.A.813.html\n",
      "The page 143 14 https://www.ptt.cc/bbs/Food/M.1417918019.A.BA2.html\n",
      "The page 143 13 https://www.ptt.cc/bbs/Food/M.1417918935.A.FA8.html\n",
      "The page 143 12 https://www.ptt.cc/bbs/Food/M.1417920155.A.021.html\n",
      "The page 143 11 https://www.ptt.cc/bbs/Food/M.1417923775.A.E07.html\n",
      "The page 143 10 https://www.ptt.cc/bbs/Food/M.1417925483.A.FE3.html\n",
      "The page 143 9 https://www.ptt.cc/bbs/Food/M.1417925681.A.855.html\n",
      "The page 143 8 https://www.ptt.cc/bbs/Food/M.1417926185.A.CB3.html\n",
      "The page 143 7 https://www.ptt.cc/bbs/Food/M.1417926492.A.341.html\n",
      "The page 143 6 https://www.ptt.cc/bbs/Food/M.1417926592.A.91F.html\n",
      "The page 143 5 https://www.ptt.cc/bbs/Food/M.1417927126.A.D26.html\n",
      "The page 143 4 https://www.ptt.cc/bbs/Food/M.1417929194.A.C21.html\n",
      "The page 143 3 https://www.ptt.cc/bbs/Food/M.1417929271.A.9AD.html\n",
      "The page 143 2 https://www.ptt.cc/bbs/Food/M.1417931411.A.5D5.html\n",
      "The page 143 1 https://www.ptt.cc/bbs/Food/M.1417932213.A.809.html\n",
      "The 142 page https://www.ptt.cc/bbs/Food/index3142.html starts:\n"
     ]
    },
    {
     "name": "stderr",
     "output_type": "stream",
     "text": [
      "/anaconda3/lib/python3.7/site-packages/urllib3/connectionpool.py:847: InsecureRequestWarning: Unverified HTTPS request is being made. Adding certificate verification is strongly advised. See: https://urllib3.readthedocs.io/en/latest/advanced-usage.html#ssl-warnings\n",
      "  InsecureRequestWarning)\n"
     ]
    },
    {
     "name": "stdout",
     "output_type": "stream",
     "text": [
      "The page 142 20 https://www.ptt.cc/bbs/Food/M.1417866844.A.D87.html\n",
      "The page 142 19 https://www.ptt.cc/bbs/Food/M.1417867125.A.7B1.html\n",
      "The page 142 18 https://www.ptt.cc/bbs/Food/M.1417867891.A.C57.html\n",
      "The page 142 17 https://www.ptt.cc/bbs/Food/M.1417868909.A.B63.html\n",
      "The page 142 16 https://www.ptt.cc/bbs/Food/M.1417869591.A.C78.html\n",
      "The page 142 15 https://www.ptt.cc/bbs/Food/M.1417869753.A.F85.html\n",
      "The page 142 14 https://www.ptt.cc/bbs/Food/M.1417870918.A.353.html\n",
      "The page 142 13 https://www.ptt.cc/bbs/Food/M.1417871361.A.8BD.html\n",
      "The page 142 12 https://www.ptt.cc/bbs/Food/M.1417871665.A.AD8.html\n",
      "The page 142 11 https://www.ptt.cc/bbs/Food/M.1417872313.A.B74.html\n",
      "The page 142 10 https://www.ptt.cc/bbs/Food/M.1417873577.A.F9D.html\n",
      "The page 142 9 https://www.ptt.cc/bbs/Food/M.1417873913.A.694.html\n",
      "The page 142 8 https://www.ptt.cc/bbs/Food/M.1417875000.A.245.html\n",
      "The page 142 7 https://www.ptt.cc/bbs/Food/M.1417875235.A.4D9.html\n",
      "The page 142 6 https://www.ptt.cc/bbs/Food/M.1417877503.A.5CB.html\n",
      "The page 142 5 https://www.ptt.cc/bbs/Food/M.1417878659.A.FBC.html\n",
      "The page 142 4 https://www.ptt.cc/bbs/Food/M.1417879439.A.8AF.html\n",
      "The page 142 3 https://www.ptt.cc/bbs/Food/M.1417879945.A.DBF.html\n",
      "The page 142 2 https://www.ptt.cc/bbs/Food/M.1417880241.A.F0C.html\n",
      "The page 142 1 https://www.ptt.cc/bbs/Food/M.1417880987.A.6A2.html\n",
      "The 141 page https://www.ptt.cc/bbs/Food/index3141.html starts:\n"
     ]
    },
    {
     "name": "stderr",
     "output_type": "stream",
     "text": [
      "/anaconda3/lib/python3.7/site-packages/urllib3/connectionpool.py:847: InsecureRequestWarning: Unverified HTTPS request is being made. Adding certificate verification is strongly advised. See: https://urllib3.readthedocs.io/en/latest/advanced-usage.html#ssl-warnings\n",
      "  InsecureRequestWarning)\n"
     ]
    },
    {
     "name": "stdout",
     "output_type": "stream",
     "text": [
      "The page 141 20 https://www.ptt.cc/bbs/Food/M.1417843481.A.389.html\n",
      "The page 141 19 https://www.ptt.cc/bbs/Food/M.1417843700.A.B47.html\n",
      "The page 141 18 https://www.ptt.cc/bbs/Food/M.1417843833.A.E86.html\n",
      "The page 141 17 https://www.ptt.cc/bbs/Food/M.1417845256.A.C40.html\n",
      "The page 141 16 https://www.ptt.cc/bbs/Food/M.1417846445.A.CEF.html\n",
      "The page 141 15 https://www.ptt.cc/bbs/Food/M.1417847504.A.A9B.html\n",
      "The page 141 14 https://www.ptt.cc/bbs/Food/M.1417848069.A.462.html\n",
      "The page 141 13 https://www.ptt.cc/bbs/Food/M.1417849344.A.AF6.html\n",
      "The page 141 12 https://www.ptt.cc/bbs/Food/M.1417849406.A.8F0.html\n",
      "The page 141 11 https://www.ptt.cc/bbs/Food/M.1417853063.A.73E.html\n",
      "The page 141 10 https://www.ptt.cc/bbs/Food/M.1417853233.A.F82.html\n",
      "The page 141 9 https://www.ptt.cc/bbs/Food/M.1417854010.A.779.html\n",
      "The page 141 8 https://www.ptt.cc/bbs/Food/M.1417854489.A.2E7.html\n",
      "The page 141 7 https://www.ptt.cc/bbs/Food/M.1417854887.A.848.html\n",
      "The page 141 6 https://www.ptt.cc/bbs/Food/M.1417855297.A.7C7.html\n",
      "The page 141 5 https://www.ptt.cc/bbs/Food/M.1417857683.A.145.html\n",
      "The page 141 4 https://www.ptt.cc/bbs/Food/M.1417858173.A.8B8.html\n",
      "The page 141 3 https://www.ptt.cc/bbs/Food/M.1417860319.A.3E4.html\n",
      "The page 141 2 https://www.ptt.cc/bbs/Food/M.1417861169.A.F9F.html\n",
      "The page 141 1 https://www.ptt.cc/bbs/Food/M.1417864138.A.848.html\n",
      "The 140 page https://www.ptt.cc/bbs/Food/index3140.html starts:\n"
     ]
    },
    {
     "name": "stderr",
     "output_type": "stream",
     "text": [
      "/anaconda3/lib/python3.7/site-packages/urllib3/connectionpool.py:847: InsecureRequestWarning: Unverified HTTPS request is being made. Adding certificate verification is strongly advised. See: https://urllib3.readthedocs.io/en/latest/advanced-usage.html#ssl-warnings\n",
      "  InsecureRequestWarning)\n"
     ]
    },
    {
     "name": "stdout",
     "output_type": "stream",
     "text": [
      "The page 140 20 https://www.ptt.cc/bbs/Food/M.1417810867.A.EF8.html\n",
      "The page 140 19 https://www.ptt.cc/bbs/Food/M.1417811809.A.EAC.html\n",
      "The page 140 18 https://www.ptt.cc/bbs/Food/M.1417821536.A.1FF.html\n",
      "The page 140 17 https://www.ptt.cc/bbs/Food/M.1417825830.A.B42.html\n",
      "The page 140 16 https://www.ptt.cc/bbs/Food/M.1417826719.A.8A8.html\n",
      "The page 140 15 https://www.ptt.cc/bbs/Food/M.1417826750.A.06C.html\n",
      "The page 140 14 https://www.ptt.cc/bbs/Food/M.1417826846.A.38D.html\n",
      "The page 140 13 https://www.ptt.cc/bbs/Food/M.1417830560.A.D5D.html\n",
      "The page 140 12 https://www.ptt.cc/bbs/Food/M.1417830925.A.A05.html\n",
      "The page 140 11 https://www.ptt.cc/bbs/Food/M.1417830983.A.C24.html\n",
      "The page 140 10 https://www.ptt.cc/bbs/Food/M.1417832366.A.FCC.html\n",
      "The page 140 9 https://www.ptt.cc/bbs/Food/M.1417833489.A.B67.html\n",
      "The page 140 8 https://www.ptt.cc/bbs/Food/M.1417833750.A.42E.html\n",
      "The page 140 7 https://www.ptt.cc/bbs/Food/M.1417834347.A.FB0.html\n",
      "The page 140 6 https://www.ptt.cc/bbs/Food/M.1417834576.A.00A.html\n",
      "The page 140 5 https://www.ptt.cc/bbs/Food/M.1417834938.A.9B4.html\n",
      "The page 140 4 https://www.ptt.cc/bbs/Food/M.1417835301.A.33F.html\n",
      "The page 140 3 https://www.ptt.cc/bbs/Food/M.1417836870.A.EBD.html\n",
      "The page 140 2 https://www.ptt.cc/bbs/Food/M.1417837642.A.3BF.html\n",
      "The page 140 1 https://www.ptt.cc/bbs/Food/M.1417841359.A.18A.html\n",
      "The 139 page https://www.ptt.cc/bbs/Food/index3139.html starts:\n"
     ]
    },
    {
     "name": "stderr",
     "output_type": "stream",
     "text": [
      "/anaconda3/lib/python3.7/site-packages/urllib3/connectionpool.py:847: InsecureRequestWarning: Unverified HTTPS request is being made. Adding certificate verification is strongly advised. See: https://urllib3.readthedocs.io/en/latest/advanced-usage.html#ssl-warnings\n",
      "  InsecureRequestWarning)\n"
     ]
    },
    {
     "name": "stdout",
     "output_type": "stream",
     "text": [
      "The page 139 20 https://www.ptt.cc/bbs/Food/M.1417784491.A.DC5.html\n",
      "The page 139 19 https://www.ptt.cc/bbs/Food/M.1417786049.A.C59.html\n",
      "The page 139 18 https://www.ptt.cc/bbs/Food/M.1417786564.A.A5C.html\n",
      "The page 139 17 https://www.ptt.cc/bbs/Food/M.1417786821.A.C0C.html\n",
      "The page 139 16 https://www.ptt.cc/bbs/Food/M.1417787658.A.9D1.html\n",
      "The page 139 15 https://www.ptt.cc/bbs/Food/M.1417788571.A.E35.html\n",
      "The page 139 14 https://www.ptt.cc/bbs/Food/M.1417788932.A.69B.html\n",
      "The page 139 13 https://www.ptt.cc/bbs/Food/M.1417789103.A.85F.html\n",
      "The page 139 12 https://www.ptt.cc/bbs/Food/M.1417789151.A.117.html\n",
      "The page 139 11 https://www.ptt.cc/bbs/Food/M.1417789180.A.CD9.html\n",
      "The page 139 10 https://www.ptt.cc/bbs/Food/M.1417790581.A.A17.html\n",
      "The page 139 9 https://www.ptt.cc/bbs/Food/M.1417790810.A.FD3.html\n",
      "The page 139 8 https://www.ptt.cc/bbs/Food/M.1417791557.A.31F.html\n",
      "The page 139 7 https://www.ptt.cc/bbs/Food/M.1417792074.A.B3E.html\n",
      "The page 139 6 https://www.ptt.cc/bbs/Food/M.1417793012.A.0B0.html\n",
      "The page 139 5 https://www.ptt.cc/bbs/Food/M.1417794906.A.D0C.html\n",
      "The page 139 4 https://www.ptt.cc/bbs/Food/M.1417795185.A.29C.html\n",
      "The page 139 3 https://www.ptt.cc/bbs/Food/M.1417795628.A.BD2.html\n",
      "The page 139 2 https://www.ptt.cc/bbs/Food/M.1417803391.A.D86.html\n",
      "The page 139 1 https://www.ptt.cc/bbs/Food/M.1417808913.A.948.html\n",
      "The 138 page https://www.ptt.cc/bbs/Food/index3138.html starts:\n"
     ]
    },
    {
     "name": "stderr",
     "output_type": "stream",
     "text": [
      "/anaconda3/lib/python3.7/site-packages/urllib3/connectionpool.py:847: InsecureRequestWarning: Unverified HTTPS request is being made. Adding certificate verification is strongly advised. See: https://urllib3.readthedocs.io/en/latest/advanced-usage.html#ssl-warnings\n",
      "  InsecureRequestWarning)\n"
     ]
    },
    {
     "name": "stdout",
     "output_type": "stream",
     "text": [
      "The page 138 20 https://www.ptt.cc/bbs/Food/M.1417759837.A.790.html\n",
      "The page 138 19 https://www.ptt.cc/bbs/Food/M.1417760647.A.DF0.html\n",
      "The page 138 18 https://www.ptt.cc/bbs/Food/M.1417760719.A.B47.html\n",
      "The page 138 17 https://www.ptt.cc/bbs/Food/M.1417761857.A.E96.html\n",
      "The page 138 16 https://www.ptt.cc/bbs/Food/M.1417761935.A.F9E.html\n",
      "The page 138 15 https://www.ptt.cc/bbs/Food/M.1417762006.A.D2F.html\n",
      "The page 138 14 https://www.ptt.cc/bbs/Food/M.1417762890.A.EAB.html\n",
      "The page 138 13 https://www.ptt.cc/bbs/Food/M.1417763823.A.8BA.html\n",
      "The page 138 12 https://www.ptt.cc/bbs/Food/M.1417764489.A.463.html\n",
      "The page 138 11 https://www.ptt.cc/bbs/Food/M.1417768333.A.B07.html\n",
      "The page 138 10 https://www.ptt.cc/bbs/Food/M.1417769657.A.AF6.html\n",
      "The page 138 9 https://www.ptt.cc/bbs/Food/M.1417771387.A.0E7.html\n",
      "The page 138 8 https://www.ptt.cc/bbs/Food/M.1417771519.A.30B.html\n",
      "The page 138 7 https://www.ptt.cc/bbs/Food/M.1417771799.A.40A.html\n",
      "The page 138 6 https://www.ptt.cc/bbs/Food/M.1417774981.A.C1F.html\n",
      "The page 138 5 https://www.ptt.cc/bbs/Food/M.1417775285.A.A84.html\n",
      "The page 138 4 https://www.ptt.cc/bbs/Food/M.1417780423.A.783.html\n",
      "The page 138 3 https://www.ptt.cc/bbs/Food/M.1417783887.A.9AD.html\n",
      "The page 138 2 https://www.ptt.cc/bbs/Food/M.1417784206.A.64D.html\n",
      "The page 138 1 https://www.ptt.cc/bbs/Food/M.1417784221.A.79C.html\n",
      "The 137 page https://www.ptt.cc/bbs/Food/index3137.html starts:\n"
     ]
    },
    {
     "name": "stderr",
     "output_type": "stream",
     "text": [
      "/anaconda3/lib/python3.7/site-packages/urllib3/connectionpool.py:847: InsecureRequestWarning: Unverified HTTPS request is being made. Adding certificate verification is strongly advised. See: https://urllib3.readthedocs.io/en/latest/advanced-usage.html#ssl-warnings\n",
      "  InsecureRequestWarning)\n"
     ]
    },
    {
     "name": "stdout",
     "output_type": "stream",
     "text": [
      "The page 137 20 https://www.ptt.cc/bbs/Food/M.1417712926.A.CEF.html\n",
      "The page 137 19 https://www.ptt.cc/bbs/Food/M.1417713366.A.E36.html\n",
      "The page 137 18 https://www.ptt.cc/bbs/Food/M.1417715118.A.192.html\n",
      "The page 137 17 https://www.ptt.cc/bbs/Food/M.1417732866.A.A6E.html\n",
      "The page 137 16 https://www.ptt.cc/bbs/Food/M.1417738832.A.828.html\n",
      "The page 137 15 https://www.ptt.cc/bbs/Food/M.1417740119.A.362.html\n",
      "The page 137 14 https://www.ptt.cc/bbs/Food/M.1417744791.A.290.html\n",
      "The page 137 13 https://www.ptt.cc/bbs/Food/M.1417745521.A.C28.html\n",
      "The page 137 12 https://www.ptt.cc/bbs/Food/M.1417745589.A.E00.html\n",
      "The page 137 11 https://www.ptt.cc/bbs/Food/M.1417746412.A.67E.html\n",
      "The page 137 10 https://www.ptt.cc/bbs/Food/M.1417747169.A.892.html\n",
      "The page 137 9 https://www.ptt.cc/bbs/Food/M.1417748082.A.983.html\n",
      "The page 137 8 https://www.ptt.cc/bbs/Food/M.1417749159.A.2DC.html\n",
      "The page 137 7 https://www.ptt.cc/bbs/Food/M.1417750200.A.7C9.html\n",
      "The page 137 6 https://www.ptt.cc/bbs/Food/M.1417751311.A.C7D.html\n",
      "The page 137 5 https://www.ptt.cc/bbs/Food/M.1417752297.A.4CB.html\n",
      "The page 137 4 https://www.ptt.cc/bbs/Food/M.1417752350.A.B76.html\n",
      "The page 137 3 https://www.ptt.cc/bbs/Food/M.1417753681.A.6A6.html\n",
      "The page 137 2 https://www.ptt.cc/bbs/Food/M.1417757043.A.5C5.html\n",
      "The page 137 1 https://www.ptt.cc/bbs/Food/M.1417757638.A.A0F.html\n",
      "The 136 page https://www.ptt.cc/bbs/Food/index3136.html starts:\n"
     ]
    },
    {
     "name": "stderr",
     "output_type": "stream",
     "text": [
      "/anaconda3/lib/python3.7/site-packages/urllib3/connectionpool.py:847: InsecureRequestWarning: Unverified HTTPS request is being made. Adding certificate verification is strongly advised. See: https://urllib3.readthedocs.io/en/latest/advanced-usage.html#ssl-warnings\n",
      "  InsecureRequestWarning)\n"
     ]
    },
    {
     "name": "stdout",
     "output_type": "stream",
     "text": [
      "The page 136 20 https://www.ptt.cc/bbs/Food/M.1417704810.A.7B8.html\n",
      "The page 136 19 https://www.ptt.cc/bbs/Food/M.1417704815.A.9DB.html\n",
      "The page 136 18 https://www.ptt.cc/bbs/Food/M.1417704987.A.E6B.html\n",
      "The page 136 17 https://www.ptt.cc/bbs/Food/M.1417705097.A.A21.html\n",
      "The page 136 16 https://www.ptt.cc/bbs/Food/M.1417705737.A.80B.html\n",
      "The page 136 15 https://www.ptt.cc/bbs/Food/M.1417705970.A.18E.html\n",
      "The page 136 14 https://www.ptt.cc/bbs/Food/M.1417706098.A.12F.html\n",
      "The page 136 13 https://www.ptt.cc/bbs/Food/M.1417706603.A.8CD.html\n",
      "The page 136 12 https://www.ptt.cc/bbs/Food/M.1417706689.A.D77.html\n",
      "The page 136 11 https://www.ptt.cc/bbs/Food/M.1417706782.A.077.html\n",
      "The page 136 10 https://www.ptt.cc/bbs/Food/M.1417707449.A.536.html\n",
      "The page 136 9 https://www.ptt.cc/bbs/Food/M.1417707731.A.F50.html\n",
      "The page 136 8 https://www.ptt.cc/bbs/Food/M.1417708870.A.493.html\n",
      "The page 136 7 https://www.ptt.cc/bbs/Food/M.1417709457.A.3FB.html\n",
      "The page 136 6 https://www.ptt.cc/bbs/Food/M.1417710624.A.CB2.html\n",
      "The page 136 5 https://www.ptt.cc/bbs/Food/M.1417710970.A.6CC.html\n",
      "The page 136 4 https://www.ptt.cc/bbs/Food/M.1417711430.A.31D.html\n",
      "The page 136 3 https://www.ptt.cc/bbs/Food/M.1417711889.A.63C.html\n",
      "The page 136 2 https://www.ptt.cc/bbs/Food/M.1417712321.A.80E.html\n",
      "The page 136 1 https://www.ptt.cc/bbs/Food/M.1417712654.A.540.html\n",
      "The 135 page https://www.ptt.cc/bbs/Food/index3135.html starts:\n"
     ]
    },
    {
     "name": "stderr",
     "output_type": "stream",
     "text": [
      "/anaconda3/lib/python3.7/site-packages/urllib3/connectionpool.py:847: InsecureRequestWarning: Unverified HTTPS request is being made. Adding certificate verification is strongly advised. See: https://urllib3.readthedocs.io/en/latest/advanced-usage.html#ssl-warnings\n",
      "  InsecureRequestWarning)\n"
     ]
    },
    {
     "name": "stdout",
     "output_type": "stream",
     "text": [
      "The page 135 20 https://www.ptt.cc/bbs/Food/M.1417698634.A.915.html\n",
      "The page 135 19 https://www.ptt.cc/bbs/Food/M.1417700284.A.407.html\n",
      "The page 135 18 https://www.ptt.cc/bbs/Food/M.1417700376.A.427.html\n",
      "The page 135 17 https://www.ptt.cc/bbs/Food/M.1417700489.A.E37.html\n",
      "The page 135 16 https://www.ptt.cc/bbs/Food/M.1417700733.A.FB5.html\n",
      "The page 135 15 https://www.ptt.cc/bbs/Food/M.1417700775.A.6DB.html\n",
      "The page 135 14 https://www.ptt.cc/bbs/Food/M.1417700925.A.E89.html\n",
      "The page 135 13 https://www.ptt.cc/bbs/Food/M.1417701148.A.1B3.html\n",
      "The page 135 12 https://www.ptt.cc/bbs/Food/M.1417701442.A.A7D.html\n",
      "The page 135 11 https://www.ptt.cc/bbs/Food/M.1417701931.A.9A9.html\n",
      "The page 135 10 https://www.ptt.cc/bbs/Food/M.1417702075.A.033.html\n",
      "The page 135 9 https://www.ptt.cc/bbs/Food/M.1417702803.A.18F.html\n",
      "The page 135 8 https://www.ptt.cc/bbs/Food/M.1417702970.A.48E.html\n",
      "The page 135 7 https://www.ptt.cc/bbs/Food/M.1417702980.A.878.html\n",
      "The page 135 6 https://www.ptt.cc/bbs/Food/M.1417703342.A.610.html\n",
      "The page 135 5 https://www.ptt.cc/bbs/Food/M.1417703942.A.B86.html\n",
      "The page 135 4 https://www.ptt.cc/bbs/Food/M.1417704242.A.791.html\n",
      "The page 135 3 https://www.ptt.cc/bbs/Food/M.1417704358.A.0A5.html\n",
      "The page 135 2 https://www.ptt.cc/bbs/Food/M.1417704424.A.5CA.html\n",
      "The page 135 1 https://www.ptt.cc/bbs/Food/M.1417704561.A.C29.html\n",
      "The 134 page https://www.ptt.cc/bbs/Food/index3134.html starts:\n"
     ]
    },
    {
     "name": "stderr",
     "output_type": "stream",
     "text": [
      "/anaconda3/lib/python3.7/site-packages/urllib3/connectionpool.py:847: InsecureRequestWarning: Unverified HTTPS request is being made. Adding certificate verification is strongly advised. See: https://urllib3.readthedocs.io/en/latest/advanced-usage.html#ssl-warnings\n",
      "  InsecureRequestWarning)\n"
     ]
    },
    {
     "name": "stdout",
     "output_type": "stream",
     "text": [
      "The page 134 20 https://www.ptt.cc/bbs/Food/M.1417683957.A.30E.html\n",
      "The page 134 19 https://www.ptt.cc/bbs/Food/M.1417683976.A.8EB.html\n",
      "The page 134 18 https://www.ptt.cc/bbs/Food/M.1417685518.A.19B.html\n",
      "The page 134 17 https://www.ptt.cc/bbs/Food/M.1417685554.A.2A6.html\n",
      "The page 134 16 https://www.ptt.cc/bbs/Food/M.1417687102.A.836.html\n",
      "The page 134 15 https://www.ptt.cc/bbs/Food/M.1417688196.A.BE3.html\n",
      "The page 134 14 https://www.ptt.cc/bbs/Food/M.1417689218.A.225.html\n",
      "The page 134 13 https://www.ptt.cc/bbs/Food/M.1417689253.A.83F.html\n",
      "The page 134 12 https://www.ptt.cc/bbs/Food/M.1417690077.A.072.html\n",
      "The page 134 11 https://www.ptt.cc/bbs/Food/M.1417690122.A.772.html\n",
      "The page 134 10 https://www.ptt.cc/bbs/Food/M.1417693475.A.648.html\n",
      "The page 134 9 https://www.ptt.cc/bbs/Food/M.1417694264.A.6A2.html\n",
      "The page 134 8 https://www.ptt.cc/bbs/Food/M.1417694591.A.C6E.html\n",
      "The page 134 7 https://www.ptt.cc/bbs/Food/M.1417694850.A.B00.html\n",
      "The page 134 6 https://www.ptt.cc/bbs/Food/M.1417695005.A.087.html\n",
      "The page 134 5 https://www.ptt.cc/bbs/Food/M.1417696281.A.545.html\n",
      "The page 134 4 https://www.ptt.cc/bbs/Food/M.1417696765.A.C9E.html\n",
      "The page 134 3 https://www.ptt.cc/bbs/Food/M.1417696859.A.0D5.html\n",
      "The page 134 2 https://www.ptt.cc/bbs/Food/M.1417698377.A.7EE.html\n",
      "The page 134 1 https://www.ptt.cc/bbs/Food/M.1417698387.A.955.html\n",
      "The 133 page https://www.ptt.cc/bbs/Food/index3133.html starts:\n"
     ]
    },
    {
     "name": "stderr",
     "output_type": "stream",
     "text": [
      "/anaconda3/lib/python3.7/site-packages/urllib3/connectionpool.py:847: InsecureRequestWarning: Unverified HTTPS request is being made. Adding certificate verification is strongly advised. See: https://urllib3.readthedocs.io/en/latest/advanced-usage.html#ssl-warnings\n",
      "  InsecureRequestWarning)\n"
     ]
    },
    {
     "name": "stdout",
     "output_type": "stream",
     "text": [
      "The page 133 20 https://www.ptt.cc/bbs/Food/M.1417655792.A.135.html\n",
      "The page 133 19 https://www.ptt.cc/bbs/Food/M.1417656048.A.F5A.html\n",
      "The page 133 18 https://www.ptt.cc/bbs/Food/M.1417659144.A.C0E.html\n",
      "The page 133 17 https://www.ptt.cc/bbs/Food/M.1417663686.A.A6D.html\n",
      "The page 133 16 https://www.ptt.cc/bbs/Food/M.1417664892.A.2E1.html\n",
      "The page 133 15 https://www.ptt.cc/bbs/Food/M.1417666815.A.C9E.html\n",
      "The page 133 14 https://www.ptt.cc/bbs/Food/M.1417669344.A.793.html\n",
      "The page 133 13 https://www.ptt.cc/bbs/Food/M.1417670411.A.04F.html\n",
      "The page 133 12 https://www.ptt.cc/bbs/Food/M.1417670496.A.F34.html\n",
      "The page 133 11 https://www.ptt.cc/bbs/Food/M.1417671706.A.082.html\n",
      "The page 133 10 https://www.ptt.cc/bbs/Food/M.1417672198.A.A1B.html\n",
      "The page 133 9 https://www.ptt.cc/bbs/Food/M.1417675178.A.904.html\n",
      "The page 133 8 https://www.ptt.cc/bbs/Food/M.1417675808.A.530.html\n",
      "The page 133 7 https://www.ptt.cc/bbs/Food/M.1417676447.A.768.html\n",
      "The page 133 6 https://www.ptt.cc/bbs/Food/M.1417677050.A.8A1.html\n",
      "The page 133 5 https://www.ptt.cc/bbs/Food/M.1417677986.A.C19.html\n",
      "The page 133 4 https://www.ptt.cc/bbs/Food/M.1417678176.A.4BB.html\n",
      "The page 133 3 https://www.ptt.cc/bbs/Food/M.1417678683.A.F34.html\n",
      "The page 133 2 https://www.ptt.cc/bbs/Food/M.1417679869.A.041.html\n",
      "The page 133 1 https://www.ptt.cc/bbs/Food/M.1417681687.A.9DC.html\n",
      "The 132 page https://www.ptt.cc/bbs/Food/index3132.html starts:\n"
     ]
    },
    {
     "name": "stderr",
     "output_type": "stream",
     "text": [
      "/anaconda3/lib/python3.7/site-packages/urllib3/connectionpool.py:847: InsecureRequestWarning: Unverified HTTPS request is being made. Adding certificate verification is strongly advised. See: https://urllib3.readthedocs.io/en/latest/advanced-usage.html#ssl-warnings\n",
      "  InsecureRequestWarning)\n"
     ]
    },
    {
     "name": "stdout",
     "output_type": "stream",
     "text": [
      "The page 132 20 https://www.ptt.cc/bbs/Food/M.1417616216.A.EC7.html\n",
      "The page 132 19 https://www.ptt.cc/bbs/Food/M.1417616574.A.81A.html\n",
      "The page 132 18 https://www.ptt.cc/bbs/Food/M.1417616863.A.064.html\n",
      "The page 132 17 https://www.ptt.cc/bbs/Food/M.1417617224.A.FAF.html\n",
      "The page 132 16 https://www.ptt.cc/bbs/Food/M.1417617621.A.F86.html\n",
      "The page 132 15 https://www.ptt.cc/bbs/Food/M.1417617740.A.913.html\n",
      "The page 132 14 https://www.ptt.cc/bbs/Food/M.1417617830.A.AA2.html\n",
      "The page 132 13 https://www.ptt.cc/bbs/Food/M.1417618059.A.44A.html\n",
      "The page 132 12 https://www.ptt.cc/bbs/Food/M.1417618505.A.FDD.html\n",
      "The page 132 11 https://www.ptt.cc/bbs/Food/M.1417618954.A.AC8.html\n",
      "The page 132 10 https://www.ptt.cc/bbs/Food/M.1417620000.A.9EF.html\n",
      "The page 132 9 https://www.ptt.cc/bbs/Food/M.1417620308.A.73C.html\n",
      "The page 132 8 https://www.ptt.cc/bbs/Food/M.1417621476.A.BD7.html\n",
      "The page 132 7 https://www.ptt.cc/bbs/Food/M.1417621868.A.F9B.html\n",
      "The page 132 6 https://www.ptt.cc/bbs/Food/M.1417622591.A.95C.html\n",
      "The page 132 5 https://www.ptt.cc/bbs/Food/M.1417623342.A.E2D.html\n",
      "The page 132 4 https://www.ptt.cc/bbs/Food/M.1417624137.A.C6D.html\n",
      "The page 132 3 https://www.ptt.cc/bbs/Food/M.1417632212.A.24B.html\n",
      "The page 132 2 https://www.ptt.cc/bbs/Food/M.1417654521.A.D61.html\n",
      "The page 132 1 https://www.ptt.cc/bbs/Food/M.1417654881.A.51A.html\n",
      "The 131 page https://www.ptt.cc/bbs/Food/index3131.html starts:\n"
     ]
    },
    {
     "name": "stderr",
     "output_type": "stream",
     "text": [
      "/anaconda3/lib/python3.7/site-packages/urllib3/connectionpool.py:847: InsecureRequestWarning: Unverified HTTPS request is being made. Adding certificate verification is strongly advised. See: https://urllib3.readthedocs.io/en/latest/advanced-usage.html#ssl-warnings\n",
      "  InsecureRequestWarning)\n"
     ]
    },
    {
     "name": "stdout",
     "output_type": "stream",
     "text": [
      "The page 131 20 https://www.ptt.cc/bbs/Food/M.1417599272.A.286.html\n",
      "The page 131 19 https://www.ptt.cc/bbs/Food/M.1417599295.A.CCD.html\n",
      "The page 131 18 https://www.ptt.cc/bbs/Food/M.1417599436.A.281.html\n",
      "The page 131 17 https://www.ptt.cc/bbs/Food/M.1417600963.A.C05.html\n",
      "The page 131 16 https://www.ptt.cc/bbs/Food/M.1417602407.A.94D.html\n",
      "The page 131 15 https://www.ptt.cc/bbs/Food/M.1417603978.A.433.html\n",
      "The page 131 14 https://www.ptt.cc/bbs/Food/M.1417604780.A.A57.html\n",
      "The page 131 13 https://www.ptt.cc/bbs/Food/M.1417605902.A.AB5.html\n",
      "The page 131 12 https://www.ptt.cc/bbs/Food/M.1417606452.A.6AC.html\n",
      "The page 131 11 https://www.ptt.cc/bbs/Food/M.1417607423.A.7A4.html\n",
      "The page 131 10 https://www.ptt.cc/bbs/Food/M.1417608790.A.744.html\n",
      "The page 131 9 https://www.ptt.cc/bbs/Food/M.1417610050.A.34C.html\n",
      "The page 131 8 https://www.ptt.cc/bbs/Food/M.1417611705.A.280.html\n",
      "The page 131 7 https://www.ptt.cc/bbs/Food/M.1417612899.A.7DD.html\n",
      "The page 131 6 https://www.ptt.cc/bbs/Food/M.1417614386.A.FB4.html\n",
      "The page 131 5 https://www.ptt.cc/bbs/Food/M.1417615056.A.46D.html\n",
      "The page 131 4 https://www.ptt.cc/bbs/Food/M.1417615484.A.E65.html\n",
      "The page 131 3 https://www.ptt.cc/bbs/Food/M.1417615970.A.3D6.html\n",
      "The page 131 2 https://www.ptt.cc/bbs/Food/M.1417616030.A.4E0.html\n",
      "The page 131 1 https://www.ptt.cc/bbs/Food/M.1417616065.A.9E6.html\n",
      "The 130 page https://www.ptt.cc/bbs/Food/index3130.html starts:\n"
     ]
    },
    {
     "name": "stderr",
     "output_type": "stream",
     "text": [
      "/anaconda3/lib/python3.7/site-packages/urllib3/connectionpool.py:847: InsecureRequestWarning: Unverified HTTPS request is being made. Adding certificate verification is strongly advised. See: https://urllib3.readthedocs.io/en/latest/advanced-usage.html#ssl-warnings\n",
      "  InsecureRequestWarning)\n"
     ]
    },
    {
     "name": "stdout",
     "output_type": "stream",
     "text": [
      "The page 130 20 https://www.ptt.cc/bbs/Food/M.1417569398.A.888.html\n",
      "The page 130 19 https://www.ptt.cc/bbs/Food/M.1417573269.A.BE2.html\n",
      "The page 130 18 https://www.ptt.cc/bbs/Food/M.1417577473.A.8F9.html\n",
      "The page 130 17 https://www.ptt.cc/bbs/Food/M.1417578589.A.5AD.html\n",
      "The page 130 16 https://www.ptt.cc/bbs/Food/M.1417579546.A.B7A.html\n",
      "The page 130 15 https://www.ptt.cc/bbs/Food/M.1417579945.A.183.html\n",
      "The page 130 14 https://www.ptt.cc/bbs/Food/M.1417580275.A.40C.html\n",
      "The page 130 13 https://www.ptt.cc/bbs/Food/M.1417581006.A.F61.html\n",
      "The page 130 12 https://www.ptt.cc/bbs/Food/M.1417581479.A.B49.html\n",
      "The page 130 11 https://www.ptt.cc/bbs/Food/M.1417583234.A.82D.html\n",
      "The page 130 10 https://www.ptt.cc/bbs/Food/M.1417584094.A.5BD.html\n",
      "The page 130 9 https://www.ptt.cc/bbs/Food/M.1417585165.A.D8B.html\n",
      "The page 130 8 https://www.ptt.cc/bbs/Food/M.1417586519.A.C1D.html\n",
      "The page 130 7 https://www.ptt.cc/bbs/Food/M.1417586902.A.522.html\n",
      "The page 130 6 https://www.ptt.cc/bbs/Food/M.1417587036.A.FEB.html\n",
      "The page 130 5 https://www.ptt.cc/bbs/Food/M.1417588701.A.2C9.html\n",
      "The page 130 4 https://www.ptt.cc/bbs/Food/M.1417594922.A.B15.html\n",
      "The page 130 3 https://www.ptt.cc/bbs/Food/M.1417595459.A.FB5.html\n",
      "The page 130 2 https://www.ptt.cc/bbs/Food/M.1417595606.A.332.html\n",
      "The page 130 1 https://www.ptt.cc/bbs/Food/M.1417597411.A.D85.html\n",
      "The 129 page https://www.ptt.cc/bbs/Food/index3129.html starts:\n"
     ]
    },
    {
     "name": "stderr",
     "output_type": "stream",
     "text": [
      "/anaconda3/lib/python3.7/site-packages/urllib3/connectionpool.py:847: InsecureRequestWarning: Unverified HTTPS request is being made. Adding certificate verification is strongly advised. See: https://urllib3.readthedocs.io/en/latest/advanced-usage.html#ssl-warnings\n",
      "  InsecureRequestWarning)\n"
     ]
    },
    {
     "name": "stdout",
     "output_type": "stream",
     "text": [
      "The page 129 20 https://www.ptt.cc/bbs/Food/M.1417530335.A.A4A.html\n",
      "The page 129 19 https://www.ptt.cc/bbs/Food/M.1417530336.A.C3A.html\n",
      "The page 129 18 https://www.ptt.cc/bbs/Food/M.1417530393.A.CCA.html\n",
      "The page 129 17 https://www.ptt.cc/bbs/Food/M.1417531019.A.945.html\n",
      "The page 129 16 https://www.ptt.cc/bbs/Food/M.1417531280.A.4D2.html\n",
      "The page 129 15 https://www.ptt.cc/bbs/Food/M.1417531975.A.CE0.html\n",
      "The page 129 14 https://www.ptt.cc/bbs/Food/M.1417532435.A.14A.html\n",
      "The page 129 13 https://www.ptt.cc/bbs/Food/M.1417532637.A.E58.html\n",
      "The page 129 12 https://www.ptt.cc/bbs/Food/M.1417534874.A.7A8.html\n",
      "The page 129 11 https://www.ptt.cc/bbs/Food/M.1417534973.A.48D.html\n",
      "The page 129 10 https://www.ptt.cc/bbs/Food/M.1417535286.A.6BB.html\n",
      "The page 129 9 https://www.ptt.cc/bbs/Food/M.1417539652.A.36A.html\n",
      "The page 129 8 https://www.ptt.cc/bbs/Food/M.1417540101.A.17E.html\n",
      "The page 129 7 https://www.ptt.cc/bbs/Food/M.1417541491.A.7EC.html\n",
      "The page 129 6 https://www.ptt.cc/bbs/Food/M.1417541778.A.0E8.html\n",
      "The page 129 5 https://www.ptt.cc/bbs/Food/M.1417549233.A.B60.html\n",
      "The page 129 4 https://www.ptt.cc/bbs/Food/M.1417554570.A.944.html\n",
      "The page 129 3 https://www.ptt.cc/bbs/Food/M.1417563350.A.0B7.html\n",
      "The page 129 2 https://www.ptt.cc/bbs/Food/M.1417567924.A.B6D.html\n",
      "The page 129 1 https://www.ptt.cc/bbs/Food/M.1417567950.A.313.html\n",
      "The 128 page https://www.ptt.cc/bbs/Food/index3128.html starts:\n"
     ]
    },
    {
     "name": "stderr",
     "output_type": "stream",
     "text": [
      "/anaconda3/lib/python3.7/site-packages/urllib3/connectionpool.py:847: InsecureRequestWarning: Unverified HTTPS request is being made. Adding certificate verification is strongly advised. See: https://urllib3.readthedocs.io/en/latest/advanced-usage.html#ssl-warnings\n",
      "  InsecureRequestWarning)\n"
     ]
    },
    {
     "name": "stdout",
     "output_type": "stream",
     "text": [
      "The page 128 20 https://www.ptt.cc/bbs/Food/M.1417521764.A.B46.html\n",
      "The page 128 19 https://www.ptt.cc/bbs/Food/M.1417522181.A.C2A.html\n",
      "The page 128 18 https://www.ptt.cc/bbs/Food/M.1417522337.A.779.html\n",
      "The page 128 17 https://www.ptt.cc/bbs/Food/M.1417522378.A.CE4.html\n",
      "The page 128 16 https://www.ptt.cc/bbs/Food/M.1417522385.A.E71.html\n",
      "The page 128 15 https://www.ptt.cc/bbs/Food/M.1417522541.A.588.html\n",
      "The page 128 14 https://www.ptt.cc/bbs/Food/M.1417523099.A.980.html\n",
      "The page 128 13 https://www.ptt.cc/bbs/Food/M.1417523130.A.660.html\n",
      "The page 128 12 https://www.ptt.cc/bbs/Food/M.1417523367.A.623.html\n",
      "The page 128 11 https://www.ptt.cc/bbs/Food/M.1417524601.A.407.html\n",
      "The page 128 10 https://www.ptt.cc/bbs/Food/M.1417525377.A.7A2.html\n",
      "The page 128 9 https://www.ptt.cc/bbs/Food/M.1417526003.A.C48.html\n",
      "The page 128 8 https://www.ptt.cc/bbs/Food/M.1417526742.A.CB4.html\n",
      "The page 128 7 https://www.ptt.cc/bbs/Food/M.1417527007.A.DD1.html\n",
      "The page 128 6 https://www.ptt.cc/bbs/Food/M.1417527309.A.B63.html\n",
      "The page 128 5 https://www.ptt.cc/bbs/Food/M.1417528460.A.3B1.html\n",
      "The page 128 4 https://www.ptt.cc/bbs/Food/M.1417528599.A.329.html\n",
      "The page 128 3 https://www.ptt.cc/bbs/Food/M.1417528889.A.11F.html\n",
      "The page 128 2 https://www.ptt.cc/bbs/Food/M.1417529283.A.53E.html\n",
      "The page 128 1 https://www.ptt.cc/bbs/Food/M.1417529406.A.71E.html\n",
      "The 127 page https://www.ptt.cc/bbs/Food/index3127.html starts:\n"
     ]
    },
    {
     "name": "stderr",
     "output_type": "stream",
     "text": [
      "/anaconda3/lib/python3.7/site-packages/urllib3/connectionpool.py:847: InsecureRequestWarning: Unverified HTTPS request is being made. Adding certificate verification is strongly advised. See: https://urllib3.readthedocs.io/en/latest/advanced-usage.html#ssl-warnings\n",
      "  InsecureRequestWarning)\n"
     ]
    },
    {
     "name": "stdout",
     "output_type": "stream",
     "text": [
      "The page 127 20 https://www.ptt.cc/bbs/Food/M.1417486276.A.6F3.html\n",
      "The page 127 19 https://www.ptt.cc/bbs/Food/M.1417490216.A.BD9.html\n",
      "The page 127 18 https://www.ptt.cc/bbs/Food/M.1417490285.A.482.html\n",
      "The page 127 17 https://www.ptt.cc/bbs/Food/M.1417492392.A.4E2.html\n",
      "The page 127 16 https://www.ptt.cc/bbs/Food/M.1417492405.A.ED0.html\n",
      "The page 127 15 https://www.ptt.cc/bbs/Food/M.1417492736.A.CDA.html\n",
      "The page 127 14 https://www.ptt.cc/bbs/Food/M.1417497595.A.9D5.html\n",
      "The page 127 13 https://www.ptt.cc/bbs/Food/M.1417497780.A.556.html\n",
      "The page 127 12 https://www.ptt.cc/bbs/Food/M.1417498578.A.A2A.html\n",
      "The page 127 11 https://www.ptt.cc/bbs/Food/M.1417502031.A.4A4.html\n",
      "The page 127 10 https://www.ptt.cc/bbs/Food/M.1417504824.A.985.html\n",
      "The page 127 9 https://www.ptt.cc/bbs/Food/M.1417508577.A.A3A.html\n",
      "The page 127 8 https://www.ptt.cc/bbs/Food/M.1417509483.A.619.html\n",
      "The page 127 7 https://www.ptt.cc/bbs/Food/M.1417510780.A.4F1.html\n",
      "The page 127 6 https://www.ptt.cc/bbs/Food/M.1417512533.A.851.html\n",
      "The page 127 5 https://www.ptt.cc/bbs/Food/M.1417512753.A.152.html\n",
      "The page 127 4 https://www.ptt.cc/bbs/Food/M.1417515193.A.A13.html\n",
      "The page 127 3 https://www.ptt.cc/bbs/Food/M.1417516422.A.746.html\n",
      "The page 127 2 https://www.ptt.cc/bbs/Food/M.1417517908.A.181.html\n",
      "The page 127 1 https://www.ptt.cc/bbs/Food/M.1417518682.A.7E1.html\n",
      "The 126 page https://www.ptt.cc/bbs/Food/index3126.html starts:\n"
     ]
    },
    {
     "name": "stderr",
     "output_type": "stream",
     "text": [
      "/anaconda3/lib/python3.7/site-packages/urllib3/connectionpool.py:847: InsecureRequestWarning: Unverified HTTPS request is being made. Adding certificate verification is strongly advised. See: https://urllib3.readthedocs.io/en/latest/advanced-usage.html#ssl-warnings\n",
      "  InsecureRequestWarning)\n"
     ]
    },
    {
     "name": "stdout",
     "output_type": "stream",
     "text": [
      "The page 126 20 https://www.ptt.cc/bbs/Food/M.1417444696.A.433.html\n",
      "The page 126 19 https://www.ptt.cc/bbs/Food/M.1417444864.A.14D.html\n",
      "The page 126 18 https://www.ptt.cc/bbs/Food/M.1417444984.A.EFE.html\n",
      "The page 126 17 https://www.ptt.cc/bbs/Food/M.1417445088.A.00C.html\n",
      "The page 126 16 https://www.ptt.cc/bbs/Food/M.1417445358.A.FBB.html\n",
      "The page 126 15 https://www.ptt.cc/bbs/Food/M.1417446064.A.8E1.html\n",
      "The page 126 14 https://www.ptt.cc/bbs/Food/M.1417446670.A.396.html\n",
      "The page 126 13 https://www.ptt.cc/bbs/Food/M.1417447380.A.3E9.html\n",
      "The page 126 12 https://www.ptt.cc/bbs/Food/M.1417447520.A.1CB.html\n",
      "The page 126 11 https://www.ptt.cc/bbs/Food/M.1417448156.A.82F.html\n",
      "The page 126 10 https://www.ptt.cc/bbs/Food/M.1417449555.A.5EF.html\n",
      "The page 126 9 https://www.ptt.cc/bbs/Food/M.1417449904.A.306.html\n",
      "The page 126 8 https://www.ptt.cc/bbs/Food/M.1417450630.A.112.html\n",
      "The page 126 7 https://www.ptt.cc/bbs/Food/M.1417451127.A.2BB.html\n",
      "The page 126 6 https://www.ptt.cc/bbs/Food/M.1417453472.A.AAC.html\n",
      "The page 126 5 https://www.ptt.cc/bbs/Food/M.1417465396.A.206.html\n",
      "The page 126 4 https://www.ptt.cc/bbs/Food/M.1417466501.A.93F.html\n",
      "The page 126 3 https://www.ptt.cc/bbs/Food/M.1417481929.A.FB5.html\n",
      "The page 126 2 https://www.ptt.cc/bbs/Food/M.1417485193.A.B58.html\n",
      "The page 126 1 https://www.ptt.cc/bbs/Food/M.1417485231.A.49E.html\n",
      "The 125 page https://www.ptt.cc/bbs/Food/index3125.html starts:\n"
     ]
    },
    {
     "name": "stderr",
     "output_type": "stream",
     "text": [
      "/anaconda3/lib/python3.7/site-packages/urllib3/connectionpool.py:847: InsecureRequestWarning: Unverified HTTPS request is being made. Adding certificate verification is strongly advised. See: https://urllib3.readthedocs.io/en/latest/advanced-usage.html#ssl-warnings\n",
      "  InsecureRequestWarning)\n"
     ]
    },
    {
     "name": "stdout",
     "output_type": "stream",
     "text": [
      "The page 125 20 https://www.ptt.cc/bbs/Food/M.1417438669.A.EBB.html\n",
      "The page 125 19 https://www.ptt.cc/bbs/Food/M.1417438906.A.667.html\n",
      "The page 125 18 https://www.ptt.cc/bbs/Food/M.1417439040.A.103.html\n",
      "The page 125 17 https://www.ptt.cc/bbs/Food/M.1417439393.A.D64.html\n",
      "The page 125 16 https://www.ptt.cc/bbs/Food/M.1417439432.A.CF2.html\n",
      "The page 125 15 https://www.ptt.cc/bbs/Food/M.1417439917.A.C36.html\n",
      "The page 125 14 https://www.ptt.cc/bbs/Food/M.1417440098.A.91F.html\n",
      "The page 125 13 https://www.ptt.cc/bbs/Food/M.1417440157.A.BCF.html\n",
      "The page 125 12 https://www.ptt.cc/bbs/Food/M.1417440633.A.DE6.html\n",
      "The page 125 11 https://www.ptt.cc/bbs/Food/M.1417440714.A.8E4.html\n",
      "The page 125 10 https://www.ptt.cc/bbs/Food/M.1417440866.A.0F6.html\n",
      "The page 125 9 https://www.ptt.cc/bbs/Food/M.1417441183.A.89E.html\n",
      "The page 125 8 https://www.ptt.cc/bbs/Food/M.1417441488.A.084.html\n",
      "The page 125 7 https://www.ptt.cc/bbs/Food/M.1417441958.A.265.html\n",
      "The page 125 6 https://www.ptt.cc/bbs/Food/M.1417442248.A.96A.html\n",
      "The page 125 5 https://www.ptt.cc/bbs/Food/M.1417442782.A.A56.html\n",
      "The page 125 4 https://www.ptt.cc/bbs/Food/M.1417443228.A.80A.html\n",
      "The page 125 3 https://www.ptt.cc/bbs/Food/M.1417443668.A.516.html\n",
      "The page 125 2 https://www.ptt.cc/bbs/Food/M.1417444267.A.DE0.html\n",
      "The page 125 1 https://www.ptt.cc/bbs/Food/M.1417444678.A.E2C.html\n",
      "The 124 page https://www.ptt.cc/bbs/Food/index3124.html starts:\n"
     ]
    },
    {
     "name": "stderr",
     "output_type": "stream",
     "text": [
      "/anaconda3/lib/python3.7/site-packages/urllib3/connectionpool.py:847: InsecureRequestWarning: Unverified HTTPS request is being made. Adding certificate verification is strongly advised. See: https://urllib3.readthedocs.io/en/latest/advanced-usage.html#ssl-warnings\n",
      "  InsecureRequestWarning)\n"
     ]
    },
    {
     "name": "stdout",
     "output_type": "stream",
     "text": [
      "The page 124 20 https://www.ptt.cc/bbs/Food/M.1417414793.A.E3A.html\n",
      "The page 124 19 https://www.ptt.cc/bbs/Food/M.1417416982.A.207.html\n",
      "The page 124 18 https://www.ptt.cc/bbs/Food/M.1417417423.A.1B4.html\n",
      "The page 124 17 https://www.ptt.cc/bbs/Food/M.1417417708.A.4D7.html\n",
      "The page 124 16 https://www.ptt.cc/bbs/Food/M.1417420047.A.070.html\n",
      "The page 124 15 https://www.ptt.cc/bbs/Food/M.1417420374.A.DC6.html\n",
      "The page 124 14 https://www.ptt.cc/bbs/Food/M.1417420487.A.C89.html\n",
      "The page 124 13 https://www.ptt.cc/bbs/Food/M.1417424496.A.FE8.html\n",
      "The page 124 12 https://www.ptt.cc/bbs/Food/M.1417424531.A.B80.html\n",
      "The page 124 11 https://www.ptt.cc/bbs/Food/M.1417427834.A.0C8.html\n",
      "The page 124 10 https://www.ptt.cc/bbs/Food/M.1417428617.A.B67.html\n",
      "The page 124 9 https://www.ptt.cc/bbs/Food/M.1417429092.A.0A6.html\n",
      "The page 124 8 https://www.ptt.cc/bbs/Food/M.1417429748.A.E6D.html\n",
      "The page 124 7 https://www.ptt.cc/bbs/Food/M.1417430877.A.A03.html\n",
      "The page 124 6 https://www.ptt.cc/bbs/Food/M.1417431100.A.457.html\n",
      "The page 124 5 https://www.ptt.cc/bbs/Food/M.1417433320.A.A77.html\n",
      "The page 124 4 https://www.ptt.cc/bbs/Food/M.1417435230.A.5FF.html\n",
      "The page 124 3 https://www.ptt.cc/bbs/Food/M.1417436430.A.970.html\n",
      "The page 124 2 https://www.ptt.cc/bbs/Food/M.1417436779.A.9E7.html\n",
      "The page 124 1 https://www.ptt.cc/bbs/Food/M.1417436976.A.A7E.html\n",
      "The 123 page https://www.ptt.cc/bbs/Food/index3123.html starts:\n"
     ]
    },
    {
     "name": "stderr",
     "output_type": "stream",
     "text": [
      "/anaconda3/lib/python3.7/site-packages/urllib3/connectionpool.py:847: InsecureRequestWarning: Unverified HTTPS request is being made. Adding certificate verification is strongly advised. See: https://urllib3.readthedocs.io/en/latest/advanced-usage.html#ssl-warnings\n",
      "  InsecureRequestWarning)\n"
     ]
    },
    {
     "name": "stdout",
     "output_type": "stream",
     "text": [
      "The page 123 20 https://www.ptt.cc/bbs/Food/M.1417366898.A.458.html\n",
      "The page 123 19 https://www.ptt.cc/bbs/Food/M.1417395377.A.F57.html\n",
      "The page 123 18 https://www.ptt.cc/bbs/Food/M.1417395500.A.578.html\n",
      "The page 123 17 https://www.ptt.cc/bbs/Food/M.1417396252.A.551.html\n",
      "The page 123 16 https://www.ptt.cc/bbs/Food/M.1417397883.A.C9D.html\n",
      "The page 123 15 https://www.ptt.cc/bbs/Food/M.1417400318.A.A84.html\n",
      "The page 123 14 https://www.ptt.cc/bbs/Food/M.1417400530.A.69F.html\n",
      "The page 123 13 https://www.ptt.cc/bbs/Food/M.1417400963.A.BE5.html\n",
      "The page 123 12 https://www.ptt.cc/bbs/Food/M.1417403653.A.900.html\n",
      "The page 123 11 https://www.ptt.cc/bbs/Food/M.1417403777.A.E4E.html\n",
      "The page 123 10 https://www.ptt.cc/bbs/Food/M.1417404049.A.B8D.html\n",
      "The page 123 9 https://www.ptt.cc/bbs/Food/M.1417404195.A.E89.html\n",
      "The page 123 8 https://www.ptt.cc/bbs/Food/M.1417404302.A.64D.html\n",
      "The page 123 7 https://www.ptt.cc/bbs/Food/M.1417407915.A.81B.html\n",
      "The page 123 6 https://www.ptt.cc/bbs/Food/M.1417411202.A.D25.html\n",
      "The page 123 5 https://www.ptt.cc/bbs/Food/M.1417411238.A.21B.html\n",
      "The page 123 4 https://www.ptt.cc/bbs/Food/M.1417411861.A.D86.html\n",
      "The page 123 3 https://www.ptt.cc/bbs/Food/M.1417411939.A.7EA.html\n",
      "The page 123 2 https://www.ptt.cc/bbs/Food/M.1417414247.A.DE8.html\n",
      "The page 123 1 https://www.ptt.cc/bbs/Food/M.1417414273.A.FCE.html\n",
      "The 122 page https://www.ptt.cc/bbs/Food/index3122.html starts:\n"
     ]
    },
    {
     "name": "stderr",
     "output_type": "stream",
     "text": [
      "/anaconda3/lib/python3.7/site-packages/urllib3/connectionpool.py:847: InsecureRequestWarning: Unverified HTTPS request is being made. Adding certificate verification is strongly advised. See: https://urllib3.readthedocs.io/en/latest/advanced-usage.html#ssl-warnings\n",
      "  InsecureRequestWarning)\n"
     ]
    },
    {
     "name": "stdout",
     "output_type": "stream",
     "text": [
      "The page 122 20 https://www.ptt.cc/bbs/Food/M.1417350557.A.439.html\n",
      "The page 122 19 https://www.ptt.cc/bbs/Food/M.1417350592.A.286.html\n",
      "The page 122 18 https://www.ptt.cc/bbs/Food/M.1417350610.A.8B2.html\n",
      "The page 122 17 https://www.ptt.cc/bbs/Food/M.1417351228.A.C3F.html\n",
      "The page 122 16 https://www.ptt.cc/bbs/Food/M.1417352103.A.3E6.html\n",
      "The page 122 15 https://www.ptt.cc/bbs/Food/M.1417352896.A.1D0.html\n",
      "The page 122 14 https://www.ptt.cc/bbs/Food/M.1417354019.A.0EC.html\n",
      "The page 122 13 https://www.ptt.cc/bbs/Food/M.1417354208.A.64C.html\n",
      "The page 122 12 https://www.ptt.cc/bbs/Food/M.1417354609.A.890.html\n",
      "The page 122 11 https://www.ptt.cc/bbs/Food/M.1417355530.A.D68.html\n",
      "The page 122 10 https://www.ptt.cc/bbs/Food/M.1417356427.A.C30.html\n",
      "The page 122 9 https://www.ptt.cc/bbs/Food/M.1417357354.A.68B.html\n",
      "The page 122 8 https://www.ptt.cc/bbs/Food/M.1417357435.A.86C.html\n",
      "The page 122 7 https://www.ptt.cc/bbs/Food/M.1417359230.A.EFE.html\n",
      "The page 122 6 https://www.ptt.cc/bbs/Food/M.1417359631.A.E33.html\n",
      "The page 122 5 https://www.ptt.cc/bbs/Food/M.1417360096.A.D6C.html\n",
      "The page 122 4 https://www.ptt.cc/bbs/Food/M.1417362140.A.BBC.html\n",
      "The page 122 3 https://www.ptt.cc/bbs/Food/M.1417363087.A.47C.html\n",
      "The page 122 2 https://www.ptt.cc/bbs/Food/M.1417363304.A.6BE.html\n",
      "The page 122 1 https://www.ptt.cc/bbs/Food/M.1417365330.A.533.html\n",
      "The 121 page https://www.ptt.cc/bbs/Food/index3121.html starts:\n"
     ]
    },
    {
     "name": "stderr",
     "output_type": "stream",
     "text": [
      "/anaconda3/lib/python3.7/site-packages/urllib3/connectionpool.py:847: InsecureRequestWarning: Unverified HTTPS request is being made. Adding certificate verification is strongly advised. See: https://urllib3.readthedocs.io/en/latest/advanced-usage.html#ssl-warnings\n",
      "  InsecureRequestWarning)\n"
     ]
    },
    {
     "name": "stdout",
     "output_type": "stream",
     "text": [
      "The page 121 20 https://www.ptt.cc/bbs/Food/M.1417322775.A.0B1.html\n",
      "The page 121 19 https://www.ptt.cc/bbs/Food/M.1417324056.A.5D4.html\n",
      "The page 121 18 https://www.ptt.cc/bbs/Food/M.1417325243.A.D26.html\n",
      "The page 121 17 https://www.ptt.cc/bbs/Food/M.1417326200.A.34B.html\n",
      "The page 121 16 https://www.ptt.cc/bbs/Food/M.1417327101.A.EE2.html\n",
      "The page 121 15 https://www.ptt.cc/bbs/Food/M.1417327136.A.C3B.html\n",
      "The page 121 14 https://www.ptt.cc/bbs/Food/M.1417329570.A.216.html\n",
      "The page 121 13 https://www.ptt.cc/bbs/Food/M.1417329621.A.CDF.html\n",
      "The page 121 12 https://www.ptt.cc/bbs/Food/M.1417331306.A.F35.html\n",
      "The page 121 11 https://www.ptt.cc/bbs/Food/M.1417331721.A.A59.html\n",
      "The page 121 10 https://www.ptt.cc/bbs/Food/M.1417336112.A.7C8.html\n",
      "The page 121 9 https://www.ptt.cc/bbs/Food/M.1417342117.A.231.html\n",
      "The page 121 8 https://www.ptt.cc/bbs/Food/M.1417343046.A.756.html\n",
      "The page 121 7 https://www.ptt.cc/bbs/Food/M.1417343603.A.FEF.html\n",
      "The page 121 6 https://www.ptt.cc/bbs/Food/M.1417346477.A.337.html\n",
      "The page 121 5 https://www.ptt.cc/bbs/Food/M.1417347210.A.180.html\n",
      "The page 121 4 https://www.ptt.cc/bbs/Food/M.1417348084.A.33C.html\n",
      "The page 121 3 https://www.ptt.cc/bbs/Food/M.1417348405.A.743.html\n",
      "The page 121 2 https://www.ptt.cc/bbs/Food/M.1417348903.A.827.html\n",
      "The page 121 1 https://www.ptt.cc/bbs/Food/M.1417350002.A.38C.html\n",
      "The 120 page https://www.ptt.cc/bbs/Food/index3120.html starts:\n"
     ]
    },
    {
     "name": "stderr",
     "output_type": "stream",
     "text": [
      "/anaconda3/lib/python3.7/site-packages/urllib3/connectionpool.py:847: InsecureRequestWarning: Unverified HTTPS request is being made. Adding certificate verification is strongly advised. See: https://urllib3.readthedocs.io/en/latest/advanced-usage.html#ssl-warnings\n",
      "  InsecureRequestWarning)\n"
     ]
    },
    {
     "name": "stdout",
     "output_type": "stream",
     "text": [
      "The page 120 20 https://www.ptt.cc/bbs/Food/M.1417273451.A.528.html\n",
      "The page 120 19 https://www.ptt.cc/bbs/Food/M.1417273538.A.474.html\n",
      "The page 120 18 https://www.ptt.cc/bbs/Food/M.1417276427.A.351.html\n",
      "The page 120 17 https://www.ptt.cc/bbs/Food/M.1417278525.A.6F8.html\n",
      "The page 120 16 https://www.ptt.cc/bbs/Food/M.1417279107.A.A58.html\n",
      "The page 120 15 https://www.ptt.cc/bbs/Food/M.1417279759.A.1F7.html\n",
      "The page 120 14 https://www.ptt.cc/bbs/Food/M.1417281006.A.174.html\n",
      "The page 120 13 https://www.ptt.cc/bbs/Food/M.1417281093.A.EFB.html\n",
      "The page 120 12 https://www.ptt.cc/bbs/Food/M.1417283008.A.B1D.html\n",
      "The page 120 11 https://www.ptt.cc/bbs/Food/M.1417283412.A.F19.html\n",
      "The page 120 10 https://www.ptt.cc/bbs/Food/M.1417311325.A.5CA.html\n",
      "The page 120 9 https://www.ptt.cc/bbs/Food/M.1417312008.A.C96.html\n",
      "The page 120 8 https://www.ptt.cc/bbs/Food/M.1417312708.A.325.html\n",
      "The page 120 7 https://www.ptt.cc/bbs/Food/M.1417314542.A.A40.html\n",
      "The page 120 6 https://www.ptt.cc/bbs/Food/M.1417314940.A.E2B.html\n",
      "The page 120 5 https://www.ptt.cc/bbs/Food/M.1417316119.A.553.html\n",
      "The page 120 4 https://www.ptt.cc/bbs/Food/M.1417317278.A.768.html\n",
      "The page 120 3 https://www.ptt.cc/bbs/Food/M.1417318042.A.68E.html\n",
      "The page 120 2 https://www.ptt.cc/bbs/Food/M.1417318589.A.D87.html\n",
      "The page 120 1 https://www.ptt.cc/bbs/Food/M.1417318791.A.903.html\n",
      "The 119 page https://www.ptt.cc/bbs/Food/index3119.html starts:\n"
     ]
    },
    {
     "name": "stderr",
     "output_type": "stream",
     "text": [
      "/anaconda3/lib/python3.7/site-packages/urllib3/connectionpool.py:847: InsecureRequestWarning: Unverified HTTPS request is being made. Adding certificate verification is strongly advised. See: https://urllib3.readthedocs.io/en/latest/advanced-usage.html#ssl-warnings\n",
      "  InsecureRequestWarning)\n"
     ]
    },
    {
     "name": "stdout",
     "output_type": "stream",
     "text": [
      "The page 119 20 https://www.ptt.cc/bbs/Food/M.1417235544.A.D93.html\n",
      "The page 119 19 https://www.ptt.cc/bbs/Food/M.1417235575.A.B49.html\n",
      "The page 119 18 https://www.ptt.cc/bbs/Food/M.1417235958.A.BC3.html\n",
      "The page 119 17 https://www.ptt.cc/bbs/Food/M.1417239642.A.24F.html\n",
      "The page 119 16 https://www.ptt.cc/bbs/Food/M.1417246295.A.6A7.html\n",
      "The page 119 15 https://www.ptt.cc/bbs/Food/M.1417246806.A.AC0.html\n",
      "The page 119 14 https://www.ptt.cc/bbs/Food/M.1417255757.A.82F.html\n",
      "The page 119 13 https://www.ptt.cc/bbs/Food/M.1417256362.A.865.html\n",
      "The page 119 12 https://www.ptt.cc/bbs/Food/M.1417256483.A.FC0.html\n",
      "The page 119 11 https://www.ptt.cc/bbs/Food/M.1417260155.A.BFC.html\n",
      "The page 119 10 https://www.ptt.cc/bbs/Food/M.1417264849.A.B49.html\n",
      "The page 119 9 https://www.ptt.cc/bbs/Food/M.1417265882.A.501.html\n",
      "The page 119 8 https://www.ptt.cc/bbs/Food/M.1417266422.A.E1D.html\n",
      "The page 119 7 https://www.ptt.cc/bbs/Food/M.1417267279.A.3B0.html\n",
      "The page 119 6 https://www.ptt.cc/bbs/Food/M.1417268474.A.55F.html\n",
      "The page 119 5 https://www.ptt.cc/bbs/Food/M.1417269344.A.1C5.html\n",
      "The page 119 4 https://www.ptt.cc/bbs/Food/M.1417270747.A.C10.html\n",
      "The page 119 3 https://www.ptt.cc/bbs/Food/M.1417270879.A.A8D.html\n",
      "The page 119 2 https://www.ptt.cc/bbs/Food/M.1417272158.A.27A.html\n",
      "The page 119 1 https://www.ptt.cc/bbs/Food/M.1417273320.A.B7B.html\n",
      "The 118 page https://www.ptt.cc/bbs/Food/index3118.html starts:\n"
     ]
    },
    {
     "name": "stderr",
     "output_type": "stream",
     "text": [
      "/anaconda3/lib/python3.7/site-packages/urllib3/connectionpool.py:847: InsecureRequestWarning: Unverified HTTPS request is being made. Adding certificate verification is strongly advised. See: https://urllib3.readthedocs.io/en/latest/advanced-usage.html#ssl-warnings\n",
      "  InsecureRequestWarning)\n"
     ]
    },
    {
     "name": "stdout",
     "output_type": "stream",
     "text": [
      "The page 118 20 https://www.ptt.cc/bbs/Food/M.1417190514.A.95E.html\n",
      "The page 118 19 https://www.ptt.cc/bbs/Food/M.1417190780.A.216.html\n",
      "The page 118 18 https://www.ptt.cc/bbs/Food/M.1417190843.A.B8C.html\n",
      "The page 118 17 https://www.ptt.cc/bbs/Food/M.1417191083.A.926.html\n",
      "The page 118 16 https://www.ptt.cc/bbs/Food/M.1417191110.A.01E.html\n",
      "The page 118 15 https://www.ptt.cc/bbs/Food/M.1417191387.A.FE2.html\n",
      "The page 118 14 https://www.ptt.cc/bbs/Food/M.1417191599.A.769.html\n",
      "The page 118 13 https://www.ptt.cc/bbs/Food/M.1417192506.A.6A2.html\n",
      "The page 118 12 https://www.ptt.cc/bbs/Food/M.1417193082.A.307.html\n",
      "The page 118 11 https://www.ptt.cc/bbs/Food/M.1417206538.A.7AF.html\n",
      "The page 118 10 https://www.ptt.cc/bbs/Food/M.1417221982.A.CCD.html\n",
      "The page 118 9 https://www.ptt.cc/bbs/Food/M.1417225978.A.958.html\n",
      "The page 118 8 https://www.ptt.cc/bbs/Food/M.1417227671.A.C64.html\n",
      "The page 118 7 https://www.ptt.cc/bbs/Food/M.1417228134.A.11E.html\n",
      "The page 118 6 https://www.ptt.cc/bbs/Food/M.1417228677.A.235.html\n",
      "The page 118 5 https://www.ptt.cc/bbs/Food/M.1417231227.A.E97.html\n",
      "The page 118 4 https://www.ptt.cc/bbs/Food/M.1417233572.A.A5B.html\n",
      "The page 118 3 https://www.ptt.cc/bbs/Food/M.1417234522.A.F13.html\n",
      "The page 118 2 https://www.ptt.cc/bbs/Food/M.1417235192.A.04D.html\n",
      "The page 118 1 https://www.ptt.cc/bbs/Food/M.1417235293.A.A35.html\n",
      "The 117 page https://www.ptt.cc/bbs/Food/index3117.html starts:\n"
     ]
    },
    {
     "name": "stderr",
     "output_type": "stream",
     "text": [
      "/anaconda3/lib/python3.7/site-packages/urllib3/connectionpool.py:847: InsecureRequestWarning: Unverified HTTPS request is being made. Adding certificate verification is strongly advised. See: https://urllib3.readthedocs.io/en/latest/advanced-usage.html#ssl-warnings\n",
      "  InsecureRequestWarning)\n"
     ]
    },
    {
     "name": "stdout",
     "output_type": "stream",
     "text": [
      "The page 117 20 https://www.ptt.cc/bbs/Food/M.1417176778.A.330.html\n",
      "The page 117 19 https://www.ptt.cc/bbs/Food/M.1417177138.A.D3B.html\n",
      "The page 117 18 https://www.ptt.cc/bbs/Food/M.1417177465.A.F70.html\n",
      "The page 117 17 https://www.ptt.cc/bbs/Food/M.1417177651.A.08D.html\n",
      "The page 117 16 https://www.ptt.cc/bbs/Food/M.1417178638.A.F94.html\n",
      "The page 117 15 https://www.ptt.cc/bbs/Food/M.1417179103.A.39B.html\n",
      "The page 117 14 https://www.ptt.cc/bbs/Food/M.1417179468.A.667.html\n",
      "The page 117 13 https://www.ptt.cc/bbs/Food/M.1417180116.A.374.html\n",
      "The page 117 12 https://www.ptt.cc/bbs/Food/M.1417181321.A.4E8.html\n",
      "The page 117 11 https://www.ptt.cc/bbs/Food/M.1417182723.A.CB5.html\n",
      "The page 117 10 https://www.ptt.cc/bbs/Food/M.1417182999.A.BFD.html\n",
      "The page 117 9 https://www.ptt.cc/bbs/Food/M.1417183063.A.90E.html\n",
      "The page 117 8 https://www.ptt.cc/bbs/Food/M.1417185724.A.DE7.html\n",
      "The page 117 7 https://www.ptt.cc/bbs/Food/M.1417186053.A.834.html\n",
      "The page 117 6 https://www.ptt.cc/bbs/Food/M.1417187030.A.149.html\n",
      "The page 117 5 https://www.ptt.cc/bbs/Food/M.1417188216.A.620.html\n",
      "The page 117 4 https://www.ptt.cc/bbs/Food/M.1417189291.A.FCF.html\n",
      "The page 117 3 https://www.ptt.cc/bbs/Food/M.1417189473.A.BA9.html\n",
      "The page 117 2 https://www.ptt.cc/bbs/Food/M.1417190196.A.79F.html\n",
      "The page 117 1 https://www.ptt.cc/bbs/Food/M.1417190342.A.768.html\n",
      "The 116 page https://www.ptt.cc/bbs/Food/index3116.html starts:\n"
     ]
    },
    {
     "name": "stderr",
     "output_type": "stream",
     "text": [
      "/anaconda3/lib/python3.7/site-packages/urllib3/connectionpool.py:847: InsecureRequestWarning: Unverified HTTPS request is being made. Adding certificate verification is strongly advised. See: https://urllib3.readthedocs.io/en/latest/advanced-usage.html#ssl-warnings\n",
      "  InsecureRequestWarning)\n"
     ]
    },
    {
     "name": "stdout",
     "output_type": "stream",
     "text": [
      "The page 116 20 https://www.ptt.cc/bbs/Food/M.1417146863.A.A08.html\n",
      "The page 116 19 https://www.ptt.cc/bbs/Food/M.1417149789.A.A1A.html\n",
      "The page 116 18 https://www.ptt.cc/bbs/Food/M.1417150892.A.E5C.html\n",
      "The page 116 17 https://www.ptt.cc/bbs/Food/M.1417151825.A.5A8.html\n",
      "The page 116 16 https://www.ptt.cc/bbs/Food/M.1417152539.A.F71.html\n",
      "The page 116 15 https://www.ptt.cc/bbs/Food/M.1417152961.A.350.html\n",
      "The page 116 14 https://www.ptt.cc/bbs/Food/M.1417156005.A.606.html\n",
      "The page 116 13 https://www.ptt.cc/bbs/Food/M.1417156165.A.B6D.html\n",
      "The page 116 12 https://www.ptt.cc/bbs/Food/M.1417159817.A.331.html\n",
      "The page 116 11 https://www.ptt.cc/bbs/Food/M.1417160985.A.2B7.html\n",
      "The page 116 10 https://www.ptt.cc/bbs/Food/M.1417161644.A.31C.html\n",
      "The page 116 9 https://www.ptt.cc/bbs/Food/M.1417164152.A.F13.html\n",
      "The page 116 8 https://www.ptt.cc/bbs/Food/M.1417166899.A.79F.html\n",
      "The page 116 7 https://www.ptt.cc/bbs/Food/M.1417167441.A.F7C.html\n",
      "The page 116 6 https://www.ptt.cc/bbs/Food/M.1417167824.A.1FA.html\n",
      "The page 116 5 https://www.ptt.cc/bbs/Food/M.1417168471.A.BCC.html\n",
      "The page 116 4 https://www.ptt.cc/bbs/Food/M.1417170744.A.1E4.html\n",
      "The page 116 3 https://www.ptt.cc/bbs/Food/M.1417175110.A.668.html\n",
      "The page 116 2 https://www.ptt.cc/bbs/Food/M.1417175828.A.E5C.html\n",
      "The page 116 1 https://www.ptt.cc/bbs/Food/M.1417175900.A.33E.html\n",
      "The 115 page https://www.ptt.cc/bbs/Food/index3115.html starts:\n"
     ]
    },
    {
     "name": "stderr",
     "output_type": "stream",
     "text": [
      "/anaconda3/lib/python3.7/site-packages/urllib3/connectionpool.py:847: InsecureRequestWarning: Unverified HTTPS request is being made. Adding certificate verification is strongly advised. See: https://urllib3.readthedocs.io/en/latest/advanced-usage.html#ssl-warnings\n",
      "  InsecureRequestWarning)\n"
     ]
    },
    {
     "name": "stdout",
     "output_type": "stream",
     "text": [
      "The page 115 20 https://www.ptt.cc/bbs/Food/M.1417100929.A.0C5.html\n",
      "The page 115 19 https://www.ptt.cc/bbs/Food/M.1417101321.A.3E8.html\n",
      "The page 115 18 https://www.ptt.cc/bbs/Food/M.1417101406.A.4EC.html\n",
      "The page 115 17 https://www.ptt.cc/bbs/Food/M.1417101419.A.08D.html\n",
      "The page 115 16 https://www.ptt.cc/bbs/Food/M.1417101559.A.6E6.html\n",
      "The page 115 15 https://www.ptt.cc/bbs/Food/M.1417101735.A.B2A.html\n",
      "The page 115 14 https://www.ptt.cc/bbs/Food/M.1417103002.A.EAF.html\n",
      "The page 115 13 https://www.ptt.cc/bbs/Food/M.1417104325.A.4D8.html\n",
      "The page 115 12 https://www.ptt.cc/bbs/Food/M.1417104710.A.6EB.html\n",
      "The page 115 11 https://www.ptt.cc/bbs/Food/M.1417104790.A.1A9.html\n",
      "The page 115 10 https://www.ptt.cc/bbs/Food/M.1417105809.A.218.html\n",
      "The page 115 9 https://www.ptt.cc/bbs/Food/M.1417105947.A.801.html\n",
      "The page 115 8 https://www.ptt.cc/bbs/Food/M.1417108858.A.570.html\n",
      "The page 115 7 https://www.ptt.cc/bbs/Food/M.1417117264.A.FA3.html\n",
      "The page 115 6 https://www.ptt.cc/bbs/Food/M.1417127696.A.843.html\n",
      "The page 115 5 https://www.ptt.cc/bbs/Food/M.1417140961.A.1BD.html\n",
      "The page 115 4 https://www.ptt.cc/bbs/Food/M.1417141165.A.0E5.html\n",
      "The page 115 3 https://www.ptt.cc/bbs/Food/M.1417143048.A.35A.html\n",
      "The page 115 2 https://www.ptt.cc/bbs/Food/M.1417144700.A.B85.html\n",
      "The page 115 1 https://www.ptt.cc/bbs/Food/M.1417145921.A.439.html\n",
      "The 114 page https://www.ptt.cc/bbs/Food/index3114.html starts:\n"
     ]
    },
    {
     "name": "stderr",
     "output_type": "stream",
     "text": [
      "/anaconda3/lib/python3.7/site-packages/urllib3/connectionpool.py:847: InsecureRequestWarning: Unverified HTTPS request is being made. Adding certificate verification is strongly advised. See: https://urllib3.readthedocs.io/en/latest/advanced-usage.html#ssl-warnings\n",
      "  InsecureRequestWarning)\n"
     ]
    },
    {
     "name": "stdout",
     "output_type": "stream",
     "text": [
      "The page 114 20 https://www.ptt.cc/bbs/Food/M.1417093063.A.89E.html\n",
      "The page 114 19 https://www.ptt.cc/bbs/Food/M.1417093431.A.986.html\n",
      "The page 114 18 https://www.ptt.cc/bbs/Food/M.1417093511.A.BE4.html\n",
      "The page 114 17 https://www.ptt.cc/bbs/Food/M.1417094327.A.5AE.html\n",
      "The page 114 16 https://www.ptt.cc/bbs/Food/M.1417095006.A.08C.html\n",
      "The page 114 15 https://www.ptt.cc/bbs/Food/M.1417095062.A.6FB.html\n",
      "The page 114 14 https://www.ptt.cc/bbs/Food/M.1417095498.A.58C.html\n",
      "The page 114 13 https://www.ptt.cc/bbs/Food/M.1417096356.A.9CD.html\n",
      "The page 114 12 https://www.ptt.cc/bbs/Food/M.1417096857.A.2C5.html\n",
      "The page 114 11 https://www.ptt.cc/bbs/Food/M.1417096927.A.136.html\n",
      "The page 114 10 https://www.ptt.cc/bbs/Food/M.1417097021.A.24F.html\n",
      "The page 114 9 https://www.ptt.cc/bbs/Food/M.1417097130.A.006.html\n",
      "The page 114 8 https://www.ptt.cc/bbs/Food/M.1417097504.A.FAF.html\n",
      "The page 114 7 https://www.ptt.cc/bbs/Food/M.1417098120.A.37F.html\n",
      "The page 114 6 https://www.ptt.cc/bbs/Food/M.1417098678.A.FAD.html\n",
      "The page 114 5 https://www.ptt.cc/bbs/Food/M.1417098844.A.63D.html\n",
      "The page 114 4 https://www.ptt.cc/bbs/Food/M.1417099531.A.4C0.html\n",
      "The page 114 3 https://www.ptt.cc/bbs/Food/M.1417099578.A.786.html\n",
      "The page 114 2 https://www.ptt.cc/bbs/Food/M.1417100129.A.7BF.html\n",
      "The page 114 1 https://www.ptt.cc/bbs/Food/M.1417100349.A.9F1.html\n",
      "The 113 page https://www.ptt.cc/bbs/Food/index3113.html starts:\n"
     ]
    },
    {
     "name": "stderr",
     "output_type": "stream",
     "text": [
      "/anaconda3/lib/python3.7/site-packages/urllib3/connectionpool.py:847: InsecureRequestWarning: Unverified HTTPS request is being made. Adding certificate verification is strongly advised. See: https://urllib3.readthedocs.io/en/latest/advanced-usage.html#ssl-warnings\n",
      "  InsecureRequestWarning)\n"
     ]
    },
    {
     "name": "stdout",
     "output_type": "stream",
     "text": [
      "The page 113 20 https://www.ptt.cc/bbs/Food/M.1417070682.A.4A8.html\n",
      "The page 113 19 https://www.ptt.cc/bbs/Food/M.1417070846.A.A3A.html\n",
      "The page 113 18 https://www.ptt.cc/bbs/Food/M.1417071101.A.460.html\n",
      "The page 113 17 https://www.ptt.cc/bbs/Food/M.1417071496.A.5AF.html\n",
      "The page 113 16 https://www.ptt.cc/bbs/Food/M.1417075460.A.42C.html\n",
      "The page 113 15 https://www.ptt.cc/bbs/Food/M.1417075524.A.E49.html\n",
      "The page 113 14 https://www.ptt.cc/bbs/Food/M.1417075562.A.B5C.html\n",
      "The page 113 13 https://www.ptt.cc/bbs/Food/M.1417075817.A.554.html\n",
      "The page 113 12 https://www.ptt.cc/bbs/Food/M.1417078942.A.543.html\n",
      "The page 113 11 https://www.ptt.cc/bbs/Food/M.1417081880.A.BEB.html\n",
      "The page 113 10 https://www.ptt.cc/bbs/Food/M.1417082556.A.C9C.html\n",
      "The page 113 9 https://www.ptt.cc/bbs/Food/M.1417082695.A.1C6.html\n",
      "The page 113 8 https://www.ptt.cc/bbs/Food/M.1417082799.A.BDD.html\n",
      "The page 113 7 https://www.ptt.cc/bbs/Food/M.1417083516.A.BC9.html\n",
      "The page 113 6 https://www.ptt.cc/bbs/Food/M.1417085363.A.D73.html\n",
      "The page 113 5 https://www.ptt.cc/bbs/Food/M.1417085889.A.4E4.html\n",
      "The page 113 4 https://www.ptt.cc/bbs/Food/M.1417086829.A.989.html\n",
      "The page 113 3 https://www.ptt.cc/bbs/Food/M.1417088998.A.860.html\n",
      "The page 113 2 https://www.ptt.cc/bbs/Food/M.1417092689.A.312.html\n",
      "The page 113 1 https://www.ptt.cc/bbs/Food/M.1417092694.A.787.html\n",
      "The 112 page https://www.ptt.cc/bbs/Food/index3112.html starts:\n"
     ]
    },
    {
     "name": "stderr",
     "output_type": "stream",
     "text": [
      "/anaconda3/lib/python3.7/site-packages/urllib3/connectionpool.py:847: InsecureRequestWarning: Unverified HTTPS request is being made. Adding certificate verification is strongly advised. See: https://urllib3.readthedocs.io/en/latest/advanced-usage.html#ssl-warnings\n",
      "  InsecureRequestWarning)\n"
     ]
    },
    {
     "name": "stdout",
     "output_type": "stream",
     "text": [
      "The page 112 20 https://www.ptt.cc/bbs/Food/M.1417051163.A.B81.html\n",
      "The page 112 19 https://www.ptt.cc/bbs/Food/M.1417051297.A.935.html\n",
      "The page 112 18 https://www.ptt.cc/bbs/Food/M.1417051829.A.3A4.html\n",
      "The page 112 17 https://www.ptt.cc/bbs/Food/M.1417052083.A.ABD.html\n",
      "The page 112 16 https://www.ptt.cc/bbs/Food/M.1417052359.A.27A.html\n",
      "The page 112 15 https://www.ptt.cc/bbs/Food/M.1417053446.A.A49.html\n",
      "The page 112 14 https://www.ptt.cc/bbs/Food/M.1417054085.A.4E7.html\n",
      "The page 112 13 https://www.ptt.cc/bbs/Food/M.1417054452.A.B5B.html\n",
      "The page 112 12 https://www.ptt.cc/bbs/Food/M.1417058488.A.432.html\n",
      "The page 112 11 https://www.ptt.cc/bbs/Food/M.1417058723.A.540.html\n",
      "The page 112 10 https://www.ptt.cc/bbs/Food/M.1417058848.A.7FA.html\n",
      "The page 112 9 https://www.ptt.cc/bbs/Food/M.1417059202.A.F97.html\n",
      "The page 112 8 https://www.ptt.cc/bbs/Food/M.1417059341.A.03E.html\n",
      "The page 112 7 https://www.ptt.cc/bbs/Food/M.1417059876.A.317.html\n",
      "The page 112 6 https://www.ptt.cc/bbs/Food/M.1417059890.A.22E.html\n",
      "The page 112 5 https://www.ptt.cc/bbs/Food/M.1417059994.A.A1C.html\n",
      "The page 112 4 https://www.ptt.cc/bbs/Food/M.1417062396.A.B61.html\n",
      "The page 112 3 https://www.ptt.cc/bbs/Food/M.1417063883.A.EB3.html\n",
      "The page 112 2 https://www.ptt.cc/bbs/Food/M.1417069805.A.951.html\n",
      "The page 112 1 https://www.ptt.cc/bbs/Food/M.1417069995.A.48A.html\n",
      "The 111 page https://www.ptt.cc/bbs/Food/index3111.html starts:\n"
     ]
    },
    {
     "name": "stderr",
     "output_type": "stream",
     "text": [
      "/anaconda3/lib/python3.7/site-packages/urllib3/connectionpool.py:847: InsecureRequestWarning: Unverified HTTPS request is being made. Adding certificate verification is strongly advised. See: https://urllib3.readthedocs.io/en/latest/advanced-usage.html#ssl-warnings\n",
      "  InsecureRequestWarning)\n"
     ]
    },
    {
     "name": "stdout",
     "output_type": "stream",
     "text": [
      "The page 111 20 https://www.ptt.cc/bbs/Food/M.1417009128.A.39D.html\n",
      "The page 111 19 https://www.ptt.cc/bbs/Food/M.1417009241.A.349.html\n",
      "The page 111 18 https://www.ptt.cc/bbs/Food/M.1417009929.A.269.html\n",
      "The page 111 17 https://www.ptt.cc/bbs/Food/M.1417010133.A.777.html\n",
      "The page 111 16 https://www.ptt.cc/bbs/Food/M.1417010817.A.E19.html\n",
      "The page 111 15 https://www.ptt.cc/bbs/Food/M.1417011617.A.FC8.html\n",
      "The page 111 14 https://www.ptt.cc/bbs/Food/M.1417011789.A.D70.html\n",
      "The page 111 13 https://www.ptt.cc/bbs/Food/M.1417012027.A.4EE.html\n",
      "The page 111 12 https://www.ptt.cc/bbs/Food/M.1417012140.A.D1B.html\n",
      "The page 111 11 https://www.ptt.cc/bbs/Food/M.1417013762.A.37D.html\n",
      "The page 111 10 https://www.ptt.cc/bbs/Food/M.1417015462.A.E98.html\n",
      "The page 111 9 https://www.ptt.cc/bbs/Food/M.1417016456.A.6E8.html\n",
      "The page 111 8 https://www.ptt.cc/bbs/Food/M.1417016700.A.C97.html\n",
      "The page 111 7 https://www.ptt.cc/bbs/Food/M.1417017092.A.48F.html\n",
      "The page 111 6 https://www.ptt.cc/bbs/Food/M.1417018391.A.02E.html\n",
      "The page 111 5 https://www.ptt.cc/bbs/Food/M.1417018859.A.352.html\n",
      "The page 111 4 https://www.ptt.cc/bbs/Food/M.1417019512.A.7A8.html\n",
      "The page 111 3 https://www.ptt.cc/bbs/Food/M.1417021941.A.5AE.html\n",
      "The page 111 2 https://www.ptt.cc/bbs/Food/M.1417025816.A.EBF.html\n",
      "The page 111 1 https://www.ptt.cc/bbs/Food/M.1417044287.A.F6A.html\n",
      "The 110 page https://www.ptt.cc/bbs/Food/index3110.html starts:\n"
     ]
    },
    {
     "name": "stderr",
     "output_type": "stream",
     "text": [
      "/anaconda3/lib/python3.7/site-packages/urllib3/connectionpool.py:847: InsecureRequestWarning: Unverified HTTPS request is being made. Adding certificate verification is strongly advised. See: https://urllib3.readthedocs.io/en/latest/advanced-usage.html#ssl-warnings\n",
      "  InsecureRequestWarning)\n"
     ]
    },
    {
     "name": "stdout",
     "output_type": "stream",
     "text": [
      "The page 110 20 https://www.ptt.cc/bbs/Food/M.1416993198.A.822.html\n",
      "The page 110 19 https://www.ptt.cc/bbs/Food/M.1416994397.A.8ED.html\n",
      "The page 110 18 https://www.ptt.cc/bbs/Food/M.1416994675.A.0C7.html\n",
      "The page 110 17 https://www.ptt.cc/bbs/Food/M.1416996219.A.0AC.html\n",
      "The page 110 16 https://www.ptt.cc/bbs/Food/M.1416997532.A.1D8.html\n",
      "The page 110 15 https://www.ptt.cc/bbs/Food/M.1416998307.A.BB9.html\n",
      "The page 110 14 https://www.ptt.cc/bbs/Food/M.1416998757.A.921.html\n",
      "The page 110 13 https://www.ptt.cc/bbs/Food/M.1416999461.A.554.html\n",
      "The page 110 12 https://www.ptt.cc/bbs/Food/M.1417000060.A.9DC.html\n",
      "The page 110 11 https://www.ptt.cc/bbs/Food/M.1417000734.A.70E.html\n",
      "The page 110 10 https://www.ptt.cc/bbs/Food/M.1417001396.A.C0B.html\n",
      "The page 110 9 https://www.ptt.cc/bbs/Food/M.1417001454.A.BAC.html\n",
      "The page 110 8 https://www.ptt.cc/bbs/Food/M.1417001930.A.A43.html\n",
      "The page 110 7 https://www.ptt.cc/bbs/Food/M.1417005053.A.B8F.html\n",
      "The page 110 6 https://www.ptt.cc/bbs/Food/M.1417005373.A.5BC.html\n",
      "The page 110 5 https://www.ptt.cc/bbs/Food/M.1417005922.A.F34.html\n",
      "The page 110 4 https://www.ptt.cc/bbs/Food/M.1417007211.A.292.html\n",
      "The page 110 3 https://www.ptt.cc/bbs/Food/M.1417007872.A.56E.html\n",
      "The page 110 2 https://www.ptt.cc/bbs/Food/M.1417007958.A.2BD.html\n",
      "The page 110 1 https://www.ptt.cc/bbs/Food/M.1417008697.A.EEA.html\n",
      "The 109 page https://www.ptt.cc/bbs/Food/index3109.html starts:\n"
     ]
    },
    {
     "name": "stderr",
     "output_type": "stream",
     "text": [
      "/anaconda3/lib/python3.7/site-packages/urllib3/connectionpool.py:847: InsecureRequestWarning: Unverified HTTPS request is being made. Adding certificate verification is strongly advised. See: https://urllib3.readthedocs.io/en/latest/advanced-usage.html#ssl-warnings\n",
      "  InsecureRequestWarning)\n"
     ]
    },
    {
     "name": "stdout",
     "output_type": "stream",
     "text": [
      "The page 109 20 https://www.ptt.cc/bbs/Food/M.1416964861.A.A1A.html\n",
      "The page 109 19 https://www.ptt.cc/bbs/Food/M.1416969176.A.229.html\n",
      "The page 109 18 https://www.ptt.cc/bbs/Food/M.1416970523.A.6B7.html\n",
      "The page 109 17 https://www.ptt.cc/bbs/Food/M.1416972511.A.620.html\n",
      "The page 109 16 https://www.ptt.cc/bbs/Food/M.1416973054.A.823.html\n",
      "The page 109 15 https://www.ptt.cc/bbs/Food/M.1416973170.A.80E.html\n",
      "The page 109 14 https://www.ptt.cc/bbs/Food/M.1416973772.A.AE3.html\n",
      "The page 109 13 https://www.ptt.cc/bbs/Food/M.1416974490.A.9E6.html\n",
      "The page 109 12 https://www.ptt.cc/bbs/Food/M.1416975522.A.7C7.html\n",
      "The page 109 11 https://www.ptt.cc/bbs/Food/M.1416975663.A.77E.html\n",
      "The page 109 10 https://www.ptt.cc/bbs/Food/M.1416976633.A.45E.html\n",
      "The page 109 9 https://www.ptt.cc/bbs/Food/M.1416977228.A.DD4.html\n",
      "The page 109 8 https://www.ptt.cc/bbs/Food/M.1416977934.A.174.html\n",
      "The page 109 7 https://www.ptt.cc/bbs/Food/M.1416978506.A.BC1.html\n",
      "The page 109 6 https://www.ptt.cc/bbs/Food/M.1416980123.A.F42.html\n",
      "The page 109 5 https://www.ptt.cc/bbs/Food/M.1416981149.A.D85.html\n",
      "The page 109 4 https://www.ptt.cc/bbs/Food/M.1416982695.A.5DA.html\n",
      "The page 109 3 https://www.ptt.cc/bbs/Food/M.1416985154.A.B54.html\n",
      "The page 109 2 https://www.ptt.cc/bbs/Food/M.1416985186.A.BC7.html\n",
      "The page 109 1 https://www.ptt.cc/bbs/Food/M.1416992107.A.315.html\n",
      "The 108 page https://www.ptt.cc/bbs/Food/index3108.html starts:\n"
     ]
    },
    {
     "name": "stderr",
     "output_type": "stream",
     "text": [
      "/anaconda3/lib/python3.7/site-packages/urllib3/connectionpool.py:847: InsecureRequestWarning: Unverified HTTPS request is being made. Adding certificate verification is strongly advised. See: https://urllib3.readthedocs.io/en/latest/advanced-usage.html#ssl-warnings\n",
      "  InsecureRequestWarning)\n"
     ]
    },
    {
     "name": "stdout",
     "output_type": "stream",
     "text": [
      "The page 108 20 https://www.ptt.cc/bbs/Food/M.1416927705.A.AF1.html\n",
      "The page 108 19 https://www.ptt.cc/bbs/Food/M.1416927955.A.0A2.html\n",
      "The page 108 18 https://www.ptt.cc/bbs/Food/M.1416928666.A.A3D.html\n",
      "The page 108 17 https://www.ptt.cc/bbs/Food/M.1416928934.A.7DF.html\n",
      "The page 108 16 https://www.ptt.cc/bbs/Food/M.1416929693.A.293.html\n",
      "The page 108 15 https://www.ptt.cc/bbs/Food/M.1416930737.A.FBB.html\n",
      "The page 108 14 https://www.ptt.cc/bbs/Food/M.1416931786.A.8CC.html\n",
      "The page 108 13 https://www.ptt.cc/bbs/Food/M.1416933007.A.B38.html\n",
      "The page 108 12 https://www.ptt.cc/bbs/Food/M.1416933014.A.12C.html\n",
      "The page 108 11 https://www.ptt.cc/bbs/Food/M.1416934190.A.3A2.html\n",
      "The page 108 10 https://www.ptt.cc/bbs/Food/M.1416934298.A.D4D.html\n",
      "The page 108 9 https://www.ptt.cc/bbs/Food/M.1416935055.A.85F.html\n",
      "The page 108 8 https://www.ptt.cc/bbs/Food/M.1416936422.A.1BB.html\n",
      "The page 108 7 https://www.ptt.cc/bbs/Food/M.1416937831.A.C62.html\n",
      "The page 108 6 https://www.ptt.cc/bbs/Food/M.1416937875.A.2B6.html\n",
      "The page 108 5 https://www.ptt.cc/bbs/Food/M.1416937982.A.386.html\n",
      "The page 108 4 https://www.ptt.cc/bbs/Food/M.1416950034.A.966.html\n",
      "The page 108 3 https://www.ptt.cc/bbs/Food/M.1416956981.A.73E.html\n",
      "The page 108 2 https://www.ptt.cc/bbs/Food/M.1416960380.A.F74.html\n",
      "The page 108 1 https://www.ptt.cc/bbs/Food/M.1416962211.A.5AF.html\n",
      "The 107 page https://www.ptt.cc/bbs/Food/index3107.html starts:\n"
     ]
    },
    {
     "name": "stderr",
     "output_type": "stream",
     "text": [
      "/anaconda3/lib/python3.7/site-packages/urllib3/connectionpool.py:847: InsecureRequestWarning: Unverified HTTPS request is being made. Adding certificate verification is strongly advised. See: https://urllib3.readthedocs.io/en/latest/advanced-usage.html#ssl-warnings\n",
      "  InsecureRequestWarning)\n"
     ]
    },
    {
     "name": "stdout",
     "output_type": "stream",
     "text": [
      "The page 107 20 https://www.ptt.cc/bbs/Food/M.1416920217.A.11C.html\n",
      "The page 107 19 https://www.ptt.cc/bbs/Food/M.1416920564.A.8D8.html\n",
      "The page 107 18 https://www.ptt.cc/bbs/Food/M.1416921774.A.628.html\n",
      "The page 107 17 https://www.ptt.cc/bbs/Food/M.1416921975.A.B87.html\n",
      "The page 107 16 https://www.ptt.cc/bbs/Food/M.1416922525.A.AE4.html\n",
      "The page 107 15 https://www.ptt.cc/bbs/Food/M.1416922909.A.887.html\n",
      "The page 107 14 https://www.ptt.cc/bbs/Food/M.1416923003.A.F21.html\n",
      "The page 107 13 https://www.ptt.cc/bbs/Food/M.1416923030.A.E3F.html\n",
      "The page 107 12 https://www.ptt.cc/bbs/Food/M.1416923420.A.26C.html\n",
      "The page 107 11 https://www.ptt.cc/bbs/Food/M.1416923794.A.117.html\n",
      "The page 107 10 https://www.ptt.cc/bbs/Food/M.1416923918.A.8A7.html\n",
      "The page 107 9 https://www.ptt.cc/bbs/Food/M.1416924784.A.292.html\n",
      "The page 107 8 https://www.ptt.cc/bbs/Food/M.1416924864.A.F83.html\n",
      "The page 107 7 https://www.ptt.cc/bbs/Food/M.1416925227.A.3F8.html\n",
      "The page 107 6 https://www.ptt.cc/bbs/Food/M.1416926004.A.DF6.html\n",
      "The page 107 5 https://www.ptt.cc/bbs/Food/M.1416926614.A.852.html\n",
      "The page 107 4 https://www.ptt.cc/bbs/Food/M.1416926933.A.CE0.html\n",
      "The page 107 3 https://www.ptt.cc/bbs/Food/M.1416927130.A.FB2.html\n",
      "The page 107 2 https://www.ptt.cc/bbs/Food/M.1416927247.A.60C.html\n",
      "The page 107 1 https://www.ptt.cc/bbs/Food/M.1416927455.A.3DA.html\n",
      "The 106 page https://www.ptt.cc/bbs/Food/index3106.html starts:\n"
     ]
    },
    {
     "name": "stderr",
     "output_type": "stream",
     "text": [
      "/anaconda3/lib/python3.7/site-packages/urllib3/connectionpool.py:847: InsecureRequestWarning: Unverified HTTPS request is being made. Adding certificate verification is strongly advised. See: https://urllib3.readthedocs.io/en/latest/advanced-usage.html#ssl-warnings\n",
      "  InsecureRequestWarning)\n"
     ]
    },
    {
     "name": "stdout",
     "output_type": "stream",
     "text": [
      "The page 106 20 https://www.ptt.cc/bbs/Food/M.1416906858.A.CEE.html\n",
      "The page 106 19 https://www.ptt.cc/bbs/Food/M.1416907528.A.F4E.html\n",
      "The page 106 18 https://www.ptt.cc/bbs/Food/M.1416908838.A.FDE.html\n",
      "The page 106 17 https://www.ptt.cc/bbs/Food/M.1416909497.A.08F.html\n",
      "The page 106 16 https://www.ptt.cc/bbs/Food/M.1416911094.A.350.html\n",
      "The page 106 15 https://www.ptt.cc/bbs/Food/M.1416911674.A.0A2.html\n",
      "The page 106 14 https://www.ptt.cc/bbs/Food/M.1416911790.A.B53.html\n",
      "The page 106 13 https://www.ptt.cc/bbs/Food/M.1416912641.A.189.html\n",
      "The page 106 12 https://www.ptt.cc/bbs/Food/M.1416916405.A.777.html\n",
      "The page 106 11 https://www.ptt.cc/bbs/Food/M.1416917301.A.464.html\n",
      "The page 106 10 https://www.ptt.cc/bbs/Food/M.1416917487.A.B99.html\n",
      "The page 106 9 https://www.ptt.cc/bbs/Food/M.1416918235.A.BA5.html\n",
      "The page 106 8 https://www.ptt.cc/bbs/Food/M.1416918417.A.7DA.html\n",
      "The page 106 7 https://www.ptt.cc/bbs/Food/M.1416918582.A.832.html\n",
      "The page 106 6 https://www.ptt.cc/bbs/Food/M.1416918797.A.8AB.html\n",
      "The page 106 5 https://www.ptt.cc/bbs/Food/M.1416919119.A.7C1.html\n",
      "The page 106 4 https://www.ptt.cc/bbs/Food/M.1416919315.A.D9E.html\n",
      "The page 106 3 https://www.ptt.cc/bbs/Food/M.1416919513.A.FC4.html\n",
      "The page 106 2 https://www.ptt.cc/bbs/Food/M.1416919674.A.03F.html\n",
      "The page 106 1 https://www.ptt.cc/bbs/Food/M.1416920037.A.B92.html\n",
      "The 105 page https://www.ptt.cc/bbs/Food/index3105.html starts:\n"
     ]
    },
    {
     "name": "stderr",
     "output_type": "stream",
     "text": [
      "/anaconda3/lib/python3.7/site-packages/urllib3/connectionpool.py:847: InsecureRequestWarning: Unverified HTTPS request is being made. Adding certificate verification is strongly advised. See: https://urllib3.readthedocs.io/en/latest/advanced-usage.html#ssl-warnings\n",
      "  InsecureRequestWarning)\n"
     ]
    },
    {
     "name": "stdout",
     "output_type": "stream",
     "text": [
      "The page 105 20 https://www.ptt.cc/bbs/Food/M.1416878084.A.AFE.html\n",
      "The page 105 19 https://www.ptt.cc/bbs/Food/M.1416881559.A.E0E.html\n",
      "The page 105 18 https://www.ptt.cc/bbs/Food/M.1416883740.A.BF9.html\n",
      "The page 105 17 https://www.ptt.cc/bbs/Food/M.1416884054.A.07E.html\n",
      "The page 105 16 https://www.ptt.cc/bbs/Food/M.1416885126.A.8FB.html\n",
      "The page 105 15 https://www.ptt.cc/bbs/Food/M.1416885339.A.EA4.html\n",
      "The page 105 14 https://www.ptt.cc/bbs/Food/M.1416887532.A.B2E.html\n",
      "The page 105 13 https://www.ptt.cc/bbs/Food/M.1416889494.A.D92.html\n",
      "The page 105 12 https://www.ptt.cc/bbs/Food/M.1416889739.A.35E.html\n",
      "The page 105 11 https://www.ptt.cc/bbs/Food/M.1416890060.A.329.html\n",
      "The page 105 10 https://www.ptt.cc/bbs/Food/M.1416890574.A.3DA.html\n",
      "The page 105 9 https://www.ptt.cc/bbs/Food/M.1416892205.A.7E9.html\n",
      "The page 105 8 https://www.ptt.cc/bbs/Food/M.1416893546.A.7BD.html\n",
      "The page 105 7 https://www.ptt.cc/bbs/Food/M.1416896235.A.98E.html\n",
      "The page 105 6 https://www.ptt.cc/bbs/Food/M.1416899708.A.77C.html\n",
      "The page 105 5 https://www.ptt.cc/bbs/Food/M.1416901063.A.4A5.html\n",
      "The page 105 4 https://www.ptt.cc/bbs/Food/M.1416902608.A.C04.html\n",
      "The page 105 3 https://www.ptt.cc/bbs/Food/M.1416905148.A.300.html\n",
      "The page 105 2 https://www.ptt.cc/bbs/Food/M.1416905703.A.237.html\n",
      "The page 105 1 https://www.ptt.cc/bbs/Food/M.1416906371.A.EF5.html\n",
      "The 104 page https://www.ptt.cc/bbs/Food/index3104.html starts:\n"
     ]
    },
    {
     "name": "stderr",
     "output_type": "stream",
     "text": [
      "/anaconda3/lib/python3.7/site-packages/urllib3/connectionpool.py:847: InsecureRequestWarning: Unverified HTTPS request is being made. Adding certificate verification is strongly advised. See: https://urllib3.readthedocs.io/en/latest/advanced-usage.html#ssl-warnings\n",
      "  InsecureRequestWarning)\n"
     ]
    },
    {
     "name": "stdout",
     "output_type": "stream",
     "text": [
      "The page 104 20 https://www.ptt.cc/bbs/Food/M.1416843147.A.891.html\n",
      "The page 104 19 https://www.ptt.cc/bbs/Food/M.1416843393.A.98D.html\n",
      "The page 104 18 https://www.ptt.cc/bbs/Food/M.1416843410.A.EA5.html\n",
      "The page 104 17 https://www.ptt.cc/bbs/Food/M.1416843540.A.3FB.html\n",
      "The page 104 16 https://www.ptt.cc/bbs/Food/M.1416843643.A.582.html\n",
      "The page 104 15 https://www.ptt.cc/bbs/Food/M.1416845826.A.A25.html\n",
      "The page 104 14 https://www.ptt.cc/bbs/Food/M.1416846227.A.E7A.html\n",
      "The page 104 13 https://www.ptt.cc/bbs/Food/M.1416846474.A.153.html\n",
      "The page 104 12 https://www.ptt.cc/bbs/Food/M.1416846853.A.F5F.html\n",
      "The page 104 11 https://www.ptt.cc/bbs/Food/M.1416847518.A.C1F.html\n",
      "The page 104 10 https://www.ptt.cc/bbs/Food/M.1416847738.A.4C6.html\n",
      "The page 104 9 https://www.ptt.cc/bbs/Food/M.1416849764.A.B9D.html\n",
      "The page 104 8 https://www.ptt.cc/bbs/Food/M.1416851611.A.A27.html\n",
      "The page 104 7 https://www.ptt.cc/bbs/Food/M.1416853511.A.510.html\n",
      "The page 104 6 https://www.ptt.cc/bbs/Food/M.1416870011.A.85A.html\n",
      "The page 104 5 https://www.ptt.cc/bbs/Food/M.1416872401.A.D4C.html\n",
      "The page 104 4 https://www.ptt.cc/bbs/Food/M.1416873735.A.8EB.html\n",
      "The page 104 3 https://www.ptt.cc/bbs/Food/M.1416874611.A.D3B.html\n",
      "The page 104 2 https://www.ptt.cc/bbs/Food/M.1416875067.A.012.html\n",
      "The page 104 1 https://www.ptt.cc/bbs/Food/M.1416875375.A.BDD.html\n",
      "The 103 page https://www.ptt.cc/bbs/Food/index3103.html starts:\n"
     ]
    },
    {
     "name": "stderr",
     "output_type": "stream",
     "text": [
      "/anaconda3/lib/python3.7/site-packages/urllib3/connectionpool.py:847: InsecureRequestWarning: Unverified HTTPS request is being made. Adding certificate verification is strongly advised. See: https://urllib3.readthedocs.io/en/latest/advanced-usage.html#ssl-warnings\n",
      "  InsecureRequestWarning)\n"
     ]
    },
    {
     "name": "stdout",
     "output_type": "stream",
     "text": [
      "The page 103 20 https://www.ptt.cc/bbs/Food/M.1416836564.A.711.html\n",
      "The page 103 19 https://www.ptt.cc/bbs/Food/M.1416836770.A.899.html\n",
      "The page 103 18 https://www.ptt.cc/bbs/Food/M.1416837283.A.114.html\n",
      "The page 103 17 https://www.ptt.cc/bbs/Food/M.1416837326.A.F9F.html\n",
      "The page 103 16 https://www.ptt.cc/bbs/Food/M.1416837812.A.B56.html\n",
      "The page 103 15 https://www.ptt.cc/bbs/Food/M.1416838664.A.975.html\n",
      "The page 103 14 https://www.ptt.cc/bbs/Food/M.1416838873.A.DAF.html\n",
      "The page 103 13 https://www.ptt.cc/bbs/Food/M.1416839227.A.F04.html\n",
      "The page 103 12 https://www.ptt.cc/bbs/Food/M.1416839405.A.28A.html\n",
      "The page 103 11 https://www.ptt.cc/bbs/Food/M.1416840024.A.81E.html\n",
      "The page 103 10 https://www.ptt.cc/bbs/Food/M.1416840344.A.5BF.html\n",
      "The page 103 9 https://www.ptt.cc/bbs/Food/M.1416840573.A.F3A.html\n",
      "The page 103 8 https://www.ptt.cc/bbs/Food/M.1416840700.A.BC0.html\n",
      "The page 103 7 https://www.ptt.cc/bbs/Food/M.1416841215.A.E5E.html\n",
      "The page 103 6 https://www.ptt.cc/bbs/Food/M.1416841680.A.824.html\n",
      "The page 103 5 https://www.ptt.cc/bbs/Food/M.1416841728.A.D21.html\n",
      "The page 103 4 https://www.ptt.cc/bbs/Food/M.1416841761.A.A5C.html\n",
      "The page 103 3 https://www.ptt.cc/bbs/Food/M.1416843039.A.B40.html\n",
      "The page 103 2 https://www.ptt.cc/bbs/Food/M.1416843086.A.135.html\n",
      "The page 103 1 https://www.ptt.cc/bbs/Food/M.1416843142.A.21A.html\n",
      "The 102 page https://www.ptt.cc/bbs/Food/index3102.html starts:\n"
     ]
    },
    {
     "name": "stderr",
     "output_type": "stream",
     "text": [
      "/anaconda3/lib/python3.7/site-packages/urllib3/connectionpool.py:847: InsecureRequestWarning: Unverified HTTPS request is being made. Adding certificate verification is strongly advised. See: https://urllib3.readthedocs.io/en/latest/advanced-usage.html#ssl-warnings\n",
      "  InsecureRequestWarning)\n"
     ]
    },
    {
     "name": "stdout",
     "output_type": "stream",
     "text": [
      "The page 102 20 https://www.ptt.cc/bbs/Food/M.1416823315.A.834.html\n",
      "The page 102 19 https://www.ptt.cc/bbs/Food/M.1416825190.A.97E.html\n",
      "The page 102 18 https://www.ptt.cc/bbs/Food/M.1416825268.A.375.html\n",
      "The page 102 17 https://www.ptt.cc/bbs/Food/M.1416826335.A.422.html\n",
      "The page 102 16 https://www.ptt.cc/bbs/Food/M.1416826399.A.18F.html\n",
      "The page 102 15 https://www.ptt.cc/bbs/Food/M.1416828244.A.AEA.html\n",
      "The page 102 14 https://www.ptt.cc/bbs/Food/M.1416828958.A.808.html\n",
      "The page 102 13 https://www.ptt.cc/bbs/Food/M.1416829177.A.948.html\n",
      "The page 102 12 https://www.ptt.cc/bbs/Food/M.1416829239.A.7DC.html\n",
      "The page 102 11 https://www.ptt.cc/bbs/Food/M.1416829449.A.771.html\n",
      "The page 102 10 https://www.ptt.cc/bbs/Food/M.1416829510.A.815.html\n",
      "The page 102 9 https://www.ptt.cc/bbs/Food/M.1416831995.A.C24.html\n",
      "The page 102 8 https://www.ptt.cc/bbs/Food/M.1416833801.A.DE3.html\n",
      "The page 102 7 https://www.ptt.cc/bbs/Food/M.1416834003.A.011.html\n",
      "The page 102 6 https://www.ptt.cc/bbs/Food/M.1416834627.A.E6C.html\n",
      "The page 102 5 https://www.ptt.cc/bbs/Food/M.1416834909.A.238.html\n",
      "The page 102 4 https://www.ptt.cc/bbs/Food/M.1416835141.A.B46.html\n",
      "The page 102 3 https://www.ptt.cc/bbs/Food/M.1416836062.A.930.html\n",
      "The page 102 2 https://www.ptt.cc/bbs/Food/M.1416836403.A.880.html\n",
      "The page 102 1 https://www.ptt.cc/bbs/Food/M.1416836466.A.4EC.html\n",
      "The 101 page https://www.ptt.cc/bbs/Food/index3101.html starts:\n"
     ]
    },
    {
     "name": "stderr",
     "output_type": "stream",
     "text": [
      "/anaconda3/lib/python3.7/site-packages/urllib3/connectionpool.py:847: InsecureRequestWarning: Unverified HTTPS request is being made. Adding certificate verification is strongly advised. See: https://urllib3.readthedocs.io/en/latest/advanced-usage.html#ssl-warnings\n",
      "  InsecureRequestWarning)\n"
     ]
    },
    {
     "name": "stdout",
     "output_type": "stream",
     "text": [
      "The page 101 20 https://www.ptt.cc/bbs/Food/M.1416802440.A.3D1.html\n",
      "The page 101 19 https://www.ptt.cc/bbs/Food/M.1416802537.A.361.html\n",
      "The page 101 18 https://www.ptt.cc/bbs/Food/M.1416802698.A.B62.html\n",
      "The page 101 17 https://www.ptt.cc/bbs/Food/M.1416805194.A.E90.html\n",
      "The page 101 16 https://www.ptt.cc/bbs/Food/M.1416806628.A.D9B.html\n",
      "The page 101 15 https://www.ptt.cc/bbs/Food/M.1416809063.A.889.html\n",
      "The page 101 14 https://www.ptt.cc/bbs/Food/M.1416811023.A.B95.html\n",
      "The page 101 13 https://www.ptt.cc/bbs/Food/M.1416813298.A.366.html\n",
      "The page 101 12 https://www.ptt.cc/bbs/Food/M.1416813605.A.DB4.html\n",
      "The page 101 11 https://www.ptt.cc/bbs/Food/M.1416813876.A.327.html\n",
      "The page 101 10 https://www.ptt.cc/bbs/Food/M.1416813937.A.0FC.html\n",
      "The page 101 9 https://www.ptt.cc/bbs/Food/M.1416814007.A.BF3.html\n",
      "The page 101 8 https://www.ptt.cc/bbs/Food/M.1416814875.A.165.html\n",
      "The page 101 7 https://www.ptt.cc/bbs/Food/M.1416816090.A.F44.html\n",
      "The page 101 6 https://www.ptt.cc/bbs/Food/M.1416816166.A.1BD.html\n",
      "The page 101 5 https://www.ptt.cc/bbs/Food/M.1416816639.A.1D8.html\n",
      "The page 101 4 https://www.ptt.cc/bbs/Food/M.1416817368.A.AA7.html\n",
      "The page 101 3 https://www.ptt.cc/bbs/Food/M.1416818862.A.004.html\n",
      "The page 101 2 https://www.ptt.cc/bbs/Food/M.1416821422.A.0E5.html\n",
      "The page 101 1 https://www.ptt.cc/bbs/Food/M.1416822674.A.032.html\n",
      "The 100 page https://www.ptt.cc/bbs/Food/index3100.html starts:\n"
     ]
    },
    {
     "name": "stderr",
     "output_type": "stream",
     "text": [
      "/anaconda3/lib/python3.7/site-packages/urllib3/connectionpool.py:847: InsecureRequestWarning: Unverified HTTPS request is being made. Adding certificate verification is strongly advised. See: https://urllib3.readthedocs.io/en/latest/advanced-usage.html#ssl-warnings\n",
      "  InsecureRequestWarning)\n"
     ]
    },
    {
     "name": "stdout",
     "output_type": "stream",
     "text": [
      "The page 100 20 https://www.ptt.cc/bbs/Food/M.1416754809.A.4A6.html\n",
      "The page 100 19 https://www.ptt.cc/bbs/Food/M.1416755356.A.72B.html\n",
      "The page 100 18 https://www.ptt.cc/bbs/Food/M.1416756172.A.E30.html\n",
      "The page 100 17 https://www.ptt.cc/bbs/Food/M.1416756237.A.710.html\n",
      "The page 100 16 https://www.ptt.cc/bbs/Food/M.1416756400.A.DA5.html\n",
      "The page 100 15 https://www.ptt.cc/bbs/Food/M.1416756722.A.C88.html\n",
      "The page 100 14 https://www.ptt.cc/bbs/Food/M.1416758269.A.902.html\n",
      "The page 100 13 https://www.ptt.cc/bbs/Food/M.1416760172.A.634.html\n",
      "The page 100 12 https://www.ptt.cc/bbs/Food/M.1416762244.A.12E.html\n",
      "The page 100 11 https://www.ptt.cc/bbs/Food/M.1416764029.A.C09.html\n",
      "The page 100 10 https://www.ptt.cc/bbs/Food/M.1416764452.A.D45.html\n",
      "The page 100 9 https://www.ptt.cc/bbs/Food/M.1416789386.A.761.html\n",
      "The page 100 8 https://www.ptt.cc/bbs/Food/M.1416791236.A.5DA.html\n",
      "The page 100 7 https://www.ptt.cc/bbs/Food/M.1416792871.A.C37.html\n",
      "The page 100 6 https://www.ptt.cc/bbs/Food/M.1416793376.A.73D.html\n",
      "The page 100 5 https://www.ptt.cc/bbs/Food/M.1416794796.A.181.html\n",
      "The page 100 4 https://www.ptt.cc/bbs/Food/M.1416796852.A.41E.html\n",
      "The page 100 3 https://www.ptt.cc/bbs/Food/M.1416797156.A.B5A.html\n",
      "The page 100 2 https://www.ptt.cc/bbs/Food/M.1416798523.A.B2A.html\n",
      "The page 100 1 https://www.ptt.cc/bbs/Food/M.1416798970.A.5DD.html\n",
      "The 99 page https://www.ptt.cc/bbs/Food/index3099.html starts:\n"
     ]
    },
    {
     "name": "stderr",
     "output_type": "stream",
     "text": [
      "/anaconda3/lib/python3.7/site-packages/urllib3/connectionpool.py:847: InsecureRequestWarning: Unverified HTTPS request is being made. Adding certificate verification is strongly advised. See: https://urllib3.readthedocs.io/en/latest/advanced-usage.html#ssl-warnings\n",
      "  InsecureRequestWarning)\n"
     ]
    },
    {
     "name": "stdout",
     "output_type": "stream",
     "text": [
      "The page 99 20 https://www.ptt.cc/bbs/Food/M.1416747894.A.F6E.html\n",
      "The page 99 19 https://www.ptt.cc/bbs/Food/M.1416747921.A.5FF.html\n",
      "The page 99 18 https://www.ptt.cc/bbs/Food/M.1416747959.A.932.html\n",
      "The page 99 17 https://www.ptt.cc/bbs/Food/M.1416748105.A.A55.html\n",
      "The page 99 16 https://www.ptt.cc/bbs/Food/M.1416748304.A.380.html\n",
      "The page 99 15 https://www.ptt.cc/bbs/Food/M.1416748385.A.7A9.html\n",
      "The page 99 14 https://www.ptt.cc/bbs/Food/M.1416748616.A.52C.html\n",
      "The page 99 13 https://www.ptt.cc/bbs/Food/M.1416749090.A.4CD.html\n",
      "The page 99 12 https://www.ptt.cc/bbs/Food/M.1416749348.A.8A2.html\n",
      "The page 99 11 https://www.ptt.cc/bbs/Food/M.1416749360.A.960.html\n",
      "The page 99 10 https://www.ptt.cc/bbs/Food/M.1416749465.A.16A.html\n",
      "The page 99 9 https://www.ptt.cc/bbs/Food/M.1416749501.A.FE8.html\n",
      "The page 99 8 https://www.ptt.cc/bbs/Food/M.1416749528.A.B33.html\n",
      "The page 99 7 https://www.ptt.cc/bbs/Food/M.1416750451.A.244.html\n",
      "The page 99 6 https://www.ptt.cc/bbs/Food/M.1416751767.A.77C.html\n",
      "The page 99 5 https://www.ptt.cc/bbs/Food/M.1416752678.A.B15.html\n",
      "The page 99 4 https://www.ptt.cc/bbs/Food/M.1416752690.A.7A9.html\n",
      "The page 99 3 https://www.ptt.cc/bbs/Food/M.1416752741.A.154.html\n",
      "The page 99 2 https://www.ptt.cc/bbs/Food/M.1416754272.A.86C.html\n",
      "The page 99 1 https://www.ptt.cc/bbs/Food/M.1416754586.A.F36.html\n",
      "The 98 page https://www.ptt.cc/bbs/Food/index3098.html starts:\n"
     ]
    },
    {
     "name": "stderr",
     "output_type": "stream",
     "text": [
      "/anaconda3/lib/python3.7/site-packages/urllib3/connectionpool.py:847: InsecureRequestWarning: Unverified HTTPS request is being made. Adding certificate verification is strongly advised. See: https://urllib3.readthedocs.io/en/latest/advanced-usage.html#ssl-warnings\n",
      "  InsecureRequestWarning)\n"
     ]
    },
    {
     "name": "stdout",
     "output_type": "stream",
     "text": [
      "The page 98 20 https://www.ptt.cc/bbs/Food/M.1416727106.A.E99.html\n",
      "The page 98 19 https://www.ptt.cc/bbs/Food/M.1416727348.A.1A6.html\n",
      "The page 98 18 https://www.ptt.cc/bbs/Food/M.1416727460.A.DBD.html\n",
      "The page 98 17 https://www.ptt.cc/bbs/Food/M.1416729058.A.F5E.html\n",
      "The page 98 16 https://www.ptt.cc/bbs/Food/M.1416729192.A.B1B.html\n",
      "The page 98 15 https://www.ptt.cc/bbs/Food/M.1416730985.A.65C.html\n",
      "The page 98 14 https://www.ptt.cc/bbs/Food/M.1416733119.A.403.html\n",
      "The page 98 13 https://www.ptt.cc/bbs/Food/M.1416735894.A.8B5.html\n",
      "The page 98 12 https://www.ptt.cc/bbs/Food/M.1416736175.A.3EB.html\n",
      "The page 98 11 https://www.ptt.cc/bbs/Food/M.1416736442.A.5E2.html\n",
      "The page 98 10 https://www.ptt.cc/bbs/Food/M.1416737105.A.3FD.html\n",
      "The page 98 9 https://www.ptt.cc/bbs/Food/M.1416738989.A.39E.html\n",
      "The page 98 8 https://www.ptt.cc/bbs/Food/M.1416739537.A.584.html\n",
      "The page 98 7 https://www.ptt.cc/bbs/Food/M.1416740511.A.0F5.html\n",
      "The page 98 6 https://www.ptt.cc/bbs/Food/M.1416741783.A.38D.html\n",
      "The page 98 5 https://www.ptt.cc/bbs/Food/M.1416741950.A.20C.html\n",
      "The page 98 4 https://www.ptt.cc/bbs/Food/M.1416742429.A.607.html\n",
      "The page 98 3 https://www.ptt.cc/bbs/Food/M.1416742785.A.75F.html\n",
      "The page 98 2 https://www.ptt.cc/bbs/Food/M.1416744003.A.7D7.html\n",
      "The page 98 1 https://www.ptt.cc/bbs/Food/M.1416747826.A.CE6.html\n",
      "The 97 page https://www.ptt.cc/bbs/Food/index3097.html starts:\n"
     ]
    },
    {
     "name": "stderr",
     "output_type": "stream",
     "text": [
      "/anaconda3/lib/python3.7/site-packages/urllib3/connectionpool.py:847: InsecureRequestWarning: Unverified HTTPS request is being made. Adding certificate verification is strongly advised. See: https://urllib3.readthedocs.io/en/latest/advanced-usage.html#ssl-warnings\n",
      "  InsecureRequestWarning)\n"
     ]
    },
    {
     "name": "stdout",
     "output_type": "stream",
     "text": [
      "The page 97 20 https://www.ptt.cc/bbs/Food/M.1416669112.A.735.html\n",
      "The page 97 19 https://www.ptt.cc/bbs/Food/M.1416669364.A.436.html\n",
      "The page 97 18 https://www.ptt.cc/bbs/Food/M.1416669983.A.C10.html\n",
      "The page 97 17 https://www.ptt.cc/bbs/Food/M.1416672788.A.8EA.html\n",
      "The page 97 16 https://www.ptt.cc/bbs/Food/M.1416676430.A.83B.html\n",
      "The page 97 15 https://www.ptt.cc/bbs/Food/M.1416677264.A.01A.html\n",
      "The page 97 14 https://www.ptt.cc/bbs/Food/M.1416677985.A.E69.html\n",
      "The page 97 13 https://www.ptt.cc/bbs/Food/M.1416681617.A.2B1.html\n",
      "The page 97 12 https://www.ptt.cc/bbs/Food/M.1416688780.A.E80.html\n",
      "The page 97 11 https://www.ptt.cc/bbs/Food/M.1416696912.A.A34.html\n",
      "The page 97 10 https://www.ptt.cc/bbs/Food/M.1416702465.A.C0B.html\n",
      "The page 97 9 https://www.ptt.cc/bbs/Food/M.1416703105.A.B76.html\n",
      "The page 97 8 https://www.ptt.cc/bbs/Food/M.1416704741.A.725.html\n",
      "The page 97 7 https://www.ptt.cc/bbs/Food/M.1416711523.A.89C.html\n",
      "The page 97 6 https://www.ptt.cc/bbs/Food/M.1416711809.A.B14.html\n",
      "The page 97 5 https://www.ptt.cc/bbs/Food/M.1416712087.A.B2E.html\n",
      "The page 97 4 https://www.ptt.cc/bbs/Food/M.1416718516.A.E6B.html\n",
      "The page 97 3 https://www.ptt.cc/bbs/Food/M.1416724630.A.F51.html\n",
      "The page 97 2 https://www.ptt.cc/bbs/Food/M.1416725942.A.36A.html\n",
      "The page 97 1 https://www.ptt.cc/bbs/Food/M.1416726701.A.938.html\n",
      "The 96 page https://www.ptt.cc/bbs/Food/index3096.html starts:\n"
     ]
    },
    {
     "name": "stderr",
     "output_type": "stream",
     "text": [
      "/anaconda3/lib/python3.7/site-packages/urllib3/connectionpool.py:847: InsecureRequestWarning: Unverified HTTPS request is being made. Adding certificate verification is strongly advised. See: https://urllib3.readthedocs.io/en/latest/advanced-usage.html#ssl-warnings\n",
      "  InsecureRequestWarning)\n"
     ]
    },
    {
     "name": "stdout",
     "output_type": "stream",
     "text": [
      "The page 96 20 https://www.ptt.cc/bbs/Food/M.1416653401.A.2C3.html\n",
      "The page 96 19 https://www.ptt.cc/bbs/Food/M.1416655976.A.139.html\n",
      "The page 96 18 https://www.ptt.cc/bbs/Food/M.1416659271.A.29B.html\n",
      "The page 96 17 https://www.ptt.cc/bbs/Food/M.1416660026.A.E7C.html\n",
      "The page 96 16 https://www.ptt.cc/bbs/Food/M.1416661532.A.828.html\n",
      "The page 96 15 https://www.ptt.cc/bbs/Food/M.1416661536.A.587.html\n",
      "The page 96 14 https://www.ptt.cc/bbs/Food/M.1416663025.A.A17.html\n",
      "The page 96 13 https://www.ptt.cc/bbs/Food/M.1416663068.A.321.html\n",
      "The page 96 12 https://www.ptt.cc/bbs/Food/M.1416663134.A.95F.html\n",
      "The page 96 11 https://www.ptt.cc/bbs/Food/M.1416664221.A.03F.html\n",
      "The page 96 10 https://www.ptt.cc/bbs/Food/M.1416664810.A.B70.html\n",
      "The page 96 9 https://www.ptt.cc/bbs/Food/M.1416665350.A.0CA.html\n",
      "The page 96 8 https://www.ptt.cc/bbs/Food/M.1416666301.A.814.html\n",
      "The page 96 7 https://www.ptt.cc/bbs/Food/M.1416666595.A.C98.html\n",
      "The page 96 6 https://www.ptt.cc/bbs/Food/M.1416667207.A.F6E.html\n",
      "The page 96 5 https://www.ptt.cc/bbs/Food/M.1416667876.A.0F6.html\n",
      "The page 96 4 https://www.ptt.cc/bbs/Food/M.1416667876.A.8AE.html\n",
      "The page 96 3 https://www.ptt.cc/bbs/Food/M.1416668021.A.B2F.html\n",
      "The page 96 2 https://www.ptt.cc/bbs/Food/M.1416668228.A.FED.html\n",
      "The page 96 1 https://www.ptt.cc/bbs/Food/M.1416668235.A.8E8.html\n",
      "The 95 page https://www.ptt.cc/bbs/Food/index3095.html starts:\n"
     ]
    },
    {
     "name": "stderr",
     "output_type": "stream",
     "text": [
      "/anaconda3/lib/python3.7/site-packages/urllib3/connectionpool.py:847: InsecureRequestWarning: Unverified HTTPS request is being made. Adding certificate verification is strongly advised. See: https://urllib3.readthedocs.io/en/latest/advanced-usage.html#ssl-warnings\n",
      "  InsecureRequestWarning)\n"
     ]
    },
    {
     "name": "stdout",
     "output_type": "stream",
     "text": [
      "The page 95 20 https://www.ptt.cc/bbs/Food/M.1416587406.A.3F7.html\n",
      "The page 95 19 https://www.ptt.cc/bbs/Food/M.1416590974.A.AC9.html\n",
      "The page 95 18 https://www.ptt.cc/bbs/Food/M.1416593561.A.08E.html\n",
      "The page 95 17 https://www.ptt.cc/bbs/Food/M.1416618614.A.127.html\n",
      "The page 95 16 https://www.ptt.cc/bbs/Food/M.1416619584.A.A8F.html\n",
      "The page 95 15 https://www.ptt.cc/bbs/Food/M.1416619623.A.622.html\n",
      "The page 95 14 https://www.ptt.cc/bbs/Food/M.1416620454.A.E5B.html\n",
      "The page 95 13 https://www.ptt.cc/bbs/Food/M.1416620726.A.C51.html\n",
      "The page 95 12 https://www.ptt.cc/bbs/Food/M.1416622701.A.AAB.html\n",
      "The page 95 11 https://www.ptt.cc/bbs/Food/M.1416627032.A.FAB.html\n",
      "The page 95 10 https://www.ptt.cc/bbs/Food/M.1416631133.A.65A.html\n",
      "The page 95 9 https://www.ptt.cc/bbs/Food/M.1416631283.A.3E6.html\n",
      "The page 95 8 https://www.ptt.cc/bbs/Food/M.1416635362.A.BBD.html\n",
      "The page 95 7 https://www.ptt.cc/bbs/Food/M.1416637205.A.6E2.html\n",
      "The page 95 6 https://www.ptt.cc/bbs/Food/M.1416638731.A.7FE.html\n",
      "The page 95 5 https://www.ptt.cc/bbs/Food/M.1416638975.A.5EC.html\n",
      "The page 95 4 https://www.ptt.cc/bbs/Food/M.1416640223.A.2C6.html\n",
      "The page 95 3 https://www.ptt.cc/bbs/Food/M.1416648722.A.8A6.html\n",
      "The page 95 2 https://www.ptt.cc/bbs/Food/M.1416650378.A.AA7.html\n",
      "The page 95 1 https://www.ptt.cc/bbs/Food/M.1416651077.A.55B.html\n",
      "The 94 page https://www.ptt.cc/bbs/Food/index3094.html starts:\n"
     ]
    },
    {
     "name": "stderr",
     "output_type": "stream",
     "text": [
      "/anaconda3/lib/python3.7/site-packages/urllib3/connectionpool.py:847: InsecureRequestWarning: Unverified HTTPS request is being made. Adding certificate verification is strongly advised. See: https://urllib3.readthedocs.io/en/latest/advanced-usage.html#ssl-warnings\n",
      "  InsecureRequestWarning)\n"
     ]
    },
    {
     "name": "stdout",
     "output_type": "stream",
     "text": [
      "The page 94 20 https://www.ptt.cc/bbs/Food/M.1416577632.A.FD9.html\n",
      "The page 94 19 https://www.ptt.cc/bbs/Food/M.1416578094.A.308.html\n",
      "The page 94 18 https://www.ptt.cc/bbs/Food/M.1416578450.A.D28.html\n",
      "The page 94 17 https://www.ptt.cc/bbs/Food/M.1416578864.A.A16.html\n",
      "The page 94 16 https://www.ptt.cc/bbs/Food/M.1416578996.A.2AB.html\n",
      "The page 94 15 https://www.ptt.cc/bbs/Food/M.1416579046.A.993.html\n",
      "The page 94 14 https://www.ptt.cc/bbs/Food/M.1416579195.A.013.html\n",
      "The page 94 13 https://www.ptt.cc/bbs/Food/M.1416579216.A.2FC.html\n",
      "The page 94 12 https://www.ptt.cc/bbs/Food/M.1416579516.A.617.html\n",
      "The page 94 11 https://www.ptt.cc/bbs/Food/M.1416580030.A.00A.html\n",
      "The page 94 10 https://www.ptt.cc/bbs/Food/M.1416580223.A.7EA.html\n",
      "The page 94 9 https://www.ptt.cc/bbs/Food/M.1416580536.A.37B.html\n",
      "The page 94 8 https://www.ptt.cc/bbs/Food/M.1416581075.A.9FD.html\n",
      "The page 94 7 https://www.ptt.cc/bbs/Food/M.1416581448.A.9BF.html\n",
      "The page 94 6 https://www.ptt.cc/bbs/Food/M.1416581960.A.CE3.html\n",
      "The page 94 5 https://www.ptt.cc/bbs/Food/M.1416582148.A.EDA.html\n",
      "The page 94 4 https://www.ptt.cc/bbs/Food/M.1416582313.A.37C.html\n",
      "The page 94 3 https://www.ptt.cc/bbs/Food/M.1416582325.A.530.html\n",
      "The page 94 2 https://www.ptt.cc/bbs/Food/M.1416582877.A.A40.html\n",
      "The page 94 1 https://www.ptt.cc/bbs/Food/M.1416585921.A.A80.html\n",
      "The 93 page https://www.ptt.cc/bbs/Food/index3093.html starts:\n"
     ]
    },
    {
     "name": "stderr",
     "output_type": "stream",
     "text": [
      "/anaconda3/lib/python3.7/site-packages/urllib3/connectionpool.py:847: InsecureRequestWarning: Unverified HTTPS request is being made. Adding certificate verification is strongly advised. See: https://urllib3.readthedocs.io/en/latest/advanced-usage.html#ssl-warnings\n",
      "  InsecureRequestWarning)\n"
     ]
    },
    {
     "name": "stdout",
     "output_type": "stream",
     "text": [
      "The page 93 20 https://www.ptt.cc/bbs/Food/M.1416554801.A.07E.html\n",
      "The page 93 19 https://www.ptt.cc/bbs/Food/M.1416555682.A.E8C.html\n",
      "The page 93 18 https://www.ptt.cc/bbs/Food/M.1416556150.A.E0C.html\n",
      "The page 93 17 https://www.ptt.cc/bbs/Food/M.1416557633.A.DA5.html\n",
      "The page 93 16 https://www.ptt.cc/bbs/Food/M.1416558274.A.7B0.html\n",
      "The page 93 15 https://www.ptt.cc/bbs/Food/M.1416561247.A.165.html\n",
      "The page 93 14 https://www.ptt.cc/bbs/Food/M.1416561994.A.436.html\n",
      "The page 93 13 https://www.ptt.cc/bbs/Food/M.1416562373.A.4D9.html\n",
      "The page 93 12 https://www.ptt.cc/bbs/Food/M.1416562474.A.8CD.html\n",
      "The page 93 11 https://www.ptt.cc/bbs/Food/M.1416563467.A.178.html\n",
      "The page 93 10 https://www.ptt.cc/bbs/Food/M.1416564434.A.647.html\n",
      "The page 93 9 https://www.ptt.cc/bbs/Food/M.1416567943.A.7A3.html\n",
      "The page 93 8 https://www.ptt.cc/bbs/Food/M.1416569922.A.D71.html\n",
      "The page 93 7 https://www.ptt.cc/bbs/Food/M.1416570004.A.7AD.html\n",
      "The page 93 6 https://www.ptt.cc/bbs/Food/M.1416570901.A.7FB.html\n",
      "The page 93 5 https://www.ptt.cc/bbs/Food/M.1416571098.A.961.html\n",
      "The page 93 4 https://www.ptt.cc/bbs/Food/M.1416572165.A.EBA.html\n",
      "The page 93 3 https://www.ptt.cc/bbs/Food/M.1416572973.A.2B5.html\n",
      "The page 93 2 https://www.ptt.cc/bbs/Food/M.1416573599.A.CBA.html\n",
      "The page 93 1 https://www.ptt.cc/bbs/Food/M.1416576679.A.73B.html\n",
      "The 92 page https://www.ptt.cc/bbs/Food/index3092.html starts:\n"
     ]
    },
    {
     "name": "stderr",
     "output_type": "stream",
     "text": [
      "/anaconda3/lib/python3.7/site-packages/urllib3/connectionpool.py:847: InsecureRequestWarning: Unverified HTTPS request is being made. Adding certificate verification is strongly advised. See: https://urllib3.readthedocs.io/en/latest/advanced-usage.html#ssl-warnings\n",
      "  InsecureRequestWarning)\n"
     ]
    },
    {
     "name": "stdout",
     "output_type": "stream",
     "text": [
      "The page 92 20 https://www.ptt.cc/bbs/Food/M.1416529686.A.213.html\n",
      "The page 92 19 https://www.ptt.cc/bbs/Food/M.1416532838.A.384.html\n",
      "The page 92 18 https://www.ptt.cc/bbs/Food/M.1416537131.A.EB7.html\n",
      "The page 92 17 https://www.ptt.cc/bbs/Food/M.1416538439.A.26B.html\n",
      "The page 92 16 https://www.ptt.cc/bbs/Food/M.1416540066.A.345.html\n",
      "The page 92 15 https://www.ptt.cc/bbs/Food/M.1416540405.A.4C7.html\n",
      "The page 92 14 https://www.ptt.cc/bbs/Food/M.1416542089.A.C91.html\n",
      "The page 92 13 https://www.ptt.cc/bbs/Food/M.1416542734.A.6C1.html\n",
      "The page 92 12 https://www.ptt.cc/bbs/Food/M.1416544885.A.E89.html\n",
      "The page 92 11 https://www.ptt.cc/bbs/Food/M.1416545714.A.877.html\n",
      "The page 92 10 https://www.ptt.cc/bbs/Food/M.1416546912.A.2F7.html\n",
      "The page 92 9 https://www.ptt.cc/bbs/Food/M.1416547723.A.BE6.html\n",
      "The page 92 8 https://www.ptt.cc/bbs/Food/M.1416549094.A.CD1.html\n",
      "The page 92 7 https://www.ptt.cc/bbs/Food/M.1416550074.A.F88.html\n",
      "The page 92 6 https://www.ptt.cc/bbs/Food/M.1416550676.A.7B1.html\n",
      "The page 92 5 https://www.ptt.cc/bbs/Food/M.1416551369.A.110.html\n",
      "The page 92 4 https://www.ptt.cc/bbs/Food/M.1416553258.A.B07.html\n",
      "The page 92 3 https://www.ptt.cc/bbs/Food/M.1416553893.A.C31.html\n",
      "The page 92 2 https://www.ptt.cc/bbs/Food/M.1416554479.A.967.html\n",
      "The page 92 1 https://www.ptt.cc/bbs/Food/M.1416554596.A.231.html\n",
      "The 91 page https://www.ptt.cc/bbs/Food/index3091.html starts:\n"
     ]
    },
    {
     "name": "stderr",
     "output_type": "stream",
     "text": [
      "/anaconda3/lib/python3.7/site-packages/urllib3/connectionpool.py:847: InsecureRequestWarning: Unverified HTTPS request is being made. Adding certificate verification is strongly advised. See: https://urllib3.readthedocs.io/en/latest/advanced-usage.html#ssl-warnings\n",
      "  InsecureRequestWarning)\n"
     ]
    },
    {
     "name": "stdout",
     "output_type": "stream",
     "text": [
      "The page 91 20 https://www.ptt.cc/bbs/Food/M.1416491360.A.490.html\n",
      "The page 91 19 https://www.ptt.cc/bbs/Food/M.1416491858.A.2EE.html\n",
      "The page 91 18 https://www.ptt.cc/bbs/Food/M.1416492133.A.CD1.html\n",
      "The page 91 17 https://www.ptt.cc/bbs/Food/M.1416492573.A.3FA.html\n",
      "The page 91 16 https://www.ptt.cc/bbs/Food/M.1416492821.A.B32.html\n",
      "The page 91 15 https://www.ptt.cc/bbs/Food/M.1416493725.A.0E3.html\n",
      "The page 91 14 https://www.ptt.cc/bbs/Food/M.1416494038.A.D59.html\n",
      "The page 91 13 https://www.ptt.cc/bbs/Food/M.1416494436.A.D6B.html\n",
      "The page 91 12 https://www.ptt.cc/bbs/Food/M.1416494643.A.7DB.html\n",
      "The page 91 11 https://www.ptt.cc/bbs/Food/M.1416495119.A.439.html\n",
      "The page 91 10 https://www.ptt.cc/bbs/Food/M.1416495524.A.CA0.html\n",
      "The page 91 9 https://www.ptt.cc/bbs/Food/M.1416498154.A.91D.html\n",
      "The page 91 8 https://www.ptt.cc/bbs/Food/M.1416498317.A.622.html\n",
      "The page 91 7 https://www.ptt.cc/bbs/Food/M.1416499480.A.C5F.html\n",
      "The page 91 6 https://www.ptt.cc/bbs/Food/M.1416499888.A.2D5.html\n",
      "The page 91 5 https://www.ptt.cc/bbs/Food/M.1416502736.A.FF1.html\n",
      "The page 91 4 https://www.ptt.cc/bbs/Food/M.1416503221.A.EA8.html\n",
      "The page 91 3 https://www.ptt.cc/bbs/Food/M.1416504109.A.9AC.html\n",
      "The page 91 2 https://www.ptt.cc/bbs/Food/M.1416504380.A.22C.html\n",
      "The page 91 1 https://www.ptt.cc/bbs/Food/M.1416522043.A.841.html\n",
      "The 90 page https://www.ptt.cc/bbs/Food/index3090.html starts:\n"
     ]
    },
    {
     "name": "stderr",
     "output_type": "stream",
     "text": [
      "/anaconda3/lib/python3.7/site-packages/urllib3/connectionpool.py:847: InsecureRequestWarning: Unverified HTTPS request is being made. Adding certificate verification is strongly advised. See: https://urllib3.readthedocs.io/en/latest/advanced-usage.html#ssl-warnings\n",
      "  InsecureRequestWarning)\n"
     ]
    },
    {
     "name": "stdout",
     "output_type": "stream",
     "text": [
      "The page 90 20 https://www.ptt.cc/bbs/Food/M.1416469062.A.E74.html\n",
      "The page 90 19 https://www.ptt.cc/bbs/Food/M.1416469259.A.BEE.html\n",
      "The page 90 18 https://www.ptt.cc/bbs/Food/M.1416469410.A.483.html\n",
      "The page 90 17 https://www.ptt.cc/bbs/Food/M.1416473105.A.9EC.html\n",
      "The page 90 16 https://www.ptt.cc/bbs/Food/M.1416473348.A.B51.html\n",
      "The page 90 15 https://www.ptt.cc/bbs/Food/M.1416478221.A.9E2.html\n",
      "The page 90 14 https://www.ptt.cc/bbs/Food/M.1416479976.A.78F.html\n",
      "The page 90 13 https://www.ptt.cc/bbs/Food/M.1416480880.A.7F7.html\n",
      "The page 90 12 https://www.ptt.cc/bbs/Food/M.1416481992.A.7A2.html\n",
      "The page 90 11 https://www.ptt.cc/bbs/Food/M.1416485845.A.C05.html\n",
      "The page 90 10 https://www.ptt.cc/bbs/Food/M.1416487062.A.E7B.html\n",
      "The page 90 9 https://www.ptt.cc/bbs/Food/M.1416488713.A.688.html\n",
      "The page 90 8 https://www.ptt.cc/bbs/Food/M.1416489193.A.FB0.html\n",
      "The page 90 7 https://www.ptt.cc/bbs/Food/M.1416489462.A.DD0.html\n",
      "The page 90 6 https://www.ptt.cc/bbs/Food/M.1416489682.A.E42.html\n",
      "The page 90 5 https://www.ptt.cc/bbs/Food/M.1416490164.A.E25.html\n",
      "The page 90 4 https://www.ptt.cc/bbs/Food/M.1416490724.A.9FF.html\n",
      "The page 90 3 https://www.ptt.cc/bbs/Food/M.1416490838.A.3C1.html\n",
      "The page 90 2 https://www.ptt.cc/bbs/Food/M.1416490902.A.870.html\n",
      "The page 90 1 https://www.ptt.cc/bbs/Food/M.1416490983.A.EE1.html\n",
      "The 89 page https://www.ptt.cc/bbs/Food/index3089.html starts:\n"
     ]
    },
    {
     "name": "stderr",
     "output_type": "stream",
     "text": [
      "/anaconda3/lib/python3.7/site-packages/urllib3/connectionpool.py:847: InsecureRequestWarning: Unverified HTTPS request is being made. Adding certificate verification is strongly advised. See: https://urllib3.readthedocs.io/en/latest/advanced-usage.html#ssl-warnings\n",
      "  InsecureRequestWarning)\n"
     ]
    },
    {
     "name": "stdout",
     "output_type": "stream",
     "text": [
      "The page 89 20 https://www.ptt.cc/bbs/Food/M.1416449863.A.B07.html\n",
      "The page 89 19 https://www.ptt.cc/bbs/Food/M.1416450557.A.649.html\n",
      "The page 89 18 https://www.ptt.cc/bbs/Food/M.1416451452.A.A6B.html\n",
      "The page 89 17 https://www.ptt.cc/bbs/Food/M.1416453026.A.1B9.html\n",
      "The page 89 16 https://www.ptt.cc/bbs/Food/M.1416454136.A.56E.html\n",
      "The page 89 15 https://www.ptt.cc/bbs/Food/M.1416456147.A.693.html\n",
      "The page 89 14 https://www.ptt.cc/bbs/Food/M.1416457166.A.9D4.html\n",
      "The page 89 13 https://www.ptt.cc/bbs/Food/M.1416457381.A.0C4.html\n",
      "The page 89 12 https://www.ptt.cc/bbs/Food/M.1416458287.A.417.html\n",
      "The page 89 11 https://www.ptt.cc/bbs/Food/M.1416458632.A.C93.html\n",
      "The page 89 10 https://www.ptt.cc/bbs/Food/M.1416458793.A.404.html\n",
      "The page 89 9 https://www.ptt.cc/bbs/Food/M.1416460160.A.B99.html\n",
      "The page 89 8 https://www.ptt.cc/bbs/Food/M.1416460281.A.CEA.html\n",
      "The page 89 7 https://www.ptt.cc/bbs/Food/M.1416462801.A.766.html\n",
      "The page 89 6 https://www.ptt.cc/bbs/Food/M.1416464267.A.9D4.html\n",
      "The page 89 5 https://www.ptt.cc/bbs/Food/M.1416464373.A.6A7.html\n",
      "The page 89 4 https://www.ptt.cc/bbs/Food/M.1416464485.A.253.html\n",
      "The page 89 3 https://www.ptt.cc/bbs/Food/M.1416464748.A.E44.html\n",
      "The page 89 2 https://www.ptt.cc/bbs/Food/M.1416467116.A.286.html\n",
      "The page 89 1 https://www.ptt.cc/bbs/Food/M.1416467554.A.9E4.html\n",
      "The 88 page https://www.ptt.cc/bbs/Food/index3088.html starts:\n"
     ]
    },
    {
     "name": "stderr",
     "output_type": "stream",
     "text": [
      "/anaconda3/lib/python3.7/site-packages/urllib3/connectionpool.py:847: InsecureRequestWarning: Unverified HTTPS request is being made. Adding certificate verification is strongly advised. See: https://urllib3.readthedocs.io/en/latest/advanced-usage.html#ssl-warnings\n",
      "  InsecureRequestWarning)\n"
     ]
    },
    {
     "name": "stdout",
     "output_type": "stream",
     "text": [
      "The page 88 20 https://www.ptt.cc/bbs/Food/M.1416409844.A.4C3.html\n",
      "The page 88 19 https://www.ptt.cc/bbs/Food/M.1416410335.A.B60.html\n",
      "The page 88 18 https://www.ptt.cc/bbs/Food/M.1416410595.A.4EB.html\n",
      "The page 88 17 https://www.ptt.cc/bbs/Food/M.1416411160.A.697.html\n",
      "The page 88 16 https://www.ptt.cc/bbs/Food/M.1416411189.A.CB2.html\n",
      "The page 88 15 https://www.ptt.cc/bbs/Food/M.1416411334.A.8DC.html\n",
      "The page 88 14 https://www.ptt.cc/bbs/Food/M.1416411429.A.3A3.html\n",
      "The page 88 13 https://www.ptt.cc/bbs/Food/M.1416412270.A.09B.html\n",
      "The page 88 12 https://www.ptt.cc/bbs/Food/M.1416413096.A.949.html\n",
      "The page 88 11 https://www.ptt.cc/bbs/Food/M.1416413540.A.E61.html\n",
      "The page 88 10 https://www.ptt.cc/bbs/Food/M.1416415122.A.BE2.html\n",
      "The page 88 9 https://www.ptt.cc/bbs/Food/M.1416415277.A.5DC.html\n",
      "The page 88 8 https://www.ptt.cc/bbs/Food/M.1416416960.A.97B.html\n",
      "The page 88 7 https://www.ptt.cc/bbs/Food/M.1416422988.A.45D.html\n",
      "The page 88 6 https://www.ptt.cc/bbs/Food/M.1416423303.A.A5A.html\n",
      "The page 88 5 https://www.ptt.cc/bbs/Food/M.1416435681.A.154.html\n",
      "The page 88 4 https://www.ptt.cc/bbs/Food/M.1416437513.A.38F.html\n",
      "The page 88 3 https://www.ptt.cc/bbs/Food/M.1416441601.A.9D9.html\n",
      "The page 88 2 https://www.ptt.cc/bbs/Food/M.1416445567.A.C1A.html\n",
      "The page 88 1 https://www.ptt.cc/bbs/Food/M.1416446750.A.E2C.html\n",
      "The 87 page https://www.ptt.cc/bbs/Food/index3087.html starts:\n"
     ]
    },
    {
     "name": "stderr",
     "output_type": "stream",
     "text": [
      "/anaconda3/lib/python3.7/site-packages/urllib3/connectionpool.py:847: InsecureRequestWarning: Unverified HTTPS request is being made. Adding certificate verification is strongly advised. See: https://urllib3.readthedocs.io/en/latest/advanced-usage.html#ssl-warnings\n",
      "  InsecureRequestWarning)\n"
     ]
    },
    {
     "name": "stdout",
     "output_type": "stream",
     "text": [
      "The page 87 20 https://www.ptt.cc/bbs/Food/M.1416400885.A.A05.html\n",
      "The page 87 19 https://www.ptt.cc/bbs/Food/M.1416401912.A.007.html\n",
      "The page 87 18 https://www.ptt.cc/bbs/Food/M.1416402568.A.E0A.html\n",
      "The page 87 17 https://www.ptt.cc/bbs/Food/M.1416402700.A.F3A.html\n",
      "The page 87 16 https://www.ptt.cc/bbs/Food/M.1416403834.A.5EF.html\n",
      "The page 87 15 https://www.ptt.cc/bbs/Food/M.1416404899.A.765.html\n",
      "The page 87 14 https://www.ptt.cc/bbs/Food/M.1416405582.A.423.html\n",
      "The page 87 13 https://www.ptt.cc/bbs/Food/M.1416405766.A.F61.html\n",
      "The page 87 12 https://www.ptt.cc/bbs/Food/M.1416405903.A.F62.html\n",
      "The page 87 11 https://www.ptt.cc/bbs/Food/M.1416406155.A.AAC.html\n",
      "The page 87 10 https://www.ptt.cc/bbs/Food/M.1416406596.A.45C.html\n",
      "The page 87 9 https://www.ptt.cc/bbs/Food/M.1416406641.A.961.html\n",
      "The page 87 8 https://www.ptt.cc/bbs/Food/M.1416406690.A.3CB.html\n",
      "The page 87 7 https://www.ptt.cc/bbs/Food/M.1416406983.A.826.html\n",
      "The page 87 6 https://www.ptt.cc/bbs/Food/M.1416407176.A.C2F.html\n",
      "The page 87 5 https://www.ptt.cc/bbs/Food/M.1416407190.A.56C.html\n",
      "The page 87 4 https://www.ptt.cc/bbs/Food/M.1416408236.A.50A.html\n",
      "The page 87 3 https://www.ptt.cc/bbs/Food/M.1416408408.A.642.html\n",
      "The page 87 2 https://www.ptt.cc/bbs/Food/M.1416409162.A.96F.html\n",
      "The page 87 1 https://www.ptt.cc/bbs/Food/M.1416409364.A.D39.html\n",
      "The 86 page https://www.ptt.cc/bbs/Food/index3086.html starts:\n"
     ]
    },
    {
     "name": "stderr",
     "output_type": "stream",
     "text": [
      "/anaconda3/lib/python3.7/site-packages/urllib3/connectionpool.py:847: InsecureRequestWarning: Unverified HTTPS request is being made. Adding certificate verification is strongly advised. See: https://urllib3.readthedocs.io/en/latest/advanced-usage.html#ssl-warnings\n",
      "  InsecureRequestWarning)\n"
     ]
    },
    {
     "name": "stdout",
     "output_type": "stream",
     "text": [
      "The page 86 20 https://www.ptt.cc/bbs/Food/M.1416373349.A.B79.html\n",
      "The page 86 19 https://www.ptt.cc/bbs/Food/M.1416373568.A.7D6.html\n",
      "The page 86 18 https://www.ptt.cc/bbs/Food/M.1416373965.A.AAD.html\n",
      "The page 86 17 https://www.ptt.cc/bbs/Food/M.1416379053.A.533.html\n",
      "The page 86 16 https://www.ptt.cc/bbs/Food/M.1416379645.A.C83.html\n",
      "The page 86 15 https://www.ptt.cc/bbs/Food/M.1416381141.A.A9C.html\n",
      "The page 86 14 https://www.ptt.cc/bbs/Food/M.1416383025.A.B8C.html\n",
      "The page 86 13 https://www.ptt.cc/bbs/Food/M.1416383433.A.828.html\n",
      "The page 86 12 https://www.ptt.cc/bbs/Food/M.1416383781.A.7A4.html\n",
      "The page 86 11 https://www.ptt.cc/bbs/Food/M.1416388648.A.BE4.html\n",
      "The page 86 10 https://www.ptt.cc/bbs/Food/M.1416389490.A.64B.html\n",
      "The page 86 9 https://www.ptt.cc/bbs/Food/M.1416389583.A.EF2.html\n",
      "The page 86 8 https://www.ptt.cc/bbs/Food/M.1416392055.A.D67.html\n",
      "The page 86 7 https://www.ptt.cc/bbs/Food/M.1416392264.A.DBA.html\n",
      "The page 86 6 https://www.ptt.cc/bbs/Food/M.1416393175.A.366.html\n",
      "The page 86 5 https://www.ptt.cc/bbs/Food/M.1416395251.A.038.html\n",
      "The page 86 4 https://www.ptt.cc/bbs/Food/M.1416395731.A.CFC.html\n",
      "The page 86 3 https://www.ptt.cc/bbs/Food/M.1416397355.A.381.html\n",
      "The page 86 2 https://www.ptt.cc/bbs/Food/M.1416399056.A.CF0.html\n",
      "The page 86 1 https://www.ptt.cc/bbs/Food/M.1416400848.A.C1E.html\n",
      "The 85 page https://www.ptt.cc/bbs/Food/index3085.html starts:\n"
     ]
    },
    {
     "name": "stderr",
     "output_type": "stream",
     "text": [
      "/anaconda3/lib/python3.7/site-packages/urllib3/connectionpool.py:847: InsecureRequestWarning: Unverified HTTPS request is being made. Adding certificate verification is strongly advised. See: https://urllib3.readthedocs.io/en/latest/advanced-usage.html#ssl-warnings\n",
      "  InsecureRequestWarning)\n"
     ]
    },
    {
     "name": "stdout",
     "output_type": "stream",
     "text": [
      "The page 85 20 https://www.ptt.cc/bbs/Food/M.1416324282.A.8D9.html\n",
      "The page 85 19 https://www.ptt.cc/bbs/Food/M.1416324524.A.D3E.html\n",
      "The page 85 18 https://www.ptt.cc/bbs/Food/M.1416324530.A.F95.html\n",
      "The page 85 17 https://www.ptt.cc/bbs/Food/M.1416324799.A.669.html\n",
      "The page 85 16 https://www.ptt.cc/bbs/Food/M.1416325378.A.C9F.html\n",
      "The page 85 15 https://www.ptt.cc/bbs/Food/M.1416326766.A.2ED.html\n",
      "The page 85 14 https://www.ptt.cc/bbs/Food/M.1416327256.A.615.html\n",
      "The page 85 13 https://www.ptt.cc/bbs/Food/M.1416328654.A.EF6.html\n",
      "The page 85 12 https://www.ptt.cc/bbs/Food/M.1416329156.A.D38.html\n",
      "The page 85 11 https://www.ptt.cc/bbs/Food/M.1416332000.A.1FF.html\n",
      "The page 85 10 https://www.ptt.cc/bbs/Food/M.1416338829.A.D93.html\n",
      "The page 85 9 https://www.ptt.cc/bbs/Food/M.1416362230.A.1FD.html\n",
      "The page 85 8 https://www.ptt.cc/bbs/Food/M.1416367723.A.A1A.html\n",
      "The page 85 7 https://www.ptt.cc/bbs/Food/M.1416368208.A.505.html\n",
      "The page 85 6 https://www.ptt.cc/bbs/Food/M.1416368211.A.0F6.html\n",
      "The page 85 5 https://www.ptt.cc/bbs/Food/M.1416369093.A.816.html\n",
      "The page 85 4 https://www.ptt.cc/bbs/Food/M.1416369678.A.7E5.html\n",
      "The page 85 3 https://www.ptt.cc/bbs/Food/M.1416370813.A.AAB.html\n",
      "The page 85 2 https://www.ptt.cc/bbs/Food/M.1416371792.A.863.html\n",
      "The page 85 1 https://www.ptt.cc/bbs/Food/M.1416372349.A.84D.html\n",
      "The 84 page https://www.ptt.cc/bbs/Food/index3084.html starts:\n"
     ]
    },
    {
     "name": "stderr",
     "output_type": "stream",
     "text": [
      "/anaconda3/lib/python3.7/site-packages/urllib3/connectionpool.py:847: InsecureRequestWarning: Unverified HTTPS request is being made. Adding certificate verification is strongly advised. See: https://urllib3.readthedocs.io/en/latest/advanced-usage.html#ssl-warnings\n",
      "  InsecureRequestWarning)\n"
     ]
    },
    {
     "name": "stdout",
     "output_type": "stream",
     "text": [
      "The page 84 20 https://www.ptt.cc/bbs/Food/M.1416318512.A.839.html\n",
      "The page 84 19 https://www.ptt.cc/bbs/Food/M.1416318608.A.AFD.html\n",
      "The page 84 18 https://www.ptt.cc/bbs/Food/M.1416318701.A.7D1.html\n",
      "The page 84 17 https://www.ptt.cc/bbs/Food/M.1416318920.A.CEE.html\n",
      "The page 84 16 https://www.ptt.cc/bbs/Food/M.1416318966.A.B66.html\n",
      "The page 84 15 https://www.ptt.cc/bbs/Food/M.1416318975.A.F24.html\n",
      "The page 84 14 https://www.ptt.cc/bbs/Food/M.1416319422.A.F81.html\n",
      "The page 84 13 https://www.ptt.cc/bbs/Food/M.1416319748.A.4E6.html\n",
      "The page 84 12 https://www.ptt.cc/bbs/Food/M.1416319856.A.AA8.html\n",
      "The page 84 11 https://www.ptt.cc/bbs/Food/M.1416320085.A.7A0.html\n",
      "The page 84 10 https://www.ptt.cc/bbs/Food/M.1416320197.A.45F.html\n",
      "The page 84 9 https://www.ptt.cc/bbs/Food/M.1416320511.A.7C3.html\n",
      "The page 84 8 https://www.ptt.cc/bbs/Food/M.1416320914.A.8BE.html\n",
      "The page 84 7 https://www.ptt.cc/bbs/Food/M.1416321676.A.42C.html\n",
      "The page 84 6 https://www.ptt.cc/bbs/Food/M.1416321954.A.C4F.html\n",
      "The page 84 5 https://www.ptt.cc/bbs/Food/M.1416322015.A.A25.html\n",
      "The page 84 4 https://www.ptt.cc/bbs/Food/M.1416322598.A.9BE.html\n",
      "The page 84 3 https://www.ptt.cc/bbs/Food/M.1416323328.A.4DC.html\n",
      "The page 84 2 https://www.ptt.cc/bbs/Food/M.1416323631.A.BF3.html\n",
      "The page 84 1 https://www.ptt.cc/bbs/Food/M.1416323863.A.71C.html\n",
      "The 83 page https://www.ptt.cc/bbs/Food/index3083.html starts:\n"
     ]
    },
    {
     "name": "stderr",
     "output_type": "stream",
     "text": [
      "/anaconda3/lib/python3.7/site-packages/urllib3/connectionpool.py:847: InsecureRequestWarning: Unverified HTTPS request is being made. Adding certificate verification is strongly advised. See: https://urllib3.readthedocs.io/en/latest/advanced-usage.html#ssl-warnings\n",
      "  InsecureRequestWarning)\n"
     ]
    },
    {
     "name": "stdout",
     "output_type": "stream",
     "text": [
      "The page 83 20 https://www.ptt.cc/bbs/Food/M.1416303741.A.410.html\n",
      "The page 83 19 https://www.ptt.cc/bbs/Food/M.1416304660.A.F0E.html\n",
      "The page 83 18 https://www.ptt.cc/bbs/Food/M.1416312238.A.C0E.html\n",
      "The page 83 17 https://www.ptt.cc/bbs/Food/M.1416312333.A.9BB.html\n",
      "The page 83 16 https://www.ptt.cc/bbs/Food/M.1416313190.A.014.html\n",
      "The page 83 15 https://www.ptt.cc/bbs/Food/M.1416314136.A.497.html\n",
      "The page 83 14 https://www.ptt.cc/bbs/Food/M.1416314712.A.65D.html\n",
      "The page 83 13 https://www.ptt.cc/bbs/Food/M.1416315278.A.475.html\n",
      "The page 83 12 https://www.ptt.cc/bbs/Food/M.1416315305.A.F1E.html\n",
      "The page 83 11 https://www.ptt.cc/bbs/Food/M.1416315381.A.AB9.html\n",
      "The page 83 10 https://www.ptt.cc/bbs/Food/M.1416316169.A.5AB.html\n",
      "The page 83 9 https://www.ptt.cc/bbs/Food/M.1416317188.A.953.html\n",
      "The page 83 8 https://www.ptt.cc/bbs/Food/M.1416317439.A.FF7.html\n",
      "The page 83 7 https://www.ptt.cc/bbs/Food/M.1416317601.A.BE5.html\n",
      "The page 83 6 https://www.ptt.cc/bbs/Food/M.1416317777.A.E60.html\n",
      "The page 83 5 https://www.ptt.cc/bbs/Food/M.1416317835.A.F4E.html\n",
      "The page 83 4 https://www.ptt.cc/bbs/Food/M.1416317912.A.B1E.html\n",
      "The page 83 3 https://www.ptt.cc/bbs/Food/M.1416318079.A.13B.html\n",
      "The page 83 2 https://www.ptt.cc/bbs/Food/M.1416318223.A.E14.html\n",
      "The page 83 1 https://www.ptt.cc/bbs/Food/M.1416318434.A.99B.html\n",
      "The 82 page https://www.ptt.cc/bbs/Food/index3082.html starts:\n"
     ]
    },
    {
     "name": "stderr",
     "output_type": "stream",
     "text": [
      "/anaconda3/lib/python3.7/site-packages/urllib3/connectionpool.py:847: InsecureRequestWarning: Unverified HTTPS request is being made. Adding certificate verification is strongly advised. See: https://urllib3.readthedocs.io/en/latest/advanced-usage.html#ssl-warnings\n",
      "  InsecureRequestWarning)\n"
     ]
    },
    {
     "name": "stdout",
     "output_type": "stream",
     "text": [
      "The page 82 20 https://www.ptt.cc/bbs/Food/M.1416283344.A.123.html\n",
      "The page 82 19 https://www.ptt.cc/bbs/Food/M.1416283734.A.755.html\n",
      "The page 82 18 https://www.ptt.cc/bbs/Food/M.1416283812.A.6E7.html\n",
      "The page 82 17 https://www.ptt.cc/bbs/Food/M.1416285581.A.802.html\n",
      "The page 82 16 https://www.ptt.cc/bbs/Food/M.1416285676.A.44D.html\n",
      "The page 82 15 https://www.ptt.cc/bbs/Food/M.1416285783.A.0A7.html\n",
      "The page 82 14 https://www.ptt.cc/bbs/Food/M.1416287054.A.06F.html\n",
      "The page 82 13 https://www.ptt.cc/bbs/Food/M.1416289517.A.B08.html\n",
      "The page 82 12 https://www.ptt.cc/bbs/Food/M.1416291485.A.A76.html\n",
      "The page 82 11 https://www.ptt.cc/bbs/Food/M.1416291585.A.048.html\n",
      "The page 82 10 https://www.ptt.cc/bbs/Food/M.1416293997.A.FAA.html\n",
      "The page 82 9 https://www.ptt.cc/bbs/Food/M.1416294029.A.B26.html\n",
      "The page 82 8 https://www.ptt.cc/bbs/Food/M.1416294218.A.99C.html\n",
      "The page 82 7 https://www.ptt.cc/bbs/Food/M.1416297821.A.D6C.html\n",
      "The page 82 6 https://www.ptt.cc/bbs/Food/M.1416298022.A.BF3.html\n",
      "The page 82 5 https://www.ptt.cc/bbs/Food/M.1416298768.A.BD3.html\n",
      "The page 82 4 https://www.ptt.cc/bbs/Food/M.1416299077.A.B61.html\n",
      "The page 82 3 https://www.ptt.cc/bbs/Food/M.1416299793.A.073.html\n",
      "The page 82 2 https://www.ptt.cc/bbs/Food/M.1416301818.A.17A.html\n",
      "The page 82 1 https://www.ptt.cc/bbs/Food/M.1416302155.A.CC6.html\n",
      "The 81 page https://www.ptt.cc/bbs/Food/index3081.html starts:\n"
     ]
    },
    {
     "name": "stderr",
     "output_type": "stream",
     "text": [
      "/anaconda3/lib/python3.7/site-packages/urllib3/connectionpool.py:847: InsecureRequestWarning: Unverified HTTPS request is being made. Adding certificate verification is strongly advised. See: https://urllib3.readthedocs.io/en/latest/advanced-usage.html#ssl-warnings\n",
      "  InsecureRequestWarning)\n"
     ]
    },
    {
     "name": "stdout",
     "output_type": "stream",
     "text": [
      "The page 81 20 https://www.ptt.cc/bbs/Food/M.1416241153.A.ECB.html\n",
      "The page 81 19 https://www.ptt.cc/bbs/Food/M.1416241803.A.9D1.html\n",
      "The page 81 18 https://www.ptt.cc/bbs/Food/M.1416242297.A.82B.html\n",
      "The page 81 17 https://www.ptt.cc/bbs/Food/M.1416244260.A.4BB.html\n",
      "The page 81 16 https://www.ptt.cc/bbs/Food/M.1416247472.A.C99.html\n",
      "The page 81 15 https://www.ptt.cc/bbs/Food/M.1416250297.A.B10.html\n",
      "The page 81 14 https://www.ptt.cc/bbs/Food/M.1416251274.A.DAD.html\n",
      "The page 81 13 https://www.ptt.cc/bbs/Food/M.1416254650.A.771.html\n",
      "The page 81 12 https://www.ptt.cc/bbs/Food/M.1416256443.A.2D4.html\n",
      "The page 81 11 https://www.ptt.cc/bbs/Food/M.1416261169.A.813.html\n",
      "The page 81 10 https://www.ptt.cc/bbs/Food/M.1416270867.A.0F3.html\n",
      "The page 81 9 https://www.ptt.cc/bbs/Food/M.1416273126.A.B93.html\n",
      "The page 81 8 https://www.ptt.cc/bbs/Food/M.1416274971.A.1AB.html\n",
      "The page 81 7 https://www.ptt.cc/bbs/Food/M.1416276064.A.A84.html\n",
      "The page 81 6 https://www.ptt.cc/bbs/Food/M.1416276240.A.453.html\n",
      "The page 81 5 https://www.ptt.cc/bbs/Food/M.1416276658.A.129.html\n",
      "The page 81 4 https://www.ptt.cc/bbs/Food/M.1416277840.A.5EE.html\n",
      "The page 81 3 https://www.ptt.cc/bbs/Food/M.1416280155.A.A32.html\n",
      "The page 81 2 https://www.ptt.cc/bbs/Food/M.1416282080.A.1A2.html\n",
      "The page 81 1 https://www.ptt.cc/bbs/Food/M.1416282591.A.91D.html\n",
      "The 80 page https://www.ptt.cc/bbs/Food/index3080.html starts:\n"
     ]
    },
    {
     "name": "stderr",
     "output_type": "stream",
     "text": [
      "/anaconda3/lib/python3.7/site-packages/urllib3/connectionpool.py:847: InsecureRequestWarning: Unverified HTTPS request is being made. Adding certificate verification is strongly advised. See: https://urllib3.readthedocs.io/en/latest/advanced-usage.html#ssl-warnings\n",
      "  InsecureRequestWarning)\n"
     ]
    },
    {
     "name": "stdout",
     "output_type": "stream",
     "text": [
      "The page 80 20 https://www.ptt.cc/bbs/Food/M.1416232037.A.05B.html\n",
      "The page 80 19 https://www.ptt.cc/bbs/Food/M.1416232444.A.EE7.html\n",
      "The page 80 18 https://www.ptt.cc/bbs/Food/M.1416233057.A.246.html\n",
      "The page 80 17 https://www.ptt.cc/bbs/Food/M.1416233594.A.962.html\n",
      "The page 80 16 https://www.ptt.cc/bbs/Food/M.1416233619.A.A86.html\n",
      "The page 80 15 https://www.ptt.cc/bbs/Food/M.1416233722.A.CCE.html\n",
      "The page 80 14 https://www.ptt.cc/bbs/Food/M.1416233915.A.66C.html\n",
      "The page 80 13 https://www.ptt.cc/bbs/Food/M.1416233964.A.495.html\n",
      "The page 80 12 https://www.ptt.cc/bbs/Food/M.1416233996.A.163.html\n",
      "The page 80 11 https://www.ptt.cc/bbs/Food/M.1416234026.A.FAF.html\n",
      "The page 80 10 https://www.ptt.cc/bbs/Food/M.1416234062.A.558.html\n",
      "The page 80 9 https://www.ptt.cc/bbs/Food/M.1416234249.A.D8E.html\n",
      "The page 80 8 https://www.ptt.cc/bbs/Food/M.1416234263.A.E6B.html\n",
      "The page 80 7 https://www.ptt.cc/bbs/Food/M.1416234288.A.706.html\n",
      "The page 80 6 https://www.ptt.cc/bbs/Food/M.1416234401.A.A4C.html\n",
      "The page 80 5 https://www.ptt.cc/bbs/Food/M.1416235268.A.F2F.html\n",
      "The page 80 4 https://www.ptt.cc/bbs/Food/M.1416235955.A.919.html\n",
      "The page 80 3 https://www.ptt.cc/bbs/Food/M.1416236178.A.8CB.html\n",
      "The page 80 2 https://www.ptt.cc/bbs/Food/M.1416237844.A.BC3.html\n",
      "The page 80 1 https://www.ptt.cc/bbs/Food/M.1416240806.A.CDC.html\n",
      "The 79 page https://www.ptt.cc/bbs/Food/index3079.html starts:\n"
     ]
    },
    {
     "name": "stderr",
     "output_type": "stream",
     "text": [
      "/anaconda3/lib/python3.7/site-packages/urllib3/connectionpool.py:847: InsecureRequestWarning: Unverified HTTPS request is being made. Adding certificate verification is strongly advised. See: https://urllib3.readthedocs.io/en/latest/advanced-usage.html#ssl-warnings\n",
      "  InsecureRequestWarning)\n"
     ]
    },
    {
     "name": "stdout",
     "output_type": "stream",
     "text": [
      "The page 79 20 https://www.ptt.cc/bbs/Food/M.1416218978.A.2D1.html\n",
      "The page 79 19 https://www.ptt.cc/bbs/Food/M.1416219342.A.5CF.html\n",
      "The page 79 18 https://www.ptt.cc/bbs/Food/M.1416219800.A.D78.html\n",
      "The page 79 17 https://www.ptt.cc/bbs/Food/M.1416220706.A.643.html\n",
      "The page 79 16 https://www.ptt.cc/bbs/Food/M.1416221736.A.D8C.html\n",
      "The page 79 15 https://www.ptt.cc/bbs/Food/M.1416222201.A.C29.html\n",
      "The page 79 14 https://www.ptt.cc/bbs/Food/M.1416223227.A.D25.html\n",
      "The page 79 13 https://www.ptt.cc/bbs/Food/M.1416223663.A.36A.html\n",
      "The page 79 12 https://www.ptt.cc/bbs/Food/M.1416224212.A.E6F.html\n",
      "The page 79 11 https://www.ptt.cc/bbs/Food/M.1416225068.A.623.html\n",
      "The page 79 10 https://www.ptt.cc/bbs/Food/M.1416225568.A.AC0.html\n",
      "The page 79 9 https://www.ptt.cc/bbs/Food/M.1416226689.A.F5D.html\n",
      "The page 79 8 https://www.ptt.cc/bbs/Food/M.1416227896.A.E95.html\n",
      "The page 79 7 https://www.ptt.cc/bbs/Food/M.1416228046.A.405.html\n",
      "The page 79 6 https://www.ptt.cc/bbs/Food/M.1416228629.A.047.html\n",
      "The page 79 5 https://www.ptt.cc/bbs/Food/M.1416228811.A.689.html\n",
      "The page 79 4 https://www.ptt.cc/bbs/Food/M.1416229356.A.042.html\n",
      "The page 79 3 https://www.ptt.cc/bbs/Food/M.1416229993.A.CAD.html\n",
      "The page 79 2 https://www.ptt.cc/bbs/Food/M.1416230183.A.078.html\n",
      "The page 79 1 https://www.ptt.cc/bbs/Food/M.1416230787.A.216.html\n",
      "The 78 page https://www.ptt.cc/bbs/Food/index3078.html starts:\n"
     ]
    },
    {
     "name": "stderr",
     "output_type": "stream",
     "text": [
      "/anaconda3/lib/python3.7/site-packages/urllib3/connectionpool.py:847: InsecureRequestWarning: Unverified HTTPS request is being made. Adding certificate verification is strongly advised. See: https://urllib3.readthedocs.io/en/latest/advanced-usage.html#ssl-warnings\n",
      "  InsecureRequestWarning)\n"
     ]
    },
    {
     "name": "stdout",
     "output_type": "stream",
     "text": [
      "The page 78 20 https://www.ptt.cc/bbs/Food/M.1416196515.A.B4B.html\n",
      "The page 78 19 https://www.ptt.cc/bbs/Food/M.1416196553.A.994.html\n",
      "The page 78 18 https://www.ptt.cc/bbs/Food/M.1416198137.A.F08.html\n",
      "The page 78 17 https://www.ptt.cc/bbs/Food/M.1416198407.A.F44.html\n",
      "The page 78 16 https://www.ptt.cc/bbs/Food/M.1416199567.A.D64.html\n",
      "The page 78 15 https://www.ptt.cc/bbs/Food/M.1416201185.A.7DC.html\n",
      "The page 78 14 https://www.ptt.cc/bbs/Food/M.1416201215.A.3A2.html\n",
      "The page 78 13 https://www.ptt.cc/bbs/Food/M.1416202909.A.9F3.html\n",
      "The page 78 12 https://www.ptt.cc/bbs/Food/M.1416202984.A.6D9.html\n",
      "The page 78 11 https://www.ptt.cc/bbs/Food/M.1416203082.A.48D.html\n",
      "The page 78 10 https://www.ptt.cc/bbs/Food/M.1416204156.A.ABE.html\n",
      "The page 78 9 https://www.ptt.cc/bbs/Food/M.1416204338.A.888.html\n",
      "The page 78 8 https://www.ptt.cc/bbs/Food/M.1416204540.A.A89.html\n",
      "The page 78 7 https://www.ptt.cc/bbs/Food/M.1416206804.A.9DE.html\n",
      "The page 78 6 https://www.ptt.cc/bbs/Food/M.1416207480.A.460.html\n",
      "The page 78 5 https://www.ptt.cc/bbs/Food/M.1416208917.A.5E5.html\n",
      "The page 78 4 https://www.ptt.cc/bbs/Food/M.1416212257.A.674.html\n",
      "The page 78 3 https://www.ptt.cc/bbs/Food/M.1416213293.A.143.html\n",
      "The page 78 2 https://www.ptt.cc/bbs/Food/M.1416214692.A.59D.html\n",
      "The page 78 1 https://www.ptt.cc/bbs/Food/M.1416217339.A.B26.html\n",
      "The 77 page https://www.ptt.cc/bbs/Food/index3077.html starts:\n"
     ]
    },
    {
     "name": "stderr",
     "output_type": "stream",
     "text": [
      "/anaconda3/lib/python3.7/site-packages/urllib3/connectionpool.py:847: InsecureRequestWarning: Unverified HTTPS request is being made. Adding certificate verification is strongly advised. See: https://urllib3.readthedocs.io/en/latest/advanced-usage.html#ssl-warnings\n",
      "  InsecureRequestWarning)\n"
     ]
    },
    {
     "name": "stdout",
     "output_type": "stream",
     "text": [
      "The page 77 20 https://www.ptt.cc/bbs/Food/M.1416151915.A.E98.html\n",
      "The page 77 19 https://www.ptt.cc/bbs/Food/M.1416152235.A.247.html\n",
      "The page 77 18 https://www.ptt.cc/bbs/Food/M.1416152839.A.F19.html\n",
      "The page 77 17 https://www.ptt.cc/bbs/Food/M.1416153326.A.5D9.html\n",
      "The page 77 16 https://www.ptt.cc/bbs/Food/M.1416153547.A.A8A.html\n",
      "The page 77 15 https://www.ptt.cc/bbs/Food/M.1416153799.A.691.html\n",
      "The page 77 14 https://www.ptt.cc/bbs/Food/M.1416154157.A.D27.html\n",
      "The page 77 13 https://www.ptt.cc/bbs/Food/M.1416156809.A.F6C.html\n",
      "The page 77 12 https://www.ptt.cc/bbs/Food/M.1416157360.A.2A1.html\n",
      "The page 77 11 https://www.ptt.cc/bbs/Food/M.1416162378.A.C2F.html\n",
      "The page 77 10 https://www.ptt.cc/bbs/Food/M.1416171729.A.E48.html\n",
      "The page 77 9 https://www.ptt.cc/bbs/Food/M.1416179936.A.A02.html\n",
      "The page 77 8 https://www.ptt.cc/bbs/Food/M.1416184283.A.9CD.html\n",
      "The page 77 7 https://www.ptt.cc/bbs/Food/M.1416187600.A.0D3.html\n",
      "The page 77 6 https://www.ptt.cc/bbs/Food/M.1416190059.A.1AC.html\n",
      "The page 77 5 https://www.ptt.cc/bbs/Food/M.1416193005.A.806.html\n",
      "The page 77 4 https://www.ptt.cc/bbs/Food/M.1416193655.A.18D.html\n",
      "The page 77 3 https://www.ptt.cc/bbs/Food/M.1416194809.A.B19.html\n",
      "The page 77 2 https://www.ptt.cc/bbs/Food/M.1416194951.A.561.html\n",
      "The page 77 1 https://www.ptt.cc/bbs/Food/M.1416195884.A.FA9.html\n",
      "The 76 page https://www.ptt.cc/bbs/Food/index3076.html starts:\n"
     ]
    },
    {
     "name": "stderr",
     "output_type": "stream",
     "text": [
      "/anaconda3/lib/python3.7/site-packages/urllib3/connectionpool.py:847: InsecureRequestWarning: Unverified HTTPS request is being made. Adding certificate verification is strongly advised. See: https://urllib3.readthedocs.io/en/latest/advanced-usage.html#ssl-warnings\n",
      "  InsecureRequestWarning)\n"
     ]
    },
    {
     "name": "stdout",
     "output_type": "stream",
     "text": [
      "The page 76 20 https://www.ptt.cc/bbs/Food/M.1416144063.A.50E.html\n",
      "The page 76 19 https://www.ptt.cc/bbs/Food/M.1416144082.A.AE9.html\n",
      "The page 76 18 https://www.ptt.cc/bbs/Food/M.1416144098.A.D31.html\n",
      "The page 76 17 https://www.ptt.cc/bbs/Food/M.1416144344.A.57C.html\n",
      "The page 76 16 https://www.ptt.cc/bbs/Food/M.1416144398.A.49F.html\n",
      "The page 76 15 https://www.ptt.cc/bbs/Food/M.1416144797.A.BBD.html\n",
      "The page 76 14 https://www.ptt.cc/bbs/Food/M.1416145310.A.290.html\n",
      "The page 76 13 https://www.ptt.cc/bbs/Food/M.1416146025.A.1A0.html\n",
      "The page 76 12 https://www.ptt.cc/bbs/Food/M.1416146318.A.A03.html\n",
      "The page 76 11 https://www.ptt.cc/bbs/Food/M.1416146865.A.475.html\n",
      "The page 76 10 https://www.ptt.cc/bbs/Food/M.1416146914.A.867.html\n",
      "The page 76 9 https://www.ptt.cc/bbs/Food/M.1416147701.A.AEE.html\n",
      "The page 76 8 https://www.ptt.cc/bbs/Food/M.1416148365.A.520.html\n",
      "The page 76 7 https://www.ptt.cc/bbs/Food/M.1416148884.A.6F1.html\n",
      "The page 76 6 https://www.ptt.cc/bbs/Food/M.1416149361.A.5C2.html\n",
      "The page 76 5 https://www.ptt.cc/bbs/Food/M.1416149626.A.EBA.html\n",
      "The page 76 4 https://www.ptt.cc/bbs/Food/M.1416150276.A.03D.html\n",
      "The page 76 3 https://www.ptt.cc/bbs/Food/M.1416150691.A.9FF.html\n",
      "The page 76 2 https://www.ptt.cc/bbs/Food/M.1416151019.A.91D.html\n",
      "The page 76 1 https://www.ptt.cc/bbs/Food/M.1416151367.A.C22.html\n",
      "The 75 page https://www.ptt.cc/bbs/Food/index3075.html starts:\n"
     ]
    },
    {
     "name": "stderr",
     "output_type": "stream",
     "text": [
      "/anaconda3/lib/python3.7/site-packages/urllib3/connectionpool.py:847: InsecureRequestWarning: Unverified HTTPS request is being made. Adding certificate verification is strongly advised. See: https://urllib3.readthedocs.io/en/latest/advanced-usage.html#ssl-warnings\n",
      "  InsecureRequestWarning)\n"
     ]
    },
    {
     "name": "stdout",
     "output_type": "stream",
     "text": [
      "The page 75 20 https://www.ptt.cc/bbs/Food/M.1416116199.A.8E8.html\n",
      "The page 75 19 https://www.ptt.cc/bbs/Food/M.1416116547.A.899.html\n",
      "The page 75 18 https://www.ptt.cc/bbs/Food/M.1416120357.A.31F.html\n",
      "The page 75 17 https://www.ptt.cc/bbs/Food/M.1416121701.A.E92.html\n",
      "The page 75 16 https://www.ptt.cc/bbs/Food/M.1416127647.A.847.html\n",
      "The page 75 15 https://www.ptt.cc/bbs/Food/M.1416128439.A.DB8.html\n",
      "The page 75 14 https://www.ptt.cc/bbs/Food/M.1416129019.A.9C1.html\n",
      "The page 75 13 https://www.ptt.cc/bbs/Food/M.1416131261.A.4CD.html\n",
      "The page 75 12 https://www.ptt.cc/bbs/Food/M.1416131558.A.B4A.html\n",
      "The page 75 11 https://www.ptt.cc/bbs/Food/M.1416131600.A.67B.html\n",
      "The page 75 10 https://www.ptt.cc/bbs/Food/M.1416132390.A.62B.html\n",
      "The page 75 9 https://www.ptt.cc/bbs/Food/M.1416133234.A.748.html\n",
      "The page 75 8 https://www.ptt.cc/bbs/Food/M.1416134000.A.BA2.html\n",
      "The page 75 7 https://www.ptt.cc/bbs/Food/M.1416134357.A.3C9.html\n",
      "The page 75 6 https://www.ptt.cc/bbs/Food/M.1416139094.A.14B.html\n",
      "The page 75 5 https://www.ptt.cc/bbs/Food/M.1416139395.A.F9C.html\n",
      "The page 75 4 https://www.ptt.cc/bbs/Food/M.1416140949.A.BF4.html\n",
      "The page 75 3 https://www.ptt.cc/bbs/Food/M.1416141659.A.F59.html\n",
      "The page 75 2 https://www.ptt.cc/bbs/Food/M.1416141907.A.568.html\n",
      "The page 75 1 https://www.ptt.cc/bbs/Food/M.1416142018.A.AE4.html\n",
      "The 74 page https://www.ptt.cc/bbs/Food/index3074.html starts:\n"
     ]
    },
    {
     "name": "stderr",
     "output_type": "stream",
     "text": [
      "/anaconda3/lib/python3.7/site-packages/urllib3/connectionpool.py:847: InsecureRequestWarning: Unverified HTTPS request is being made. Adding certificate verification is strongly advised. See: https://urllib3.readthedocs.io/en/latest/advanced-usage.html#ssl-warnings\n",
      "  InsecureRequestWarning)\n"
     ]
    },
    {
     "name": "stdout",
     "output_type": "stream",
     "text": [
      "The page 74 20 https://www.ptt.cc/bbs/Food/M.1416066021.A.64A.html\n",
      "The page 74 19 https://www.ptt.cc/bbs/Food/M.1416066981.A.55F.html\n",
      "The page 74 18 https://www.ptt.cc/bbs/Food/M.1416067072.A.993.html\n",
      "The page 74 17 https://www.ptt.cc/bbs/Food/M.1416068713.A.FA5.html\n",
      "The page 74 16 https://www.ptt.cc/bbs/Food/M.1416069435.A.EBE.html\n",
      "The page 74 15 https://www.ptt.cc/bbs/Food/M.1416069449.A.795.html\n",
      "The page 74 14 https://www.ptt.cc/bbs/Food/M.1416069653.A.EEF.html\n",
      "The page 74 13 https://www.ptt.cc/bbs/Food/M.1416072738.A.ABB.html\n",
      "The page 74 12 https://www.ptt.cc/bbs/Food/M.1416072759.A.268.html\n",
      "The page 74 11 https://www.ptt.cc/bbs/Food/M.1416073977.A.9C6.html\n",
      "The page 74 10 https://www.ptt.cc/bbs/Food/M.1416081168.A.F36.html\n",
      "The page 74 9 https://www.ptt.cc/bbs/Food/M.1416097589.A.37D.html\n",
      "The page 74 8 https://www.ptt.cc/bbs/Food/M.1416100753.A.AD6.html\n",
      "The page 74 7 https://www.ptt.cc/bbs/Food/M.1416101169.A.5A7.html\n",
      "The page 74 6 https://www.ptt.cc/bbs/Food/M.1416101685.A.54F.html\n",
      "The page 74 5 https://www.ptt.cc/bbs/Food/M.1416110624.A.975.html\n",
      "The page 74 4 https://www.ptt.cc/bbs/Food/M.1416111013.A.AC7.html\n",
      "The page 74 3 https://www.ptt.cc/bbs/Food/M.1416111481.A.EA4.html\n",
      "The page 74 2 https://www.ptt.cc/bbs/Food/M.1416113366.A.DD3.html\n",
      "The page 74 1 https://www.ptt.cc/bbs/Food/M.1416114484.A.8BD.html\n",
      "The 73 page https://www.ptt.cc/bbs/Food/index3073.html starts:\n"
     ]
    },
    {
     "name": "stderr",
     "output_type": "stream",
     "text": [
      "/anaconda3/lib/python3.7/site-packages/urllib3/connectionpool.py:847: InsecureRequestWarning: Unverified HTTPS request is being made. Adding certificate verification is strongly advised. See: https://urllib3.readthedocs.io/en/latest/advanced-usage.html#ssl-warnings\n",
      "  InsecureRequestWarning)\n"
     ]
    },
    {
     "name": "stdout",
     "output_type": "stream",
     "text": [
      "The page 73 20 https://www.ptt.cc/bbs/Food/M.1416042227.A.AA1.html\n",
      "The page 73 19 https://www.ptt.cc/bbs/Food/M.1416042603.A.A0F.html\n",
      "The page 73 18 https://www.ptt.cc/bbs/Food/M.1416043164.A.930.html\n",
      "The page 73 17 https://www.ptt.cc/bbs/Food/M.1416045735.A.159.html\n",
      "The page 73 16 https://www.ptt.cc/bbs/Food/M.1416045745.A.247.html\n",
      "The page 73 15 https://www.ptt.cc/bbs/Food/M.1416049336.A.F47.html\n",
      "The page 73 14 https://www.ptt.cc/bbs/Food/M.1416050945.A.B34.html\n",
      "The page 73 13 https://www.ptt.cc/bbs/Food/M.1416050988.A.FEB.html\n",
      "The page 73 12 https://www.ptt.cc/bbs/Food/M.1416053442.A.D8D.html\n",
      "The page 73 11 https://www.ptt.cc/bbs/Food/M.1416058094.A.B79.html\n",
      "The page 73 10 https://www.ptt.cc/bbs/Food/M.1416059022.A.901.html\n",
      "The page 73 9 https://www.ptt.cc/bbs/Food/M.1416059689.A.419.html\n",
      "The page 73 8 https://www.ptt.cc/bbs/Food/M.1416060556.A.45B.html\n",
      "The page 73 7 https://www.ptt.cc/bbs/Food/M.1416060638.A.10D.html\n",
      "The page 73 6 https://www.ptt.cc/bbs/Food/M.1416061342.A.BC4.html\n",
      "The page 73 5 https://www.ptt.cc/bbs/Food/M.1416061448.A.053.html\n",
      "The page 73 4 https://www.ptt.cc/bbs/Food/M.1416063287.A.1AB.html\n",
      "The page 73 3 https://www.ptt.cc/bbs/Food/M.1416063586.A.664.html\n",
      "The page 73 2 https://www.ptt.cc/bbs/Food/M.1416064736.A.DE3.html\n",
      "The page 73 1 https://www.ptt.cc/bbs/Food/M.1416065968.A.D8C.html\n",
      "The 72 page https://www.ptt.cc/bbs/Food/index3072.html starts:\n"
     ]
    },
    {
     "name": "stderr",
     "output_type": "stream",
     "text": [
      "/anaconda3/lib/python3.7/site-packages/urllib3/connectionpool.py:847: InsecureRequestWarning: Unverified HTTPS request is being made. Adding certificate verification is strongly advised. See: https://urllib3.readthedocs.io/en/latest/advanced-usage.html#ssl-warnings\n",
      "  InsecureRequestWarning)\n"
     ]
    },
    {
     "name": "stdout",
     "output_type": "stream",
     "text": [
      "The page 72 20 https://www.ptt.cc/bbs/Food/M.1415983296.A.844.html\n",
      "The page 72 19 https://www.ptt.cc/bbs/Food/M.1415983781.A.0F0.html\n",
      "The page 72 18 https://www.ptt.cc/bbs/Food/M.1415987050.A.5E5.html\n",
      "The page 72 17 https://www.ptt.cc/bbs/Food/M.1415991843.A.EF3.html\n",
      "The page 72 16 https://www.ptt.cc/bbs/Food/M.1416012728.A.A30.html\n",
      "The page 72 15 https://www.ptt.cc/bbs/Food/M.1416014604.A.CE9.html\n",
      "The page 72 14 https://www.ptt.cc/bbs/Food/M.1416015199.A.EEC.html\n",
      "The page 72 13 https://www.ptt.cc/bbs/Food/M.1416019576.A.381.html\n",
      "The page 72 12 https://www.ptt.cc/bbs/Food/M.1416020622.A.C7D.html\n",
      "The page 72 11 https://www.ptt.cc/bbs/Food/M.1416026692.A.0FC.html\n",
      "The page 72 10 https://www.ptt.cc/bbs/Food/M.1416026893.A.774.html\n",
      "The page 72 9 https://www.ptt.cc/bbs/Food/M.1416027125.A.24D.html\n",
      "The page 72 8 https://www.ptt.cc/bbs/Food/M.1416027178.A.CAC.html\n",
      "The page 72 7 https://www.ptt.cc/bbs/Food/M.1416029775.A.8E7.html\n",
      "The page 72 6 https://www.ptt.cc/bbs/Food/M.1416029969.A.9F0.html\n",
      "The page 72 5 https://www.ptt.cc/bbs/Food/M.1416030121.A.521.html\n",
      "The page 72 4 https://www.ptt.cc/bbs/Food/M.1416030688.A.481.html\n",
      "The page 72 3 https://www.ptt.cc/bbs/Food/M.1416031744.A.196.html\n",
      "The page 72 2 https://www.ptt.cc/bbs/Food/M.1416037996.A.42C.html\n",
      "The page 72 1 https://www.ptt.cc/bbs/Food/M.1416041594.A.6C8.html\n",
      "The 71 page https://www.ptt.cc/bbs/Food/index3071.html starts:\n"
     ]
    },
    {
     "name": "stderr",
     "output_type": "stream",
     "text": [
      "/anaconda3/lib/python3.7/site-packages/urllib3/connectionpool.py:847: InsecureRequestWarning: Unverified HTTPS request is being made. Adding certificate verification is strongly advised. See: https://urllib3.readthedocs.io/en/latest/advanced-usage.html#ssl-warnings\n",
      "  InsecureRequestWarning)\n"
     ]
    },
    {
     "name": "stdout",
     "output_type": "stream",
     "text": [
      "The page 71 20 https://www.ptt.cc/bbs/Food/M.1415975484.A.1F9.html\n",
      "The page 71 19 https://www.ptt.cc/bbs/Food/M.1415975743.A.509.html\n",
      "The page 71 18 https://www.ptt.cc/bbs/Food/M.1415976951.A.8CB.html\n",
      "The page 71 17 https://www.ptt.cc/bbs/Food/M.1415977108.A.1DA.html\n",
      "The page 71 16 https://www.ptt.cc/bbs/Food/M.1415977217.A.197.html\n",
      "The page 71 15 https://www.ptt.cc/bbs/Food/M.1415977429.A.47C.html\n",
      "The page 71 14 https://www.ptt.cc/bbs/Food/M.1415978028.A.C31.html\n",
      "The page 71 13 https://www.ptt.cc/bbs/Food/M.1415978126.A.7C2.html\n",
      "The page 71 12 https://www.ptt.cc/bbs/Food/M.1415978226.A.305.html\n",
      "The page 71 11 https://www.ptt.cc/bbs/Food/M.1415978359.A.237.html\n",
      "The page 71 10 https://www.ptt.cc/bbs/Food/M.1415978687.A.B11.html\n",
      "The page 71 9 https://www.ptt.cc/bbs/Food/M.1415978874.A.2EF.html\n",
      "The page 71 8 https://www.ptt.cc/bbs/Food/M.1415978897.A.55D.html\n",
      "The page 71 7 https://www.ptt.cc/bbs/Food/M.1415979148.A.031.html\n",
      "The page 71 6 https://www.ptt.cc/bbs/Food/M.1415980266.A.005.html\n",
      "The page 71 5 https://www.ptt.cc/bbs/Food/M.1415980522.A.F0F.html\n",
      "The page 71 4 https://www.ptt.cc/bbs/Food/M.1415980618.A.12B.html\n",
      "The page 71 3 https://www.ptt.cc/bbs/Food/M.1415980640.A.A2D.html\n",
      "The page 71 2 https://www.ptt.cc/bbs/Food/M.1415980991.A.74D.html\n",
      "The page 71 1 https://www.ptt.cc/bbs/Food/M.1415981242.A.3D7.html\n",
      "The 70 page https://www.ptt.cc/bbs/Food/index3070.html starts:\n"
     ]
    },
    {
     "name": "stderr",
     "output_type": "stream",
     "text": [
      "/anaconda3/lib/python3.7/site-packages/urllib3/connectionpool.py:847: InsecureRequestWarning: Unverified HTTPS request is being made. Adding certificate verification is strongly advised. See: https://urllib3.readthedocs.io/en/latest/advanced-usage.html#ssl-warnings\n",
      "  InsecureRequestWarning)\n"
     ]
    },
    {
     "name": "stdout",
     "output_type": "stream",
     "text": [
      "The page 70 20 https://www.ptt.cc/bbs/Food/M.1415957659.A.628.html\n",
      "The page 70 19 https://www.ptt.cc/bbs/Food/M.1415957852.A.960.html\n",
      "The page 70 18 https://www.ptt.cc/bbs/Food/M.1415959121.A.B72.html\n",
      "The page 70 17 https://www.ptt.cc/bbs/Food/M.1415960194.A.734.html\n",
      "The page 70 16 https://www.ptt.cc/bbs/Food/M.1415961223.A.FC5.html\n",
      "The page 70 15 https://www.ptt.cc/bbs/Food/M.1415963105.A.D2D.html\n",
      "The page 70 14 https://www.ptt.cc/bbs/Food/M.1415963383.A.982.html\n",
      "The page 70 13 https://www.ptt.cc/bbs/Food/M.1415963996.A.9EA.html\n",
      "The page 70 12 https://www.ptt.cc/bbs/Food/M.1415964110.A.2EF.html\n",
      "The page 70 11 https://www.ptt.cc/bbs/Food/M.1415964897.A.D19.html\n",
      "The page 70 10 https://www.ptt.cc/bbs/Food/M.1415969512.A.295.html\n",
      "The page 70 9 https://www.ptt.cc/bbs/Food/M.1415970564.A.EB9.html\n",
      "The page 70 8 https://www.ptt.cc/bbs/Food/M.1415970930.A.DAD.html\n",
      "The page 70 7 https://www.ptt.cc/bbs/Food/M.1415972894.A.7BA.html\n",
      "The page 70 6 https://www.ptt.cc/bbs/Food/M.1415972911.A.8AE.html\n",
      "The page 70 5 https://www.ptt.cc/bbs/Food/M.1415972923.A.020.html\n",
      "The page 70 4 https://www.ptt.cc/bbs/Food/M.1415974098.A.512.html\n",
      "The page 70 3 https://www.ptt.cc/bbs/Food/M.1415974768.A.412.html\n",
      "The page 70 2 https://www.ptt.cc/bbs/Food/M.1415974962.A.D2E.html\n",
      "The page 70 1 https://www.ptt.cc/bbs/Food/M.1415975008.A.0EA.html\n",
      "The 69 page https://www.ptt.cc/bbs/Food/index3069.html starts:\n"
     ]
    },
    {
     "name": "stderr",
     "output_type": "stream",
     "text": [
      "/anaconda3/lib/python3.7/site-packages/urllib3/connectionpool.py:847: InsecureRequestWarning: Unverified HTTPS request is being made. Adding certificate verification is strongly advised. See: https://urllib3.readthedocs.io/en/latest/advanced-usage.html#ssl-warnings\n",
      "  InsecureRequestWarning)\n"
     ]
    },
    {
     "name": "stdout",
     "output_type": "stream",
     "text": [
      "The page 69 20 https://www.ptt.cc/bbs/Food/M.1415925234.A.164.html\n",
      "The page 69 19 https://www.ptt.cc/bbs/Food/M.1415931956.A.98D.html\n",
      "The page 69 18 https://www.ptt.cc/bbs/Food/M.1415932185.A.EDF.html\n",
      "The page 69 17 https://www.ptt.cc/bbs/Food/M.1415933457.A.ACC.html\n",
      "The page 69 16 https://www.ptt.cc/bbs/Food/M.1415934251.A.7BD.html\n",
      "The page 69 15 https://www.ptt.cc/bbs/Food/M.1415936685.A.446.html\n",
      "The page 69 14 https://www.ptt.cc/bbs/Food/M.1415936902.A.B13.html\n",
      "The page 69 13 https://www.ptt.cc/bbs/Food/M.1415938317.A.3D5.html\n",
      "The page 69 12 https://www.ptt.cc/bbs/Food/M.1415939037.A.1E3.html\n",
      "The page 69 11 https://www.ptt.cc/bbs/Food/M.1415940068.A.616.html\n",
      "The page 69 10 https://www.ptt.cc/bbs/Food/M.1415941109.A.A40.html\n",
      "The page 69 9 https://www.ptt.cc/bbs/Food/M.1415941204.A.9B5.html\n",
      "The page 69 8 https://www.ptt.cc/bbs/Food/M.1415942213.A.61C.html\n",
      "The page 69 7 https://www.ptt.cc/bbs/Food/M.1415944037.A.3B0.html\n",
      "The page 69 6 https://www.ptt.cc/bbs/Food/M.1415945119.A.EFE.html\n",
      "The page 69 5 https://www.ptt.cc/bbs/Food/M.1415947586.A.E5E.html\n",
      "The page 69 4 https://www.ptt.cc/bbs/Food/M.1415948153.A.20E.html\n",
      "The page 69 3 https://www.ptt.cc/bbs/Food/M.1415956051.A.E9C.html\n",
      "The page 69 2 https://www.ptt.cc/bbs/Food/M.1415956789.A.D80.html\n",
      "The page 69 1 https://www.ptt.cc/bbs/Food/M.1415957281.A.EFC.html\n",
      "The 68 page https://www.ptt.cc/bbs/Food/index3068.html starts:\n"
     ]
    },
    {
     "name": "stderr",
     "output_type": "stream",
     "text": [
      "/anaconda3/lib/python3.7/site-packages/urllib3/connectionpool.py:847: InsecureRequestWarning: Unverified HTTPS request is being made. Adding certificate verification is strongly advised. See: https://urllib3.readthedocs.io/en/latest/advanced-usage.html#ssl-warnings\n",
      "  InsecureRequestWarning)\n"
     ]
    },
    {
     "name": "stdout",
     "output_type": "stream",
     "text": [
      "The page 68 20 https://www.ptt.cc/bbs/Food/M.1415885759.A.DB7.html\n",
      "The page 68 19 https://www.ptt.cc/bbs/Food/M.1415886021.A.8F4.html\n",
      "The page 68 18 https://www.ptt.cc/bbs/Food/M.1415886059.A.821.html\n",
      "The page 68 17 https://www.ptt.cc/bbs/Food/M.1415886294.A.A1F.html\n",
      "The page 68 16 https://www.ptt.cc/bbs/Food/M.1415886651.A.11F.html\n",
      "The page 68 15 https://www.ptt.cc/bbs/Food/M.1415886771.A.52C.html\n",
      "The page 68 14 https://www.ptt.cc/bbs/Food/M.1415887180.A.3AA.html\n",
      "The page 68 13 https://www.ptt.cc/bbs/Food/M.1415888181.A.499.html\n",
      "The page 68 12 https://www.ptt.cc/bbs/Food/M.1415888412.A.21E.html\n",
      "The page 68 11 https://www.ptt.cc/bbs/Food/M.1415889676.A.AF5.html\n",
      "The page 68 10 https://www.ptt.cc/bbs/Food/M.1415890572.A.545.html\n",
      "The page 68 9 https://www.ptt.cc/bbs/Food/M.1415890584.A.D69.html\n",
      "The page 68 8 https://www.ptt.cc/bbs/Food/M.1415890830.A.08C.html\n",
      "The page 68 7 https://www.ptt.cc/bbs/Food/M.1415892235.A.0B9.html\n",
      "The page 68 6 https://www.ptt.cc/bbs/Food/M.1415893679.A.CF8.html\n",
      "The page 68 5 https://www.ptt.cc/bbs/Food/M.1415894933.A.D2F.html\n",
      "The page 68 4 https://www.ptt.cc/bbs/Food/M.1415900773.A.0AB.html\n",
      "The page 68 3 https://www.ptt.cc/bbs/Food/M.1415904233.A.471.html\n",
      "The page 68 2 https://www.ptt.cc/bbs/Food/M.1415904631.A.BA1.html\n",
      "The page 68 1 https://www.ptt.cc/bbs/Food/M.1415908151.A.2EC.html\n",
      "The 67 page https://www.ptt.cc/bbs/Food/index3067.html starts:\n"
     ]
    },
    {
     "name": "stderr",
     "output_type": "stream",
     "text": [
      "/anaconda3/lib/python3.7/site-packages/urllib3/connectionpool.py:847: InsecureRequestWarning: Unverified HTTPS request is being made. Adding certificate verification is strongly advised. See: https://urllib3.readthedocs.io/en/latest/advanced-usage.html#ssl-warnings\n",
      "  InsecureRequestWarning)\n"
     ]
    },
    {
     "name": "stdout",
     "output_type": "stream",
     "text": [
      "The page 67 20 https://www.ptt.cc/bbs/Food/M.1415867271.A.3EA.html\n",
      "The page 67 19 https://www.ptt.cc/bbs/Food/M.1415867630.A.25B.html\n",
      "The page 67 18 https://www.ptt.cc/bbs/Food/M.1415867868.A.AC9.html\n",
      "The page 67 17 https://www.ptt.cc/bbs/Food/M.1415870827.A.872.html\n",
      "The page 67 16 https://www.ptt.cc/bbs/Food/M.1415872425.A.2BF.html\n",
      "The page 67 15 https://www.ptt.cc/bbs/Food/M.1415872436.A.368.html\n",
      "The page 67 14 https://www.ptt.cc/bbs/Food/M.1415872607.A.967.html\n",
      "The page 67 13 https://www.ptt.cc/bbs/Food/M.1415875187.A.7BA.html\n",
      "The page 67 12 https://www.ptt.cc/bbs/Food/M.1415878273.A.823.html\n",
      "The page 67 11 https://www.ptt.cc/bbs/Food/M.1415878635.A.275.html\n",
      "The page 67 10 https://www.ptt.cc/bbs/Food/M.1415878777.A.216.html\n",
      "The page 67 9 https://www.ptt.cc/bbs/Food/M.1415881074.A.A71.html\n",
      "The page 67 8 https://www.ptt.cc/bbs/Food/M.1415881135.A.ABD.html\n",
      "The page 67 7 https://www.ptt.cc/bbs/Food/M.1415881265.A.DF2.html\n",
      "The page 67 6 https://www.ptt.cc/bbs/Food/M.1415881646.A.AF4.html\n",
      "The page 67 5 https://www.ptt.cc/bbs/Food/M.1415881684.A.A46.html\n",
      "The page 67 4 https://www.ptt.cc/bbs/Food/M.1415882946.A.A5A.html\n",
      "The page 67 3 https://www.ptt.cc/bbs/Food/M.1415883093.A.569.html\n",
      "The page 67 2 https://www.ptt.cc/bbs/Food/M.1415885107.A.A72.html\n",
      "The page 67 1 https://www.ptt.cc/bbs/Food/M.1415885580.A.D4C.html\n",
      "The 66 page https://www.ptt.cc/bbs/Food/index3066.html starts:\n"
     ]
    },
    {
     "name": "stderr",
     "output_type": "stream",
     "text": [
      "/anaconda3/lib/python3.7/site-packages/urllib3/connectionpool.py:847: InsecureRequestWarning: Unverified HTTPS request is being made. Adding certificate verification is strongly advised. See: https://urllib3.readthedocs.io/en/latest/advanced-usage.html#ssl-warnings\n",
      "  InsecureRequestWarning)\n"
     ]
    },
    {
     "name": "stdout",
     "output_type": "stream",
     "text": [
      "The page 66 20 https://www.ptt.cc/bbs/Food/M.1415807390.A.B9E.html\n",
      "The page 66 19 https://www.ptt.cc/bbs/Food/M.1415807651.A.2E8.html\n",
      "The page 66 18 https://www.ptt.cc/bbs/Food/M.1415808322.A.CF5.html\n",
      "The page 66 17 https://www.ptt.cc/bbs/Food/M.1415808503.A.547.html\n",
      "The page 66 16 https://www.ptt.cc/bbs/Food/M.1415808719.A.34E.html\n",
      "The page 66 15 https://www.ptt.cc/bbs/Food/M.1415809235.A.16F.html\n",
      "The page 66 14 https://www.ptt.cc/bbs/Food/M.1415810782.A.11D.html\n",
      "The page 66 13 https://www.ptt.cc/bbs/Food/M.1415811915.A.347.html\n",
      "The page 66 12 https://www.ptt.cc/bbs/Food/M.1415814328.A.114.html\n",
      "The page 66 11 https://www.ptt.cc/bbs/Food/M.1415843210.A.169.html\n",
      "The page 66 10 https://www.ptt.cc/bbs/Food/M.1415844367.A.C3F.html\n",
      "The page 66 9 https://www.ptt.cc/bbs/Food/M.1415847978.A.451.html\n",
      "The page 66 8 https://www.ptt.cc/bbs/Food/M.1415849419.A.78C.html\n",
      "The page 66 7 https://www.ptt.cc/bbs/Food/M.1415849692.A.68B.html\n",
      "The page 66 6 https://www.ptt.cc/bbs/Food/M.1415853780.A.5EE.html\n",
      "The page 66 5 https://www.ptt.cc/bbs/Food/M.1415859081.A.A0E.html\n",
      "The page 66 4 https://www.ptt.cc/bbs/Food/M.1415859167.A.01E.html\n",
      "The page 66 3 https://www.ptt.cc/bbs/Food/M.1415860050.A.3E7.html\n",
      "The page 66 2 https://www.ptt.cc/bbs/Food/M.1415865978.A.4CF.html\n",
      "The page 66 1 https://www.ptt.cc/bbs/Food/M.1415866163.A.A38.html\n",
      "The 65 page https://www.ptt.cc/bbs/Food/index3065.html starts:\n"
     ]
    },
    {
     "name": "stderr",
     "output_type": "stream",
     "text": [
      "/anaconda3/lib/python3.7/site-packages/urllib3/connectionpool.py:847: InsecureRequestWarning: Unverified HTTPS request is being made. Adding certificate verification is strongly advised. See: https://urllib3.readthedocs.io/en/latest/advanced-usage.html#ssl-warnings\n",
      "  InsecureRequestWarning)\n"
     ]
    },
    {
     "name": "stdout",
     "output_type": "stream",
     "text": [
      "The page 65 20 https://www.ptt.cc/bbs/Food/M.1415800240.A.802.html\n",
      "The page 65 19 https://www.ptt.cc/bbs/Food/M.1415800816.A.B86.html\n",
      "The page 65 18 https://www.ptt.cc/bbs/Food/M.1415801191.A.37C.html\n",
      "The page 65 17 https://www.ptt.cc/bbs/Food/M.1415801300.A.8D7.html\n",
      "The page 65 16 https://www.ptt.cc/bbs/Food/M.1415801487.A.560.html\n",
      "The page 65 15 https://www.ptt.cc/bbs/Food/M.1415801510.A.B01.html\n",
      "The page 65 14 https://www.ptt.cc/bbs/Food/M.1415802736.A.E4B.html\n",
      "The page 65 13 https://www.ptt.cc/bbs/Food/M.1415802751.A.E59.html\n",
      "The page 65 12 https://www.ptt.cc/bbs/Food/M.1415803320.A.F4F.html\n",
      "The page 65 11 https://www.ptt.cc/bbs/Food/M.1415804101.A.8E6.html\n",
      "The page 65 10 https://www.ptt.cc/bbs/Food/M.1415804287.A.949.html\n",
      "The page 65 9 https://www.ptt.cc/bbs/Food/M.1415804387.A.B3E.html\n",
      "The page 65 8 https://www.ptt.cc/bbs/Food/M.1415804502.A.1D0.html\n",
      "The page 65 7 https://www.ptt.cc/bbs/Food/M.1415805449.A.B2D.html\n",
      "The page 65 6 https://www.ptt.cc/bbs/Food/M.1415805498.A.BA0.html\n",
      "The page 65 5 https://www.ptt.cc/bbs/Food/M.1415805979.A.6FA.html\n",
      "The page 65 4 https://www.ptt.cc/bbs/Food/M.1415806036.A.FC0.html\n",
      "The page 65 3 https://www.ptt.cc/bbs/Food/M.1415806372.A.3A4.html\n",
      "The page 65 2 https://www.ptt.cc/bbs/Food/M.1415806963.A.245.html\n",
      "The page 65 1 https://www.ptt.cc/bbs/Food/M.1415807303.A.10A.html\n",
      "The 64 page https://www.ptt.cc/bbs/Food/index3064.html starts:\n"
     ]
    },
    {
     "name": "stderr",
     "output_type": "stream",
     "text": [
      "/anaconda3/lib/python3.7/site-packages/urllib3/connectionpool.py:847: InsecureRequestWarning: Unverified HTTPS request is being made. Adding certificate verification is strongly advised. See: https://urllib3.readthedocs.io/en/latest/advanced-usage.html#ssl-warnings\n",
      "  InsecureRequestWarning)\n"
     ]
    },
    {
     "name": "stdout",
     "output_type": "stream",
     "text": [
      "The page 64 20 https://www.ptt.cc/bbs/Food/M.1415792591.A.BDB.html\n",
      "The page 64 19 https://www.ptt.cc/bbs/Food/M.1415793097.A.4A3.html\n",
      "The page 64 18 https://www.ptt.cc/bbs/Food/M.1415793836.A.206.html\n",
      "The page 64 17 https://www.ptt.cc/bbs/Food/M.1415794678.A.EE6.html\n",
      "The page 64 16 https://www.ptt.cc/bbs/Food/M.1415794719.A.838.html\n",
      "The page 64 15 https://www.ptt.cc/bbs/Food/M.1415794908.A.061.html\n",
      "The page 64 14 https://www.ptt.cc/bbs/Food/M.1415795287.A.416.html\n",
      "The page 64 13 https://www.ptt.cc/bbs/Food/M.1415795348.A.867.html\n",
      "The page 64 12 https://www.ptt.cc/bbs/Food/M.1415795890.A.9BE.html\n",
      "The page 64 11 https://www.ptt.cc/bbs/Food/M.1415796730.A.204.html\n",
      "The page 64 10 https://www.ptt.cc/bbs/Food/M.1415797186.A.18F.html\n",
      "The page 64 9 https://www.ptt.cc/bbs/Food/M.1415797489.A.515.html\n",
      "The page 64 8 https://www.ptt.cc/bbs/Food/M.1415798210.A.014.html\n",
      "The page 64 7 https://www.ptt.cc/bbs/Food/M.1415798620.A.4BA.html\n",
      "The page 64 6 https://www.ptt.cc/bbs/Food/M.1415798684.A.9D4.html\n",
      "The page 64 5 https://www.ptt.cc/bbs/Food/M.1415798725.A.A01.html\n",
      "The page 64 4 https://www.ptt.cc/bbs/Food/M.1415799212.A.836.html\n",
      "The page 64 3 https://www.ptt.cc/bbs/Food/M.1415799238.A.A0E.html\n",
      "The page 64 2 https://www.ptt.cc/bbs/Food/M.1415799663.A.016.html\n",
      "The page 64 1 https://www.ptt.cc/bbs/Food/M.1415800100.A.320.html\n",
      "The 63 page https://www.ptt.cc/bbs/Food/index3063.html starts:\n"
     ]
    },
    {
     "name": "stderr",
     "output_type": "stream",
     "text": [
      "/anaconda3/lib/python3.7/site-packages/urllib3/connectionpool.py:847: InsecureRequestWarning: Unverified HTTPS request is being made. Adding certificate verification is strongly advised. See: https://urllib3.readthedocs.io/en/latest/advanced-usage.html#ssl-warnings\n",
      "  InsecureRequestWarning)\n"
     ]
    },
    {
     "name": "stdout",
     "output_type": "stream",
     "text": [
      "The page 63 20 https://www.ptt.cc/bbs/Food/M.1415779408.A.918.html\n",
      "The page 63 19 https://www.ptt.cc/bbs/Food/M.1415782296.A.E49.html\n",
      "The page 63 18 https://www.ptt.cc/bbs/Food/M.1415782444.A.13F.html\n",
      "The page 63 17 https://www.ptt.cc/bbs/Food/M.1415783173.A.485.html\n",
      "The page 63 16 https://www.ptt.cc/bbs/Food/M.1415783704.A.0BC.html\n",
      "The page 63 15 https://www.ptt.cc/bbs/Food/M.1415784761.A.77E.html\n",
      "The page 63 14 https://www.ptt.cc/bbs/Food/M.1415785707.A.4A0.html\n",
      "The page 63 13 https://www.ptt.cc/bbs/Food/M.1415786316.A.35C.html\n",
      "The page 63 12 https://www.ptt.cc/bbs/Food/M.1415786696.A.925.html\n",
      "The page 63 11 https://www.ptt.cc/bbs/Food/M.1415786896.A.F4A.html\n",
      "The page 63 10 https://www.ptt.cc/bbs/Food/M.1415788817.A.120.html\n",
      "The page 63 9 https://www.ptt.cc/bbs/Food/M.1415789021.A.B1E.html\n",
      "The page 63 8 https://www.ptt.cc/bbs/Food/M.1415790088.A.B7C.html\n",
      "The page 63 7 https://www.ptt.cc/bbs/Food/M.1415790623.A.636.html\n",
      "The page 63 6 https://www.ptt.cc/bbs/Food/M.1415790762.A.44B.html\n",
      "The page 63 5 https://www.ptt.cc/bbs/Food/M.1415790990.A.94F.html\n",
      "The page 63 4 https://www.ptt.cc/bbs/Food/M.1415791571.A.571.html\n",
      "The page 63 3 https://www.ptt.cc/bbs/Food/M.1415791858.A.AC8.html\n",
      "The page 63 2 https://www.ptt.cc/bbs/Food/M.1415791983.A.E48.html\n",
      "The page 63 1 https://www.ptt.cc/bbs/Food/M.1415792304.A.B6E.html\n",
      "The 62 page https://www.ptt.cc/bbs/Food/index3062.html starts:\n"
     ]
    },
    {
     "name": "stderr",
     "output_type": "stream",
     "text": [
      "/anaconda3/lib/python3.7/site-packages/urllib3/connectionpool.py:847: InsecureRequestWarning: Unverified HTTPS request is being made. Adding certificate verification is strongly advised. See: https://urllib3.readthedocs.io/en/latest/advanced-usage.html#ssl-warnings\n",
      "  InsecureRequestWarning)\n"
     ]
    },
    {
     "name": "stdout",
     "output_type": "stream",
     "text": [
      "The page 62 20 https://www.ptt.cc/bbs/Food/M.1415762918.A.E1D.html\n",
      "The page 62 19 https://www.ptt.cc/bbs/Food/M.1415764579.A.BE1.html\n",
      "The page 62 18 https://www.ptt.cc/bbs/Food/M.1415764882.A.3A1.html\n",
      "The page 62 17 https://www.ptt.cc/bbs/Food/M.1415765322.A.6B2.html\n",
      "The page 62 16 https://www.ptt.cc/bbs/Food/M.1415765692.A.F65.html\n",
      "The page 62 15 https://www.ptt.cc/bbs/Food/M.1415765788.A.FA1.html\n",
      "The page 62 14 https://www.ptt.cc/bbs/Food/M.1415767018.A.9D5.html\n",
      "The page 62 13 https://www.ptt.cc/bbs/Food/M.1415768221.A.36C.html\n",
      "The page 62 12 https://www.ptt.cc/bbs/Food/M.1415769161.A.B04.html\n",
      "The page 62 11 https://www.ptt.cc/bbs/Food/M.1415769372.A.3F6.html\n",
      "The page 62 10 https://www.ptt.cc/bbs/Food/M.1415769463.A.7FD.html\n",
      "The page 62 9 https://www.ptt.cc/bbs/Food/M.1415770496.A.C0E.html\n",
      "The page 62 8 https://www.ptt.cc/bbs/Food/M.1415771387.A.D75.html\n",
      "The page 62 7 https://www.ptt.cc/bbs/Food/M.1415771583.A.E2A.html\n",
      "The page 62 6 https://www.ptt.cc/bbs/Food/M.1415772117.A.275.html\n",
      "The page 62 5 https://www.ptt.cc/bbs/Food/M.1415773315.A.0E8.html\n",
      "The page 62 4 https://www.ptt.cc/bbs/Food/M.1415777801.A.57A.html\n",
      "The page 62 3 https://www.ptt.cc/bbs/Food/M.1415778100.A.639.html\n",
      "The page 62 2 https://www.ptt.cc/bbs/Food/M.1415778664.A.7CF.html\n",
      "The page 62 1 https://www.ptt.cc/bbs/Food/M.1415778756.A.BCE.html\n",
      "The 61 page https://www.ptt.cc/bbs/Food/index3061.html starts:\n"
     ]
    },
    {
     "name": "stderr",
     "output_type": "stream",
     "text": [
      "/anaconda3/lib/python3.7/site-packages/urllib3/connectionpool.py:847: InsecureRequestWarning: Unverified HTTPS request is being made. Adding certificate verification is strongly advised. See: https://urllib3.readthedocs.io/en/latest/advanced-usage.html#ssl-warnings\n",
      "  InsecureRequestWarning)\n"
     ]
    },
    {
     "name": "stdout",
     "output_type": "stream",
     "text": [
      "The page 61 20 https://www.ptt.cc/bbs/Food/M.1415718301.A.F75.html\n",
      "The page 61 19 https://www.ptt.cc/bbs/Food/M.1415719177.A.A34.html\n",
      "The page 61 18 https://www.ptt.cc/bbs/Food/M.1415720012.A.0A4.html\n",
      "The page 61 17 https://www.ptt.cc/bbs/Food/M.1415721549.A.89D.html\n",
      "The page 61 16 https://www.ptt.cc/bbs/Food/M.1415721761.A.A19.html\n",
      "The page 61 15 https://www.ptt.cc/bbs/Food/M.1415722360.A.50B.html\n",
      "The page 61 14 https://www.ptt.cc/bbs/Food/M.1415723078.A.9D3.html\n",
      "The page 61 13 https://www.ptt.cc/bbs/Food/M.1415723722.A.CD3.html\n",
      "The page 61 12 https://www.ptt.cc/bbs/Food/M.1415725197.A.6AD.html\n",
      "The page 61 11 https://www.ptt.cc/bbs/Food/M.1415726012.A.355.html\n",
      "The page 61 10 https://www.ptt.cc/bbs/Food/M.1415728029.A.A01.html\n",
      "The page 61 9 https://www.ptt.cc/bbs/Food/M.1415735455.A.A59.html\n",
      "The page 61 8 https://www.ptt.cc/bbs/Food/M.1415751663.A.A78.html\n",
      "The page 61 7 https://www.ptt.cc/bbs/Food/M.1415752129.A.2B2.html\n",
      "The page 61 6 https://www.ptt.cc/bbs/Food/M.1415752934.A.AE3.html\n",
      "The page 61 5 https://www.ptt.cc/bbs/Food/M.1415753567.A.190.html\n",
      "The page 61 4 https://www.ptt.cc/bbs/Food/M.1415755293.A.606.html\n",
      "The page 61 3 https://www.ptt.cc/bbs/Food/M.1415757190.A.48E.html\n",
      "The page 61 2 https://www.ptt.cc/bbs/Food/M.1415757777.A.F9B.html\n",
      "The page 61 1 https://www.ptt.cc/bbs/Food/M.1415760414.A.FA8.html\n",
      "The 60 page https://www.ptt.cc/bbs/Food/index3060.html starts:\n"
     ]
    },
    {
     "name": "stderr",
     "output_type": "stream",
     "text": [
      "/anaconda3/lib/python3.7/site-packages/urllib3/connectionpool.py:847: InsecureRequestWarning: Unverified HTTPS request is being made. Adding certificate verification is strongly advised. See: https://urllib3.readthedocs.io/en/latest/advanced-usage.html#ssl-warnings\n",
      "  InsecureRequestWarning)\n"
     ]
    },
    {
     "name": "stdout",
     "output_type": "stream",
     "text": [
      "The page 60 20 https://www.ptt.cc/bbs/Food/M.1415709875.A.6CD.html\n",
      "The page 60 19 https://www.ptt.cc/bbs/Food/M.1415711418.A.211.html\n",
      "The page 60 18 https://www.ptt.cc/bbs/Food/M.1415711738.A.9FD.html\n",
      "The page 60 17 https://www.ptt.cc/bbs/Food/M.1415711906.A.E87.html\n",
      "The page 60 16 https://www.ptt.cc/bbs/Food/M.1415712745.A.03A.html\n",
      "The page 60 15 https://www.ptt.cc/bbs/Food/M.1415712797.A.5D2.html\n",
      "The page 60 14 https://www.ptt.cc/bbs/Food/M.1415712898.A.5B6.html\n",
      "The page 60 13 https://www.ptt.cc/bbs/Food/M.1415713001.A.5E2.html\n",
      "The page 60 12 https://www.ptt.cc/bbs/Food/M.1415713163.A.133.html\n",
      "The page 60 11 https://www.ptt.cc/bbs/Food/M.1415713350.A.394.html\n",
      "The page 60 10 https://www.ptt.cc/bbs/Food/M.1415713548.A.187.html\n",
      "The page 60 9 https://www.ptt.cc/bbs/Food/M.1415714252.A.D02.html\n",
      "The page 60 8 https://www.ptt.cc/bbs/Food/M.1415714637.A.7F1.html\n",
      "The page 60 7 https://www.ptt.cc/bbs/Food/M.1415715132.A.742.html\n",
      "The page 60 6 https://www.ptt.cc/bbs/Food/M.1415715776.A.020.html\n",
      "The page 60 5 https://www.ptt.cc/bbs/Food/M.1415715965.A.34A.html\n",
      "The page 60 4 https://www.ptt.cc/bbs/Food/M.1415716877.A.2A1.html\n",
      "The page 60 3 https://www.ptt.cc/bbs/Food/M.1415717149.A.62C.html\n",
      "The page 60 2 https://www.ptt.cc/bbs/Food/M.1415717325.A.4CA.html\n",
      "The page 60 1 https://www.ptt.cc/bbs/Food/M.1415718168.A.648.html\n",
      "The 59 page https://www.ptt.cc/bbs/Food/index3059.html starts:\n"
     ]
    },
    {
     "name": "stderr",
     "output_type": "stream",
     "text": [
      "/anaconda3/lib/python3.7/site-packages/urllib3/connectionpool.py:847: InsecureRequestWarning: Unverified HTTPS request is being made. Adding certificate verification is strongly advised. See: https://urllib3.readthedocs.io/en/latest/advanced-usage.html#ssl-warnings\n",
      "  InsecureRequestWarning)\n"
     ]
    },
    {
     "name": "stdout",
     "output_type": "stream",
     "text": [
      "The page 59 20 https://www.ptt.cc/bbs/Food/M.1415695519.A.675.html\n",
      "The page 59 19 https://www.ptt.cc/bbs/Food/M.1415696032.A.9A2.html\n",
      "The page 59 18 https://www.ptt.cc/bbs/Food/M.1415696416.A.033.html\n",
      "The page 59 17 https://www.ptt.cc/bbs/Food/M.1415696625.A.42E.html\n",
      "The page 59 16 https://www.ptt.cc/bbs/Food/M.1415696671.A.690.html\n",
      "The page 59 15 https://www.ptt.cc/bbs/Food/M.1415697585.A.F1B.html\n",
      "The page 59 14 https://www.ptt.cc/bbs/Food/M.1415698373.A.50D.html\n",
      "The page 59 13 https://www.ptt.cc/bbs/Food/M.1415698470.A.A5A.html\n",
      "The page 59 12 https://www.ptt.cc/bbs/Food/M.1415698548.A.811.html\n",
      "The page 59 11 https://www.ptt.cc/bbs/Food/M.1415698593.A.7C5.html\n",
      "The page 59 10 https://www.ptt.cc/bbs/Food/M.1415699383.A.D77.html\n",
      "The page 59 9 https://www.ptt.cc/bbs/Food/M.1415700119.A.686.html\n",
      "The page 59 8 https://www.ptt.cc/bbs/Food/M.1415702133.A.4AA.html\n",
      "The page 59 7 https://www.ptt.cc/bbs/Food/M.1415703140.A.B74.html\n",
      "The page 59 6 https://www.ptt.cc/bbs/Food/M.1415705895.A.272.html\n",
      "The page 59 5 https://www.ptt.cc/bbs/Food/M.1415706209.A.904.html\n",
      "The page 59 4 https://www.ptt.cc/bbs/Food/M.1415708073.A.B69.html\n",
      "The page 59 3 https://www.ptt.cc/bbs/Food/M.1415708605.A.D8A.html\n",
      "The page 59 2 https://www.ptt.cc/bbs/Food/M.1415708628.A.262.html\n",
      "The page 59 1 https://www.ptt.cc/bbs/Food/M.1415709375.A.863.html\n",
      "The 58 page https://www.ptt.cc/bbs/Food/index3058.html starts:\n"
     ]
    },
    {
     "name": "stderr",
     "output_type": "stream",
     "text": [
      "/anaconda3/lib/python3.7/site-packages/urllib3/connectionpool.py:847: InsecureRequestWarning: Unverified HTTPS request is being made. Adding certificate verification is strongly advised. See: https://urllib3.readthedocs.io/en/latest/advanced-usage.html#ssl-warnings\n",
      "  InsecureRequestWarning)\n"
     ]
    },
    {
     "name": "stdout",
     "output_type": "stream",
     "text": [
      "The page 58 20 https://www.ptt.cc/bbs/Food/M.1415631074.A.68A.html\n",
      "The page 58 19 https://www.ptt.cc/bbs/Food/M.1415631868.A.AC7.html\n",
      "The page 58 18 https://www.ptt.cc/bbs/Food/M.1415635763.A.292.html\n",
      "The page 58 17 https://www.ptt.cc/bbs/Food/M.1415636449.A.361.html\n",
      "The page 58 16 https://www.ptt.cc/bbs/Food/M.1415639645.A.4E3.html\n",
      "The page 58 15 https://www.ptt.cc/bbs/Food/M.1415640847.A.19A.html\n",
      "The page 58 14 https://www.ptt.cc/bbs/Food/M.1415642178.A.6D5.html\n",
      "The page 58 13 https://www.ptt.cc/bbs/Food/M.1415646261.A.611.html\n",
      "The page 58 12 https://www.ptt.cc/bbs/Food/M.1415646486.A.B7A.html\n",
      "The page 58 11 https://www.ptt.cc/bbs/Food/M.1415647681.A.560.html\n",
      "The page 58 10 https://www.ptt.cc/bbs/Food/M.1415655919.A.5C1.html\n",
      "The page 58 9 https://www.ptt.cc/bbs/Food/M.1415674353.A.A31.html\n",
      "The page 58 8 https://www.ptt.cc/bbs/Food/M.1415675500.A.3C9.html\n",
      "The page 58 7 https://www.ptt.cc/bbs/Food/M.1415676835.A.227.html\n",
      "The page 58 6 https://www.ptt.cc/bbs/Food/M.1415683512.A.7B7.html\n",
      "The page 58 5 https://www.ptt.cc/bbs/Food/M.1415683715.A.0B4.html\n",
      "The page 58 4 https://www.ptt.cc/bbs/Food/M.1415684482.A.E20.html\n",
      "The page 58 3 https://www.ptt.cc/bbs/Food/M.1415689743.A.893.html\n",
      "The page 58 2 https://www.ptt.cc/bbs/Food/M.1415690095.A.531.html\n",
      "The page 58 1 https://www.ptt.cc/bbs/Food/M.1415692441.A.B64.html\n",
      "The 57 page https://www.ptt.cc/bbs/Food/index3057.html starts:\n"
     ]
    },
    {
     "name": "stderr",
     "output_type": "stream",
     "text": [
      "/anaconda3/lib/python3.7/site-packages/urllib3/connectionpool.py:847: InsecureRequestWarning: Unverified HTTPS request is being made. Adding certificate verification is strongly advised. See: https://urllib3.readthedocs.io/en/latest/advanced-usage.html#ssl-warnings\n",
      "  InsecureRequestWarning)\n"
     ]
    },
    {
     "name": "stdout",
     "output_type": "stream",
     "text": [
      "The page 57 20 https://www.ptt.cc/bbs/Food/M.1415621346.A.9C6.html\n",
      "The page 57 19 https://www.ptt.cc/bbs/Food/M.1415624022.A.13A.html\n",
      "The page 57 18 https://www.ptt.cc/bbs/Food/M.1415624171.A.F85.html\n",
      "The page 57 17 https://www.ptt.cc/bbs/Food/M.1415624235.A.537.html\n",
      "The page 57 16 https://www.ptt.cc/bbs/Food/M.1415624654.A.24E.html\n",
      "The page 57 15 https://www.ptt.cc/bbs/Food/M.1415624902.A.CCD.html\n",
      "The page 57 14 https://www.ptt.cc/bbs/Food/M.1415625356.A.F22.html\n",
      "The page 57 13 https://www.ptt.cc/bbs/Food/M.1415625592.A.C80.html\n",
      "The page 57 12 https://www.ptt.cc/bbs/Food/M.1415626245.A.7C6.html\n",
      "The page 57 11 https://www.ptt.cc/bbs/Food/M.1415626565.A.6D1.html\n",
      "The page 57 10 https://www.ptt.cc/bbs/Food/M.1415626789.A.178.html\n",
      "The page 57 9 https://www.ptt.cc/bbs/Food/M.1415626816.A.7B0.html\n",
      "The page 57 8 https://www.ptt.cc/bbs/Food/M.1415628073.A.F74.html\n",
      "The page 57 7 https://www.ptt.cc/bbs/Food/M.1415628407.A.B7C.html\n",
      "The page 57 6 https://www.ptt.cc/bbs/Food/M.1415628900.A.EE2.html\n",
      "The page 57 5 https://www.ptt.cc/bbs/Food/M.1415629470.A.924.html\n",
      "The page 57 4 https://www.ptt.cc/bbs/Food/M.1415629498.A.F24.html\n",
      "The page 57 3 https://www.ptt.cc/bbs/Food/M.1415629796.A.629.html\n",
      "The page 57 2 https://www.ptt.cc/bbs/Food/M.1415630252.A.313.html\n",
      "The page 57 1 https://www.ptt.cc/bbs/Food/M.1415630703.A.0F8.html\n",
      "The 56 page https://www.ptt.cc/bbs/Food/index3056.html starts:\n"
     ]
    },
    {
     "name": "stderr",
     "output_type": "stream",
     "text": [
      "/anaconda3/lib/python3.7/site-packages/urllib3/connectionpool.py:847: InsecureRequestWarning: Unverified HTTPS request is being made. Adding certificate verification is strongly advised. See: https://urllib3.readthedocs.io/en/latest/advanced-usage.html#ssl-warnings\n",
      "  InsecureRequestWarning)\n"
     ]
    },
    {
     "name": "stdout",
     "output_type": "stream",
     "text": [
      "The page 56 20 https://www.ptt.cc/bbs/Food/M.1415593159.A.67D.html\n",
      "The page 56 19 https://www.ptt.cc/bbs/Food/M.1415596099.A.F31.html\n",
      "The page 56 18 https://www.ptt.cc/bbs/Food/M.1415598626.A.1E8.html\n",
      "The page 56 17 https://www.ptt.cc/bbs/Food/M.1415600418.A.534.html\n",
      "The page 56 16 https://www.ptt.cc/bbs/Food/M.1415600761.A.DD1.html\n",
      "The page 56 15 https://www.ptt.cc/bbs/Food/M.1415600783.A.6DD.html\n",
      "The page 56 14 https://www.ptt.cc/bbs/Food/M.1415601513.A.4F0.html\n",
      "The page 56 13 https://www.ptt.cc/bbs/Food/M.1415601635.A.00F.html\n",
      "The page 56 12 https://www.ptt.cc/bbs/Food/M.1415603401.A.1E6.html\n",
      "The page 56 11 https://www.ptt.cc/bbs/Food/M.1415606158.A.4D4.html\n",
      "The page 56 10 https://www.ptt.cc/bbs/Food/M.1415607203.A.CC7.html\n",
      "The page 56 9 https://www.ptt.cc/bbs/Food/M.1415607244.A.EA0.html\n",
      "The page 56 8 https://www.ptt.cc/bbs/Food/M.1415609694.A.963.html\n",
      "The page 56 7 https://www.ptt.cc/bbs/Food/M.1415611109.A.820.html\n",
      "The page 56 6 https://www.ptt.cc/bbs/Food/M.1415613882.A.8FE.html\n",
      "The page 56 5 https://www.ptt.cc/bbs/Food/M.1415615550.A.DFF.html\n",
      "The page 56 4 https://www.ptt.cc/bbs/Food/M.1415616612.A.4A4.html\n",
      "The page 56 3 https://www.ptt.cc/bbs/Food/M.1415617413.A.9A8.html\n",
      "The page 56 2 https://www.ptt.cc/bbs/Food/M.1415620453.A.080.html\n",
      "The page 56 1 https://www.ptt.cc/bbs/Food/M.1415621318.A.FE4.html\n",
      "The 55 page https://www.ptt.cc/bbs/Food/index3055.html starts:\n"
     ]
    },
    {
     "name": "stderr",
     "output_type": "stream",
     "text": [
      "/anaconda3/lib/python3.7/site-packages/urllib3/connectionpool.py:847: InsecureRequestWarning: Unverified HTTPS request is being made. Adding certificate verification is strongly advised. See: https://urllib3.readthedocs.io/en/latest/advanced-usage.html#ssl-warnings\n",
      "  InsecureRequestWarning)\n"
     ]
    },
    {
     "name": "stdout",
     "output_type": "stream",
     "text": [
      "The page 55 20 https://www.ptt.cc/bbs/Food/M.1415548634.A.623.html\n",
      "The page 55 19 https://www.ptt.cc/bbs/Food/M.1415549896.A.661.html\n",
      "The page 55 18 https://www.ptt.cc/bbs/Food/M.1415550235.A.669.html\n",
      "The page 55 17 https://www.ptt.cc/bbs/Food/M.1415550469.A.DE0.html\n",
      "The page 55 16 https://www.ptt.cc/bbs/Food/M.1415551564.A.18C.html\n",
      "The page 55 15 https://www.ptt.cc/bbs/Food/M.1415552233.A.A83.html\n",
      "The page 55 14 https://www.ptt.cc/bbs/Food/M.1415552699.A.D92.html\n",
      "The page 55 13 https://www.ptt.cc/bbs/Food/M.1415556882.A.F3A.html\n",
      "The page 55 12 https://www.ptt.cc/bbs/Food/M.1415563123.A.FE3.html\n",
      "The page 55 11 https://www.ptt.cc/bbs/Food/M.1415576432.A.5B4.html\n",
      "The page 55 10 https://www.ptt.cc/bbs/Food/M.1415580138.A.E70.html\n",
      "The page 55 9 https://www.ptt.cc/bbs/Food/M.1415582473.A.0D0.html\n",
      "The page 55 8 https://www.ptt.cc/bbs/Food/M.1415582694.A.FA6.html\n",
      "The page 55 7 https://www.ptt.cc/bbs/Food/M.1415586781.A.4AA.html\n",
      "The page 55 6 https://www.ptt.cc/bbs/Food/M.1415587554.A.DF8.html\n",
      "The page 55 5 https://www.ptt.cc/bbs/Food/M.1415587785.A.448.html\n",
      "The page 55 4 https://www.ptt.cc/bbs/Food/M.1415587872.A.AF3.html\n",
      "The page 55 3 https://www.ptt.cc/bbs/Food/M.1415588268.A.567.html\n",
      "The page 55 2 https://www.ptt.cc/bbs/Food/M.1415591163.A.D30.html\n",
      "The page 55 1 https://www.ptt.cc/bbs/Food/M.1415591350.A.CF9.html\n",
      "The 54 page https://www.ptt.cc/bbs/Food/index3054.html starts:\n"
     ]
    },
    {
     "name": "stderr",
     "output_type": "stream",
     "text": [
      "/anaconda3/lib/python3.7/site-packages/urllib3/connectionpool.py:847: InsecureRequestWarning: Unverified HTTPS request is being made. Adding certificate verification is strongly advised. See: https://urllib3.readthedocs.io/en/latest/advanced-usage.html#ssl-warnings\n",
      "  InsecureRequestWarning)\n"
     ]
    },
    {
     "name": "stdout",
     "output_type": "stream",
     "text": [
      "The page 54 20 https://www.ptt.cc/bbs/Food/M.1415537294.A.651.html\n",
      "The page 54 19 https://www.ptt.cc/bbs/Food/M.1415537438.A.58F.html\n",
      "The page 54 18 https://www.ptt.cc/bbs/Food/M.1415537696.A.778.html\n",
      "The page 54 17 https://www.ptt.cc/bbs/Food/M.1415538713.A.050.html\n",
      "The page 54 16 https://www.ptt.cc/bbs/Food/M.1415538897.A.400.html\n",
      "The page 54 15 https://www.ptt.cc/bbs/Food/M.1415539162.A.FAC.html\n",
      "The page 54 14 https://www.ptt.cc/bbs/Food/M.1415539691.A.B6C.html\n",
      "The page 54 13 https://www.ptt.cc/bbs/Food/M.1415541013.A.FD5.html\n",
      "The page 54 12 https://www.ptt.cc/bbs/Food/M.1415541013.A.D2D.html\n",
      "The page 54 11 https://www.ptt.cc/bbs/Food/M.1415541314.A.5BC.html\n",
      "The page 54 10 https://www.ptt.cc/bbs/Food/M.1415541776.A.305.html\n",
      "The page 54 9 https://www.ptt.cc/bbs/Food/M.1415542520.A.474.html\n",
      "The page 54 8 https://www.ptt.cc/bbs/Food/M.1415542731.A.B51.html\n",
      "The page 54 7 https://www.ptt.cc/bbs/Food/M.1415544123.A.EF4.html\n",
      "The page 54 6 https://www.ptt.cc/bbs/Food/M.1415544771.A.223.html\n",
      "The page 54 5 https://www.ptt.cc/bbs/Food/M.1415545465.A.10D.html\n",
      "The page 54 4 https://www.ptt.cc/bbs/Food/M.1415546319.A.7D4.html\n",
      "The page 54 3 https://www.ptt.cc/bbs/Food/M.1415547486.A.CB0.html\n",
      "The page 54 2 https://www.ptt.cc/bbs/Food/M.1415547707.A.A05.html\n",
      "The page 54 1 https://www.ptt.cc/bbs/Food/M.1415548367.A.531.html\n",
      "The 53 page https://www.ptt.cc/bbs/Food/index3053.html starts:\n"
     ]
    },
    {
     "name": "stderr",
     "output_type": "stream",
     "text": [
      "/anaconda3/lib/python3.7/site-packages/urllib3/connectionpool.py:847: InsecureRequestWarning: Unverified HTTPS request is being made. Adding certificate verification is strongly advised. See: https://urllib3.readthedocs.io/en/latest/advanced-usage.html#ssl-warnings\n",
      "  InsecureRequestWarning)\n"
     ]
    },
    {
     "name": "stdout",
     "output_type": "stream",
     "text": [
      "The page 53 20 https://www.ptt.cc/bbs/Food/M.1415515800.A.724.html\n",
      "The page 53 19 https://www.ptt.cc/bbs/Food/M.1415516457.A.3C6.html\n",
      "The page 53 18 https://www.ptt.cc/bbs/Food/M.1415518595.A.3C6.html\n",
      "The page 53 17 https://www.ptt.cc/bbs/Food/M.1415519201.A.89A.html\n",
      "The page 53 16 https://www.ptt.cc/bbs/Food/M.1415523911.A.F6B.html\n",
      "The page 53 15 https://www.ptt.cc/bbs/Food/M.1415525478.A.778.html\n",
      "The page 53 14 https://www.ptt.cc/bbs/Food/M.1415526045.A.53D.html\n",
      "The page 53 13 https://www.ptt.cc/bbs/Food/M.1415528838.A.C2D.html\n",
      "The page 53 12 https://www.ptt.cc/bbs/Food/M.1415529956.A.3EE.html\n",
      "The page 53 11 https://www.ptt.cc/bbs/Food/M.1415530098.A.CBF.html\n",
      "The page 53 10 https://www.ptt.cc/bbs/Food/M.1415530693.A.316.html\n",
      "The page 53 9 https://www.ptt.cc/bbs/Food/M.1415531956.A.AD0.html\n",
      "The page 53 8 https://www.ptt.cc/bbs/Food/M.1415532175.A.637.html\n",
      "The page 53 7 https://www.ptt.cc/bbs/Food/M.1415533209.A.6E4.html\n",
      "The page 53 6 https://www.ptt.cc/bbs/Food/M.1415534179.A.3BC.html\n",
      "The page 53 5 https://www.ptt.cc/bbs/Food/M.1415534644.A.C03.html\n",
      "The page 53 4 https://www.ptt.cc/bbs/Food/M.1415535061.A.D67.html\n",
      "The page 53 3 https://www.ptt.cc/bbs/Food/M.1415536155.A.9AD.html\n",
      "The page 53 2 https://www.ptt.cc/bbs/Food/M.1415536928.A.8DA.html\n",
      "The page 53 1 https://www.ptt.cc/bbs/Food/M.1415537269.A.026.html\n",
      "The 52 page https://www.ptt.cc/bbs/Food/index3052.html starts:\n"
     ]
    },
    {
     "name": "stderr",
     "output_type": "stream",
     "text": [
      "/anaconda3/lib/python3.7/site-packages/urllib3/connectionpool.py:847: InsecureRequestWarning: Unverified HTTPS request is being made. Adding certificate verification is strongly advised. See: https://urllib3.readthedocs.io/en/latest/advanced-usage.html#ssl-warnings\n",
      "  InsecureRequestWarning)\n"
     ]
    },
    {
     "name": "stdout",
     "output_type": "stream",
     "text": [
      "The page 52 20 https://www.ptt.cc/bbs/Food/M.1415469161.A.AE1.html\n",
      "The page 52 19 https://www.ptt.cc/bbs/Food/M.1415474450.A.CAB.html\n",
      "The page 52 18 https://www.ptt.cc/bbs/Food/M.1415498404.A.05A.html\n",
      "The page 52 17 https://www.ptt.cc/bbs/Food/M.1415499313.A.57B.html\n",
      "The page 52 16 https://www.ptt.cc/bbs/Food/M.1415500310.A.42D.html\n",
      "The page 52 15 https://www.ptt.cc/bbs/Food/M.1415502940.A.E1A.html\n",
      "The page 52 14 https://www.ptt.cc/bbs/Food/M.1415503974.A.606.html\n",
      "The page 52 13 https://www.ptt.cc/bbs/Food/M.1415506895.A.FF0.html\n",
      "The page 52 12 https://www.ptt.cc/bbs/Food/M.1415508919.A.5C4.html\n",
      "The page 52 11 https://www.ptt.cc/bbs/Food/M.1415509114.A.DB0.html\n",
      "The page 52 10 https://www.ptt.cc/bbs/Food/M.1415510400.A.710.html\n",
      "The page 52 9 https://www.ptt.cc/bbs/Food/M.1415511727.A.E77.html\n",
      "The page 52 8 https://www.ptt.cc/bbs/Food/M.1415512106.A.3C7.html\n",
      "The page 52 7 https://www.ptt.cc/bbs/Food/M.1415512597.A.5D8.html\n",
      "The page 52 6 https://www.ptt.cc/bbs/Food/M.1415512938.A.2D5.html\n",
      "The page 52 5 https://www.ptt.cc/bbs/Food/M.1415513006.A.6D3.html\n",
      "The page 52 4 https://www.ptt.cc/bbs/Food/M.1415513075.A.2EB.html\n",
      "The page 52 3 https://www.ptt.cc/bbs/Food/M.1415514032.A.B2F.html\n",
      "The page 52 2 https://www.ptt.cc/bbs/Food/M.1415514199.A.F7C.html\n",
      "The page 52 1 https://www.ptt.cc/bbs/Food/M.1415515075.A.822.html\n",
      "The 51 page https://www.ptt.cc/bbs/Food/index3051.html starts:\n"
     ]
    },
    {
     "name": "stderr",
     "output_type": "stream",
     "text": [
      "/anaconda3/lib/python3.7/site-packages/urllib3/connectionpool.py:847: InsecureRequestWarning: Unverified HTTPS request is being made. Adding certificate verification is strongly advised. See: https://urllib3.readthedocs.io/en/latest/advanced-usage.html#ssl-warnings\n",
      "  InsecureRequestWarning)\n"
     ]
    },
    {
     "name": "stdout",
     "output_type": "stream",
     "text": [
      "The page 51 20 https://www.ptt.cc/bbs/Food/M.1415455150.A.A29.html\n",
      "The page 51 19 https://www.ptt.cc/bbs/Food/M.1415455435.A.F96.html\n",
      "The page 51 18 https://www.ptt.cc/bbs/Food/M.1415455612.A.E8A.html\n",
      "The page 51 17 https://www.ptt.cc/bbs/Food/M.1415455674.A.C41.html\n",
      "The page 51 16 https://www.ptt.cc/bbs/Food/M.1415455876.A.712.html\n",
      "The page 51 15 https://www.ptt.cc/bbs/Food/M.1415456898.A.7CB.html\n",
      "The page 51 14 https://www.ptt.cc/bbs/Food/M.1415457597.A.D23.html\n",
      "The page 51 13 https://www.ptt.cc/bbs/Food/M.1415458255.A.3B2.html\n",
      "The page 51 12 https://www.ptt.cc/bbs/Food/M.1415459359.A.9B6.html\n",
      "The page 51 11 https://www.ptt.cc/bbs/Food/M.1415459454.A.FA9.html\n",
      "The page 51 10 https://www.ptt.cc/bbs/Food/M.1415459521.A.6E7.html\n",
      "The page 51 9 https://www.ptt.cc/bbs/Food/M.1415460337.A.771.html\n",
      "The page 51 8 https://www.ptt.cc/bbs/Food/M.1415460466.A.9BB.html\n",
      "The page 51 7 https://www.ptt.cc/bbs/Food/M.1415462886.A.10A.html\n",
      "The page 51 6 https://www.ptt.cc/bbs/Food/M.1415463702.A.EEF.html\n",
      "The page 51 5 https://www.ptt.cc/bbs/Food/M.1415463872.A.E8C.html\n",
      "The page 51 4 https://www.ptt.cc/bbs/Food/M.1415463945.A.379.html\n",
      "The page 51 3 https://www.ptt.cc/bbs/Food/M.1415465265.A.9B4.html\n",
      "The page 51 2 https://www.ptt.cc/bbs/Food/M.1415466374.A.767.html\n",
      "The page 51 1 https://www.ptt.cc/bbs/Food/M.1415467368.A.EC8.html\n",
      "The 50 page https://www.ptt.cc/bbs/Food/index3050.html starts:\n"
     ]
    },
    {
     "name": "stderr",
     "output_type": "stream",
     "text": [
      "/anaconda3/lib/python3.7/site-packages/urllib3/connectionpool.py:847: InsecureRequestWarning: Unverified HTTPS request is being made. Adding certificate verification is strongly advised. See: https://urllib3.readthedocs.io/en/latest/advanced-usage.html#ssl-warnings\n",
      "  InsecureRequestWarning)\n"
     ]
    },
    {
     "name": "stdout",
     "output_type": "stream",
     "text": [
      "The page 50 20 https://www.ptt.cc/bbs/Food/M.1415435705.A.EC5.html\n",
      "The page 50 19 https://www.ptt.cc/bbs/Food/M.1415436584.A.C77.html\n",
      "The page 50 18 https://www.ptt.cc/bbs/Food/M.1415437810.A.AE4.html\n",
      "The page 50 17 https://www.ptt.cc/bbs/Food/M.1415438209.A.595.html\n",
      "The page 50 16 https://www.ptt.cc/bbs/Food/M.1415445508.A.EE6.html\n",
      "The page 50 15 https://www.ptt.cc/bbs/Food/M.1415446013.A.41E.html\n",
      "The page 50 14 https://www.ptt.cc/bbs/Food/M.1415446981.A.801.html\n",
      "The page 50 13 https://www.ptt.cc/bbs/Food/M.1415447877.A.3B8.html\n",
      "The page 50 12 https://www.ptt.cc/bbs/Food/M.1415448973.A.DA7.html\n",
      "The page 50 11 https://www.ptt.cc/bbs/Food/M.1415449621.A.1D9.html\n",
      "The page 50 10 https://www.ptt.cc/bbs/Food/M.1415450412.A.213.html\n",
      "The page 50 9 https://www.ptt.cc/bbs/Food/M.1415450474.A.A70.html\n",
      "The page 50 8 https://www.ptt.cc/bbs/Food/M.1415450991.A.4A2.html\n",
      "The page 50 7 https://www.ptt.cc/bbs/Food/M.1415451320.A.A6A.html\n",
      "The page 50 6 https://www.ptt.cc/bbs/Food/M.1415451754.A.50D.html\n",
      "The page 50 5 https://www.ptt.cc/bbs/Food/M.1415453305.A.26C.html\n",
      "The page 50 4 https://www.ptt.cc/bbs/Food/M.1415454502.A.138.html\n",
      "The page 50 3 https://www.ptt.cc/bbs/Food/M.1415454721.A.33C.html\n",
      "The page 50 2 https://www.ptt.cc/bbs/Food/M.1415454853.A.25F.html\n",
      "The page 50 1 https://www.ptt.cc/bbs/Food/M.1415455065.A.ABF.html\n",
      "The 49 page https://www.ptt.cc/bbs/Food/index3049.html starts:\n"
     ]
    },
    {
     "name": "stderr",
     "output_type": "stream",
     "text": [
      "/anaconda3/lib/python3.7/site-packages/urllib3/connectionpool.py:847: InsecureRequestWarning: Unverified HTTPS request is being made. Adding certificate verification is strongly advised. See: https://urllib3.readthedocs.io/en/latest/advanced-usage.html#ssl-warnings\n",
      "  InsecureRequestWarning)\n"
     ]
    },
    {
     "name": "stdout",
     "output_type": "stream",
     "text": [
      "The page 49 20 https://www.ptt.cc/bbs/Food/M.1415377260.A.45C.html\n",
      "The page 49 19 https://www.ptt.cc/bbs/Food/M.1415379340.A.69D.html\n",
      "The page 49 18 https://www.ptt.cc/bbs/Food/M.1415388336.A.A0B.html\n",
      "The page 49 17 https://www.ptt.cc/bbs/Food/M.1415388862.A.C4E.html\n",
      "The page 49 16 https://www.ptt.cc/bbs/Food/M.1415406772.A.3CE.html\n",
      "The page 49 15 https://www.ptt.cc/bbs/Food/M.1415407669.A.C1D.html\n",
      "The page 49 14 https://www.ptt.cc/bbs/Food/M.1415409076.A.7C1.html\n",
      "The page 49 13 https://www.ptt.cc/bbs/Food/M.1415410347.A.B0C.html\n",
      "The page 49 12 https://www.ptt.cc/bbs/Food/M.1415413611.A.46A.html\n",
      "The page 49 11 https://www.ptt.cc/bbs/Food/M.1415414440.A.179.html\n",
      "The page 49 10 https://www.ptt.cc/bbs/Food/M.1415417867.A.833.html\n",
      "The page 49 9 https://www.ptt.cc/bbs/Food/M.1415424945.A.F5B.html\n",
      "The page 49 8 https://www.ptt.cc/bbs/Food/M.1415425560.A.F92.html\n",
      "The page 49 7 https://www.ptt.cc/bbs/Food/M.1415430940.A.CBE.html\n",
      "The page 49 6 https://www.ptt.cc/bbs/Food/M.1415432013.A.E2B.html\n",
      "The page 49 5 https://www.ptt.cc/bbs/Food/M.1415432264.A.0B6.html\n",
      "The page 49 4 https://www.ptt.cc/bbs/Food/M.1415433162.A.00F.html\n",
      "The page 49 3 https://www.ptt.cc/bbs/Food/M.1415433387.A.0C4.html\n",
      "The page 49 2 https://www.ptt.cc/bbs/Food/M.1415433960.A.785.html\n",
      "The page 49 1 https://www.ptt.cc/bbs/Food/M.1415435511.A.F42.html\n",
      "The 48 page https://www.ptt.cc/bbs/Food/index3048.html starts:\n"
     ]
    },
    {
     "name": "stderr",
     "output_type": "stream",
     "text": [
      "/anaconda3/lib/python3.7/site-packages/urllib3/connectionpool.py:847: InsecureRequestWarning: Unverified HTTPS request is being made. Adding certificate verification is strongly advised. See: https://urllib3.readthedocs.io/en/latest/advanced-usage.html#ssl-warnings\n",
      "  InsecureRequestWarning)\n"
     ]
    },
    {
     "name": "stdout",
     "output_type": "stream",
     "text": [
      "The page 48 20 https://www.ptt.cc/bbs/Food/M.1415367303.A.44C.html\n",
      "The page 48 19 https://www.ptt.cc/bbs/Food/M.1415367612.A.2AD.html\n",
      "The page 48 18 https://www.ptt.cc/bbs/Food/M.1415368770.A.924.html\n",
      "The page 48 17 https://www.ptt.cc/bbs/Food/M.1415368788.A.020.html\n",
      "The page 48 16 https://www.ptt.cc/bbs/Food/M.1415368906.A.E4F.html\n",
      "The page 48 15 https://www.ptt.cc/bbs/Food/M.1415369077.A.99C.html\n",
      "The page 48 14 https://www.ptt.cc/bbs/Food/M.1415369115.A.D51.html\n",
      "The page 48 13 https://www.ptt.cc/bbs/Food/M.1415369569.A.4D3.html\n",
      "The page 48 12 https://www.ptt.cc/bbs/Food/M.1415369760.A.350.html\n",
      "The page 48 11 https://www.ptt.cc/bbs/Food/M.1415369938.A.C65.html\n",
      "The page 48 10 https://www.ptt.cc/bbs/Food/M.1415370441.A.7E2.html\n",
      "The page 48 9 https://www.ptt.cc/bbs/Food/M.1415371230.A.8C9.html\n",
      "The page 48 8 https://www.ptt.cc/bbs/Food/M.1415371230.A.E6C.html\n",
      "The page 48 7 https://www.ptt.cc/bbs/Food/M.1415372019.A.A9F.html\n",
      "The page 48 6 https://www.ptt.cc/bbs/Food/M.1415372252.A.B2A.html\n",
      "The page 48 5 https://www.ptt.cc/bbs/Food/M.1415372476.A.8AB.html\n",
      "The page 48 4 https://www.ptt.cc/bbs/Food/M.1415372583.A.DFF.html\n",
      "The page 48 3 https://www.ptt.cc/bbs/Food/M.1415372606.A.612.html\n",
      "The page 48 2 https://www.ptt.cc/bbs/Food/M.1415373735.A.BA8.html\n",
      "The page 48 1 https://www.ptt.cc/bbs/Food/M.1415375393.A.79E.html\n",
      "The 47 page https://www.ptt.cc/bbs/Food/index3047.html starts:\n"
     ]
    },
    {
     "name": "stderr",
     "output_type": "stream",
     "text": [
      "/anaconda3/lib/python3.7/site-packages/urllib3/connectionpool.py:847: InsecureRequestWarning: Unverified HTTPS request is being made. Adding certificate verification is strongly advised. See: https://urllib3.readthedocs.io/en/latest/advanced-usage.html#ssl-warnings\n",
      "  InsecureRequestWarning)\n"
     ]
    },
    {
     "name": "stdout",
     "output_type": "stream",
     "text": [
      "The page 47 20 https://www.ptt.cc/bbs/Food/M.1415345887.A.A9A.html\n",
      "The page 47 19 https://www.ptt.cc/bbs/Food/M.1415346758.A.A45.html\n",
      "The page 47 18 https://www.ptt.cc/bbs/Food/M.1415347275.A.AD7.html\n",
      "The page 47 17 https://www.ptt.cc/bbs/Food/M.1415348225.A.EB7.html\n",
      "The page 47 16 https://www.ptt.cc/bbs/Food/M.1415348672.A.213.html\n",
      "The page 47 15 https://www.ptt.cc/bbs/Food/M.1415348886.A.13C.html\n",
      "The page 47 14 https://www.ptt.cc/bbs/Food/M.1415349812.A.60C.html\n",
      "The page 47 13 https://www.ptt.cc/bbs/Food/M.1415351305.A.B3A.html\n",
      "The page 47 12 https://www.ptt.cc/bbs/Food/M.1415351533.A.56E.html\n",
      "The page 47 11 https://www.ptt.cc/bbs/Food/M.1415352910.A.9C9.html\n",
      "The page 47 10 https://www.ptt.cc/bbs/Food/M.1415353211.A.FBA.html\n",
      "The page 47 9 https://www.ptt.cc/bbs/Food/M.1415353599.A.265.html\n",
      "The page 47 8 https://www.ptt.cc/bbs/Food/M.1415354765.A.6DA.html\n",
      "The page 47 7 https://www.ptt.cc/bbs/Food/M.1415356261.A.485.html\n",
      "The page 47 6 https://www.ptt.cc/bbs/Food/M.1415356483.A.282.html\n",
      "The page 47 5 https://www.ptt.cc/bbs/Food/M.1415356635.A.682.html\n",
      "The page 47 4 https://www.ptt.cc/bbs/Food/M.1415358887.A.53A.html\n",
      "The page 47 3 https://www.ptt.cc/bbs/Food/M.1415362255.A.BF9.html\n",
      "The page 47 2 https://www.ptt.cc/bbs/Food/M.1415362807.A.FC3.html\n",
      "The page 47 1 https://www.ptt.cc/bbs/Food/M.1415367048.A.091.html\n",
      "The 46 page https://www.ptt.cc/bbs/Food/index3046.html starts:\n"
     ]
    },
    {
     "name": "stderr",
     "output_type": "stream",
     "text": [
      "/anaconda3/lib/python3.7/site-packages/urllib3/connectionpool.py:847: InsecureRequestWarning: Unverified HTTPS request is being made. Adding certificate verification is strongly advised. See: https://urllib3.readthedocs.io/en/latest/advanced-usage.html#ssl-warnings\n",
      "  InsecureRequestWarning)\n"
     ]
    },
    {
     "name": "stdout",
     "output_type": "stream",
     "text": [
      "The page 46 20 https://www.ptt.cc/bbs/Food/M.1415331172.A.620.html\n",
      "The page 46 19 https://www.ptt.cc/bbs/Food/M.1415331493.A.265.html\n",
      "The page 46 18 https://www.ptt.cc/bbs/Food/M.1415331669.A.51F.html\n",
      "The page 46 17 https://www.ptt.cc/bbs/Food/M.1415332138.A.DDE.html\n",
      "The page 46 16 https://www.ptt.cc/bbs/Food/M.1415333267.A.7AC.html\n",
      "The page 46 15 https://www.ptt.cc/bbs/Food/M.1415334563.A.06F.html\n",
      "The page 46 14 https://www.ptt.cc/bbs/Food/M.1415336202.A.60E.html\n",
      "The page 46 13 https://www.ptt.cc/bbs/Food/M.1415337140.A.020.html\n",
      "The page 46 12 https://www.ptt.cc/bbs/Food/M.1415338623.A.D93.html\n",
      "The page 46 11 https://www.ptt.cc/bbs/Food/M.1415339114.A.545.html\n",
      "The page 46 10 https://www.ptt.cc/bbs/Food/M.1415340409.A.8C7.html\n",
      "The page 46 9 https://www.ptt.cc/bbs/Food/M.1415340726.A.C2B.html\n",
      "The page 46 8 https://www.ptt.cc/bbs/Food/M.1415340930.A.F12.html\n",
      "The page 46 7 https://www.ptt.cc/bbs/Food/M.1415341020.A.F71.html\n",
      "The page 46 6 https://www.ptt.cc/bbs/Food/M.1415342799.A.BD1.html\n",
      "The page 46 5 https://www.ptt.cc/bbs/Food/M.1415344589.A.93B.html\n",
      "The page 46 4 https://www.ptt.cc/bbs/Food/M.1415344698.A.248.html\n",
      "The page 46 3 https://www.ptt.cc/bbs/Food/M.1415344946.A.35E.html\n",
      "The page 46 2 https://www.ptt.cc/bbs/Food/M.1415345027.A.FFC.html\n",
      "The page 46 1 https://www.ptt.cc/bbs/Food/M.1415345141.A.CFE.html\n",
      "The 45 page https://www.ptt.cc/bbs/Food/index3045.html starts:\n"
     ]
    },
    {
     "name": "stderr",
     "output_type": "stream",
     "text": [
      "/anaconda3/lib/python3.7/site-packages/urllib3/connectionpool.py:847: InsecureRequestWarning: Unverified HTTPS request is being made. Adding certificate verification is strongly advised. See: https://urllib3.readthedocs.io/en/latest/advanced-usage.html#ssl-warnings\n",
      "  InsecureRequestWarning)\n"
     ]
    },
    {
     "name": "stdout",
     "output_type": "stream",
     "text": [
      "The page 45 20 https://www.ptt.cc/bbs/Food/M.1415288160.A.FDA.html\n",
      "The page 45 19 https://www.ptt.cc/bbs/Food/M.1415288221.A.222.html\n",
      "The page 45 18 https://www.ptt.cc/bbs/Food/M.1415288729.A.61F.html\n",
      "The page 45 17 https://www.ptt.cc/bbs/Food/M.1415289334.A.D5B.html\n",
      "The page 45 16 https://www.ptt.cc/bbs/Food/M.1415289423.A.95A.html\n",
      "The page 45 15 https://www.ptt.cc/bbs/Food/M.1415290593.A.101.html\n",
      "The page 45 14 https://www.ptt.cc/bbs/Food/M.1415291664.A.6F6.html\n",
      "The page 45 13 https://www.ptt.cc/bbs/Food/M.1415292075.A.331.html\n",
      "The page 45 12 https://www.ptt.cc/bbs/Food/M.1415292997.A.A5B.html\n",
      "The page 45 11 https://www.ptt.cc/bbs/Food/M.1415295072.A.443.html\n",
      "The page 45 10 https://www.ptt.cc/bbs/Food/M.1415315124.A.F1C.html\n",
      "The page 45 9 https://www.ptt.cc/bbs/Food/M.1415319482.A.351.html\n",
      "The page 45 8 https://www.ptt.cc/bbs/Food/M.1415322511.A.DB1.html\n",
      "The page 45 7 https://www.ptt.cc/bbs/Food/M.1415325136.A.A5A.html\n",
      "The page 45 6 https://www.ptt.cc/bbs/Food/M.1415325850.A.C08.html\n",
      "The page 45 5 https://www.ptt.cc/bbs/Food/M.1415327634.A.DC0.html\n",
      "The page 45 4 https://www.ptt.cc/bbs/Food/M.1415327987.A.4AB.html\n",
      "The page 45 3 https://www.ptt.cc/bbs/Food/M.1415329511.A.18D.html\n",
      "The page 45 2 https://www.ptt.cc/bbs/Food/M.1415330078.A.990.html\n",
      "The page 45 1 https://www.ptt.cc/bbs/Food/M.1415330508.A.0AD.html\n",
      "The 44 page https://www.ptt.cc/bbs/Food/index3044.html starts:\n"
     ]
    },
    {
     "name": "stderr",
     "output_type": "stream",
     "text": [
      "/anaconda3/lib/python3.7/site-packages/urllib3/connectionpool.py:847: InsecureRequestWarning: Unverified HTTPS request is being made. Adding certificate verification is strongly advised. See: https://urllib3.readthedocs.io/en/latest/advanced-usage.html#ssl-warnings\n",
      "  InsecureRequestWarning)\n"
     ]
    },
    {
     "name": "stdout",
     "output_type": "stream",
     "text": [
      "The page 44 20 https://www.ptt.cc/bbs/Food/M.1415281587.A.66E.html\n",
      "The page 44 19 https://www.ptt.cc/bbs/Food/M.1415281689.A.D8D.html\n",
      "The page 44 18 https://www.ptt.cc/bbs/Food/M.1415281775.A.930.html\n",
      "The page 44 17 https://www.ptt.cc/bbs/Food/M.1415281897.A.19F.html\n",
      "The page 44 16 https://www.ptt.cc/bbs/Food/M.1415282003.A.E45.html\n",
      "The page 44 15 https://www.ptt.cc/bbs/Food/M.1415282527.A.901.html\n",
      "The page 44 14 https://www.ptt.cc/bbs/Food/M.1415282630.A.12A.html\n",
      "The page 44 13 https://www.ptt.cc/bbs/Food/M.1415283096.A.5A2.html\n",
      "The page 44 12 https://www.ptt.cc/bbs/Food/M.1415283329.A.360.html\n",
      "The page 44 11 https://www.ptt.cc/bbs/Food/M.1415284093.A.8B3.html\n",
      "The page 44 10 https://www.ptt.cc/bbs/Food/M.1415284466.A.D21.html\n",
      "The page 44 9 https://www.ptt.cc/bbs/Food/M.1415284487.A.4E9.html\n",
      "The page 44 8 https://www.ptt.cc/bbs/Food/M.1415284540.A.808.html\n",
      "The page 44 7 https://www.ptt.cc/bbs/Food/M.1415284950.A.E0B.html\n",
      "The page 44 6 https://www.ptt.cc/bbs/Food/M.1415285020.A.01D.html\n",
      "The page 44 5 https://www.ptt.cc/bbs/Food/M.1415285604.A.C27.html\n",
      "The page 44 4 https://www.ptt.cc/bbs/Food/M.1415285825.A.175.html\n",
      "The page 44 3 https://www.ptt.cc/bbs/Food/M.1415286439.A.437.html\n",
      "The page 44 2 https://www.ptt.cc/bbs/Food/M.1415286704.A.483.html\n",
      "The page 44 1 https://www.ptt.cc/bbs/Food/M.1415287775.A.0B5.html\n",
      "The 43 page https://www.ptt.cc/bbs/Food/index3043.html starts:\n"
     ]
    },
    {
     "name": "stderr",
     "output_type": "stream",
     "text": [
      "/anaconda3/lib/python3.7/site-packages/urllib3/connectionpool.py:847: InsecureRequestWarning: Unverified HTTPS request is being made. Adding certificate verification is strongly advised. See: https://urllib3.readthedocs.io/en/latest/advanced-usage.html#ssl-warnings\n",
      "  InsecureRequestWarning)\n"
     ]
    },
    {
     "name": "stdout",
     "output_type": "stream",
     "text": [
      "The page 43 20 https://www.ptt.cc/bbs/Food/M.1415254856.A.97C.html\n",
      "The page 43 19 https://www.ptt.cc/bbs/Food/M.1415255429.A.69E.html\n",
      "The page 43 18 https://www.ptt.cc/bbs/Food/M.1415255454.A.0D7.html\n",
      "The page 43 17 https://www.ptt.cc/bbs/Food/M.1415262432.A.A27.html\n",
      "The page 43 16 https://www.ptt.cc/bbs/Food/M.1415262584.A.F62.html\n",
      "The page 43 15 https://www.ptt.cc/bbs/Food/M.1415263226.A.5B9.html\n",
      "The page 43 14 https://www.ptt.cc/bbs/Food/M.1415264694.A.CC7.html\n",
      "The page 43 13 https://www.ptt.cc/bbs/Food/M.1415264977.A.3BE.html\n",
      "The page 43 12 https://www.ptt.cc/bbs/Food/M.1415265697.A.693.html\n",
      "The page 43 11 https://www.ptt.cc/bbs/Food/M.1415266160.A.FB3.html\n",
      "The page 43 10 https://www.ptt.cc/bbs/Food/M.1415269775.A.CB3.html\n",
      "The page 43 9 https://www.ptt.cc/bbs/Food/M.1415269937.A.56A.html\n",
      "The page 43 8 https://www.ptt.cc/bbs/Food/M.1415275414.A.31D.html\n",
      "The page 43 7 https://www.ptt.cc/bbs/Food/M.1415275845.A.EEB.html\n",
      "The page 43 6 https://www.ptt.cc/bbs/Food/M.1415278659.A.476.html\n",
      "The page 43 5 https://www.ptt.cc/bbs/Food/M.1415278751.A.49A.html\n",
      "The page 43 4 https://www.ptt.cc/bbs/Food/M.1415278993.A.0DF.html\n",
      "The page 43 3 https://www.ptt.cc/bbs/Food/M.1415279273.A.E7C.html\n",
      "The page 43 2 https://www.ptt.cc/bbs/Food/M.1415279732.A.2C4.html\n",
      "The page 43 1 https://www.ptt.cc/bbs/Food/M.1415280532.A.3D8.html\n",
      "The 42 page https://www.ptt.cc/bbs/Food/index3042.html starts:\n"
     ]
    },
    {
     "name": "stderr",
     "output_type": "stream",
     "text": [
      "/anaconda3/lib/python3.7/site-packages/urllib3/connectionpool.py:847: InsecureRequestWarning: Unverified HTTPS request is being made. Adding certificate verification is strongly advised. See: https://urllib3.readthedocs.io/en/latest/advanced-usage.html#ssl-warnings\n",
      "  InsecureRequestWarning)\n"
     ]
    },
    {
     "name": "stdout",
     "output_type": "stream",
     "text": [
      "The page 42 20 https://www.ptt.cc/bbs/Food/M.1415203552.A.54D.html\n",
      "The page 42 19 https://www.ptt.cc/bbs/Food/M.1415204421.A.729.html\n",
      "The page 42 18 https://www.ptt.cc/bbs/Food/M.1415204554.A.D89.html\n",
      "The page 42 17 https://www.ptt.cc/bbs/Food/M.1415205327.A.40B.html\n",
      "The page 42 16 https://www.ptt.cc/bbs/Food/M.1415205414.A.0A9.html\n",
      "The page 42 15 https://www.ptt.cc/bbs/Food/M.1415206998.A.1C3.html\n",
      "The page 42 14 https://www.ptt.cc/bbs/Food/M.1415233420.A.7EC.html\n",
      "The page 42 13 https://www.ptt.cc/bbs/Food/M.1415236838.A.612.html\n",
      "The page 42 12 https://www.ptt.cc/bbs/Food/M.1415236879.A.47E.html\n",
      "The page 42 11 https://www.ptt.cc/bbs/Food/M.1415239441.A.C1F.html\n",
      "The page 42 10 https://www.ptt.cc/bbs/Food/M.1415242611.A.214.html\n",
      "The page 42 9 https://www.ptt.cc/bbs/Food/M.1415244155.A.06E.html\n",
      "The page 42 8 https://www.ptt.cc/bbs/Food/M.1415244472.A.D77.html\n",
      "The page 42 7 https://www.ptt.cc/bbs/Food/M.1415244679.A.F96.html\n",
      "The page 42 6 https://www.ptt.cc/bbs/Food/M.1415245438.A.4E1.html\n",
      "The page 42 5 https://www.ptt.cc/bbs/Food/M.1415245520.A.63A.html\n",
      "The page 42 4 https://www.ptt.cc/bbs/Food/M.1415245611.A.88E.html\n",
      "The page 42 3 https://www.ptt.cc/bbs/Food/M.1415247458.A.C8E.html\n",
      "The page 42 2 https://www.ptt.cc/bbs/Food/M.1415249330.A.5EC.html\n",
      "The page 42 1 https://www.ptt.cc/bbs/Food/M.1415253161.A.1D2.html\n",
      "The 41 page https://www.ptt.cc/bbs/Food/index3041.html starts:\n"
     ]
    },
    {
     "name": "stderr",
     "output_type": "stream",
     "text": [
      "/anaconda3/lib/python3.7/site-packages/urllib3/connectionpool.py:847: InsecureRequestWarning: Unverified HTTPS request is being made. Adding certificate verification is strongly advised. See: https://urllib3.readthedocs.io/en/latest/advanced-usage.html#ssl-warnings\n",
      "  InsecureRequestWarning)\n"
     ]
    },
    {
     "name": "stdout",
     "output_type": "stream",
     "text": [
      "The page 41 20 https://www.ptt.cc/bbs/Food/M.1415192018.A.282.html\n",
      "The page 41 19 https://www.ptt.cc/bbs/Food/M.1415192935.A.B8A.html\n",
      "The page 41 18 https://www.ptt.cc/bbs/Food/M.1415193304.A.D71.html\n",
      "The page 41 17 https://www.ptt.cc/bbs/Food/M.1415195421.A.C1B.html\n",
      "The page 41 16 https://www.ptt.cc/bbs/Food/M.1415196189.A.E4E.html\n",
      "The page 41 15 https://www.ptt.cc/bbs/Food/M.1415196343.A.1E6.html\n",
      "The page 41 14 https://www.ptt.cc/bbs/Food/M.1415196433.A.EF6.html\n",
      "The page 41 13 https://www.ptt.cc/bbs/Food/M.1415196597.A.717.html\n",
      "The page 41 12 https://www.ptt.cc/bbs/Food/M.1415196640.A.999.html\n",
      "The page 41 11 https://www.ptt.cc/bbs/Food/M.1415196737.A.DF9.html\n",
      "The page 41 10 https://www.ptt.cc/bbs/Food/M.1415197078.A.AA4.html\n",
      "The page 41 9 https://www.ptt.cc/bbs/Food/M.1415197614.A.3F8.html\n",
      "The page 41 8 https://www.ptt.cc/bbs/Food/M.1415198120.A.5D6.html\n",
      "The page 41 7 https://www.ptt.cc/bbs/Food/M.1415198390.A.0A4.html\n",
      "The page 41 6 https://www.ptt.cc/bbs/Food/M.1415199412.A.EF3.html\n",
      "The page 41 5 https://www.ptt.cc/bbs/Food/M.1415199739.A.510.html\n",
      "The page 41 4 https://www.ptt.cc/bbs/Food/M.1415199866.A.36E.html\n",
      "The page 41 3 https://www.ptt.cc/bbs/Food/M.1415200021.A.7CF.html\n",
      "The page 41 2 https://www.ptt.cc/bbs/Food/M.1415200267.A.50D.html\n",
      "The page 41 1 https://www.ptt.cc/bbs/Food/M.1415200976.A.935.html\n",
      "The 40 page https://www.ptt.cc/bbs/Food/index3040.html starts:\n"
     ]
    },
    {
     "name": "stderr",
     "output_type": "stream",
     "text": [
      "/anaconda3/lib/python3.7/site-packages/urllib3/connectionpool.py:847: InsecureRequestWarning: Unverified HTTPS request is being made. Adding certificate verification is strongly advised. See: https://urllib3.readthedocs.io/en/latest/advanced-usage.html#ssl-warnings\n",
      "  InsecureRequestWarning)\n"
     ]
    },
    {
     "name": "stdout",
     "output_type": "stream",
     "text": [
      "The page 40 20 https://www.ptt.cc/bbs/Food/M.1415155548.A.D1B.html\n",
      "The page 40 19 https://www.ptt.cc/bbs/Food/M.1415159338.A.5E0.html\n",
      "The page 40 18 https://www.ptt.cc/bbs/Food/M.1415159560.A.44E.html\n",
      "The page 40 17 https://www.ptt.cc/bbs/Food/M.1415160414.A.8D5.html\n",
      "The page 40 16 https://www.ptt.cc/bbs/Food/M.1415160947.A.416.html\n",
      "The page 40 15 https://www.ptt.cc/bbs/Food/M.1415162176.A.E98.html\n",
      "The page 40 14 https://www.ptt.cc/bbs/Food/M.1415164823.A.D63.html\n",
      "The page 40 13 https://www.ptt.cc/bbs/Food/M.1415167790.A.DB4.html\n",
      "The page 40 12 https://www.ptt.cc/bbs/Food/M.1415169209.A.A0F.html\n",
      "The page 40 11 https://www.ptt.cc/bbs/Food/M.1415169750.A.354.html\n",
      "The page 40 10 https://www.ptt.cc/bbs/Food/M.1415171485.A.C62.html\n",
      "The page 40 9 https://www.ptt.cc/bbs/Food/M.1415174027.A.94B.html\n",
      "The page 40 8 https://www.ptt.cc/bbs/Food/M.1415178563.A.029.html\n",
      "The page 40 7 https://www.ptt.cc/bbs/Food/M.1415185508.A.FB3.html\n",
      "The page 40 6 https://www.ptt.cc/bbs/Food/M.1415186601.A.954.html\n",
      "The page 40 5 https://www.ptt.cc/bbs/Food/M.1415188192.A.18F.html\n",
      "The page 40 4 https://www.ptt.cc/bbs/Food/M.1415188927.A.23B.html\n",
      "The page 40 3 https://www.ptt.cc/bbs/Food/M.1415190675.A.CD8.html\n",
      "The page 40 2 https://www.ptt.cc/bbs/Food/M.1415191723.A.E78.html\n",
      "The page 40 1 https://www.ptt.cc/bbs/Food/M.1415192009.A.AD9.html\n",
      "The 39 page https://www.ptt.cc/bbs/Food/index3039.html starts:\n"
     ]
    },
    {
     "name": "stderr",
     "output_type": "stream",
     "text": [
      "/anaconda3/lib/python3.7/site-packages/urllib3/connectionpool.py:847: InsecureRequestWarning: Unverified HTTPS request is being made. Adding certificate verification is strongly advised. See: https://urllib3.readthedocs.io/en/latest/advanced-usage.html#ssl-warnings\n",
      "  InsecureRequestWarning)\n"
     ]
    },
    {
     "name": "stdout",
     "output_type": "stream",
     "text": [
      "The page 39 20 https://www.ptt.cc/bbs/Food/M.1415116563.A.C31.html\n",
      "The page 39 19 https://www.ptt.cc/bbs/Food/M.1415117271.A.4B5.html\n",
      "The page 39 18 https://www.ptt.cc/bbs/Food/M.1415117564.A.4F9.html\n",
      "The page 39 17 https://www.ptt.cc/bbs/Food/M.1415118440.A.658.html\n",
      "The page 39 16 https://www.ptt.cc/bbs/Food/M.1415118793.A.76A.html\n",
      "The page 39 15 https://www.ptt.cc/bbs/Food/M.1415118961.A.2CD.html\n",
      "The page 39 14 https://www.ptt.cc/bbs/Food/M.1415120082.A.100.html\n",
      "The page 39 13 https://www.ptt.cc/bbs/Food/M.1415120772.A.2B8.html\n",
      "The page 39 12 https://www.ptt.cc/bbs/Food/M.1415121964.A.B3F.html\n",
      "The page 39 11 https://www.ptt.cc/bbs/Food/M.1415124510.A.7EB.html\n",
      "The page 39 10 https://www.ptt.cc/bbs/Food/M.1415134271.A.464.html\n",
      "The page 39 9 https://www.ptt.cc/bbs/Food/M.1415142323.A.E6D.html\n",
      "The page 39 8 https://www.ptt.cc/bbs/Food/M.1415144653.A.F3B.html\n",
      "The page 39 7 https://www.ptt.cc/bbs/Food/M.1415144875.A.114.html\n",
      "The page 39 6 https://www.ptt.cc/bbs/Food/M.1415145213.A.EC5.html\n",
      "The page 39 5 https://www.ptt.cc/bbs/Food/M.1415149512.A.922.html\n",
      "The page 39 4 https://www.ptt.cc/bbs/Food/M.1415151399.A.CFA.html\n",
      "The page 39 3 https://www.ptt.cc/bbs/Food/M.1415152991.A.56A.html\n",
      "The page 39 2 https://www.ptt.cc/bbs/Food/M.1415153902.A.81C.html\n",
      "The page 39 1 https://www.ptt.cc/bbs/Food/M.1415154594.A.780.html\n",
      "The 38 page https://www.ptt.cc/bbs/Food/index3038.html starts:\n"
     ]
    },
    {
     "name": "stderr",
     "output_type": "stream",
     "text": [
      "/anaconda3/lib/python3.7/site-packages/urllib3/connectionpool.py:847: InsecureRequestWarning: Unverified HTTPS request is being made. Adding certificate verification is strongly advised. See: https://urllib3.readthedocs.io/en/latest/advanced-usage.html#ssl-warnings\n",
      "  InsecureRequestWarning)\n"
     ]
    },
    {
     "name": "stdout",
     "output_type": "stream",
     "text": [
      "The page 38 20 https://www.ptt.cc/bbs/Food/M.1415110426.A.936.html\n",
      "The page 38 19 https://www.ptt.cc/bbs/Food/M.1415110512.A.E25.html\n",
      "The page 38 18 https://www.ptt.cc/bbs/Food/M.1415111615.A.8E1.html\n",
      "The page 38 17 https://www.ptt.cc/bbs/Food/M.1415111627.A.44F.html\n",
      "The page 38 16 https://www.ptt.cc/bbs/Food/M.1415111740.A.8D3.html\n",
      "The page 38 15 https://www.ptt.cc/bbs/Food/M.1415111805.A.3FD.html\n",
      "The page 38 14 https://www.ptt.cc/bbs/Food/M.1415112213.A.505.html\n",
      "The page 38 13 https://www.ptt.cc/bbs/Food/M.1415112456.A.FBB.html\n",
      "The page 38 12 https://www.ptt.cc/bbs/Food/M.1415112559.A.662.html\n",
      "The page 38 11 https://www.ptt.cc/bbs/Food/M.1415112583.A.FA3.html\n",
      "The page 38 10 https://www.ptt.cc/bbs/Food/M.1415112689.A.CC4.html\n",
      "The page 38 9 https://www.ptt.cc/bbs/Food/M.1415113064.A.418.html\n",
      "The page 38 8 https://www.ptt.cc/bbs/Food/M.1415113205.A.890.html\n",
      "The page 38 7 https://www.ptt.cc/bbs/Food/M.1415113360.A.5AB.html\n",
      "The page 38 6 https://www.ptt.cc/bbs/Food/M.1415114035.A.CE8.html\n",
      "The page 38 5 https://www.ptt.cc/bbs/Food/M.1415114297.A.1AB.html\n",
      "The page 38 4 https://www.ptt.cc/bbs/Food/M.1415114691.A.E3E.html\n",
      "The page 38 3 https://www.ptt.cc/bbs/Food/M.1415114801.A.E88.html\n",
      "The page 38 2 https://www.ptt.cc/bbs/Food/M.1415114984.A.991.html\n",
      "The page 38 1 https://www.ptt.cc/bbs/Food/M.1415115752.A.E26.html\n",
      "The 37 page https://www.ptt.cc/bbs/Food/index3037.html starts:\n"
     ]
    },
    {
     "name": "stderr",
     "output_type": "stream",
     "text": [
      "/anaconda3/lib/python3.7/site-packages/urllib3/connectionpool.py:847: InsecureRequestWarning: Unverified HTTPS request is being made. Adding certificate verification is strongly advised. See: https://urllib3.readthedocs.io/en/latest/advanced-usage.html#ssl-warnings\n",
      "  InsecureRequestWarning)\n"
     ]
    },
    {
     "name": "stdout",
     "output_type": "stream",
     "text": [
      "The page 37 20 https://www.ptt.cc/bbs/Food/M.1415100510.A.EAD.html\n",
      "The page 37 19 https://www.ptt.cc/bbs/Food/M.1415101471.A.4A9.html\n",
      "The page 37 18 https://www.ptt.cc/bbs/Food/M.1415102258.A.F6F.html\n",
      "The page 37 17 https://www.ptt.cc/bbs/Food/M.1415102268.A.0A9.html\n",
      "The page 37 16 https://www.ptt.cc/bbs/Food/M.1415102383.A.52C.html\n",
      "The page 37 15 https://www.ptt.cc/bbs/Food/M.1415102387.A.D53.html\n",
      "The page 37 14 https://www.ptt.cc/bbs/Food/M.1415104719.A.81E.html\n",
      "The page 37 13 https://www.ptt.cc/bbs/Food/M.1415105294.A.748.html\n",
      "The page 37 12 https://www.ptt.cc/bbs/Food/M.1415106428.A.A81.html\n",
      "The page 37 11 https://www.ptt.cc/bbs/Food/M.1415106626.A.14E.html\n",
      "The page 37 10 https://www.ptt.cc/bbs/Food/M.1415106946.A.EC6.html\n",
      "The page 37 9 https://www.ptt.cc/bbs/Food/M.1415107062.A.A4A.html\n",
      "The page 37 8 https://www.ptt.cc/bbs/Food/M.1415107525.A.F4D.html\n",
      "The page 37 7 https://www.ptt.cc/bbs/Food/M.1415107611.A.A98.html\n",
      "The page 37 6 https://www.ptt.cc/bbs/Food/M.1415107662.A.995.html\n",
      "The page 37 5 https://www.ptt.cc/bbs/Food/M.1415107694.A.5ED.html\n",
      "The page 37 4 https://www.ptt.cc/bbs/Food/M.1415108075.A.137.html\n",
      "The page 37 3 https://www.ptt.cc/bbs/Food/M.1415108114.A.F6D.html\n",
      "The page 37 2 https://www.ptt.cc/bbs/Food/M.1415108422.A.44F.html\n",
      "The page 37 1 https://www.ptt.cc/bbs/Food/M.1415109878.A.8F0.html\n",
      "The 36 page https://www.ptt.cc/bbs/Food/index3036.html starts:\n"
     ]
    },
    {
     "name": "stderr",
     "output_type": "stream",
     "text": [
      "/anaconda3/lib/python3.7/site-packages/urllib3/connectionpool.py:847: InsecureRequestWarning: Unverified HTTPS request is being made. Adding certificate verification is strongly advised. See: https://urllib3.readthedocs.io/en/latest/advanced-usage.html#ssl-warnings\n",
      "  InsecureRequestWarning)\n"
     ]
    },
    {
     "name": "stdout",
     "output_type": "stream",
     "text": [
      "The page 36 20 https://www.ptt.cc/bbs/Food/M.1415082369.A.A91.html\n",
      "The page 36 19 https://www.ptt.cc/bbs/Food/M.1415082517.A.828.html\n",
      "The page 36 18 https://www.ptt.cc/bbs/Food/M.1415082666.A.8E0.html\n",
      "The page 36 17 https://www.ptt.cc/bbs/Food/M.1415082670.A.B50.html\n",
      "The page 36 16 https://www.ptt.cc/bbs/Food/M.1415083947.A.AA5.html\n",
      "The page 36 15 https://www.ptt.cc/bbs/Food/M.1415085039.A.5D1.html\n",
      "The page 36 14 https://www.ptt.cc/bbs/Food/M.1415086198.A.0CA.html\n",
      "The page 36 13 https://www.ptt.cc/bbs/Food/M.1415092128.A.E8A.html\n",
      "The page 36 12 https://www.ptt.cc/bbs/Food/M.1415092753.A.237.html\n",
      "The page 36 11 https://www.ptt.cc/bbs/Food/M.1415092850.A.5B1.html\n",
      "The page 36 10 https://www.ptt.cc/bbs/Food/M.1415093608.A.BDB.html\n",
      "The page 36 9 https://www.ptt.cc/bbs/Food/M.1415093622.A.6AC.html\n",
      "The page 36 8 https://www.ptt.cc/bbs/Food/M.1415094465.A.FD9.html\n",
      "The page 36 7 https://www.ptt.cc/bbs/Food/M.1415094638.A.AAE.html\n",
      "The page 36 6 https://www.ptt.cc/bbs/Food/M.1415096234.A.403.html\n",
      "The page 36 5 https://www.ptt.cc/bbs/Food/M.1415097954.A.6E6.html\n",
      "The page 36 4 https://www.ptt.cc/bbs/Food/M.1415098985.A.3F8.html\n",
      "The page 36 3 https://www.ptt.cc/bbs/Food/M.1415099424.A.C7F.html\n",
      "The page 36 2 https://www.ptt.cc/bbs/Food/M.1415099433.A.4BD.html\n",
      "The page 36 1 https://www.ptt.cc/bbs/Food/M.1415099781.A.7CD.html\n",
      "The 35 page https://www.ptt.cc/bbs/Food/index3035.html starts:\n"
     ]
    },
    {
     "name": "stderr",
     "output_type": "stream",
     "text": [
      "/anaconda3/lib/python3.7/site-packages/urllib3/connectionpool.py:847: InsecureRequestWarning: Unverified HTTPS request is being made. Adding certificate verification is strongly advised. See: https://urllib3.readthedocs.io/en/latest/advanced-usage.html#ssl-warnings\n",
      "  InsecureRequestWarning)\n"
     ]
    },
    {
     "name": "stdout",
     "output_type": "stream",
     "text": [
      "The page 35 20 https://www.ptt.cc/bbs/Food/M.1415030007.A.B87.html\n",
      "The page 35 19 https://www.ptt.cc/bbs/Food/M.1415030173.A.8A7.html\n",
      "The page 35 18 https://www.ptt.cc/bbs/Food/M.1415030537.A.780.html\n",
      "The page 35 17 https://www.ptt.cc/bbs/Food/M.1415031543.A.A58.html\n",
      "The page 35 16 https://www.ptt.cc/bbs/Food/M.1415033633.A.DD2.html\n",
      "The page 35 15 https://www.ptt.cc/bbs/Food/M.1415034887.A.A44.html\n",
      "The page 35 14 https://www.ptt.cc/bbs/Food/M.1415035072.A.F3E.html\n",
      "The page 35 13 https://www.ptt.cc/bbs/Food/M.1415062494.A.8F9.html\n",
      "The page 35 12 https://www.ptt.cc/bbs/Food/M.1415066700.A.8AC.html\n",
      "The page 35 11 https://www.ptt.cc/bbs/Food/M.1415070181.A.3EE.html\n",
      "The page 35 10 https://www.ptt.cc/bbs/Food/M.1415070986.A.B3A.html\n",
      "The page 35 9 https://www.ptt.cc/bbs/Food/M.1415073224.A.386.html\n",
      "The page 35 8 https://www.ptt.cc/bbs/Food/M.1415073429.A.408.html\n",
      "The page 35 7 https://www.ptt.cc/bbs/Food/M.1415075539.A.47A.html\n",
      "The page 35 6 https://www.ptt.cc/bbs/Food/M.1415076155.A.DBD.html\n",
      "The page 35 5 https://www.ptt.cc/bbs/Food/M.1415077463.A.9BA.html\n",
      "The page 35 4 https://www.ptt.cc/bbs/Food/M.1415077573.A.881.html\n",
      "The page 35 3 https://www.ptt.cc/bbs/Food/M.1415078600.A.D55.html\n",
      "The page 35 2 https://www.ptt.cc/bbs/Food/M.1415082002.A.625.html\n",
      "The page 35 1 https://www.ptt.cc/bbs/Food/M.1415082031.A.581.html\n",
      "The 34 page https://www.ptt.cc/bbs/Food/index3034.html starts:\n"
     ]
    },
    {
     "name": "stderr",
     "output_type": "stream",
     "text": [
      "/anaconda3/lib/python3.7/site-packages/urllib3/connectionpool.py:847: InsecureRequestWarning: Unverified HTTPS request is being made. Adding certificate verification is strongly advised. See: https://urllib3.readthedocs.io/en/latest/advanced-usage.html#ssl-warnings\n",
      "  InsecureRequestWarning)\n"
     ]
    },
    {
     "name": "stdout",
     "output_type": "stream",
     "text": [
      "The page 34 20 https://www.ptt.cc/bbs/Food/M.1415021699.A.666.html\n",
      "The page 34 19 https://www.ptt.cc/bbs/Food/M.1415022690.A.EB4.html\n",
      "The page 34 18 https://www.ptt.cc/bbs/Food/M.1415022700.A.8C2.html\n",
      "The page 34 17 https://www.ptt.cc/bbs/Food/M.1415022939.A.F56.html\n",
      "The page 34 16 https://www.ptt.cc/bbs/Food/M.1415022999.A.194.html\n",
      "The page 34 15 https://www.ptt.cc/bbs/Food/M.1415023209.A.D5B.html\n",
      "The page 34 14 https://www.ptt.cc/bbs/Food/M.1415023427.A.299.html\n",
      "The page 34 13 https://www.ptt.cc/bbs/Food/M.1415023545.A.B33.html\n",
      "The page 34 12 https://www.ptt.cc/bbs/Food/M.1415023880.A.A95.html\n",
      "The page 34 11 https://www.ptt.cc/bbs/Food/M.1415025213.A.0DD.html\n",
      "The page 34 10 https://www.ptt.cc/bbs/Food/M.1415025626.A.53D.html\n",
      "The page 34 9 https://www.ptt.cc/bbs/Food/M.1415025757.A.47E.html\n",
      "The page 34 8 https://www.ptt.cc/bbs/Food/M.1415027101.A.253.html\n",
      "The page 34 7 https://www.ptt.cc/bbs/Food/M.1415027137.A.792.html\n",
      "The page 34 6 https://www.ptt.cc/bbs/Food/M.1415027236.A.F9B.html\n",
      "The page 34 5 https://www.ptt.cc/bbs/Food/M.1415027515.A.4C4.html\n",
      "The page 34 4 https://www.ptt.cc/bbs/Food/M.1415027638.A.A98.html\n",
      "The page 34 3 https://www.ptt.cc/bbs/Food/M.1415027698.A.7C4.html\n",
      "The page 34 2 https://www.ptt.cc/bbs/Food/M.1415029102.A.512.html\n",
      "The page 34 1 https://www.ptt.cc/bbs/Food/M.1415029463.A.8F5.html\n",
      "The 33 page https://www.ptt.cc/bbs/Food/index3033.html starts:\n"
     ]
    },
    {
     "name": "stderr",
     "output_type": "stream",
     "text": [
      "/anaconda3/lib/python3.7/site-packages/urllib3/connectionpool.py:847: InsecureRequestWarning: Unverified HTTPS request is being made. Adding certificate verification is strongly advised. See: https://urllib3.readthedocs.io/en/latest/advanced-usage.html#ssl-warnings\n",
      "  InsecureRequestWarning)\n"
     ]
    },
    {
     "name": "stdout",
     "output_type": "stream",
     "text": [
      "The page 33 20 https://www.ptt.cc/bbs/Food/M.1415014568.A.9CF.html\n",
      "The page 33 19 https://www.ptt.cc/bbs/Food/M.1415014598.A.4E6.html\n",
      "The page 33 18 https://www.ptt.cc/bbs/Food/M.1415014926.A.F69.html\n",
      "The page 33 17 https://www.ptt.cc/bbs/Food/M.1415015133.A.87B.html\n",
      "The page 33 16 https://www.ptt.cc/bbs/Food/M.1415015251.A.B33.html\n",
      "The page 33 15 https://www.ptt.cc/bbs/Food/M.1415015501.A.7AA.html\n",
      "The page 33 14 https://www.ptt.cc/bbs/Food/M.1415015713.A.6B8.html\n",
      "The page 33 13 https://www.ptt.cc/bbs/Food/M.1415015805.A.1AF.html\n",
      "The page 33 12 https://www.ptt.cc/bbs/Food/M.1415016516.A.9B2.html\n",
      "The page 33 11 https://www.ptt.cc/bbs/Food/M.1415016524.A.B37.html\n",
      "The page 33 10 https://www.ptt.cc/bbs/Food/M.1415017670.A.4A2.html\n",
      "The page 33 9 https://www.ptt.cc/bbs/Food/M.1415017701.A.312.html\n",
      "The page 33 8 https://www.ptt.cc/bbs/Food/M.1415018292.A.8DB.html\n",
      "The page 33 7 https://www.ptt.cc/bbs/Food/M.1415018781.A.EEA.html\n",
      "The page 33 6 https://www.ptt.cc/bbs/Food/M.1415018953.A.659.html\n",
      "The page 33 5 https://www.ptt.cc/bbs/Food/M.1415018979.A.873.html\n",
      "The page 33 4 https://www.ptt.cc/bbs/Food/M.1415019539.A.E79.html\n",
      "The page 33 3 https://www.ptt.cc/bbs/Food/M.1415019815.A.1CA.html\n",
      "The page 33 2 https://www.ptt.cc/bbs/Food/M.1415020783.A.927.html\n",
      "The page 33 1 https://www.ptt.cc/bbs/Food/M.1415021638.A.171.html\n",
      "The 32 page https://www.ptt.cc/bbs/Food/index3032.html starts:\n"
     ]
    },
    {
     "name": "stderr",
     "output_type": "stream",
     "text": [
      "/anaconda3/lib/python3.7/site-packages/urllib3/connectionpool.py:847: InsecureRequestWarning: Unverified HTTPS request is being made. Adding certificate verification is strongly advised. See: https://urllib3.readthedocs.io/en/latest/advanced-usage.html#ssl-warnings\n",
      "  InsecureRequestWarning)\n"
     ]
    },
    {
     "name": "stdout",
     "output_type": "stream",
     "text": [
      "The page 32 20 https://www.ptt.cc/bbs/Food/M.1414991622.A.E64.html\n",
      "The page 32 19 https://www.ptt.cc/bbs/Food/M.1414991838.A.9E7.html\n",
      "The page 32 18 https://www.ptt.cc/bbs/Food/M.1414991920.A.FB1.html\n",
      "The page 32 17 https://www.ptt.cc/bbs/Food/M.1414993139.A.EFC.html\n",
      "The page 32 16 https://www.ptt.cc/bbs/Food/M.1414993668.A.3B2.html\n",
      "The page 32 15 https://www.ptt.cc/bbs/Food/M.1414995509.A.D9B.html\n",
      "The page 32 14 https://www.ptt.cc/bbs/Food/M.1414996063.A.F14.html\n",
      "The page 32 13 https://www.ptt.cc/bbs/Food/M.1414997579.A.053.html\n",
      "The page 32 12 https://www.ptt.cc/bbs/Food/M.1414998094.A.A0F.html\n",
      "The page 32 11 https://www.ptt.cc/bbs/Food/M.1414998374.A.4FE.html\n",
      "The page 32 10 https://www.ptt.cc/bbs/Food/M.1414998380.A.2D8.html\n",
      "The page 32 9 https://www.ptt.cc/bbs/Food/M.1415001199.A.FB0.html\n",
      "The page 32 8 https://www.ptt.cc/bbs/Food/M.1415001791.A.96E.html\n",
      "The page 32 7 https://www.ptt.cc/bbs/Food/M.1415006072.A.457.html\n",
      "The page 32 6 https://www.ptt.cc/bbs/Food/M.1415006700.A.CEB.html\n",
      "The page 32 5 https://www.ptt.cc/bbs/Food/M.1415007585.A.6BB.html\n",
      "The page 32 4 https://www.ptt.cc/bbs/Food/M.1415008308.A.ADD.html\n",
      "The page 32 3 https://www.ptt.cc/bbs/Food/M.1415009598.A.57C.html\n",
      "The page 32 2 https://www.ptt.cc/bbs/Food/M.1415013299.A.EC7.html\n",
      "The page 32 1 https://www.ptt.cc/bbs/Food/M.1415013725.A.0DD.html\n",
      "The 31 page https://www.ptt.cc/bbs/Food/index3031.html starts:\n"
     ]
    },
    {
     "name": "stderr",
     "output_type": "stream",
     "text": [
      "/anaconda3/lib/python3.7/site-packages/urllib3/connectionpool.py:847: InsecureRequestWarning: Unverified HTTPS request is being made. Adding certificate verification is strongly advised. See: https://urllib3.readthedocs.io/en/latest/advanced-usage.html#ssl-warnings\n",
      "  InsecureRequestWarning)\n"
     ]
    },
    {
     "name": "stdout",
     "output_type": "stream",
     "text": [
      "The page 31 20 https://www.ptt.cc/bbs/Food/M.1414940391.A.B4E.html\n",
      "The page 31 19 https://www.ptt.cc/bbs/Food/M.1414940684.A.2EC.html\n",
      "The page 31 18 https://www.ptt.cc/bbs/Food/M.1414941207.A.EC4.html\n",
      "The page 31 17 https://www.ptt.cc/bbs/Food/M.1414941387.A.2E0.html\n",
      "The page 31 16 https://www.ptt.cc/bbs/Food/M.1414941630.A.DB0.html\n",
      "The page 31 15 https://www.ptt.cc/bbs/Food/M.1414942029.A.888.html\n",
      "The page 31 14 https://www.ptt.cc/bbs/Food/M.1414943434.A.89C.html\n",
      "The page 31 13 https://www.ptt.cc/bbs/Food/M.1414944696.A.849.html\n",
      "The page 31 12 https://www.ptt.cc/bbs/Food/M.1414944862.A.CA5.html\n",
      "The page 31 11 https://www.ptt.cc/bbs/Food/M.1414945763.A.2DC.html\n",
      "The page 31 10 https://www.ptt.cc/bbs/Food/M.1414948361.A.F97.html\n",
      "The page 31 9 https://www.ptt.cc/bbs/Food/M.1414948989.A.288.html\n",
      "The page 31 8 https://www.ptt.cc/bbs/Food/M.1414952389.A.5B6.html\n",
      "The page 31 7 https://www.ptt.cc/bbs/Food/M.1414963820.A.0D3.html\n",
      "The page 31 6 https://www.ptt.cc/bbs/Food/M.1414984687.A.575.html\n",
      "The page 31 5 https://www.ptt.cc/bbs/Food/M.1414984828.A.F1C.html\n",
      "The page 31 4 https://www.ptt.cc/bbs/Food/M.1414986766.A.D19.html\n",
      "The page 31 3 https://www.ptt.cc/bbs/Food/M.1414988912.A.13E.html\n",
      "The page 31 2 https://www.ptt.cc/bbs/Food/M.1414991004.A.177.html\n",
      "The page 31 1 https://www.ptt.cc/bbs/Food/M.1414991578.A.75B.html\n",
      "The 30 page https://www.ptt.cc/bbs/Food/index3030.html starts:\n"
     ]
    },
    {
     "name": "stderr",
     "output_type": "stream",
     "text": [
      "/anaconda3/lib/python3.7/site-packages/urllib3/connectionpool.py:847: InsecureRequestWarning: Unverified HTTPS request is being made. Adding certificate verification is strongly advised. See: https://urllib3.readthedocs.io/en/latest/advanced-usage.html#ssl-warnings\n",
      "  InsecureRequestWarning)\n"
     ]
    },
    {
     "name": "stdout",
     "output_type": "stream",
     "text": [
      "The page 30 20 https://www.ptt.cc/bbs/Food/M.1414935371.A.ECB.html\n",
      "The page 30 19 https://www.ptt.cc/bbs/Food/M.1414935707.A.870.html\n",
      "The page 30 18 https://www.ptt.cc/bbs/Food/M.1414936796.A.A36.html\n",
      "The page 30 17 https://www.ptt.cc/bbs/Food/M.1414936870.A.51F.html\n",
      "The page 30 16 https://www.ptt.cc/bbs/Food/M.1414937035.A.143.html\n",
      "The page 30 15 https://www.ptt.cc/bbs/Food/M.1414937370.A.390.html\n",
      "The page 30 14 https://www.ptt.cc/bbs/Food/M.1414937401.A.9B1.html\n",
      "The page 30 13 https://www.ptt.cc/bbs/Food/M.1414937436.A.70E.html\n",
      "The page 30 12 https://www.ptt.cc/bbs/Food/M.1414937516.A.520.html\n",
      "The page 30 11 https://www.ptt.cc/bbs/Food/M.1414937971.A.DC3.html\n",
      "The page 30 10 https://www.ptt.cc/bbs/Food/M.1414938957.A.F0F.html\n",
      "The page 30 9 https://www.ptt.cc/bbs/Food/M.1414939015.A.956.html\n",
      "The page 30 8 https://www.ptt.cc/bbs/Food/M.1414939326.A.B14.html\n",
      "The page 30 7 https://www.ptt.cc/bbs/Food/M.1414939858.A.A36.html\n",
      "The page 30 6 https://www.ptt.cc/bbs/Food/M.1414940097.A.816.html\n",
      "The page 30 5 https://www.ptt.cc/bbs/Food/M.1414940104.A.1A8.html\n",
      "The page 30 4 https://www.ptt.cc/bbs/Food/M.1414940109.A.65B.html\n",
      "The page 30 3 https://www.ptt.cc/bbs/Food/M.1414940165.A.59A.html\n",
      "The page 30 2 https://www.ptt.cc/bbs/Food/M.1414940188.A.68E.html\n",
      "The page 30 1 https://www.ptt.cc/bbs/Food/M.1414940206.A.6A3.html\n",
      "The 29 page https://www.ptt.cc/bbs/Food/index3029.html starts:\n"
     ]
    },
    {
     "name": "stderr",
     "output_type": "stream",
     "text": [
      "/anaconda3/lib/python3.7/site-packages/urllib3/connectionpool.py:847: InsecureRequestWarning: Unverified HTTPS request is being made. Adding certificate verification is strongly advised. See: https://urllib3.readthedocs.io/en/latest/advanced-usage.html#ssl-warnings\n",
      "  InsecureRequestWarning)\n"
     ]
    },
    {
     "name": "stdout",
     "output_type": "stream",
     "text": [
      "The page 29 20 https://www.ptt.cc/bbs/Food/M.1414919121.A.E41.html\n",
      "The page 29 19 https://www.ptt.cc/bbs/Food/M.1414919621.A.179.html\n",
      "The page 29 18 https://www.ptt.cc/bbs/Food/M.1414921829.A.1FB.html\n",
      "The page 29 17 https://www.ptt.cc/bbs/Food/M.1414923045.A.E3E.html\n",
      "The page 29 16 https://www.ptt.cc/bbs/Food/M.1414923068.A.BDC.html\n",
      "The page 29 15 https://www.ptt.cc/bbs/Food/M.1414924447.A.537.html\n",
      "The page 29 14 https://www.ptt.cc/bbs/Food/M.1414925747.A.507.html\n",
      "The page 29 13 https://www.ptt.cc/bbs/Food/M.1414927996.A.456.html\n",
      "The page 29 12 https://www.ptt.cc/bbs/Food/M.1414929060.A.46C.html\n",
      "The page 29 11 https://www.ptt.cc/bbs/Food/M.1414930800.A.962.html\n",
      "The page 29 10 https://www.ptt.cc/bbs/Food/M.1414931206.A.218.html\n",
      "The page 29 9 https://www.ptt.cc/bbs/Food/M.1414931917.A.7F2.html\n",
      "The page 29 8 https://www.ptt.cc/bbs/Food/M.1414932434.A.3D9.html\n",
      "The page 29 7 https://www.ptt.cc/bbs/Food/M.1414932583.A.AF4.html\n",
      "The page 29 6 https://www.ptt.cc/bbs/Food/M.1414933493.A.C7B.html\n",
      "The page 29 5 https://www.ptt.cc/bbs/Food/M.1414934380.A.F97.html\n",
      "The page 29 4 https://www.ptt.cc/bbs/Food/M.1414934624.A.EF8.html\n",
      "The page 29 3 https://www.ptt.cc/bbs/Food/M.1414934707.A.EE9.html\n",
      "The page 29 2 https://www.ptt.cc/bbs/Food/M.1414934885.A.6AE.html\n",
      "The page 29 1 https://www.ptt.cc/bbs/Food/M.1414935029.A.126.html\n",
      "The 28 page https://www.ptt.cc/bbs/Food/index3028.html starts:\n"
     ]
    },
    {
     "name": "stderr",
     "output_type": "stream",
     "text": [
      "/anaconda3/lib/python3.7/site-packages/urllib3/connectionpool.py:847: InsecureRequestWarning: Unverified HTTPS request is being made. Adding certificate verification is strongly advised. See: https://urllib3.readthedocs.io/en/latest/advanced-usage.html#ssl-warnings\n",
      "  InsecureRequestWarning)\n"
     ]
    },
    {
     "name": "stdout",
     "output_type": "stream",
     "text": [
      "The page 28 20 https://www.ptt.cc/bbs/Food/M.1414894835.A.0CA.html\n",
      "The page 28 19 https://www.ptt.cc/bbs/Food/M.1414895134.A.8AC.html\n",
      "The page 28 18 https://www.ptt.cc/bbs/Food/M.1414896400.A.D93.html\n",
      "The page 28 17 https://www.ptt.cc/bbs/Food/M.1414898522.A.535.html\n",
      "The page 28 16 https://www.ptt.cc/bbs/Food/M.1414899391.A.842.html\n",
      "The page 28 15 https://www.ptt.cc/bbs/Food/M.1414901713.A.DCF.html\n",
      "The page 28 14 https://www.ptt.cc/bbs/Food/M.1414901890.A.7A4.html\n",
      "The page 28 13 https://www.ptt.cc/bbs/Food/M.1414902025.A.614.html\n",
      "The page 28 12 https://www.ptt.cc/bbs/Food/M.1414904682.A.569.html\n",
      "The page 28 11 https://www.ptt.cc/bbs/Food/M.1414906144.A.84A.html\n",
      "The page 28 10 https://www.ptt.cc/bbs/Food/M.1414907606.A.F08.html\n",
      "The page 28 9 https://www.ptt.cc/bbs/Food/M.1414910107.A.EF6.html\n",
      "The page 28 8 https://www.ptt.cc/bbs/Food/M.1414910536.A.3CC.html\n",
      "The page 28 7 https://www.ptt.cc/bbs/Food/M.1414910662.A.69A.html\n",
      "The page 28 6 https://www.ptt.cc/bbs/Food/M.1414913529.A.D98.html\n",
      "The page 28 5 https://www.ptt.cc/bbs/Food/M.1414914565.A.BB4.html\n",
      "The page 28 4 https://www.ptt.cc/bbs/Food/M.1414915754.A.091.html\n",
      "The page 28 3 https://www.ptt.cc/bbs/Food/M.1414916802.A.98A.html\n",
      "The page 28 2 https://www.ptt.cc/bbs/Food/M.1414918118.A.DA0.html\n",
      "The page 28 1 https://www.ptt.cc/bbs/Food/M.1414919028.A.738.html\n",
      "The 27 page https://www.ptt.cc/bbs/Food/index3027.html starts:\n"
     ]
    },
    {
     "name": "stderr",
     "output_type": "stream",
     "text": [
      "/anaconda3/lib/python3.7/site-packages/urllib3/connectionpool.py:847: InsecureRequestWarning: Unverified HTTPS request is being made. Adding certificate verification is strongly advised. See: https://urllib3.readthedocs.io/en/latest/advanced-usage.html#ssl-warnings\n",
      "  InsecureRequestWarning)\n"
     ]
    },
    {
     "name": "stdout",
     "output_type": "stream",
     "text": [
      "The page 27 20 https://www.ptt.cc/bbs/Food/M.1414854268.A.A71.html\n",
      "The page 27 19 https://www.ptt.cc/bbs/Food/M.1414854378.A.AED.html\n",
      "The page 27 18 https://www.ptt.cc/bbs/Food/M.1414855556.A.A3E.html\n",
      "The page 27 17 https://www.ptt.cc/bbs/Food/M.1414856941.A.31C.html\n",
      "The page 27 16 https://www.ptt.cc/bbs/Food/M.1414857446.A.6FE.html\n",
      "The page 27 15 https://www.ptt.cc/bbs/Food/M.1414857608.A.D5D.html\n",
      "The page 27 14 https://www.ptt.cc/bbs/Food/M.1414858004.A.B8B.html\n",
      "The page 27 13 https://www.ptt.cc/bbs/Food/M.1414858747.A.B1A.html\n",
      "The page 27 12 https://www.ptt.cc/bbs/Food/M.1414859063.A.9BD.html\n",
      "The page 27 11 https://www.ptt.cc/bbs/Food/M.1414859415.A.6DB.html\n",
      "The page 27 10 https://www.ptt.cc/bbs/Food/M.1414860194.A.399.html\n",
      "The page 27 9 https://www.ptt.cc/bbs/Food/M.1414860629.A.9F9.html\n",
      "The page 27 8 https://www.ptt.cc/bbs/Food/M.1414860679.A.30B.html\n",
      "The page 27 7 https://www.ptt.cc/bbs/Food/M.1414861560.A.FC6.html\n",
      "The page 27 6 https://www.ptt.cc/bbs/Food/M.1414861913.A.6E9.html\n",
      "The page 27 5 https://www.ptt.cc/bbs/Food/M.1414862147.A.6B1.html\n",
      "The page 27 4 https://www.ptt.cc/bbs/Food/M.1414862491.A.AA2.html\n",
      "The page 27 3 https://www.ptt.cc/bbs/Food/M.1414862548.A.D5C.html\n",
      "The page 27 2 https://www.ptt.cc/bbs/Food/M.1414863000.A.94B.html\n",
      "The page 27 1 https://www.ptt.cc/bbs/Food/M.1414894598.A.A60.html\n",
      "The 26 page https://www.ptt.cc/bbs/Food/index3026.html starts:\n"
     ]
    },
    {
     "name": "stderr",
     "output_type": "stream",
     "text": [
      "/anaconda3/lib/python3.7/site-packages/urllib3/connectionpool.py:847: InsecureRequestWarning: Unverified HTTPS request is being made. Adding certificate verification is strongly advised. See: https://urllib3.readthedocs.io/en/latest/advanced-usage.html#ssl-warnings\n",
      "  InsecureRequestWarning)\n"
     ]
    },
    {
     "name": "stdout",
     "output_type": "stream",
     "text": [
      "The page 26 20 https://www.ptt.cc/bbs/Food/M.1414848074.A.807.html\n",
      "The page 26 19 https://www.ptt.cc/bbs/Food/M.1414848134.A.88A.html\n",
      "The page 26 18 https://www.ptt.cc/bbs/Food/M.1414848883.A.E2F.html\n",
      "The page 26 17 https://www.ptt.cc/bbs/Food/M.1414850008.A.564.html\n",
      "The page 26 16 https://www.ptt.cc/bbs/Food/M.1414850063.A.FFD.html\n",
      "The page 26 15 https://www.ptt.cc/bbs/Food/M.1414850401.A.D1B.html\n",
      "The page 26 14 https://www.ptt.cc/bbs/Food/M.1414850586.A.2AA.html\n",
      "The page 26 13 https://www.ptt.cc/bbs/Food/M.1414850761.A.3F9.html\n",
      "The page 26 12 https://www.ptt.cc/bbs/Food/M.1414850847.A.C43.html\n",
      "The page 26 11 https://www.ptt.cc/bbs/Food/M.1414851120.A.EA9.html\n",
      "The page 26 10 https://www.ptt.cc/bbs/Food/M.1414851280.A.0F2.html\n",
      "The page 26 9 https://www.ptt.cc/bbs/Food/M.1414851319.A.558.html\n",
      "The page 26 8 https://www.ptt.cc/bbs/Food/M.1414851343.A.A66.html\n",
      "The page 26 7 https://www.ptt.cc/bbs/Food/M.1414851469.A.885.html\n",
      "The page 26 6 https://www.ptt.cc/bbs/Food/M.1414852408.A.B38.html\n",
      "The page 26 5 https://www.ptt.cc/bbs/Food/M.1414852969.A.34E.html\n",
      "The page 26 4 https://www.ptt.cc/bbs/Food/M.1414853572.A.603.html\n",
      "The page 26 3 https://www.ptt.cc/bbs/Food/M.1414853833.A.B62.html\n",
      "The page 26 2 https://www.ptt.cc/bbs/Food/M.1414853903.A.F04.html\n",
      "The page 26 1 https://www.ptt.cc/bbs/Food/M.1414854040.A.384.html\n",
      "The 25 page https://www.ptt.cc/bbs/Food/index3025.html starts:\n"
     ]
    },
    {
     "name": "stderr",
     "output_type": "stream",
     "text": [
      "/anaconda3/lib/python3.7/site-packages/urllib3/connectionpool.py:847: InsecureRequestWarning: Unverified HTTPS request is being made. Adding certificate verification is strongly advised. See: https://urllib3.readthedocs.io/en/latest/advanced-usage.html#ssl-warnings\n",
      "  InsecureRequestWarning)\n"
     ]
    },
    {
     "name": "stdout",
     "output_type": "stream",
     "text": [
      "The page 25 20 https://www.ptt.cc/bbs/Food/M.1414815213.A.8F7.html\n",
      "The page 25 19 https://www.ptt.cc/bbs/Food/M.1414815520.A.336.html\n",
      "The page 25 18 https://www.ptt.cc/bbs/Food/M.1414816293.A.31E.html\n",
      "The page 25 17 https://www.ptt.cc/bbs/Food/M.1414818716.A.6F6.html\n",
      "The page 25 16 https://www.ptt.cc/bbs/Food/M.1414821359.A.005.html\n",
      "The page 25 15 https://www.ptt.cc/bbs/Food/M.1414821438.A.9F6.html\n",
      "The page 25 14 https://www.ptt.cc/bbs/Food/M.1414821458.A.9AE.html\n",
      "The page 25 13 https://www.ptt.cc/bbs/Food/M.1414821818.A.C13.html\n",
      "The page 25 12 https://www.ptt.cc/bbs/Food/M.1414825142.A.115.html\n",
      "The page 25 11 https://www.ptt.cc/bbs/Food/M.1414827241.A.70C.html\n",
      "The page 25 10 https://www.ptt.cc/bbs/Food/M.1414829757.A.5AE.html\n",
      "The page 25 9 https://www.ptt.cc/bbs/Food/M.1414830644.A.570.html\n",
      "The page 25 8 https://www.ptt.cc/bbs/Food/M.1414832718.A.B5F.html\n",
      "The page 25 7 https://www.ptt.cc/bbs/Food/M.1414834229.A.7E4.html\n",
      "The page 25 6 https://www.ptt.cc/bbs/Food/M.1414842235.A.561.html\n",
      "The page 25 5 https://www.ptt.cc/bbs/Food/M.1414842665.A.CC1.html\n",
      "The page 25 4 https://www.ptt.cc/bbs/Food/M.1414844798.A.655.html\n",
      "The page 25 3 https://www.ptt.cc/bbs/Food/M.1414846999.A.130.html\n",
      "The page 25 2 https://www.ptt.cc/bbs/Food/M.1414847163.A.793.html\n",
      "The page 25 1 https://www.ptt.cc/bbs/Food/M.1414847276.A.B35.html\n",
      "The 24 page https://www.ptt.cc/bbs/Food/index3024.html starts:\n"
     ]
    },
    {
     "name": "stderr",
     "output_type": "stream",
     "text": [
      "/anaconda3/lib/python3.7/site-packages/urllib3/connectionpool.py:847: InsecureRequestWarning: Unverified HTTPS request is being made. Adding certificate verification is strongly advised. See: https://urllib3.readthedocs.io/en/latest/advanced-usage.html#ssl-warnings\n",
      "  InsecureRequestWarning)\n"
     ]
    },
    {
     "name": "stdout",
     "output_type": "stream",
     "text": [
      "The page 24 20 https://www.ptt.cc/bbs/Food/M.1414773424.A.868.html\n",
      "The page 24 19 https://www.ptt.cc/bbs/Food/M.1414775254.A.8B5.html\n",
      "The page 24 18 https://www.ptt.cc/bbs/Food/M.1414775441.A.4EA.html\n",
      "The page 24 17 https://www.ptt.cc/bbs/Food/M.1414777877.A.B06.html\n",
      "The page 24 16 https://www.ptt.cc/bbs/Food/M.1414778480.A.45F.html\n",
      "The page 24 15 https://www.ptt.cc/bbs/Food/M.1414780199.A.DD5.html\n",
      "The page 24 14 https://www.ptt.cc/bbs/Food/M.1414780308.A.52D.html\n",
      "The page 24 13 https://www.ptt.cc/bbs/Food/M.1414786940.A.EE6.html\n",
      "The page 24 12 https://www.ptt.cc/bbs/Food/M.1414798228.A.0BC.html\n",
      "The page 24 11 https://www.ptt.cc/bbs/Food/M.1414802680.A.D9F.html\n",
      "The page 24 10 https://www.ptt.cc/bbs/Food/M.1414803943.A.22B.html\n",
      "The page 24 9 https://www.ptt.cc/bbs/Food/M.1414804486.A.FED.html\n",
      "The page 24 8 https://www.ptt.cc/bbs/Food/M.1414805206.A.ED2.html\n",
      "The page 24 7 https://www.ptt.cc/bbs/Food/M.1414807138.A.A4C.html\n",
      "The page 24 6 https://www.ptt.cc/bbs/Food/M.1414807679.A.F09.html\n",
      "The page 24 5 https://www.ptt.cc/bbs/Food/M.1414809176.A.FE4.html\n",
      "The page 24 4 https://www.ptt.cc/bbs/Food/M.1414810419.A.6ED.html\n",
      "The page 24 3 https://www.ptt.cc/bbs/Food/M.1414812603.A.CA7.html\n",
      "The page 24 2 https://www.ptt.cc/bbs/Food/M.1414813280.A.376.html\n",
      "The page 24 1 https://www.ptt.cc/bbs/Food/M.1414814446.A.C82.html\n",
      "The 23 page https://www.ptt.cc/bbs/Food/index3023.html starts:\n"
     ]
    },
    {
     "name": "stderr",
     "output_type": "stream",
     "text": [
      "/anaconda3/lib/python3.7/site-packages/urllib3/connectionpool.py:847: InsecureRequestWarning: Unverified HTTPS request is being made. Adding certificate verification is strongly advised. See: https://urllib3.readthedocs.io/en/latest/advanced-usage.html#ssl-warnings\n",
      "  InsecureRequestWarning)\n"
     ]
    },
    {
     "name": "stdout",
     "output_type": "stream",
     "text": [
      "The page 23 20 https://www.ptt.cc/bbs/Food/M.1414759251.A.1B3.html\n",
      "The page 23 19 https://www.ptt.cc/bbs/Food/M.1414759662.A.901.html\n",
      "The page 23 18 https://www.ptt.cc/bbs/Food/M.1414760119.A.7F9.html\n",
      "The page 23 17 https://www.ptt.cc/bbs/Food/M.1414762648.A.BBB.html\n",
      "The page 23 16 https://www.ptt.cc/bbs/Food/M.1414763525.A.52C.html\n",
      "The page 23 15 https://www.ptt.cc/bbs/Food/M.1414764121.A.F1C.html\n",
      "The page 23 14 https://www.ptt.cc/bbs/Food/M.1414764840.A.AC5.html\n",
      "The page 23 13 https://www.ptt.cc/bbs/Food/M.1414764996.A.E9D.html\n",
      "The page 23 12 https://www.ptt.cc/bbs/Food/M.1414765498.A.1C0.html\n",
      "The page 23 11 https://www.ptt.cc/bbs/Food/M.1414765804.A.BC5.html\n",
      "The page 23 10 https://www.ptt.cc/bbs/Food/M.1414765959.A.E15.html\n",
      "The page 23 9 https://www.ptt.cc/bbs/Food/M.1414766095.A.661.html\n",
      "The page 23 8 https://www.ptt.cc/bbs/Food/M.1414766196.A.021.html\n",
      "The page 23 7 https://www.ptt.cc/bbs/Food/M.1414766221.A.C3D.html\n",
      "The page 23 6 https://www.ptt.cc/bbs/Food/M.1414766321.A.31E.html\n",
      "The page 23 5 https://www.ptt.cc/bbs/Food/M.1414767321.A.0D2.html\n",
      "The page 23 4 https://www.ptt.cc/bbs/Food/M.1414768735.A.4E4.html\n",
      "The page 23 3 https://www.ptt.cc/bbs/Food/M.1414770652.A.06F.html\n",
      "The page 23 2 https://www.ptt.cc/bbs/Food/M.1414771938.A.AC1.html\n",
      "The page 23 1 https://www.ptt.cc/bbs/Food/M.1414773251.A.8A1.html\n",
      "The 22 page https://www.ptt.cc/bbs/Food/index3022.html starts:\n"
     ]
    },
    {
     "name": "stderr",
     "output_type": "stream",
     "text": [
      "/anaconda3/lib/python3.7/site-packages/urllib3/connectionpool.py:847: InsecureRequestWarning: Unverified HTTPS request is being made. Adding certificate verification is strongly advised. See: https://urllib3.readthedocs.io/en/latest/advanced-usage.html#ssl-warnings\n",
      "  InsecureRequestWarning)\n"
     ]
    },
    {
     "name": "stdout",
     "output_type": "stream",
     "text": [
      "The page 22 20 https://www.ptt.cc/bbs/Food/M.1414732397.A.FD0.html\n",
      "The page 22 19 https://www.ptt.cc/bbs/Food/M.1414733675.A.176.html\n",
      "The page 22 18 https://www.ptt.cc/bbs/Food/M.1414733997.A.04F.html\n",
      "The page 22 17 https://www.ptt.cc/bbs/Food/M.1414735249.A.F87.html\n",
      "The page 22 16 https://www.ptt.cc/bbs/Food/M.1414735818.A.117.html\n",
      "The page 22 15 https://www.ptt.cc/bbs/Food/M.1414738850.A.1CA.html\n",
      "The page 22 14 https://www.ptt.cc/bbs/Food/M.1414739200.A.036.html\n",
      "The page 22 13 https://www.ptt.cc/bbs/Food/M.1414741217.A.DED.html\n",
      "The page 22 12 https://www.ptt.cc/bbs/Food/M.1414741780.A.508.html\n",
      "The page 22 11 https://www.ptt.cc/bbs/Food/M.1414745003.A.1E0.html\n",
      "The page 22 10 https://www.ptt.cc/bbs/Food/M.1414745359.A.0F2.html\n",
      "The page 22 9 https://www.ptt.cc/bbs/Food/M.1414745782.A.F54.html\n",
      "The page 22 8 https://www.ptt.cc/bbs/Food/M.1414749337.A.4DE.html\n",
      "The page 22 7 https://www.ptt.cc/bbs/Food/M.1414753692.A.9F6.html\n",
      "The page 22 6 https://www.ptt.cc/bbs/Food/M.1414754202.A.36C.html\n",
      "The page 22 5 https://www.ptt.cc/bbs/Food/M.1414754580.A.FED.html\n",
      "The page 22 4 https://www.ptt.cc/bbs/Food/M.1414755370.A.A84.html\n",
      "The page 22 3 https://www.ptt.cc/bbs/Food/M.1414756867.A.11E.html\n",
      "The page 22 2 https://www.ptt.cc/bbs/Food/M.1414757076.A.DCA.html\n",
      "The page 22 1 https://www.ptt.cc/bbs/Food/M.1414758816.A.AC7.html\n",
      "The 21 page https://www.ptt.cc/bbs/Food/index3021.html starts:\n"
     ]
    },
    {
     "name": "stderr",
     "output_type": "stream",
     "text": [
      "/anaconda3/lib/python3.7/site-packages/urllib3/connectionpool.py:847: InsecureRequestWarning: Unverified HTTPS request is being made. Adding certificate verification is strongly advised. See: https://urllib3.readthedocs.io/en/latest/advanced-usage.html#ssl-warnings\n",
      "  InsecureRequestWarning)\n"
     ]
    },
    {
     "name": "stdout",
     "output_type": "stream",
     "text": [
      "The page 21 20 https://www.ptt.cc/bbs/Food/M.1414688937.A.E59.html\n",
      "The page 21 19 https://www.ptt.cc/bbs/Food/M.1414690661.A.E23.html\n",
      "The page 21 18 https://www.ptt.cc/bbs/Food/M.1414691876.A.840.html\n",
      "The page 21 17 https://www.ptt.cc/bbs/Food/M.1414693147.A.48B.html\n",
      "The page 21 16 https://www.ptt.cc/bbs/Food/M.1414694316.A.6F3.html\n",
      "The page 21 15 https://www.ptt.cc/bbs/Food/M.1414698520.A.B4B.html\n",
      "The page 21 14 https://www.ptt.cc/bbs/Food/M.1414698891.A.82D.html\n",
      "The page 21 13 https://www.ptt.cc/bbs/Food/M.1414700742.A.6CC.html\n",
      "The page 21 12 https://www.ptt.cc/bbs/Food/M.1414713467.A.2DE.html\n",
      "The page 21 11 https://www.ptt.cc/bbs/Food/M.1414718270.A.970.html\n",
      "The page 21 10 https://www.ptt.cc/bbs/Food/M.1414722804.A.ED2.html\n",
      "The page 21 9 https://www.ptt.cc/bbs/Food/M.1414723820.A.A26.html\n",
      "The page 21 8 https://www.ptt.cc/bbs/Food/M.1414727037.A.D5E.html\n",
      "The page 21 7 https://www.ptt.cc/bbs/Food/M.1414727098.A.8D9.html\n",
      "The page 21 6 https://www.ptt.cc/bbs/Food/M.1414727725.A.F1E.html\n",
      "The page 21 5 https://www.ptt.cc/bbs/Food/M.1414728379.A.2C3.html\n",
      "The page 21 4 https://www.ptt.cc/bbs/Food/M.1414728893.A.B53.html\n",
      "The page 21 3 https://www.ptt.cc/bbs/Food/M.1414730502.A.0BD.html\n",
      "The page 21 2 https://www.ptt.cc/bbs/Food/M.1414731024.A.E93.html\n",
      "The page 21 1 https://www.ptt.cc/bbs/Food/M.1414731397.A.E68.html\n",
      "The 20 page https://www.ptt.cc/bbs/Food/index3020.html starts:\n"
     ]
    },
    {
     "name": "stderr",
     "output_type": "stream",
     "text": [
      "/anaconda3/lib/python3.7/site-packages/urllib3/connectionpool.py:847: InsecureRequestWarning: Unverified HTTPS request is being made. Adding certificate verification is strongly advised. See: https://urllib3.readthedocs.io/en/latest/advanced-usage.html#ssl-warnings\n",
      "  InsecureRequestWarning)\n"
     ]
    },
    {
     "name": "stdout",
     "output_type": "stream",
     "text": [
      "The page 20 20 https://www.ptt.cc/bbs/Food/M.1414680302.A.E13.html\n",
      "The page 20 19 https://www.ptt.cc/bbs/Food/M.1414680489.A.F26.html\n",
      "The page 20 18 https://www.ptt.cc/bbs/Food/M.1414680909.A.377.html\n",
      "The page 20 17 https://www.ptt.cc/bbs/Food/M.1414681154.A.CDE.html\n",
      "The page 20 16 https://www.ptt.cc/bbs/Food/M.1414681441.A.B47.html\n",
      "The page 20 15 https://www.ptt.cc/bbs/Food/M.1414681462.A.132.html\n",
      "The page 20 14 https://www.ptt.cc/bbs/Food/M.1414681588.A.067.html\n",
      "The page 20 13 https://www.ptt.cc/bbs/Food/M.1414682426.A.B3C.html\n",
      "The page 20 12 https://www.ptt.cc/bbs/Food/M.1414682810.A.D25.html\n",
      "The page 20 11 https://www.ptt.cc/bbs/Food/M.1414683826.A.A87.html\n",
      "The page 20 10 https://www.ptt.cc/bbs/Food/M.1414684180.A.DCE.html\n",
      "The page 20 9 https://www.ptt.cc/bbs/Food/M.1414685214.A.424.html\n",
      "The page 20 8 https://www.ptt.cc/bbs/Food/M.1414685457.A.D63.html\n",
      "The page 20 7 https://www.ptt.cc/bbs/Food/M.1414685760.A.730.html\n",
      "The page 20 6 https://www.ptt.cc/bbs/Food/M.1414685871.A.EB0.html\n",
      "The page 20 5 https://www.ptt.cc/bbs/Food/M.1414686196.A.6D6.html\n",
      "The page 20 4 https://www.ptt.cc/bbs/Food/M.1414686683.A.8ED.html\n",
      "The page 20 3 https://www.ptt.cc/bbs/Food/M.1414687588.A.564.html\n",
      "The page 20 2 https://www.ptt.cc/bbs/Food/M.1414687965.A.4FF.html\n",
      "The page 20 1 https://www.ptt.cc/bbs/Food/M.1414688047.A.43F.html\n",
      "The 19 page https://www.ptt.cc/bbs/Food/index3019.html starts:\n"
     ]
    },
    {
     "name": "stderr",
     "output_type": "stream",
     "text": [
      "/anaconda3/lib/python3.7/site-packages/urllib3/connectionpool.py:847: InsecureRequestWarning: Unverified HTTPS request is being made. Adding certificate verification is strongly advised. See: https://urllib3.readthedocs.io/en/latest/advanced-usage.html#ssl-warnings\n",
      "  InsecureRequestWarning)\n"
     ]
    },
    {
     "name": "stdout",
     "output_type": "stream",
     "text": [
      "The page 19 20 https://www.ptt.cc/bbs/Food/M.1414675029.A.3F4.html\n",
      "The page 19 19 https://www.ptt.cc/bbs/Food/M.1414675505.A.E07.html\n",
      "The page 19 18 https://www.ptt.cc/bbs/Food/M.1414675920.A.363.html\n",
      "The page 19 17 https://www.ptt.cc/bbs/Food/M.1414676022.A.A60.html\n",
      "The page 19 16 https://www.ptt.cc/bbs/Food/M.1414676215.A.ACB.html\n",
      "The page 19 15 https://www.ptt.cc/bbs/Food/M.1414676217.A.6B5.html\n",
      "The page 19 14 https://www.ptt.cc/bbs/Food/M.1414676322.A.BA9.html\n",
      "The page 19 13 https://www.ptt.cc/bbs/Food/M.1414676386.A.2D4.html\n",
      "The page 19 12 https://www.ptt.cc/bbs/Food/M.1414676397.A.D73.html\n",
      "The page 19 11 https://www.ptt.cc/bbs/Food/M.1414676524.A.30D.html\n",
      "The page 19 10 https://www.ptt.cc/bbs/Food/M.1414677086.A.5B7.html\n",
      "The page 19 9 https://www.ptt.cc/bbs/Food/M.1414677234.A.C71.html\n",
      "The page 19 8 https://www.ptt.cc/bbs/Food/M.1414677874.A.951.html\n",
      "The page 19 7 https://www.ptt.cc/bbs/Food/M.1414679196.A.A02.html\n",
      "The page 19 6 https://www.ptt.cc/bbs/Food/M.1414679263.A.7A7.html\n",
      "The page 19 5 https://www.ptt.cc/bbs/Food/M.1414679274.A.221.html\n",
      "The page 19 4 https://www.ptt.cc/bbs/Food/M.1414679393.A.A2D.html\n",
      "The page 19 3 https://www.ptt.cc/bbs/Food/M.1414679849.A.19D.html\n",
      "The page 19 2 https://www.ptt.cc/bbs/Food/M.1414680191.A.1F2.html\n",
      "The page 19 1 https://www.ptt.cc/bbs/Food/M.1414680235.A.6EF.html\n",
      "The 18 page https://www.ptt.cc/bbs/Food/index3018.html starts:\n"
     ]
    },
    {
     "name": "stderr",
     "output_type": "stream",
     "text": [
      "/anaconda3/lib/python3.7/site-packages/urllib3/connectionpool.py:847: InsecureRequestWarning: Unverified HTTPS request is being made. Adding certificate verification is strongly advised. See: https://urllib3.readthedocs.io/en/latest/advanced-usage.html#ssl-warnings\n",
      "  InsecureRequestWarning)\n"
     ]
    },
    {
     "name": "stdout",
     "output_type": "stream",
     "text": [
      "The page 18 20 https://www.ptt.cc/bbs/Food/M.1414658692.A.9F6.html\n",
      "The page 18 19 https://www.ptt.cc/bbs/Food/M.1414659326.A.B86.html\n",
      "The page 18 18 https://www.ptt.cc/bbs/Food/M.1414660341.A.25C.html\n",
      "The page 18 17 https://www.ptt.cc/bbs/Food/M.1414661332.A.EFA.html\n",
      "The page 18 16 https://www.ptt.cc/bbs/Food/M.1414661448.A.547.html\n",
      "The page 18 15 https://www.ptt.cc/bbs/Food/M.1414661756.A.C50.html\n",
      "The page 18 14 https://www.ptt.cc/bbs/Food/M.1414662600.A.E85.html\n",
      "The page 18 13 https://www.ptt.cc/bbs/Food/M.1414663253.A.3ED.html\n",
      "The page 18 12 https://www.ptt.cc/bbs/Food/M.1414664433.A.21B.html\n",
      "The page 18 11 https://www.ptt.cc/bbs/Food/M.1414664667.A.DC6.html\n",
      "The page 18 10 https://www.ptt.cc/bbs/Food/M.1414666367.A.362.html\n",
      "The page 18 9 https://www.ptt.cc/bbs/Food/M.1414668473.A.838.html\n",
      "The page 18 8 https://www.ptt.cc/bbs/Food/M.1414670525.A.EC6.html\n",
      "The page 18 7 https://www.ptt.cc/bbs/Food/M.1414670681.A.B55.html\n",
      "The page 18 6 https://www.ptt.cc/bbs/Food/M.1414671373.A.F69.html\n",
      "The page 18 5 https://www.ptt.cc/bbs/Food/M.1414671539.A.B9B.html\n",
      "The page 18 4 https://www.ptt.cc/bbs/Food/M.1414673314.A.FF7.html\n",
      "The page 18 3 https://www.ptt.cc/bbs/Food/M.1414673461.A.88C.html\n",
      "The page 18 2 https://www.ptt.cc/bbs/Food/M.1414674177.A.993.html\n",
      "The page 18 1 https://www.ptt.cc/bbs/Food/M.1414674832.A.625.html\n",
      "The 17 page https://www.ptt.cc/bbs/Food/index3017.html starts:\n"
     ]
    },
    {
     "name": "stderr",
     "output_type": "stream",
     "text": [
      "/anaconda3/lib/python3.7/site-packages/urllib3/connectionpool.py:847: InsecureRequestWarning: Unverified HTTPS request is being made. Adding certificate verification is strongly advised. See: https://urllib3.readthedocs.io/en/latest/advanced-usage.html#ssl-warnings\n",
      "  InsecureRequestWarning)\n"
     ]
    },
    {
     "name": "stdout",
     "output_type": "stream",
     "text": [
      "The page 17 20 https://www.ptt.cc/bbs/Food/M.1414625593.A.16E.html\n",
      "The page 17 19 https://www.ptt.cc/bbs/Food/M.1414633925.A.9A9.html\n",
      "The page 17 18 https://www.ptt.cc/bbs/Food/M.1414634457.A.550.html\n",
      "The page 17 17 https://www.ptt.cc/bbs/Food/M.1414635304.A.8DD.html\n",
      "The page 17 16 https://www.ptt.cc/bbs/Food/M.1414636595.A.F17.html\n",
      "The page 17 15 https://www.ptt.cc/bbs/Food/M.1414639466.A.4B1.html\n",
      "The page 17 14 https://www.ptt.cc/bbs/Food/M.1414646005.A.75C.html\n",
      "The page 17 13 https://www.ptt.cc/bbs/Food/M.1414646317.A.0A4.html\n",
      "The page 17 12 https://www.ptt.cc/bbs/Food/M.1414647418.A.E49.html\n",
      "The page 17 11 https://www.ptt.cc/bbs/Food/M.1414648195.A.2B6.html\n",
      "The page 17 10 https://www.ptt.cc/bbs/Food/M.1414648542.A.DF3.html\n",
      "The page 17 9 https://www.ptt.cc/bbs/Food/M.1414649061.A.A4F.html\n",
      "The page 17 8 https://www.ptt.cc/bbs/Food/M.1414649182.A.613.html\n",
      "The page 17 7 https://www.ptt.cc/bbs/Food/M.1414649497.A.8A2.html\n",
      "The page 17 6 https://www.ptt.cc/bbs/Food/M.1414649752.A.3D0.html\n",
      "The page 17 5 https://www.ptt.cc/bbs/Food/M.1414650134.A.A80.html\n",
      "The page 17 4 https://www.ptt.cc/bbs/Food/M.1414651564.A.06D.html\n",
      "The page 17 3 https://www.ptt.cc/bbs/Food/M.1414651950.A.EEE.html\n",
      "The page 17 2 https://www.ptt.cc/bbs/Food/M.1414652099.A.A41.html\n",
      "The page 17 1 https://www.ptt.cc/bbs/Food/M.1414657893.A.D2F.html\n",
      "The 16 page https://www.ptt.cc/bbs/Food/index3016.html starts:\n"
     ]
    },
    {
     "name": "stderr",
     "output_type": "stream",
     "text": [
      "/anaconda3/lib/python3.7/site-packages/urllib3/connectionpool.py:847: InsecureRequestWarning: Unverified HTTPS request is being made. Adding certificate verification is strongly advised. See: https://urllib3.readthedocs.io/en/latest/advanced-usage.html#ssl-warnings\n",
      "  InsecureRequestWarning)\n"
     ]
    },
    {
     "name": "stdout",
     "output_type": "stream",
     "text": [
      "The page 16 20 https://www.ptt.cc/bbs/Food/M.1414593557.A.797.html\n",
      "The page 16 19 https://www.ptt.cc/bbs/Food/M.1414593773.A.3A8.html\n",
      "The page 16 18 https://www.ptt.cc/bbs/Food/M.1414594331.A.03A.html\n",
      "The page 16 17 https://www.ptt.cc/bbs/Food/M.1414594902.A.1E1.html\n",
      "The page 16 16 https://www.ptt.cc/bbs/Food/M.1414595284.A.57E.html\n",
      "The page 16 15 https://www.ptt.cc/bbs/Food/M.1414598141.A.2F9.html\n",
      "The page 16 14 https://www.ptt.cc/bbs/Food/M.1414598210.A.EB8.html\n",
      "The page 16 13 https://www.ptt.cc/bbs/Food/M.1414598361.A.162.html\n",
      "The page 16 12 https://www.ptt.cc/bbs/Food/M.1414598595.A.A25.html\n",
      "The page 16 11 https://www.ptt.cc/bbs/Food/M.1414598860.A.FD9.html\n",
      "The page 16 10 https://www.ptt.cc/bbs/Food/M.1414603119.A.C00.html\n",
      "The page 16 9 https://www.ptt.cc/bbs/Food/M.1414604557.A.24B.html\n",
      "The page 16 8 https://www.ptt.cc/bbs/Food/M.1414606928.A.F91.html\n",
      "The page 16 7 https://www.ptt.cc/bbs/Food/M.1414607026.A.51C.html\n",
      "The page 16 6 https://www.ptt.cc/bbs/Food/M.1414607102.A.92F.html\n",
      "The page 16 5 https://www.ptt.cc/bbs/Food/M.1414607476.A.80D.html\n",
      "The page 16 4 https://www.ptt.cc/bbs/Food/M.1414607871.A.979.html\n",
      "The page 16 3 https://www.ptt.cc/bbs/Food/M.1414609203.A.276.html\n",
      "The page 16 2 https://www.ptt.cc/bbs/Food/M.1414610123.A.0F2.html\n",
      "The page 16 1 https://www.ptt.cc/bbs/Food/M.1414612801.A.755.html\n",
      "The 15 page https://www.ptt.cc/bbs/Food/index3015.html starts:\n"
     ]
    },
    {
     "name": "stderr",
     "output_type": "stream",
     "text": [
      "/anaconda3/lib/python3.7/site-packages/urllib3/connectionpool.py:847: InsecureRequestWarning: Unverified HTTPS request is being made. Adding certificate verification is strongly advised. See: https://urllib3.readthedocs.io/en/latest/advanced-usage.html#ssl-warnings\n",
      "  InsecureRequestWarning)\n"
     ]
    },
    {
     "name": "stdout",
     "output_type": "stream",
     "text": [
      "The page 15 20 https://www.ptt.cc/bbs/Food/M.1414588610.A.63C.html\n",
      "The page 15 19 https://www.ptt.cc/bbs/Food/M.1414588695.A.7EC.html\n",
      "The page 15 18 https://www.ptt.cc/bbs/Food/M.1414588755.A.69F.html\n",
      "The page 15 17 https://www.ptt.cc/bbs/Food/M.1414588971.A.B77.html\n",
      "The page 15 16 https://www.ptt.cc/bbs/Food/M.1414589780.A.746.html\n",
      "The page 15 15 https://www.ptt.cc/bbs/Food/M.1414589913.A.F55.html\n",
      "The page 15 14 https://www.ptt.cc/bbs/Food/M.1414589920.A.A4F.html\n",
      "The page 15 13 https://www.ptt.cc/bbs/Food/M.1414590525.A.F2E.html\n",
      "The page 15 12 https://www.ptt.cc/bbs/Food/M.1414590720.A.3CB.html\n",
      "The page 15 11 https://www.ptt.cc/bbs/Food/M.1414590789.A.581.html\n",
      "The page 15 10 https://www.ptt.cc/bbs/Food/M.1414591126.A.194.html\n",
      "The page 15 9 https://www.ptt.cc/bbs/Food/M.1414591177.A.06A.html\n",
      "The page 15 8 https://www.ptt.cc/bbs/Food/M.1414591184.A.9D4.html\n",
      "The page 15 7 https://www.ptt.cc/bbs/Food/M.1414591270.A.3C0.html\n",
      "The page 15 6 https://www.ptt.cc/bbs/Food/M.1414592198.A.EF6.html\n",
      "The page 15 5 https://www.ptt.cc/bbs/Food/M.1414592491.A.86F.html\n",
      "The page 15 4 https://www.ptt.cc/bbs/Food/M.1414592566.A.107.html\n",
      "The page 15 3 https://www.ptt.cc/bbs/Food/M.1414593261.A.FB4.html\n",
      "The page 15 2 https://www.ptt.cc/bbs/Food/M.1414593494.A.053.html\n",
      "The page 15 1 https://www.ptt.cc/bbs/Food/M.1414593513.A.ED4.html\n",
      "The 14 page https://www.ptt.cc/bbs/Food/index3014.html starts:\n"
     ]
    },
    {
     "name": "stderr",
     "output_type": "stream",
     "text": [
      "/anaconda3/lib/python3.7/site-packages/urllib3/connectionpool.py:847: InsecureRequestWarning: Unverified HTTPS request is being made. Adding certificate verification is strongly advised. See: https://urllib3.readthedocs.io/en/latest/advanced-usage.html#ssl-warnings\n",
      "  InsecureRequestWarning)\n"
     ]
    },
    {
     "name": "stdout",
     "output_type": "stream",
     "text": [
      "The page 14 20 https://www.ptt.cc/bbs/Food/M.1414559822.A.F0C.html\n",
      "The page 14 19 https://www.ptt.cc/bbs/Food/M.1414560759.A.66D.html\n",
      "The page 14 18 https://www.ptt.cc/bbs/Food/M.1414567473.A.C2E.html\n",
      "The page 14 17 https://www.ptt.cc/bbs/Food/M.1414568146.A.E79.html\n",
      "The page 14 16 https://www.ptt.cc/bbs/Food/M.1414568429.A.637.html\n",
      "The page 14 15 https://www.ptt.cc/bbs/Food/M.1414571304.A.18A.html\n",
      "The page 14 14 https://www.ptt.cc/bbs/Food/M.1414575911.A.E66.html\n",
      "The page 14 13 https://www.ptt.cc/bbs/Food/M.1414577348.A.D48.html\n",
      "The page 14 12 https://www.ptt.cc/bbs/Food/M.1414578208.A.7C1.html\n",
      "The page 14 11 https://www.ptt.cc/bbs/Food/M.1414578409.A.D76.html\n",
      "The page 14 10 https://www.ptt.cc/bbs/Food/M.1414578988.A.D80.html\n",
      "The page 14 9 https://www.ptt.cc/bbs/Food/M.1414579446.A.E64.html\n",
      "The page 14 8 https://www.ptt.cc/bbs/Food/M.1414581631.A.E1A.html\n",
      "The page 14 7 https://www.ptt.cc/bbs/Food/M.1414584781.A.647.html\n",
      "The page 14 6 https://www.ptt.cc/bbs/Food/M.1414585695.A.A83.html\n",
      "The page 14 5 https://www.ptt.cc/bbs/Food/M.1414585754.A.8A7.html\n",
      "The page 14 4 https://www.ptt.cc/bbs/Food/M.1414586473.A.D8D.html\n",
      "The page 14 3 https://www.ptt.cc/bbs/Food/M.1414586501.A.C82.html\n",
      "The page 14 2 https://www.ptt.cc/bbs/Food/M.1414586990.A.245.html\n",
      "The page 14 1 https://www.ptt.cc/bbs/Food/M.1414588385.A.8D6.html\n",
      "The 13 page https://www.ptt.cc/bbs/Food/index3013.html starts:\n"
     ]
    },
    {
     "name": "stderr",
     "output_type": "stream",
     "text": [
      "/anaconda3/lib/python3.7/site-packages/urllib3/connectionpool.py:847: InsecureRequestWarning: Unverified HTTPS request is being made. Adding certificate verification is strongly advised. See: https://urllib3.readthedocs.io/en/latest/advanced-usage.html#ssl-warnings\n",
      "  InsecureRequestWarning)\n"
     ]
    },
    {
     "name": "stdout",
     "output_type": "stream",
     "text": [
      "The page 13 20 https://www.ptt.cc/bbs/Food/M.1414513934.A.CA8.html\n",
      "The page 13 19 https://www.ptt.cc/bbs/Food/M.1414515804.A.B73.html\n",
      "The page 13 18 https://www.ptt.cc/bbs/Food/M.1414516630.A.7A8.html\n",
      "The page 13 17 https://www.ptt.cc/bbs/Food/M.1414517545.A.CC4.html\n",
      "The page 13 16 https://www.ptt.cc/bbs/Food/M.1414521664.A.A44.html\n",
      "The page 13 15 https://www.ptt.cc/bbs/Food/M.1414535845.A.3C7.html\n",
      "The page 13 14 https://www.ptt.cc/bbs/Food/M.1414539290.A.C7E.html\n",
      "The page 13 13 https://www.ptt.cc/bbs/Food/M.1414539465.A.146.html\n",
      "The page 13 12 https://www.ptt.cc/bbs/Food/M.1414540873.A.E84.html\n",
      "The page 13 11 https://www.ptt.cc/bbs/Food/M.1414545721.A.E73.html\n",
      "The page 13 10 https://www.ptt.cc/bbs/Food/M.1414547510.A.D81.html\n",
      "The page 13 9 https://www.ptt.cc/bbs/Food/M.1414548333.A.1E3.html\n",
      "The page 13 8 https://www.ptt.cc/bbs/Food/M.1414549499.A.62F.html\n",
      "The page 13 7 https://www.ptt.cc/bbs/Food/M.1414550026.A.50B.html\n",
      "The page 13 6 https://www.ptt.cc/bbs/Food/M.1414550333.A.5D7.html\n",
      "The page 13 5 https://www.ptt.cc/bbs/Food/M.1414551271.A.BAE.html\n",
      "The page 13 4 https://www.ptt.cc/bbs/Food/M.1414551353.A.CF6.html\n",
      "The page 13 3 https://www.ptt.cc/bbs/Food/M.1414555041.A.FC0.html\n",
      "The page 13 2 https://www.ptt.cc/bbs/Food/M.1414555534.A.494.html\n",
      "The page 13 1 https://www.ptt.cc/bbs/Food/M.1414558488.A.6AE.html\n",
      "The 12 page https://www.ptt.cc/bbs/Food/index3012.html starts:\n"
     ]
    },
    {
     "name": "stderr",
     "output_type": "stream",
     "text": [
      "/anaconda3/lib/python3.7/site-packages/urllib3/connectionpool.py:847: InsecureRequestWarning: Unverified HTTPS request is being made. Adding certificate verification is strongly advised. See: https://urllib3.readthedocs.io/en/latest/advanced-usage.html#ssl-warnings\n",
      "  InsecureRequestWarning)\n"
     ]
    },
    {
     "name": "stdout",
     "output_type": "stream",
     "text": [
      "The page 12 20 https://www.ptt.cc/bbs/Food/M.1414507889.A.2E8.html\n",
      "The page 12 19 https://www.ptt.cc/bbs/Food/M.1414508200.A.440.html\n",
      "The page 12 18 https://www.ptt.cc/bbs/Food/M.1414508234.A.ECF.html\n",
      "The page 12 17 https://www.ptt.cc/bbs/Food/M.1414508330.A.3F4.html\n",
      "The page 12 16 https://www.ptt.cc/bbs/Food/M.1414509046.A.B66.html\n",
      "The page 12 15 https://www.ptt.cc/bbs/Food/M.1414509139.A.8C0.html\n",
      "The page 12 14 https://www.ptt.cc/bbs/Food/M.1414509241.A.5AE.html\n",
      "The page 12 13 https://www.ptt.cc/bbs/Food/M.1414509287.A.71D.html\n",
      "The page 12 12 https://www.ptt.cc/bbs/Food/M.1414509319.A.E65.html\n",
      "The page 12 11 https://www.ptt.cc/bbs/Food/M.1414509566.A.BFA.html\n",
      "The page 12 10 https://www.ptt.cc/bbs/Food/M.1414510075.A.8AA.html\n",
      "The page 12 9 https://www.ptt.cc/bbs/Food/M.1414510386.A.F44.html\n",
      "The page 12 8 https://www.ptt.cc/bbs/Food/M.1414510644.A.407.html\n",
      "The page 12 7 https://www.ptt.cc/bbs/Food/M.1414510818.A.35D.html\n",
      "The page 12 6 https://www.ptt.cc/bbs/Food/M.1414511633.A.9BA.html\n",
      "The page 12 5 https://www.ptt.cc/bbs/Food/M.1414511641.A.D69.html\n",
      "The page 12 4 https://www.ptt.cc/bbs/Food/M.1414512278.A.9C5.html\n",
      "The page 12 3 https://www.ptt.cc/bbs/Food/M.1414512474.A.E92.html\n",
      "The page 12 2 https://www.ptt.cc/bbs/Food/M.1414512480.A.7CC.html\n",
      "The page 12 1 https://www.ptt.cc/bbs/Food/M.1414512847.A.50B.html\n",
      "The 11 page https://www.ptt.cc/bbs/Food/index3011.html starts:\n"
     ]
    },
    {
     "name": "stderr",
     "output_type": "stream",
     "text": [
      "/anaconda3/lib/python3.7/site-packages/urllib3/connectionpool.py:847: InsecureRequestWarning: Unverified HTTPS request is being made. Adding certificate verification is strongly advised. See: https://urllib3.readthedocs.io/en/latest/advanced-usage.html#ssl-warnings\n",
      "  InsecureRequestWarning)\n"
     ]
    },
    {
     "name": "stdout",
     "output_type": "stream",
     "text": [
      "The page 11 20 https://www.ptt.cc/bbs/Food/M.1414501118.A.A46.html\n",
      "The page 11 19 https://www.ptt.cc/bbs/Food/M.1414501317.A.1CF.html\n",
      "The page 11 18 https://www.ptt.cc/bbs/Food/M.1414501751.A.790.html\n",
      "The page 11 17 https://www.ptt.cc/bbs/Food/M.1414502344.A.90C.html\n",
      "The page 11 16 https://www.ptt.cc/bbs/Food/M.1414502453.A.AB9.html\n",
      "The page 11 15 https://www.ptt.cc/bbs/Food/M.1414503597.A.4CC.html\n",
      "The page 11 14 https://www.ptt.cc/bbs/Food/M.1414503810.A.6B9.html\n",
      "The page 11 13 https://www.ptt.cc/bbs/Food/M.1414503811.A.53F.html\n",
      "The page 11 12 https://www.ptt.cc/bbs/Food/M.1414503844.A.AE9.html\n",
      "The page 11 11 https://www.ptt.cc/bbs/Food/M.1414503886.A.2A4.html\n",
      "The page 11 10 https://www.ptt.cc/bbs/Food/M.1414504808.A.BC6.html\n",
      "The page 11 9 https://www.ptt.cc/bbs/Food/M.1414504979.A.BAA.html\n",
      "The page 11 8 https://www.ptt.cc/bbs/Food/M.1414505072.A.61B.html\n",
      "The page 11 7 https://www.ptt.cc/bbs/Food/M.1414505200.A.524.html\n",
      "The page 11 6 https://www.ptt.cc/bbs/Food/M.1414505637.A.30F.html\n",
      "The page 11 5 https://www.ptt.cc/bbs/Food/M.1414506564.A.158.html\n",
      "The page 11 4 https://www.ptt.cc/bbs/Food/M.1414506582.A.301.html\n",
      "The page 11 3 https://www.ptt.cc/bbs/Food/M.1414506718.A.BE2.html\n",
      "The page 11 2 https://www.ptt.cc/bbs/Food/M.1414506903.A.D42.html\n",
      "The page 11 1 https://www.ptt.cc/bbs/Food/M.1414506940.A.B65.html\n",
      "The 10 page https://www.ptt.cc/bbs/Food/index3010.html starts:\n"
     ]
    },
    {
     "name": "stderr",
     "output_type": "stream",
     "text": [
      "/anaconda3/lib/python3.7/site-packages/urllib3/connectionpool.py:847: InsecureRequestWarning: Unverified HTTPS request is being made. Adding certificate verification is strongly advised. See: https://urllib3.readthedocs.io/en/latest/advanced-usage.html#ssl-warnings\n",
      "  InsecureRequestWarning)\n"
     ]
    },
    {
     "name": "stdout",
     "output_type": "stream",
     "text": [
      "The page 10 20 https://www.ptt.cc/bbs/Food/M.1414484892.A.DF7.html\n",
      "The page 10 19 https://www.ptt.cc/bbs/Food/M.1414485194.A.C0B.html\n",
      "The page 10 18 https://www.ptt.cc/bbs/Food/M.1414485447.A.F2A.html\n",
      "The page 10 17 https://www.ptt.cc/bbs/Food/M.1414486000.A.111.html\n",
      "The page 10 16 https://www.ptt.cc/bbs/Food/M.1414486649.A.EEA.html\n",
      "The page 10 15 https://www.ptt.cc/bbs/Food/M.1414486847.A.04D.html\n",
      "The page 10 14 https://www.ptt.cc/bbs/Food/M.1414487178.A.BC5.html\n",
      "The page 10 13 https://www.ptt.cc/bbs/Food/M.1414489183.A.B9A.html\n",
      "The page 10 12 https://www.ptt.cc/bbs/Food/M.1414489593.A.199.html\n",
      "The page 10 11 https://www.ptt.cc/bbs/Food/M.1414493010.A.CB6.html\n",
      "The page 10 10 https://www.ptt.cc/bbs/Food/M.1414493311.A.F88.html\n",
      "The page 10 9 https://www.ptt.cc/bbs/Food/M.1414493848.A.F00.html\n",
      "The page 10 8 https://www.ptt.cc/bbs/Food/M.1414495296.A.A88.html\n",
      "The page 10 7 https://www.ptt.cc/bbs/Food/M.1414495924.A.FA4.html\n",
      "The page 10 6 https://www.ptt.cc/bbs/Food/M.1414498839.A.EBB.html\n",
      "The page 10 5 https://www.ptt.cc/bbs/Food/M.1414499489.A.DEE.html\n",
      "The page 10 4 https://www.ptt.cc/bbs/Food/M.1414500025.A.3FD.html\n",
      "The page 10 3 https://www.ptt.cc/bbs/Food/M.1414500044.A.A42.html\n",
      "The page 10 2 https://www.ptt.cc/bbs/Food/M.1414500095.A.ED7.html\n",
      "The page 10 1 https://www.ptt.cc/bbs/Food/M.1414500462.A.D5A.html\n",
      "The 9 page https://www.ptt.cc/bbs/Food/index3009.html starts:\n"
     ]
    },
    {
     "name": "stderr",
     "output_type": "stream",
     "text": [
      "/anaconda3/lib/python3.7/site-packages/urllib3/connectionpool.py:847: InsecureRequestWarning: Unverified HTTPS request is being made. Adding certificate verification is strongly advised. See: https://urllib3.readthedocs.io/en/latest/advanced-usage.html#ssl-warnings\n",
      "  InsecureRequestWarning)\n"
     ]
    },
    {
     "name": "stdout",
     "output_type": "stream",
     "text": [
      "The page 9 20 https://www.ptt.cc/bbs/Food/M.1414467092.A.331.html\n",
      "The page 9 19 https://www.ptt.cc/bbs/Food/M.1414469419.A.34C.html\n",
      "The page 9 18 https://www.ptt.cc/bbs/Food/M.1414469491.A.D39.html\n",
      "The page 9 17 https://www.ptt.cc/bbs/Food/M.1414469574.A.868.html\n",
      "The page 9 16 https://www.ptt.cc/bbs/Food/M.1414469629.A.49E.html\n",
      "The page 9 15 https://www.ptt.cc/bbs/Food/M.1414469982.A.8C6.html\n",
      "The page 9 14 https://www.ptt.cc/bbs/Food/M.1414470012.A.940.html\n",
      "The page 9 13 https://www.ptt.cc/bbs/Food/M.1414470968.A.F67.html\n",
      "The page 9 12 https://www.ptt.cc/bbs/Food/M.1414471018.A.BDF.html\n",
      "The page 9 11 https://www.ptt.cc/bbs/Food/M.1414471735.A.571.html\n",
      "The page 9 10 https://www.ptt.cc/bbs/Food/M.1414472569.A.C10.html\n",
      "The page 9 9 https://www.ptt.cc/bbs/Food/M.1414475702.A.CBA.html\n",
      "The page 9 8 https://www.ptt.cc/bbs/Food/M.1414476196.A.436.html\n",
      "The page 9 7 https://www.ptt.cc/bbs/Food/M.1414476379.A.48C.html\n",
      "The page 9 6 https://www.ptt.cc/bbs/Food/M.1414476888.A.1AE.html\n",
      "The page 9 5 https://www.ptt.cc/bbs/Food/M.1414478611.A.A5D.html\n",
      "The page 9 4 https://www.ptt.cc/bbs/Food/M.1414479804.A.E24.html\n",
      "The page 9 3 https://www.ptt.cc/bbs/Food/M.1414480230.A.D47.html\n",
      "The page 9 2 https://www.ptt.cc/bbs/Food/M.1414483394.A.959.html\n",
      "The page 9 1 https://www.ptt.cc/bbs/Food/M.1414484585.A.B56.html\n",
      "The 8 page https://www.ptt.cc/bbs/Food/index3008.html starts:\n"
     ]
    },
    {
     "name": "stderr",
     "output_type": "stream",
     "text": [
      "/anaconda3/lib/python3.7/site-packages/urllib3/connectionpool.py:847: InsecureRequestWarning: Unverified HTTPS request is being made. Adding certificate verification is strongly advised. See: https://urllib3.readthedocs.io/en/latest/advanced-usage.html#ssl-warnings\n",
      "  InsecureRequestWarning)\n"
     ]
    },
    {
     "name": "stdout",
     "output_type": "stream",
     "text": [
      "The page 8 20 https://www.ptt.cc/bbs/Food/M.1414420974.A.A3C.html\n",
      "The page 8 19 https://www.ptt.cc/bbs/Food/M.1414421319.A.49E.html\n",
      "The page 8 18 https://www.ptt.cc/bbs/Food/M.1414422679.A.0CF.html\n",
      "The page 8 17 https://www.ptt.cc/bbs/Food/M.1414424126.A.353.html\n",
      "The page 8 16 https://www.ptt.cc/bbs/Food/M.1414424140.A.1B8.html\n",
      "The page 8 15 https://www.ptt.cc/bbs/Food/M.1414424302.A.12D.html\n",
      "The page 8 14 https://www.ptt.cc/bbs/Food/M.1414424544.A.818.html\n",
      "The page 8 13 https://www.ptt.cc/bbs/Food/M.1414425094.A.F88.html\n",
      "The page 8 12 https://www.ptt.cc/bbs/Food/M.1414425132.A.D66.html\n",
      "The page 8 11 https://www.ptt.cc/bbs/Food/M.1414425420.A.E49.html\n",
      "The page 8 10 https://www.ptt.cc/bbs/Food/M.1414427677.A.BE9.html\n",
      "The page 8 9 https://www.ptt.cc/bbs/Food/M.1414428295.A.4D2.html\n",
      "The page 8 8 https://www.ptt.cc/bbs/Food/M.1414428650.A.D15.html\n",
      "The page 8 7 https://www.ptt.cc/bbs/Food/M.1414430944.A.2C0.html\n",
      "The page 8 6 https://www.ptt.cc/bbs/Food/M.1414433530.A.8CD.html\n",
      "The page 8 5 https://www.ptt.cc/bbs/Food/M.1414453113.A.415.html\n",
      "The page 8 4 https://www.ptt.cc/bbs/Food/M.1414459976.A.A3E.html\n",
      "The page 8 3 https://www.ptt.cc/bbs/Food/M.1414461171.A.4D0.html\n",
      "The page 8 2 https://www.ptt.cc/bbs/Food/M.1414461801.A.BB2.html\n",
      "The page 8 1 https://www.ptt.cc/bbs/Food/M.1414464496.A.E0D.html\n",
      "The 7 page https://www.ptt.cc/bbs/Food/index3007.html starts:\n"
     ]
    },
    {
     "name": "stderr",
     "output_type": "stream",
     "text": [
      "/anaconda3/lib/python3.7/site-packages/urllib3/connectionpool.py:847: InsecureRequestWarning: Unverified HTTPS request is being made. Adding certificate verification is strongly advised. See: https://urllib3.readthedocs.io/en/latest/advanced-usage.html#ssl-warnings\n",
      "  InsecureRequestWarning)\n"
     ]
    },
    {
     "name": "stdout",
     "output_type": "stream",
     "text": [
      "The page 7 20 https://www.ptt.cc/bbs/Food/M.1414415965.A.62A.html\n",
      "The page 7 19 https://www.ptt.cc/bbs/Food/M.1414416463.A.C23.html\n",
      "The page 7 18 https://www.ptt.cc/bbs/Food/M.1414416929.A.41E.html\n",
      "The page 7 17 https://www.ptt.cc/bbs/Food/M.1414416940.A.3B3.html\n",
      "The page 7 16 https://www.ptt.cc/bbs/Food/M.1414417133.A.62B.html\n",
      "The page 7 15 https://www.ptt.cc/bbs/Food/M.1414417196.A.CEB.html\n",
      "The page 7 14 https://www.ptt.cc/bbs/Food/M.1414417218.A.217.html\n",
      "The page 7 13 https://www.ptt.cc/bbs/Food/M.1414417253.A.404.html\n",
      "The page 7 12 https://www.ptt.cc/bbs/Food/M.1414417434.A.15D.html\n",
      "The page 7 11 https://www.ptt.cc/bbs/Food/M.1414417501.A.B27.html\n",
      "The page 7 10 https://www.ptt.cc/bbs/Food/M.1414417666.A.174.html\n",
      "The page 7 9 https://www.ptt.cc/bbs/Food/M.1414417716.A.18A.html\n",
      "The page 7 8 https://www.ptt.cc/bbs/Food/M.1414417803.A.A2B.html\n",
      "The page 7 7 https://www.ptt.cc/bbs/Food/M.1414418064.A.727.html\n",
      "The page 7 6 https://www.ptt.cc/bbs/Food/M.1414418181.A.89D.html\n",
      "The page 7 5 https://www.ptt.cc/bbs/Food/M.1414418352.A.762.html\n",
      "The page 7 4 https://www.ptt.cc/bbs/Food/M.1414419031.A.C65.html\n",
      "The page 7 3 https://www.ptt.cc/bbs/Food/M.1414419064.A.82A.html\n",
      "The page 7 2 https://www.ptt.cc/bbs/Food/M.1414420146.A.DF2.html\n",
      "The page 7 1 https://www.ptt.cc/bbs/Food/M.1414420465.A.64D.html\n",
      "The 6 page https://www.ptt.cc/bbs/Food/index3006.html starts:\n"
     ]
    },
    {
     "name": "stderr",
     "output_type": "stream",
     "text": [
      "/anaconda3/lib/python3.7/site-packages/urllib3/connectionpool.py:847: InsecureRequestWarning: Unverified HTTPS request is being made. Adding certificate verification is strongly advised. See: https://urllib3.readthedocs.io/en/latest/advanced-usage.html#ssl-warnings\n",
      "  InsecureRequestWarning)\n"
     ]
    },
    {
     "name": "stdout",
     "output_type": "stream",
     "text": [
      "The page 6 20 https://www.ptt.cc/bbs/Food/M.1414404397.A.F97.html\n",
      "The page 6 19 https://www.ptt.cc/bbs/Food/M.1414404400.A.A8B.html\n",
      "The page 6 18 https://www.ptt.cc/bbs/Food/M.1414404496.A.60E.html\n",
      "The page 6 17 https://www.ptt.cc/bbs/Food/M.1414408662.A.1E5.html\n",
      "The page 6 16 https://www.ptt.cc/bbs/Food/M.1414409804.A.774.html\n",
      "The page 6 15 https://www.ptt.cc/bbs/Food/M.1414409989.A.406.html\n",
      "The page 6 14 https://www.ptt.cc/bbs/Food/M.1414410752.A.B53.html\n",
      "The page 6 13 https://www.ptt.cc/bbs/Food/M.1414411159.A.46E.html\n",
      "The page 6 12 https://www.ptt.cc/bbs/Food/M.1414411587.A.436.html\n",
      "The page 6 11 https://www.ptt.cc/bbs/Food/M.1414412045.A.8AB.html\n",
      "The page 6 10 https://www.ptt.cc/bbs/Food/M.1414412383.A.245.html\n",
      "The page 6 9 https://www.ptt.cc/bbs/Food/M.1414412435.A.285.html\n",
      "The page 6 8 https://www.ptt.cc/bbs/Food/M.1414412655.A.A6A.html\n",
      "The page 6 7 https://www.ptt.cc/bbs/Food/M.1414412903.A.14A.html\n",
      "The page 6 6 https://www.ptt.cc/bbs/Food/M.1414412972.A.581.html\n",
      "The page 6 5 https://www.ptt.cc/bbs/Food/M.1414413130.A.BDC.html\n",
      "The page 6 4 https://www.ptt.cc/bbs/Food/M.1414414194.A.1D2.html\n",
      "The page 6 3 https://www.ptt.cc/bbs/Food/M.1414414998.A.D64.html\n",
      "The page 6 2 https://www.ptt.cc/bbs/Food/M.1414415107.A.5F7.html\n",
      "The page 6 1 https://www.ptt.cc/bbs/Food/M.1414415338.A.8AF.html\n",
      "The 5 page https://www.ptt.cc/bbs/Food/index3005.html starts:\n"
     ]
    },
    {
     "name": "stderr",
     "output_type": "stream",
     "text": [
      "/anaconda3/lib/python3.7/site-packages/urllib3/connectionpool.py:847: InsecureRequestWarning: Unverified HTTPS request is being made. Adding certificate verification is strongly advised. See: https://urllib3.readthedocs.io/en/latest/advanced-usage.html#ssl-warnings\n",
      "  InsecureRequestWarning)\n"
     ]
    },
    {
     "name": "stdout",
     "output_type": "stream",
     "text": [
      "The page 5 20 https://www.ptt.cc/bbs/Food/M.1414337689.A.CD2.html\n",
      "The page 5 19 https://www.ptt.cc/bbs/Food/M.1414338788.A.BC8.html\n",
      "The page 5 18 https://www.ptt.cc/bbs/Food/M.1414339346.A.924.html\n",
      "The page 5 17 https://www.ptt.cc/bbs/Food/M.1414339479.A.316.html\n",
      "The page 5 16 https://www.ptt.cc/bbs/Food/M.1414340078.A.29E.html\n",
      "The page 5 15 https://www.ptt.cc/bbs/Food/M.1414341265.A.F60.html\n",
      "The page 5 14 https://www.ptt.cc/bbs/Food/M.1414342643.A.843.html\n",
      "The page 5 13 https://www.ptt.cc/bbs/Food/M.1414344181.A.C91.html\n",
      "The page 5 12 https://www.ptt.cc/bbs/Food/M.1414358264.A.85F.html\n",
      "The page 5 11 https://www.ptt.cc/bbs/Food/M.1414368891.A.59B.html\n",
      "The page 5 10 https://www.ptt.cc/bbs/Food/M.1414370029.A.042.html\n",
      "The page 5 9 https://www.ptt.cc/bbs/Food/M.1414376518.A.1D7.html\n",
      "The page 5 8 https://www.ptt.cc/bbs/Food/M.1414377064.A.190.html\n",
      "The page 5 7 https://www.ptt.cc/bbs/Food/M.1414379106.A.EDA.html\n",
      "The page 5 6 https://www.ptt.cc/bbs/Food/M.1414382100.A.9B6.html\n",
      "The page 5 5 https://www.ptt.cc/bbs/Food/M.1414383190.A.C77.html\n",
      "The page 5 4 https://www.ptt.cc/bbs/Food/M.1414388364.A.1F2.html\n",
      "The page 5 3 https://www.ptt.cc/bbs/Food/M.1414392007.A.085.html\n",
      "The page 5 2 https://www.ptt.cc/bbs/Food/M.1414392378.A.17A.html\n",
      "The page 5 1 https://www.ptt.cc/bbs/Food/M.1414403505.A.86D.html\n",
      "The 4 page https://www.ptt.cc/bbs/Food/index3004.html starts:\n"
     ]
    },
    {
     "name": "stderr",
     "output_type": "stream",
     "text": [
      "/anaconda3/lib/python3.7/site-packages/urllib3/connectionpool.py:847: InsecureRequestWarning: Unverified HTTPS request is being made. Adding certificate verification is strongly advised. See: https://urllib3.readthedocs.io/en/latest/advanced-usage.html#ssl-warnings\n",
      "  InsecureRequestWarning)\n"
     ]
    },
    {
     "name": "stdout",
     "output_type": "stream",
     "text": [
      "The page 4 20 https://www.ptt.cc/bbs/Food/M.1414329430.A.23B.html\n",
      "The page 4 19 https://www.ptt.cc/bbs/Food/M.1414330029.A.5C0.html\n",
      "The page 4 18 https://www.ptt.cc/bbs/Food/M.1414330215.A.991.html\n",
      "The page 4 17 https://www.ptt.cc/bbs/Food/M.1414330459.A.55A.html\n",
      "The page 4 16 https://www.ptt.cc/bbs/Food/M.1414330501.A.1BE.html\n",
      "The page 4 15 https://www.ptt.cc/bbs/Food/M.1414330616.A.9A8.html\n",
      "The page 4 14 https://www.ptt.cc/bbs/Food/M.1414330850.A.EBB.html\n",
      "The page 4 13 https://www.ptt.cc/bbs/Food/M.1414331093.A.C92.html\n",
      "The page 4 12 https://www.ptt.cc/bbs/Food/M.1414331440.A.5C3.html\n",
      "The page 4 11 https://www.ptt.cc/bbs/Food/M.1414331845.A.CB0.html\n",
      "The page 4 10 https://www.ptt.cc/bbs/Food/M.1414332270.A.4C9.html\n",
      "The page 4 9 https://www.ptt.cc/bbs/Food/M.1414332280.A.EDC.html\n",
      "The page 4 8 https://www.ptt.cc/bbs/Food/M.1414332871.A.025.html\n",
      "The page 4 7 https://www.ptt.cc/bbs/Food/M.1414333293.A.BF7.html\n",
      "The page 4 6 https://www.ptt.cc/bbs/Food/M.1414333568.A.32F.html\n",
      "The page 4 5 https://www.ptt.cc/bbs/Food/M.1414333857.A.A26.html\n",
      "The page 4 4 https://www.ptt.cc/bbs/Food/M.1414334214.A.7B3.html\n",
      "The page 4 3 https://www.ptt.cc/bbs/Food/M.1414334313.A.E89.html\n",
      "The page 4 2 https://www.ptt.cc/bbs/Food/M.1414335940.A.1B2.html\n",
      "The page 4 1 https://www.ptt.cc/bbs/Food/M.1414336812.A.836.html\n",
      "The 3 page https://www.ptt.cc/bbs/Food/index3003.html starts:\n"
     ]
    },
    {
     "name": "stderr",
     "output_type": "stream",
     "text": [
      "/anaconda3/lib/python3.7/site-packages/urllib3/connectionpool.py:847: InsecureRequestWarning: Unverified HTTPS request is being made. Adding certificate verification is strongly advised. See: https://urllib3.readthedocs.io/en/latest/advanced-usage.html#ssl-warnings\n",
      "  InsecureRequestWarning)\n"
     ]
    },
    {
     "name": "stdout",
     "output_type": "stream",
     "text": [
      "The page 3 20 https://www.ptt.cc/bbs/Food/M.1414270991.A.D37.html\n",
      "The page 3 19 https://www.ptt.cc/bbs/Food/M.1414316517.A.691.html\n",
      "The page 3 18 https://www.ptt.cc/bbs/Food/M.1414317792.A.627.html\n",
      "The page 3 17 https://www.ptt.cc/bbs/Food/M.1414317895.A.540.html\n",
      "The page 3 16 https://www.ptt.cc/bbs/Food/M.1414318996.A.BDF.html\n",
      "The page 3 15 https://www.ptt.cc/bbs/Food/M.1414319224.A.7B3.html\n",
      "The page 3 14 https://www.ptt.cc/bbs/Food/M.1414319686.A.BC5.html\n",
      "The page 3 13 https://www.ptt.cc/bbs/Food/M.1414319930.A.AD5.html\n",
      "The page 3 12 https://www.ptt.cc/bbs/Food/M.1414320636.A.F65.html\n",
      "The page 3 11 https://www.ptt.cc/bbs/Food/M.1414320855.A.7C2.html\n",
      "The page 3 10 https://www.ptt.cc/bbs/Food/M.1414321343.A.318.html\n",
      "The page 3 9 https://www.ptt.cc/bbs/Food/M.1414322273.A.882.html\n",
      "The page 3 8 https://www.ptt.cc/bbs/Food/M.1414323456.A.2AE.html\n",
      "The page 3 7 https://www.ptt.cc/bbs/Food/M.1414324977.A.773.html\n",
      "The page 3 6 https://www.ptt.cc/bbs/Food/M.1414326529.A.E8C.html\n",
      "The page 3 5 https://www.ptt.cc/bbs/Food/M.1414327050.A.BEA.html\n",
      "The page 3 4 https://www.ptt.cc/bbs/Food/M.1414329065.A.A22.html\n",
      "The page 3 3 https://www.ptt.cc/bbs/Food/M.1414329075.A.524.html\n",
      "The page 3 2 https://www.ptt.cc/bbs/Food/M.1414329229.A.E9E.html\n",
      "The page 3 1 https://www.ptt.cc/bbs/Food/M.1414329429.A.2F4.html\n",
      "The 2 page https://www.ptt.cc/bbs/Food/index3002.html starts:\n"
     ]
    },
    {
     "name": "stderr",
     "output_type": "stream",
     "text": [
      "/anaconda3/lib/python3.7/site-packages/urllib3/connectionpool.py:847: InsecureRequestWarning: Unverified HTTPS request is being made. Adding certificate verification is strongly advised. See: https://urllib3.readthedocs.io/en/latest/advanced-usage.html#ssl-warnings\n",
      "  InsecureRequestWarning)\n"
     ]
    },
    {
     "name": "stdout",
     "output_type": "stream",
     "text": [
      "The page 2 20 https://www.ptt.cc/bbs/Food/M.1414242745.A.6F1.html\n",
      "The page 2 19 https://www.ptt.cc/bbs/Food/M.1414244137.A.4E7.html\n",
      "The page 2 18 https://www.ptt.cc/bbs/Food/M.1414244414.A.7B9.html\n",
      "The page 2 17 https://www.ptt.cc/bbs/Food/M.1414244615.A.643.html\n",
      "The page 2 16 https://www.ptt.cc/bbs/Food/M.1414247375.A.ACB.html\n",
      "The page 2 15 https://www.ptt.cc/bbs/Food/M.1414248138.A.58F.html\n",
      "The page 2 14 https://www.ptt.cc/bbs/Food/M.1414248467.A.CCA.html\n",
      "The page 2 13 https://www.ptt.cc/bbs/Food/M.1414249735.A.A89.html\n",
      "The page 2 12 https://www.ptt.cc/bbs/Food/M.1414250196.A.FE2.html\n",
      "The page 2 11 https://www.ptt.cc/bbs/Food/M.1414250334.A.063.html\n",
      "The page 2 10 https://www.ptt.cc/bbs/Food/M.1414250532.A.38E.html\n",
      "The page 2 9 https://www.ptt.cc/bbs/Food/M.1414252949.A.C79.html\n",
      "The page 2 8 https://www.ptt.cc/bbs/Food/M.1414253886.A.9E9.html\n",
      "The page 2 7 https://www.ptt.cc/bbs/Food/M.1414254351.A.465.html\n",
      "The page 2 6 https://www.ptt.cc/bbs/Food/M.1414254863.A.CEA.html\n",
      "The page 2 5 https://www.ptt.cc/bbs/Food/M.1414255624.A.D87.html\n",
      "The page 2 4 https://www.ptt.cc/bbs/Food/M.1414256234.A.579.html\n",
      "The page 2 3 https://www.ptt.cc/bbs/Food/M.1414256591.A.33B.html\n",
      "The page 2 2 https://www.ptt.cc/bbs/Food/M.1414257490.A.393.html\n",
      "The page 2 1 https://www.ptt.cc/bbs/Food/M.1414257612.A.51F.html\n",
      "The 1 page https://www.ptt.cc/bbs/Food/index3001.html starts:\n"
     ]
    },
    {
     "name": "stderr",
     "output_type": "stream",
     "text": [
      "/anaconda3/lib/python3.7/site-packages/urllib3/connectionpool.py:847: InsecureRequestWarning: Unverified HTTPS request is being made. Adding certificate verification is strongly advised. See: https://urllib3.readthedocs.io/en/latest/advanced-usage.html#ssl-warnings\n",
      "  InsecureRequestWarning)\n"
     ]
    },
    {
     "name": "stdout",
     "output_type": "stream",
     "text": [
      "The page 1 20 https://www.ptt.cc/bbs/Food/M.1414221911.A.39D.html\n",
      "The page 1 19 https://www.ptt.cc/bbs/Food/M.1414222715.A.186.html\n",
      "The page 1 18 https://www.ptt.cc/bbs/Food/M.1414223491.A.04A.html\n",
      "The page 1 17 https://www.ptt.cc/bbs/Food/M.1414224414.A.938.html\n",
      "The page 1 16 https://www.ptt.cc/bbs/Food/M.1414226031.A.4A7.html\n",
      "The page 1 15 https://www.ptt.cc/bbs/Food/M.1414229184.A.E41.html\n",
      "The page 1 14 https://www.ptt.cc/bbs/Food/M.1414230116.A.D7A.html\n",
      "The page 1 13 https://www.ptt.cc/bbs/Food/M.1414230321.A.433.html\n",
      "The page 1 12 https://www.ptt.cc/bbs/Food/M.1414230571.A.264.html\n",
      "The page 1 11 https://www.ptt.cc/bbs/Food/M.1414230698.A.D82.html\n",
      "The page 1 10 https://www.ptt.cc/bbs/Food/M.1414231204.A.C71.html\n",
      "The page 1 9 https://www.ptt.cc/bbs/Food/M.1414232094.A.463.html\n",
      "The page 1 8 https://www.ptt.cc/bbs/Food/M.1414235602.A.977.html\n",
      "The page 1 7 https://www.ptt.cc/bbs/Food/M.1414237257.A.F4C.html\n",
      "The page 1 6 https://www.ptt.cc/bbs/Food/M.1414240097.A.B76.html\n",
      "The page 1 5 https://www.ptt.cc/bbs/Food/M.1414240291.A.A85.html\n",
      "The page 1 4 https://www.ptt.cc/bbs/Food/M.1414240394.A.986.html\n",
      "The page 1 3 https://www.ptt.cc/bbs/Food/M.1414241051.A.FA1.html\n",
      "The page 1 2 https://www.ptt.cc/bbs/Food/M.1414241790.A.204.html\n",
      "The page 1 1 https://www.ptt.cc/bbs/Food/M.1414242603.A.2C7.html\n",
      "Finished\n",
      "Total time: 119 m 41 s\n"
     ]
    }
   ],
   "source": [
    "page = len(url_list)\n",
    "for url in url_list:\n",
    "    print('The', page, 'page', url,'starts:')      \n",
    "    #page -= 1\n",
    "    res = requests.get(url, verify=False)\n",
    "    time.sleep(2)\n",
    "    html_str = res.text\n",
    "    soup = BeautifulSoup(html_str)\n",
    "\n",
    "    title_list = []\n",
    "\n",
    "    for i in soup.select('.title a'):\n",
    "        route = 'https://www.ptt.cc' + i.get('href')\n",
    "        title_list.append(route)\n",
    "    # print(title_list)\n",
    "    num = len(title_list)\n",
    "    # Finally, we are able to get the contents\n",
    "    for url2 in title_list:\n",
    "        print('The page',page,num, url2)\n",
    "        num -= 1\n",
    "        time.sleep(2)\n",
    "        r2 = requests.get(url2)\n",
    "        soup = BeautifulSoup(r2.text, 'html')\n",
    "        main_content = soup.select('#main-content')\n",
    "\n",
    "        info = soup.select('.article-metaline')\n",
    "        # The main content is the whole thing except the article's info\n",
    "        info = [i.text for i in info]\n",
    "        # Get the title\n",
    "        if info != []:\n",
    "            try:\n",
    "                title = info[1]\n",
    "                # Get the time\n",
    "                date = info[2].replace('時間', '')\n",
    "                info.insert(1, '看板Food')\n",
    "                info_str = ''.join(info)\n",
    "                # Clean the title, author, and other info\n",
    "                main_content = main_content[0].text.replace(info_str, '')\n",
    "\n",
    "                # Split the whole thing into the main content and the comments sections\n",
    "                main_content = main_content.split('※ 發信站: 批踢踢實業坊')\n",
    "                content = main_content[0]  # This is the main content\n",
    "                # Start clean the content\n",
    "                # Clean out '\\n'\n",
    "                content = content.replace('\\n', '')\n",
    "                # Clean all the links\n",
    "                content = re.sub(\n",
    "                    '(?:(?:https?|ftp|file):\\/\\/|www\\.|ftp\\.)(?:\\([-A-Z0-9+&@#\\/%=~_|$?!:,.]*\\)|[-A-Z0-9+&@#\\/%=~_|$?!:,.])*(?:\\([-A-Z0-9+&@#\\/%=~_|$?!:,.]*\\)|[A-Z0-9+&@#\\/%=~_|$])',\n",
    "                    '', content)\n",
    "                if len(main_content) >= 2:\n",
    "                    \n",
    "                    comments = main_content[1]  # This section is all the comments\n",
    "                    comments = comments.split('.html')\n",
    "                    # Get the IP address\n",
    "                    ip_addr = comments[0].split('※ 文章網址')\n",
    "                    ip_addr = ip_addr[0].split('來自: ')\n",
    "                    ip_addr = ip_addr[1]\n",
    "                    ip_addr = ip_addr.replace('\\n', '')\n",
    "                    comments = comments[1]\n",
    "                    comments = comments.split('\\n')\n",
    "                    # Count pushes and boos, and append all comments\n",
    "                    push = 0\n",
    "                    boo = 0\n",
    "                    comment_count = 0\n",
    "                    all_comments = ''\n",
    "                    for i in comments:\n",
    "                        if len(i) != 0:\n",
    "                            if i[0] == '推':\n",
    "                                push += 1\n",
    "                            elif i[0] == '噓':\n",
    "                                boo += 1\n",
    "                            elif i[0] == '→':\n",
    "                                comment_count += 1\n",
    "                            i = i.split(' ')\n",
    "                            if i[0] != '※':\n",
    "                                i = i[2:-2]\n",
    "                                i = ''.join(i)\n",
    "                                all_comments += i\n",
    "\n",
    "                    total_comment_count = comment_count + push + boo\n",
    "\n",
    "                    content_list.append(\n",
    "                        {'URL': url2, 'Title': title, 'Time': date, 'IP': ip_addr, 'Content': content, '推文': push,\n",
    "                         '噓文': boo, '總回文數': total_comment_count})\n",
    "                    comments_list.append({'URL': url2, 'Comment': all_comments})\n",
    "            except:\n",
    "                except_list.append(url2)    \n",
    "        else:\n",
    "            except_list.append(url2)\n",
    "\n",
    "    \n",
    "    page -= 1\n",
    "with open('3850_4000_content.json', 'w', encoding='utf-8') as file:\n",
    "    json.dump(content_list, file, ensure_ascii= False)\n",
    "with open('3850_4000_comments.json', 'w', encoding='utf-8') as file:\n",
    "    json.dump(comments_list, file, ensure_ascii= False)\n",
    "with open('3850_4000_log.json', 'w', encoding='utf-8') as file:\n",
    "    json.dump(except_list, file, ensure_ascii= False)\n",
    "end = time.time()\n",
    "minute = round((end - start) / 60)\n",
    "second = round((end - start) % 60)\n",
    "print('Finished')\n",
    "print('Total time:', minute, 'm', second, 's')"
   ]
  },
  {
   "cell_type": "code",
   "execution_count": 7,
   "metadata": {},
   "outputs": [
    {
     "name": "stdout",
     "output_type": "stream",
     "text": [
      "/Users/derek/Desktop/小鎮村\r\n"
     ]
    }
   ],
   "source": [
    "!pwd"
   ]
  },
  {
   "cell_type": "code",
   "execution_count": null,
   "metadata": {},
   "outputs": [],
   "source": []
  }
 ],
 "metadata": {
  "kernelspec": {
   "display_name": "Python 3",
   "language": "python",
   "name": "python3"
  },
  "language_info": {
   "codemirror_mode": {
    "name": "ipython",
    "version": 3
   },
   "file_extension": ".py",
   "mimetype": "text/x-python",
   "name": "python",
   "nbconvert_exporter": "python",
   "pygments_lexer": "ipython3",
   "version": "3.7.1"
  }
 },
 "nbformat": 4,
 "nbformat_minor": 2
}
