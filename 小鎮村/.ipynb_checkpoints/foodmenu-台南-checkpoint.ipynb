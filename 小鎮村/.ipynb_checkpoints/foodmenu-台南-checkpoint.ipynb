{
 "cells": [
  {
   "cell_type": "code",
   "execution_count": 12,
   "metadata": {},
   "outputs": [
    {
     "name": "stdout",
     "output_type": "stream",
     "text": [
      "\n",
      "Checking for mac64 chromedriver:74.0.3729.6 in cache\n",
      "Driver found in /Users/derek/.wdm/chromedriver/74.0.3729.6/mac64/chromedriver\n"
     ]
    }
   ],
   "source": [
    "import requests\n",
    "from bs4 import BeautifulSoup\n",
    "from selenium import webdriver\n",
    "from webdriver_manager.chrome import ChromeDriverManager\n",
    "import time\n",
    "from selenium.webdriver.common.keys import Keys\n",
    "import pandas as pd\n",
    "from time import sleep\n",
    "\n",
    "driver = webdriver.Chrome(ChromeDriverManager().install())"
   ]
  },
  {
   "cell_type": "code",
   "execution_count": 13,
   "metadata": {},
   "outputs": [],
   "source": [
    "menues = pd.Series()\n",
    "driver.get(\"https://menubar.tw/\")\n",
    "driver.find_element_by_xpath('//*[@id=\"navbarNav1\"]/ul[2]/li/a').click() \n",
    "driver.find_element_by_xpath('//*[@id=\"email\"]').send_keys('ssgeniuss@hotmail.com') \n",
    "driver.find_element_by_xpath('//*[@id=\"pass\"]').send_keys('19891205',Keys.ENTER)\n",
    "driver.find_element_by_xpath('//*[@id=\"navbarNav1\"]/ul[1]/li[2]/a').click()\n",
    "\n",
    "driver.find_element_by_xpath('//*[@id=\"content\"]/main/div/div/div[1]/ul[1]/li[8]/a').click()\n",
    "driver.find_element_by_xpath('//*[@id=\"content\"]/main/div/div/div[1]/ul[1]/li[11]/a').click()\n",
    "driver.find_element_by_xpath('//*[@id=\"content\"]/main/div/div/div[1]/ul[1]/li[11]/a').click()\n",
    "k = 0\n",
    "while k < 50:\n",
    "    driver.find_element_by_xpath('//*[@id=\"content\"]/main/div/div/div[1]/ul[1]/li[9]/a').click()\n",
    "\n",
    "    for i in range(1,50):\n",
    "        sleep(3)\n",
    "        driver.find_element_by_xpath('//*[@id=\"content\"]/main/div/div/div[1]/div/div/table/tbody/tr['+str(i)+']/td[1]/a').click()\n",
    "        elem = driver.find_elements_by_xpath('//*[@id=\"content\"]/main/div/div/div[1]/div[3]/div/div[1]/div/table/tbody/tr/td[1]')\n",
    "        test = [j.text for j in elem]    \n",
    "        menues = menues.append(pd.Series(test))\n",
    "        driver.back()\n",
    "    k+=1\n",
    "    "
   ]
  },
  {
   "cell_type": "code",
   "execution_count": 14,
   "metadata": {},
   "outputs": [
    {
     "data": {
      "text/plain": [
       "0                雞肉河粉\n",
       "1                豬肉河粉\n",
       "2                牛肉河粉\n",
       "3                魚片河粉\n",
       "4              什錦豬肉河粉\n",
       "5              什錦牛肉河粉\n",
       "6              什錦海鮮河粉\n",
       "7                清湯河粉\n",
       "8                雞肉米線\n",
       "9                豬肉米線\n",
       "10               牛肉米線\n",
       "11               魚片米線\n",
       "12             什錦豬肉米線\n",
       "13             什錦牛肉米線\n",
       "14             什錦海鮮米線\n",
       "15               清湯米線\n",
       "16               雞肉冬粉\n",
       "17               豬肉冬粉\n",
       "18               牛肉冬粉\n",
       "19               魚片冬粉\n",
       "20             什錦豬肉冬粉\n",
       "21             什錦牛肉冬粉\n",
       "22             什錦海鮮冬粉\n",
       "23               清湯冬粉\n",
       "24               雞肉泡麵\n",
       "25               豬肉泡麵\n",
       "26               牛肉泡麵\n",
       "27               魚片泡麵\n",
       "28             什錦豬肉泡麵\n",
       "29             什錦牛肉泡麵\n",
       "           ...       \n",
       "59               黃金綠茶\n",
       "60               話梅綠茶\n",
       "61               蜂蜜蘆薈\n",
       "62               蜂蜜紅茶\n",
       "63               蜂蜜綠茶\n",
       "64              百香搖果樂\n",
       "65              養樂多綠茶\n",
       "66              鮮美小紫蘇\n",
       "67             葡萄可爾必思\n",
       "68               銀耳纖蜜\n",
       "0       綜合(每日精選10種食材)\n",
       "1              綜合+豬肉片\n",
       "2              綜合+牛肉片\n",
       "3              綜合+羊肉片\n",
       "4              綜合+王子麵\n",
       "5              綜合+粿仔條\n",
       "6              綜合+冬 粉\n",
       "7              綜合+拉 麵\n",
       "8                麻辣豆腐\n",
       "9                麻辣鴨血\n",
       "10            麻辣鴨血+豆腐\n",
       "11                肉羹湯\n",
       "12                肉羹麵\n",
       "13                肉羹飯\n",
       "14               肉羹米粉\n",
       "15               肉羹冬粉\n",
       "16    綜合小菜(豬耳朵+豆干+滷蛋)\n",
       "17                燙青菜\n",
       "18                魯肉飯\n",
       "19                白 飯\n",
       "Length: 82830, dtype: object"
      ]
     },
     "execution_count": 14,
     "metadata": {},
     "output_type": "execute_result"
    }
   ],
   "source": [
    "menues"
   ]
  },
  {
   "cell_type": "code",
   "execution_count": 15,
   "metadata": {},
   "outputs": [
    {
     "name": "stderr",
     "output_type": "stream",
     "text": [
      "/anaconda3/envs/crawler/lib/python3.7/site-packages/ipykernel_launcher.py:1: FutureWarning: The signature of `Series.to_csv` was aligned to that of `DataFrame.to_csv`, and argument 'header' will change its default value from False to True: please pass an explicit value to suppress this warning.\n",
      "  \"\"\"Entry point for launching an IPython kernel.\n"
     ]
    }
   ],
   "source": [
    "menues.to_csv('/Users/derek/Desktop/小鎮村/food07.csv', index = False, encoding='UTF-8')"
   ]
  },
  {
   "cell_type": "code",
   "execution_count": 16,
   "metadata": {},
   "outputs": [],
   "source": [
    "driver.close()"
   ]
  },
  {
   "cell_type": "code",
   "execution_count": null,
   "metadata": {},
   "outputs": [],
   "source": []
  }
 ],
 "metadata": {
  "kernelspec": {
   "display_name": "crawler",
   "language": "python",
   "name": "crawler"
  },
  "language_info": {
   "codemirror_mode": {
    "name": "ipython",
    "version": 3
   },
   "file_extension": ".py",
   "mimetype": "text/x-python",
   "name": "python",
   "nbconvert_exporter": "python",
   "pygments_lexer": "ipython3",
   "version": "3.7.3"
  }
 },
 "nbformat": 4,
 "nbformat_minor": 2
}
