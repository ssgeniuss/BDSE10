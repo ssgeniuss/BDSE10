{
 "cells": [
  {
   "cell_type": "code",
   "execution_count": 10,
   "metadata": {},
   "outputs": [
    {
     "name": "stdout",
     "output_type": "stream",
     "text": [
      "Finished.\n"
     ]
    }
   ],
   "source": [
    "import numpy as np\n",
    "import pandas as pd\n",
    "\n",
    "# Convert IP into city name\n",
    "# Base on the city name convert into North(1), Middel(2), South(3), East(4), and others(0) \n",
    "north = ['Keelung','Keelung City','Zhubei','Taipei','New Taipei City',' Taipei County','Taoyuan District','Hsinchu','Yilan County','Yilan','Zhongzheng','Datong','Zhongshan','Songshan','Da’an','Wanhua','Xinyi','Shilin','Beitou','Neihu','Nangang','Wenshan','Ren’ai','Anle','Nuannuan','Qidu','Wanli','Jinshan','Banqiao','Xizhi','Shenkeng','Shiding','Ruifang','Pingxi','Shuangxi','Gongliao','Xindian','Pinglin','Wulai','Yonghe','Zhonghe','Tucheng','Sanxia','Shulin','Yingge','Sanchong','Xinzhuang','Taishan','Linkou','Luzhou','Wugu','Bali','Tamsui','Sanzhi','Shimen','Toucheng','Jiaoxi','Zhuangwei','Yuanshan','Luodong','Sanxing','Datong','Wujie','Dongshan','Su’ao','Nan’ao','Xiangshan','Zhubei','Hukou','Xinfeng','Xinpu','Guanxi','Qionglin','Baoshan','Zhudong','Wufeng','Hengshan','Jianshi','Beipu','Emei','Zhongli','Pingzhen','Longtan','Yangmei','Xinwu','Guanyin','Guishan','Bade','Daxi','Fuxing','Dayuan','Luzhu','']\n",
    "middle = ['Miaoli','Miaoli City','Yuanlin','Toufen Township','Taichung','Taichung City','Huwei','Nantou City','Puli Town','Douliu','Chang-hua','Yunlin County','Zhunan','Toufen','Sanwan','Nanzhuang','Shitan','Houlong','Tongxiao','Yuanli','Zaoqiao','Touwu','Gongguan','Dahu','Tai’an','Tongluo','Sanyi','Xihu','Zhuolan','Central Taichung','East Taichung','South Taichung','West Taichung','North Taichung','Beitun','Xitun','Nantun','Taiping','Dali','Wufeng','Wuri','Fengyuan','Houli','Shigang','Dongshi','Heping','Xinshe','Tanzi','Daya','Shengang','Dadu','Shalu','Longjing','Wuqi','Qingshui','Dajia','Waipu','Fenyuan','Huatan','Shengang','Yuanlin','Shetou','Yongjing','Puxin','Xihu','Dacun','Puyan','Tianzhong','Beidou','Tianwei','Pitou','Xizhou','Zhutang','Erlin','Dacheng','Fangyuan','Ershui','Zhongliao','Caotun','Guoxing','Puli','Ren’ai','Mingjian','Jiji','Shuili','Yuchi','Xinyi','Zhushan','Lugu','Dounan','Dapi','Huwei','Tuku','Baozhong','Dongshi','Taixi','Lunbei','Mailiao','Douliu','Linnei','Gukeng','Citong','Xiluo','Erlun','Beigang','Shuilin','Kouhu','Sihu','Yuanzhang',]\n",
    "south = ['Chiayi City','Tainan City','Kaohsiung City','Pingtung City','Fanlu','Meishan','Zhuqi','Alishan','Zhongpu','Dapu','Shuishang','Lucao','Taibao','Puzi','Dongshi','Liujiao','Xingang','Minxiong','Dalin','Xikou','Yizhu','Budai','Anping','Annan','Yongkang','Guiren','Xinhua','Zuozhen','Yujing','Nanxi','Nanhua','Rende','Guanmiao','Longqi','Guantian','Madou','Jiali','Xigang','Qigu','Jiangjun','Xuejia','Beimen','Xinying','Houbi','Baihe','Dongshan','Liujia','Xiaying','Liuying','Yanshui','Shanhua','Danei','Shanshang','Xinshi','Anding','Xinxing','Qianjin','Lingya','Yancheng','Gushan','Qijin','Qianzhen','Sanmin','Nanzi','Xiaogang','Zuoying','Renwu','Dashe','Gangshan','Luzhu','Alian','Tianliao','Yanchao','Qiaotou','Ziguan','Mituo','Yong’an','Hunei','Fengshan','Daliao','Linyuan','Niaosong','Dashu','Qishan','Meinong','Liugui','Neimen','Shanlin','Jiaxian','Taoyuan','Namaxia','Maolin','Qieding','Sandimen','Wutai','Majia','Jiuru','Ligang','Gaoshu','Yanpu','Changzhi','Linluo','Zhutian','Neipu','Wandan','Chaozhou','Taiwu','Laiyi','Wanluan','Kanding','Xinpi','Nanzhou','Linbian','Donggang','Liuqiu','Jiadong','Xinyuan','Fangliao','Fangshan','Chunri','Shizi','Checheng','Mudan','Hengchun','Manzhou']\n",
    "east = ['Hualien City','Hualien County','Taitung County','Taitung City','Ludao','Lanyu','Yanping','Beinan','Luye','Guanshan','Haiduan','Chishang','Donghe','Chenggong','Changbin','Taimali','Jinfeng','Dawu','Daren','Hualien','Xincheng','Xiulin','Ji’an','Shoufeng','Fenglin','Guangfu','Fengbin','Ruisui','Wanrong','Yuli','Zhuoxi','Fuli']\n",
    "\n",
    "file_name = '/Users/derek/Desktop/小鎮村/PTT_project_new/3850_4000_content_WI.json' # 1. Choose the file. Must run \"IP_to_Location5\" FIRST!!\n",
    "ptt = pd.read_json(file_name)\n",
    "city_list = list(ptt['City'])\n",
    "\n",
    "area_code = []\n",
    "for city in city_list:\n",
    "    if city in north:\n",
    "        area_code.append(1)\n",
    "    elif city in middle:\n",
    "        area_code.append(2)\n",
    "    elif city in south:\n",
    "        area_code.append(3)\n",
    "    elif city in east:\n",
    "        area_code.append(4)\n",
    "    else:\n",
    "        area_code.append(0)\n",
    "\n",
    "ptt['Area'] = area_code\n",
    "\n",
    "with open('3850_4000_content_AC.json'.format(file_name), 'w', encoding='utf-8') as file: # Change the output file name\n",
    "    ptt.to_json(file, force_ascii=False, orient='records')\n",
    "print('Finished.')\n"
   ]
  },
  {
   "cell_type": "code",
   "execution_count": null,
   "metadata": {},
   "outputs": [],
   "source": []
  }
 ],
 "metadata": {
  "kernelspec": {
   "display_name": "Python 3",
   "language": "python",
   "name": "python3"
  },
  "language_info": {
   "codemirror_mode": {
    "name": "ipython",
    "version": 3
   },
   "file_extension": ".py",
   "mimetype": "text/x-python",
   "name": "python",
   "nbconvert_exporter": "python",
   "pygments_lexer": "ipython3",
   "version": "3.7.1"
  }
 },
 "nbformat": 4,
 "nbformat_minor": 2
}
