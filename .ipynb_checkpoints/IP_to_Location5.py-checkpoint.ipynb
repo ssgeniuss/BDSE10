{
 "cells": [
  {
   "cell_type": "code",
   "execution_count": null,
   "metadata": {},
   "outputs": [],
   "source": [
    "# Convert IP into city name\n",
    "# Base on the city name convert into North(1), Middel(2), South(3), East(4), and others(0) \n",
    "import numpy as np\n",
    "import pandas as pd\n",
    "from selenium import webdriver\n",
    "from webdriver_manager.chrome import ChromeDriverManager #For Mac OS users\n",
    "from selenium.webdriver.chrome.options import Options\n",
    "import time\n",
    "from time import sleep\n",
    "\n",
    "file_name = '/Users/derek/Desktop/小鎮村/PTT_project_new/3850_4000_content.json' # 1. Choose the file\n",
    "ptt = pd.read_json(file_name, encoding='utf-8')\n",
    "ip_list = list(ptt['IP'])\n",
    "\n",
    "print('The program starts...')"
   ]
  },
  {
   "cell_type": "code",
   "execution_count": null,
   "metadata": {},
   "outputs": [],
   "source": [
    "city_list = []\n",
    "count = len(ip_list)\n",
    "start = time.time()\n",
    "driver = webdriver.Chrome(ChromeDriverManager().install()) #For Mac OS users\n",
    "#driver = webdriver.Chrome(executable_path=\"chromedriver.exe\") #For Windows users\n",
    "driver.get('https://www.ez2o.com/App/Net/IP')\n",
    "for ip_addr in ip_list:\n",
    "    print(count,'...')\n",
    "    count -= 1\n",
    "    elem = driver.find_element_by_xpath(\"//input[@id='QueryIP']\").clear()\n",
    "    elem = driver.find_element_by_xpath(\"//input[@id='QueryIP']\")\n",
    "    elem.send_keys(ip_addr) # ex: 218.173.71.162\n",
    "    elem = driver.find_element_by_xpath(\"//button[@class='btn btn-primary']\")\n",
    "    elem.click()\n",
    "    elem = driver.find_element_by_xpath(\"//tbody/tr[@class='active'][3]/td[2]\")\n",
    "    city_list.append(elem.text)\n",
    "    #sleep(1)\n",
    "driver.close()\n",
    "end = time.time()\n",
    "\n",
    "minute = round((end - start)/60)\n",
    "second = round((end - start)%60)\n",
    "\n",
    "ptt['City'] = city_list\n",
    "with open('3850_4000_content_WI.json', 'w', encoding='utf-8') as file: # 2. Change the name for the output file\n",
    "        ptt.to_json(file, force_ascii=False, orient='records')\n",
    "print('Finished')\n",
    "print('Total time:',minute,'m',second,'s')"
   ]
  },
  {
   "cell_type": "code",
   "execution_count": null,
   "metadata": {},
   "outputs": [],
   "source": [
    "driver.close()"
   ]
  },
  {
   "cell_type": "code",
   "execution_count": null,
   "metadata": {},
   "outputs": [],
   "source": [
    "just for test\n"
   ]
  }
 ],
 "metadata": {
  "kernelspec": {
   "display_name": "crawler",
   "language": "python",
   "name": "crawler"
  },
  "language_info": {
   "codemirror_mode": {
    "name": "ipython",
    "version": 3
   },
   "file_extension": ".py",
   "mimetype": "text/x-python",
   "name": "python",
   "nbconvert_exporter": "python",
   "pygments_lexer": "ipython3",
   "version": "3.7.3"
  }
 },
 "nbformat": 4,
 "nbformat_minor": 2
}
